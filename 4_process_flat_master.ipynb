{
 "cells": [
  {
   "cell_type": "code",
   "execution_count": 2,
   "metadata": {},
   "outputs": [],
   "source": [
    "%matplotlib qt5\n",
    "from process_files import *\n",
    "from func_flats import *"
   ]
  },
  {
   "cell_type": "code",
   "execution_count": 3,
   "metadata": {},
   "outputs": [],
   "source": [
    "config = configobj.ConfigObj('config.ini')\n",
    "line = config['line']\n",
    "# line = 'Ca_II_8542'\n",
    "ffdir = config['flats']['directory']\n",
    "settings = [f for f in os.listdir(ffdir) if 'settings' in f]\n",
    "settings = ffdir + os.sep + settings[0]\n",
    "settings = configobj.ConfigObj(settings)\n",
    "linestr = 'Line_' + str(get_line_num(settings, line, 0))\n",
    "nwav = int(settings[linestr]['NWavePoints'])\n",
    "wavescan_range = float(settings[linestr]['WaveScanRange'])\n",
    "wavelength = float(settings[linestr]['LineWavelength'])\n",
    "wavestep = wavescan_range/(nwav-1)"
   ]
  },
  {
   "cell_type": "code",
   "execution_count": 4,
   "metadata": {},
   "outputs": [],
   "source": [
    "ffname0 = config['flats'][line+'/bbi']\n",
    "ff0 = np.float64(pf.open(ffname0)[0].data)\n",
    "ff0 = ff0[:,:,np.newaxis]/np.mean(ff0)\n",
    "#\n",
    "ff10_name = config['flats'][line+'/pol1_mod0_fit']\n",
    "ff10 = read_flat_fit(ff10_name)\n",
    "ff11_name = config['flats'][line+'/pol1_mod1_fit']\n",
    "ff11 = read_flat_fit(ff11_name)\n",
    "ff12_name = config['flats'][line+'/pol1_mod2_fit']\n",
    "ff12 = read_flat_fit(ff12_name)\n",
    "ff13_name = config['flats'][line+'/pol1_mod3_fit']\n",
    "ff13 = read_flat_fit(ff13_name)\n",
    "ff20_name = config['flats'][line+'/pol2_mod0_fit']\n",
    "ff20 = read_flat_fit(ff20_name)\n",
    "ff21_name = config['flats'][line+'/pol2_mod1_fit']\n",
    "ff21 = read_flat_fit(ff21_name)\n",
    "ff22_name = config['flats'][line+'/pol2_mod2_fit']\n",
    "ff22 = read_flat_fit(ff22_name)\n",
    "ff23_name = config['flats'][line+'/pol2_mod3_fit']\n",
    "ff23 = read_flat_fit(ff23_name)"
   ]
  },
  {
   "cell_type": "code",
   "execution_count": 5,
   "metadata": {},
   "outputs": [
    {
     "name": "stderr",
     "output_type": "stream",
     "text": [
      "libGL error: MESA-LOADER: failed to open swrast: /usr/lib/dri/swrast_dri.so: cannot open shared object file: No such file or directory (search paths /usr/lib/x86_64-linux-gnu/dri:\\$${ORIGIN}/dri:/usr/lib/dri, suffix _dri)\n",
      "libGL error: failed to load driver: swrast\n"
     ]
    },
    {
     "data": {
      "text/plain": [
       "[<matplotlib.lines.Line2D at 0x7f0c08afa790>]"
      ]
     },
     "execution_count": 5,
     "metadata": {},
     "output_type": "execute_result"
    }
   ],
   "source": [
    "pix = 500\n",
    "plt.plot(ff10[1][pix,pix]*ff10[2][pix,pix])\n",
    "plt.plot(ff10[0][pix,pix])"
   ]
  },
  {
   "cell_type": "code",
   "execution_count": 6,
   "metadata": {},
   "outputs": [],
   "source": [
    "# master flat for 2xchannels x 4xmodulations\n",
    "cont1 = np.array([ff10[1], ff11[1], ff12[1], ff13[1]])\n",
    "cont1 = np.moveaxis(cont1, 0, 2)\n",
    "cont1_mean = np.mean(cont1, axis=(0,1,3))\n",
    "cont1 /= cont1_mean[np.newaxis,np.newaxis,:,np.newaxis]\n",
    "#\n",
    "cont2 = np.array([ff20[1], ff21[1], ff22[1], ff23[1]])\n",
    "cont2 = np.moveaxis(cont2, 0, 2)\n",
    "cont2_mean = np.mean(cont2, axis=(0,1,3))\n",
    "cont2 /= cont2_mean[np.newaxis,np.newaxis,:,np.newaxis]\n",
    "#"
   ]
  },
  {
   "cell_type": "code",
   "execution_count": 15,
   "metadata": {},
   "outputs": [],
   "source": [
    "show_img_series(cont1[:,:,3], fps=5)"
   ]
  },
  {
   "cell_type": "code",
   "execution_count": 7,
   "metadata": {},
   "outputs": [
    {
     "name": "stdout",
     "output_type": "stream",
     "text": [
      "[-2.24146637e-06  5.59060294e+02  4.84409849e+02  9.65500547e-01]\n",
      "[-2.30153910e-06  7.27728528e+02  5.04951981e+02  9.91553501e-01]\n"
     ]
    }
   ],
   "source": [
    "# Compute wavelength map for the data cube\n",
    "sh1 = 0.25*(ff10[3]+ff11[3]+ff12[3]+ff13[3])\n",
    "sh1_fit, sh1_val = fit_et_blue_shifts(sh1)\n",
    "#\n",
    "sh2 = 0.25*(ff20[3]+ff21[3]+ff22[3]+ff23[3])\n",
    "sh2_fit, sh2_val = fit_et_blue_shifts(sh2)\n",
    "#\n",
    "wavemap = (np.arange(nwav)-nwav//2)*wavestep+wavelength\n",
    "wavemap = wavemap[np.newaxis,np.newaxis,:]\n",
    "wavemap1 = wavemap + wavestep*sh1_fit[:,:,np.newaxis]\n",
    "wavemap2 = wavemap + wavestep*sh2_fit[:,:,np.newaxis]\n",
    "#\n",
    "print(sh1_val)\n",
    "print(sh2_val)\n",
    "config['flats'][line+'/pol1_a'] = sh1_val[0]\n",
    "config['flats'][line+'/pol1_x0'] = sh1_val[1]\n",
    "config['flats'][line+'/pol1_y0'] = sh1_val[2]\n",
    "config['flats'][line+'/pol1_w0'] = sh1_val[3]\n",
    "config['flats'][line+'/pol2_a'] = sh2_val[0]\n",
    "config['flats'][line+'/pol2_x0'] = sh2_val[1]\n",
    "config['flats'][line+'/pol2_y0'] = sh2_val[2]\n",
    "config['flats'][line+'/pol2_w0'] = sh2_val[3]"
   ]
  },
  {
   "cell_type": "code",
   "execution_count": 8,
   "metadata": {},
   "outputs": [],
   "source": [
    "# Extarct reference template for the spectral lines\n",
    "# pol1 calib\n",
    "pc1 = pf.open(config['pcalibration'][line+'/pol1'])\n",
    "modmat1 = pc1[1].data\n",
    "pc1.close()\n",
    "demodmat1 = np.linalg.pinv(modmat1)\n",
    "# pol2 calib\n",
    "pc2 = pf.open(config['pcalibration'][line+'/pol2'])\n",
    "modmat2 = pc2[1].data\n",
    "pc2.close()\n",
    "demodmat2 = np.linalg.pinv(modmat2)\n",
    "#\n",
    "if (line=='Ca_II_8542'):\n",
    "    demodmat1[0,:] = 0.25\n",
    "    demodmat1[1::,:] = 0\n",
    "    demodmat2[0,:] = 0.25\n",
    "    demodmat2[1::,:] = 0\n",
    "#\n",
    "ff1 = np.array([ff10[0], ff11[0], ff12[0], ff13[0]])\n",
    "ff1 = np.moveaxis(ff1, 0, 2)\n",
    "ff1_ = ff1/cont1\n",
    "ff1_demod = np.einsum('ijkl,mk->ijml', ff1_, demodmat1)\n",
    "template1 = ff1_demod[:,:,0]\n",
    "#\n",
    "ff2 = np.array([ff20[0], ff21[0], ff22[0], ff23[0]])\n",
    "ff2 = np.moveaxis(ff2, 0, 2)\n",
    "ff2_ = ff2/cont2\n",
    "ff2_demod = np.einsum('ijkl,mk->ijml', ff2_, demodmat1)\n",
    "template2 = ff2_demod[:,:,0]\n"
   ]
  },
  {
   "cell_type": "code",
   "execution_count": 9,
   "metadata": {},
   "outputs": [
    {
     "data": {
      "text/plain": [
       "<matplotlib.colorbar.Colorbar at 0x7f0a708b50d0>"
      ]
     },
     "execution_count": 9,
     "metadata": {},
     "output_type": "execute_result"
    }
   ],
   "source": [
    "# Compute average broadening\n",
    "broad1 = 0.25*(ff10[4]+ff11[4]+ff12[4]+ff13[4])\n",
    "broad2 = 0.25*(ff20[4]+ff21[4]+ff22[4]+ff23[4])\n",
    "plt.figure()\n",
    "plt.imshow(broad1)\n",
    "plt.colorbar()\n",
    "plt.figure()\n",
    "plt.imshow(broad2)\n",
    "plt.colorbar()"
   ]
  },
  {
   "cell_type": "code",
   "execution_count": 18,
   "metadata": {},
   "outputs": [
    {
     "name": "stdout",
     "output_type": "stream",
     "text": [
      "Master flat written to  /arch/1/VTT/hellride/raw/20230502/L0/HELLRIDE_pol_20230502_Flats_1309_Ca_II_8542_fm.FITS\n"
     ]
    }
   ],
   "source": [
    "ffname = ffname0.replace('bbi','pol').replace('_fa','_fm')\n",
    "hdu1 = pf.PrimaryHDU(ff0)\n",
    "hdu2 = pf.ImageHDU(cont1)\n",
    "hdu3 = pf.ImageHDU(cont2)\n",
    "hdu4 = pf.ImageHDU(sh1)\n",
    "hdu5 = pf.ImageHDU(sh2)\n",
    "hdu6 = pf.ImageHDU(wavemap1)\n",
    "hdu7 = pf.ImageHDU(wavemap2)\n",
    "hdu8 = pf.ImageHDU(template1)\n",
    "hdu9 = pf.ImageHDU(template2)\n",
    "hdu10 = pf.ImageHDU(broad1)\n",
    "hdu11 = pf.ImageHDU(broad2)\n",
    "hdul = pf.HDUList([hdu1,hdu2,hdu3,hdu4,hdu5,hdu6,hdu7,hdu8,hdu9,hdu10,hdu11])\n",
    "hdul.writeto(ffname, overwrite=True)\n",
    "hdul.close()\n",
    "#\n",
    "config['flats'][line+'/pol'] = ffname\n",
    "config.write()\n",
    "print('Master flat written to ', ffname)"
   ]
  },
  {
   "cell_type": "code",
   "execution_count": 17,
   "metadata": {},
   "outputs": [],
   "source": [
    "show_img_series(cont2[:,:,0], fps=5)"
   ]
  },
  {
   "cell_type": "code",
   "execution_count": 13,
   "metadata": {},
   "outputs": [
    {
     "data": {
      "text/plain": [
       "(1280, 1280, 4, 21)"
      ]
     },
     "execution_count": 13,
     "metadata": {},
     "output_type": "execute_result"
    }
   ],
   "source": [
    "cont1.shape"
   ]
  }
 ],
 "metadata": {
  "kernelspec": {
   "display_name": "Python 3.8.8 ('base')",
   "language": "python",
   "name": "python3"
  },
  "language_info": {
   "codemirror_mode": {
    "name": "ipython",
    "version": 3
   },
   "file_extension": ".py",
   "mimetype": "text/x-python",
   "name": "python",
   "nbconvert_exporter": "python",
   "pygments_lexer": "ipython3",
   "version": "3.11.5"
  },
  "orig_nbformat": 4,
  "vscode": {
   "interpreter": {
    "hash": "1c1078a940144fcb486ff9d1334d3fdb2e0f9e86f163fbd19e2f06a9d73144ad"
   }
  }
 },
 "nbformat": 4,
 "nbformat_minor": 2
}
