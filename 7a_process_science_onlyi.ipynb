{
 "cells": [
  {
   "cell_type": "code",
   "execution_count": null,
   "metadata": {},
   "outputs": [],
   "source": [
    "%matplotlib qt5\n",
    "from process_files import *\n",
    "from func_science import *"
   ]
  },
  {
   "cell_type": "code",
   "execution_count": 6,
   "metadata": {},
   "outputs": [],
   "source": [
    "config = configobj.ConfigObj('config.ini')\n",
    "pcdir = config['pcalibration']['directory']\n",
    "# line = config['line']\n",
    "line = 'Ca_II_8542'\n",
    "cwavind = int(config['science'][line+'/cwavind'])\n",
    "settings = [f for f in os.listdir(pcdir) if 'settings' in f]\n",
    "settings = pcdir + os.sep + settings[0]\n",
    "settings = configobj.ConfigObj(settings)\n",
    "l0aligndir = config['science'][line+'/l0aligndir_']\n",
    "scnames =[l0aligndir+os.sep+f for f in sorted(os.listdir(l0aligndir)) if '.fits' in f]\n",
    "l0corrdir = l0aligndir.replace('stokes_align', 'stokes_corr')\n",
    "config['science'][line+'/l0corrdir_'] = l0corrdir\n",
    "config.write()\n",
    "if not os.path.exists(l0corrdir): os.makedirs(l0corrdir)\n",
    "#"
   ]
  },
  {
   "cell_type": "code",
   "execution_count": 9,
   "metadata": {},
   "outputs": [
    {
     "name": "stderr",
     "output_type": "stream",
     "text": [
      "100%|██████████| 182/182 [28:44<00:00,  9.48s/it]\n"
     ]
    }
   ],
   "source": [
    "for scname in tqdm.tqdm((scnames)):\n",
    "    sc0 = pf.open(scname)[0].data\n",
    "    sc = pf.open(scname)[1].data\n",
    "    sc[:,:,1] = sc[:,:,0]*0\n",
    "    sc[:,:,2] = sc[:,:,0]*0\n",
    "    sc[:,:,3] = sc[:,:,0]*0\n",
    "    #\n",
    "    newname = scname.replace('stokes_align', 'stokes_corr')\n",
    "    hdu1 = pf.PrimaryHDU(sc0)\n",
    "    hdu2 = pf.ImageHDU(sc)\n",
    "    hdul = pf.HDUList([hdu1, hdu2])\n",
    "    hdul.writeto(newname, overwrite=True)"
   ]
  },
  {
   "cell_type": "code",
   "execution_count": 10,
   "metadata": {},
   "outputs": [],
   "source": [
    "show_img_series(sc[:,:,0], fps=2)"
   ]
  }
 ],
 "metadata": {
  "interpreter": {
   "hash": "ca1bbeed4cf13cdb6cc04c24eeb0fd5c926192403ad669bcfb4ac375cae3b663"
  },
  "kernelspec": {
   "display_name": "Python 3.8.8 64-bit ('base': conda)",
   "language": "python",
   "name": "python3"
  },
  "language_info": {
   "codemirror_mode": {
    "name": "ipython",
    "version": 3
   },
   "file_extension": ".py",
   "mimetype": "text/x-python",
   "name": "python",
   "nbconvert_exporter": "python",
   "pygments_lexer": "ipython3",
   "version": "3.11.5"
  },
  "orig_nbformat": 4
 },
 "nbformat": 4,
 "nbformat_minor": 2
}
