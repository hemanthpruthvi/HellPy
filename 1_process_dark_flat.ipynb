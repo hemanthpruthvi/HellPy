{
 "cells": [
  {
   "cell_type": "code",
   "execution_count": 6,
   "metadata": {},
   "outputs": [],
   "source": [
    "%matplotlib qt5\n",
    "from process_files import *\n",
    "from func_flats import *"
   ]
  },
  {
   "cell_type": "markdown",
   "metadata": {},
   "source": [
    "#### 1. Create master dark and average flat profile"
   ]
  },
  {
   "cell_type": "code",
   "execution_count": 7,
   "metadata": {},
   "outputs": [],
   "source": [
    "# calib data\n",
    "config = configobj.ConfigObj('config.ini')\n",
    "line = config['line']\n",
    "dkdir = config['darks']['directory']\n",
    "ffdir = config['flats']['directory']\n",
    "settings = [f for f in os.listdir(ffdir) if 'settings' in f]\n",
    "settings = ffdir + os.sep + settings[0]\n",
    "settings = configobj.ConfigObj(settings)"
   ]
  },
  {
   "cell_type": "code",
   "execution_count": 8,
   "metadata": {},
   "outputs": [],
   "source": [
    "# Process dark frames\n",
    "dk0 = data_cube(dkdir, line, 0, 0 )\n",
    "dk0.data = median_filter(np.average(dk0.data, axis=2), size=3)\n",
    "dk1 = data_cube(dkdir, line, 1, 0)\n",
    "dk1.data = median_filter(np.average(dk1.data, axis=2), size=3)\n",
    "dk2 = data_cube(dkdir, line, 2, 0)\n",
    "dk2.data = median_filter(np.average(dk2.data, axis=2), size=3)\n",
    "dk0m = np.int16(np.rint(dk0.data[:,:,np.newaxis]))\n",
    "dk1m = np.int16(np.rint(dk1.data[:,:,np.newaxis]))\n",
    "dk2m = np.int16(np.rint(dk2.data[:,:,np.newaxis]))"
   ]
  },
  {
   "cell_type": "code",
   "execution_count": 9,
   "metadata": {},
   "outputs": [
    {
     "name": "stdout",
     "output_type": "stream",
     "text": [
      "Processed files are saved as  \n",
      " /arch/1/VTT/hellride/raw/20230504/L0/HELLRIDE_bbi_20230504_Darks_1147_Ca_II_8542_da.FITS \n",
      " /arch/1/VTT/hellride/raw/20230504/L0/HELLRIDE_pol1_20230504_Darks_1147_Ca_II_8542_da.FITS \n",
      " /arch/1/VTT/hellride/raw/20230504/L0/HELLRIDE_pol2_20230504_Darks_1147_Ca_II_8542_da.FITS\n"
     ]
    }
   ],
   "source": [
    "# Save the master dark\n",
    "topdir =  os.sep.join(dkdir.split(os.sep)[0:-1])\n",
    "topdir += os.sep + 'L0' \n",
    "if not (os.path.exists(topdir)): os.mkdir(topdir)\n",
    "dirtree = dkdir.split(os.sep)[-2::]\n",
    "dk0name = topdir + os.sep + '_'.join(['HELLRIDE', 'bbi'] + dirtree + [line, 'da.FITS'])\n",
    "dk1name = topdir + os.sep + '_'.join(['HELLRIDE', 'pol1'] + dirtree + [line, 'da.FITS'])\n",
    "dk2name = topdir + os.sep + '_'.join(['HELLRIDE', 'pol2'] + dirtree + [line, 'da.FITS'])\n",
    "print('Processed files are saved as ', '\\n', dk0name, '\\n', dk1name, '\\n', dk2name)\n",
    "#\n",
    "hdu1 = pf.PrimaryHDU(dk0m)\n",
    "hdul = pf.HDUList([hdu1])\n",
    "hdul.writeto(dk0name, overwrite=True)\n",
    "hdul.close()\n",
    "#\n",
    "hdu1 = pf.PrimaryHDU(dk1m)\n",
    "hdul = pf.HDUList([hdu1])\n",
    "hdul.writeto(dk1name, overwrite=True)\n",
    "hdul.close()\n",
    "#\n",
    "hdu1 = pf.PrimaryHDU(dk2m)\n",
    "hdul = pf.HDUList([hdu1])\n",
    "hdul.writeto(dk2name, overwrite=True)\n",
    "hdul.close()\n",
    "#\n",
    "config['darks'][line+'/bbi'] = dk0name\n",
    "config['darks'][line+'/pol1'] = dk1name\n",
    "config['darks'][line+'/pol2'] = dk2name\n",
    "config.write()"
   ]
  },
  {
   "cell_type": "code",
   "execution_count": 10,
   "metadata": {},
   "outputs": [],
   "source": [
    "# More details of the flat data\n",
    "iline = get_line_num(settings, line, 0)\n",
    "linestr = 'Line_' + str(iline)\n",
    "nacc = int(settings[linestr]['Polarimeter\\\\NAccumulations'])\n",
    "nwav = int(settings[linestr]['NWavePoints'])\n",
    "filtstr = settings[linestr]['Filter']\n",
    "modstr = settings[linestr]['Polarimeter\\\\Modulation']\n",
    "nmod = int(settings[filtstr]['Polarimeter\\\\'+modstr+'\\\\NModulations'])\n",
    "nfpc = nmod*nacc*nwav\n",
    "nfpw = nmod*nacc\n",
    "ncyc = len(os.listdir(ffdir+os.sep+line))//3\n",
    "ff_ncyc =  ncyc\n",
    "# Time stamps\n",
    "im0ind, im1ind, im2ind = read_time_stamps_cal(ffdir, iline)\n",
    "im0ind_ = im0ind.reshape([ncyc, nfpc])\n",
    "im1ind_ = im1ind.reshape([ncyc, nfpc])\n",
    "im2ind_ = im2ind.reshape([ncyc, nfpc])\n",
    "im0ind_ -= im0ind_[:,0:1]\n",
    "im1ind_ -= im1ind_[:,0:1]\n",
    "im2ind_ -= im2ind_[:,0:1]\n",
    "im0ind = im0ind_.reshape([ncyc, nwav, nacc, nmod])%nmod\n",
    "im1ind = im1ind_.reshape([ncyc, nwav, nacc, nmod])%nmod\n",
    "im2ind = im2ind_.reshape([ncyc, nwav, nacc, nmod])%nmod"
   ]
  },
  {
   "cell_type": "code",
   "execution_count": 28,
   "metadata": {},
   "outputs": [
    {
     "name": "stdout",
     "output_type": "stream",
     "text": [
      "Processing BBI flat files\n"
     ]
    },
    {
     "name": "stderr",
     "output_type": "stream",
     "text": [
      "100%|██████████| 30/30 [07:17<00:00, 14.59s/it]\n"
     ]
    },
    {
     "name": "stdout",
     "output_type": "stream",
     "text": [
      "Data loaded from  /arch/1/VTT/hellride/raw/20230502/Flats_1309/Ca_II_8542/HELLRIDE_bbi_20230502_132432947_ff.DAT\n",
      "Processing POL1 flat files\n"
     ]
    },
    {
     "name": "stderr",
     "output_type": "stream",
     "text": [
      "100%|██████████| 2/2 [00:54<00:00, 27.45s/it]\n"
     ]
    },
    {
     "name": "stdout",
     "output_type": "stream",
     "text": [
      "Data loaded from  /arch/1/VTT/hellride/raw/20230502/Flats_1309/Ca_II_8542/HELLRIDE_pol1_20230502_131343564_ff.DAT\n",
      "Processing POL2 flat files\n"
     ]
    },
    {
     "name": "stderr",
     "output_type": "stream",
     "text": [
      "100%|██████████| 2/2 [01:03<00:00, 31.55s/it]\n"
     ]
    },
    {
     "name": "stdout",
     "output_type": "stream",
     "text": [
      "Data loaded from  /arch/1/VTT/hellride/raw/20230502/Flats_1309/Ca_II_8542/HELLRIDE_pol2_20230502_131343922_ff.DAT\n"
     ]
    }
   ],
   "source": [
    "# Process flat frames\n",
    "ff0, ff1, ff2 = 0.0, 0.0, 0.0\n",
    "print('Processing BBI flat files')\n",
    "for i in tqdm.tqdm(range(ff_ncyc)):\n",
    "    dc0 = data_cube(ffdir, line, 0, i)\n",
    "    ff0 += dc0.data\n",
    "print('Data loaded from ', dc0.file)\n",
    "ff0 /= ff_ncyc\n",
    "ff0m = np.int16(np.rint(np.average(ff0, axis=2) - dk0.data))\n",
    "#\n",
    "if (line =='Ca_II_8542'): ff_ncyc = 2\n",
    "print('Processing POL1 flat files')\n",
    "ff1 = 0\n",
    "for i in tqdm.tqdm(range(ff_ncyc)):\n",
    "    dc1 = data_cube(ffdir, line, 1, i)\n",
    "    Y, X, Z = dc1.data.shape\n",
    "    ff1_temp = dc1.data.reshape([Y, X, nmod, nacc, nwav], order='F')\n",
    "    ff1_temp = coadd_del_accumulations(ff1_temp, im1ind[i])\n",
    "    ff1 += ff1_temp\n",
    "print('Data loaded from ', dc1.file)\n",
    "ff1 /= ff_ncyc\n",
    "ff1m = np.int16(np.rint(ff1 - dk1.data[:,:,np.newaxis,np.newaxis]))\n",
    "#\n",
    "print('Processing POL2 flat files')\n",
    "ff2 = 0\n",
    "for i in tqdm.tqdm(range(ff_ncyc)):\n",
    "    dc2 = data_cube(ffdir, line, 2, i)\n",
    "    Y, X, Z = dc2.data.shape\n",
    "    ff2_temp = dc2.data.reshape([Y, X, nmod, nacc, nwav], order='F')\n",
    "    ff2_temp = coadd_del_accumulations(ff2_temp, im2ind[i])\n",
    "    ff2 += ff2_temp\n",
    "print('Data loaded from ', dc2.file)\n",
    "ff2 /= ff_ncyc\n",
    "ff2m = np.int16(np.rint(ff2 - dk2.data[:,:,np.newaxis,np.newaxis]))"
   ]
  },
  {
   "cell_type": "code",
   "execution_count": 27,
   "metadata": {},
   "outputs": [],
   "source": [
    "for i in [0,1]:\n",
    "    dc1 = data_cube(ffdir, line, 1, i)\n",
    "    ff1_temp = dc1.data.reshape([Y, X, nmod*nacc*nwav], order='F')\n",
    "    pix = 200\n",
    "    plt.plot(ff1_temp[pix, pix])"
   ]
  },
  {
   "cell_type": "code",
   "execution_count": 30,
   "metadata": {},
   "outputs": [],
   "source": [
    "show_img_series(ff2m[:,:,0], fps=2)"
   ]
  },
  {
   "cell_type": "code",
   "execution_count": 31,
   "metadata": {},
   "outputs": [
    {
     "name": "stdout",
     "output_type": "stream",
     "text": [
      "Processed flat files are saved as \n",
      " /arch/1/VTT/hellride/raw/20230502/L0/HELLRIDE_bbi_20230502_Flats_1309_Ca_II_8542_fa.FITS \n",
      " /arch/1/VTT/hellride/raw/20230502/L0/HELLRIDE_pol1_20230502_Flats_1309_Ca_II_8542_fa.FITS \n",
      " /arch/1/VTT/hellride/raw/20230502/L0/HELLRIDE_pol2_20230502_Flats_1309_Ca_II_8542_fa.FITS\n"
     ]
    }
   ],
   "source": [
    "# Save the mean flat\n",
    "topdir =  os.sep.join(ffdir.split(os.sep)[0:-1])\n",
    "topdir += os.sep + 'L0' \n",
    "if not (os.path.exists(topdir)): os.mkdir(topdir)\n",
    "dirtree = ffdir.split(os.sep)[-2::]\n",
    "ff0name = topdir + os.sep + '_'.join(['HELLRIDE', 'bbi'] + dirtree + [line, 'fa.FITS'])\n",
    "ff1name = topdir + os.sep + '_'.join(['HELLRIDE', 'pol1'] + dirtree + [line, 'fa.FITS'])\n",
    "ff2name = topdir + os.sep + '_'.join(['HELLRIDE', 'pol2'] + dirtree + [line, 'fa.FITS'])\n",
    "print('Processed flat files are saved as', '\\n', ff0name, '\\n', ff1name, '\\n', ff2name)\n",
    "#\n",
    "hdu1 = pf.PrimaryHDU(ff0m)\n",
    "hdul = pf.HDUList([hdu1])\n",
    "hdul.writeto(ff0name, overwrite=True)\n",
    "hdul.close()\n",
    "#\n",
    "hdu1 = pf.PrimaryHDU(ff1m)\n",
    "hdul = pf.HDUList([hdu1])\n",
    "hdul.writeto(ff1name, overwrite=True)\n",
    "hdul.close()\n",
    "#\n",
    "hdu1 = pf.PrimaryHDU(ff2m)\n",
    "hdul = pf.HDUList([hdu1])\n",
    "hdul.writeto(ff2name, overwrite=True)\n",
    "hdul.close()\n",
    "#\n",
    "config['flats'][line+'/bbi'] = ff0name\n",
    "config['flats'][line+'/pol1'] = ff1name\n",
    "config['flats'][line+'/pol2'] = ff2name\n",
    "config.write()"
   ]
  }
 ],
 "metadata": {
  "kernelspec": {
   "display_name": "Python 3.8.8 ('base')",
   "language": "python",
   "name": "python3"
  },
  "language_info": {
   "codemirror_mode": {
    "name": "ipython",
    "version": 3
   },
   "file_extension": ".py",
   "mimetype": "text/x-python",
   "name": "python",
   "nbconvert_exporter": "python",
   "pygments_lexer": "ipython3",
   "version": "3.11.5"
  },
  "orig_nbformat": 4,
  "vscode": {
   "interpreter": {
    "hash": "1c1078a940144fcb486ff9d1334d3fdb2e0f9e86f163fbd19e2f06a9d73144ad"
   }
  }
 },
 "nbformat": 4,
 "nbformat_minor": 2
}
