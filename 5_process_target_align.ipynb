{
 "cells": [
  {
   "cell_type": "code",
   "execution_count": 1,
   "metadata": {},
   "outputs": [
    {
     "name": "stderr",
     "output_type": "stream",
     "text": [
      "qt.qpa.xcb: X server does not support XInput 2\n"
     ]
    },
    {
     "name": "stderr",
     "output_type": "stream",
     "text": [
      "qt.qpa.xcb: QXcbConnection: XCB error: 1 (BadRequest), sequence: 169, resource id: 132, major code: 130 (Unknown), minor code: 47\n"
     ]
    }
   ],
   "source": [
    "%matplotlib qt5\n",
    "from process_files import *\n",
    "from func_target import *"
   ]
  },
  {
   "cell_type": "code",
   "execution_count": 2,
   "metadata": {},
   "outputs": [
    {
     "name": "stdout",
     "output_type": "stream",
     "text": [
      "Targetplate data will be saved to  /arch/1/VTT/hellride/raw/20230504/L0\n"
     ]
    }
   ],
   "source": [
    "iline = 0\n",
    "# calib data\n",
    "config = configobj.ConfigObj('config.ini')\n",
    "line = config['line']\n",
    "dkdir = config['darks']['directory']\n",
    "tgdir = config['targetplate']['directory']\n",
    "settings = [f for f in os.listdir(tgdir) if 'settings' in f]\n",
    "settings = tgdir + os.sep + settings[0]\n",
    "settings = configobj.ConfigObj(settings)\n",
    "#\n",
    "linestr = 'Line_' + str(get_line_num(settings, line, iline))\n",
    "nacc = int(settings[linestr]['Polarimeter\\\\NAccumulations'])\n",
    "nwav = int(settings[linestr]['NWavePoints'])\n",
    "filtstr = settings[linestr]['Filter']\n",
    "modstr = settings[linestr]['Polarimeter\\\\Modulation']\n",
    "nmod = int(settings[filtstr]['Polarimeter\\\\'+modstr+'\\\\NModulations'])\n",
    "nfpc = nmod*nacc*nwav\n",
    "nfpw = nmod*nacc\n",
    "ncyc = len(os.listdir(tgdir+os.sep+line))//3\n",
    "#\n",
    "dir_tree = tgdir.split(os.sep)\n",
    "l0dir = os.sep.join(dir_tree[0:-1])+os.sep+'L0'\n",
    "if not (os.path.exists(l0dir)): os.makedirs(l0dir)\n",
    "print('Targetplate data will be saved to ', l0dir)\n",
    "config['targetplate'][line+'/l0dir'] = l0dir\n",
    "config.write()"
   ]
  },
  {
   "cell_type": "code",
   "execution_count": 17,
   "metadata": {},
   "outputs": [],
   "source": [
    "# darks\n",
    "dk0 = np.float64(pf.open(config['darks'][line+'/bbi'])[0].data)\n",
    "dk1 = np.float64(pf.open(config['darks'][line+'/pol1'])[0].data)\n",
    "dk2 = np.float64(pf.open(config['darks'][line+'/pol2'])[0].data)\n",
    "# flats\n",
    "ff_ = pf.open(config['flats'][line+'/pol'])\n",
    "ff_bbi = ff_[0].data\n",
    "ff_pol1 = np.mean(ff_[1].data[:,:,:,0], axis=2)[:,:,np.newaxis]\n",
    "ff_pol2 = np.mean(ff_[2].data[:,:,:,0], axis=2)[:,:,np.newaxis]"
   ]
  },
  {
   "cell_type": "code",
   "execution_count": 4,
   "metadata": {},
   "outputs": [
    {
     "name": "stdout",
     "output_type": "stream",
     "text": [
      "Reading BBI target image from  /arch/1/VTT/hellride/raw/20230504/Targetplate_1203/Ca_II_8542/HELLRIDE_bbi_20230504_120339105_tp.DAT\n",
      "Reading POL1 target image from  /arch/1/VTT/hellride/raw/20230504/Targetplate_1203/Ca_II_8542/HELLRIDE_pol1_20230504_120339300_tp.DAT\n",
      "Reading POL2 target image from  /arch/1/VTT/hellride/raw/20230504/Targetplate_1203/Ca_II_8542/HELLRIDE_pol2_20230504_120339545_tp.DAT\n"
     ]
    }
   ],
   "source": [
    "config['flip0_lr'] = 1\n",
    "config['flip0_ud'] = 1\n",
    "config['flip1_lr'] = 1\n",
    "config['flip1_ud'] = 0\n",
    "config['flip2_lr'] = 1\n",
    "config['flip2_ud'] = 1\n",
    "config.write()\n",
    "# Get target\n",
    "dc0 = data_cube(tgdir, line, 0, 0)\n",
    "print('Reading BBI target image from ', dc0.file)\n",
    "tg0 = np.uint16(16*(dc0.data-dk0)/ff_bbi)\n",
    "tg0 = np.flipud(np.fliplr(tg0))\n",
    "#\n",
    "dc1 = data_cube(tgdir, line, 1, 0)\n",
    "print('Reading POL1 target image from ', dc1.file)\n",
    "tg1 = np.uint16(16*(dc1.data-dk1)/ff_pol1)\n",
    "tg1 = np.fliplr(tg1)\n",
    "#\n",
    "dc2 = data_cube(tgdir, line, 2, 0)\n",
    "print('Reading POL2 target image from ', dc2.file)\n",
    "tg2 = np.uint16(16*(dc2.data-dk2)/ff_pol2)\n",
    "tg2 = np.flipud(np.fliplr(tg2))"
   ]
  },
  {
   "cell_type": "code",
   "execution_count": 5,
   "metadata": {},
   "outputs": [
    {
     "name": "stderr",
     "output_type": "stream",
     "text": [
      "libGL error: MESA-LOADER: failed to open swrast: /usr/lib/dri/swrast_dri.so: cannot open shared object file: No such file or directory (search paths /usr/lib/x86_64-linux-gnu/dri:\\$${ORIGIN}/dri:/usr/lib/dri, suffix _dri)\n",
      "libGL error: failed to load driver: swrast\n"
     ]
    }
   ],
   "source": [
    "tg0_ = np.mean(tg0, axis=2)\n",
    "tg1_ = np.mean(tg1, axis=2)\n",
    "tg2_ = np.mean(tg2, axis=2)\n",
    "blink_frames([tg0_, tg1_, tg2_], repeat=1)"
   ]
  },
  {
   "cell_type": "code",
   "execution_count": 6,
   "metadata": {},
   "outputs": [],
   "source": [
    "affine10, params10, pts100, pts101 = compute_align_params(tg1_, tg0_, npts=5)"
   ]
  },
  {
   "cell_type": "code",
   "execution_count": 7,
   "metadata": {},
   "outputs": [],
   "source": [
    "affine10_ = 1.0*affine10\n",
    "affine10_[0,1] *= -1\n",
    "affine10_[1,0] *= -1\n",
    "tg0_corr_ = scipy.ndimage.affine_transform(tg0_, affine10_)\n",
    "blink_frames([tg1_, tg0_corr_], repeat=10)"
   ]
  },
  {
   "cell_type": "code",
   "execution_count": 12,
   "metadata": {},
   "outputs": [],
   "source": [
    "affine12, params12, pts120, pts121 = compute_align_params(tg1_, tg2_, npts=5)"
   ]
  },
  {
   "cell_type": "code",
   "execution_count": 13,
   "metadata": {},
   "outputs": [],
   "source": [
    "affine12_ = 1.0*affine12\n",
    "affine12_[0,1] *= -1\n",
    "affine12_[1,0] *= -1\n",
    "tg2_corr_ = scipy.ndimage.affine_transform(tg2_, affine12_)\n",
    "blink_frames([tg1_, tg2_corr_], repeat=10)"
   ]
  },
  {
   "cell_type": "code",
   "execution_count": 14,
   "metadata": {},
   "outputs": [
    {
     "name": "stdout",
     "output_type": "stream",
     "text": [
      "Saved as:  /arch/1/VTT/hellride/raw/20230504/L0/HELLRIDE_Ca_II_8542_20230504_120339105_tp.fits\n"
     ]
    }
   ],
   "source": [
    "tg_name = l0dir+os.sep+os.path.split(dc0.file)[-1]\n",
    "tg_name = tg_name.replace('.DAT', '.fits').replace('bbi', line)\n",
    "print('Saved as: ', tg_name)\n",
    "hdu1 = pf.PrimaryHDU(tg0)\n",
    "hdu2 = pf.ImageHDU(tg1)\n",
    "hdu3 = pf.ImageHDU(tg2)\n",
    "hdu4 = pf.ImageHDU(np.array([affine10_, affine12_]))\n",
    "hdu5 = pf.ImageHDU(np.array([params10, params12]))\n",
    "hdu6 = pf.ImageHDU(np.array([pts100, pts101]))\n",
    "hdu7 = pf.ImageHDU(np.array([pts120, pts121]))\n",
    "hdul = pf.HDUList([hdu1, hdu2, hdu3, hdu4, hdu5, hdu6, hdu7])\n",
    "hdul.writeto(tg_name, overwrite=True)\n",
    "#\n",
    "config['targetplate'][line+'/l0data'] = tg_name\n",
    "config.write()"
   ]
  }
 ],
 "metadata": {
  "interpreter": {
   "hash": "ca1bbeed4cf13cdb6cc04c24eeb0fd5c926192403ad669bcfb4ac375cae3b663"
  },
  "kernelspec": {
   "display_name": "Python 3.8.8 64-bit ('base': conda)",
   "language": "python",
   "name": "python3"
  },
  "language_info": {
   "codemirror_mode": {
    "name": "ipython",
    "version": 3
   },
   "file_extension": ".py",
   "mimetype": "text/x-python",
   "name": "python",
   "nbconvert_exporter": "python",
   "pygments_lexer": "ipython3",
   "version": "3.11.5"
  },
  "orig_nbformat": 4
 },
 "nbformat": 4,
 "nbformat_minor": 2
}
