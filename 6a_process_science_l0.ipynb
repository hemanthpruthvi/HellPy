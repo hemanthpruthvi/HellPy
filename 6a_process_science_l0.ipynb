{
 "cells": [
  {
   "cell_type": "code",
   "execution_count": 1,
   "metadata": {},
   "outputs": [
    {
     "name": "stderr",
     "output_type": "stream",
     "text": [
      "qt.qpa.xcb: X server does not support XInput 2\n"
     ]
    },
    {
     "name": "stderr",
     "output_type": "stream",
     "text": [
      "qt.qpa.xcb: QXcbConnection: XCB error: 1 (BadRequest), sequence: 169, resource id: 132, major code: 130 (Unknown), minor code: 47\n"
     ]
    }
   ],
   "source": [
    "%matplotlib qt5\n",
    "from process_files import *\n",
    "from func_science import *"
   ]
  },
  {
   "cell_type": "markdown",
   "metadata": {},
   "source": [
    "#### 6a. Alternatively, reduce the raw science data without image reconstruction."
   ]
  },
  {
   "cell_type": "code",
   "execution_count": 4,
   "metadata": {},
   "outputs": [
    {
     "name": "stdout",
     "output_type": "stream",
     "text": [
      "Science data will be saved to  /arch/1/VTT/hellride/raw/20230504/L0/Science_0745/Ca_II_8542/stokes_\n"
     ]
    }
   ],
   "source": [
    "# REad the metadata\n",
    "config = configobj.ConfigObj('config.ini')\n",
    "line = config['line']\n",
    "# line = 'Ca_II_8542'\n",
    "dkdir = config['darks']['directory']\n",
    "scdir = config['science']['directory']\n",
    "settings = [f for f in os.listdir(scdir) if 'settings' in f]\n",
    "settings = scdir + os.sep + settings[0]\n",
    "settings = configobj.ConfigObj(settings)\n",
    "# Other numbers\n",
    "iline = get_line_num(settings, line, 0)\n",
    "linestr = 'Line_' + str(iline)\n",
    "nacc = int(settings[linestr]['Polarimeter\\\\NAccumulations'])\n",
    "nwav = int(settings[linestr]['NWavePoints'])\n",
    "filtstr = settings[linestr]['Filter']\n",
    "modstr = settings[linestr]['Polarimeter\\\\Modulation']\n",
    "nmod = int(settings[filtstr]['Polarimeter\\\\'+modstr+'\\\\NModulations'])\n",
    "nfpc = nmod*nacc*nwav\n",
    "nfpw = nmod*nacc\n",
    "ncyc = len(os.listdir(scdir+os.sep+line))//3\n",
    "wave_range = np.float64(settings[linestr]['WaveScanRange'])\n",
    "wave_step = wave_range/(np.float64(settings[linestr]['NWavePoints'])-1)\n",
    "#\n",
    "dir_tree = scdir.split(os.sep)\n",
    "l0dir = os.sep.join(dir_tree[0:-1])+os.sep+'L0'+os.sep+dir_tree[-1]+os.sep+line+os.sep+'stokes_'\n",
    "os.makedirs(l0dir, exist_ok=True)\n",
    "print('Science data will be saved to ', l0dir)\n",
    "config['science'][line+'/l0dir_'] = l0dir\n",
    "config.write()\n"
   ]
  },
  {
   "cell_type": "code",
   "execution_count": 5,
   "metadata": {},
   "outputs": [],
   "source": [
    "# Time stamps and calibration data\n",
    "im0ind, im1ind, im2ind = read_time_stamps_obs(scdir, iline)\n",
    "im0ind_ = im0ind.reshape([ncyc, nfpc])\n",
    "im1ind_ = im1ind.reshape([ncyc, nfpc])\n",
    "im2ind_ = im2ind.reshape([ncyc, nfpc])\n",
    "im0ind_ -= im0ind_[:,0:1]\n",
    "im1ind_ -= im1ind_[:,0:1]\n",
    "im2ind_ -= im2ind_[:,0:1]\n",
    "im0ind = im0ind_.reshape([ncyc, nwav, nacc, nmod])%nmod\n",
    "im1ind = im1ind_.reshape([ncyc, nwav, nacc, nmod])%nmod\n",
    "im2ind = im2ind_.reshape([ncyc, nwav, nacc, nmod])%nmod\n",
    "# darks\n",
    "dk0 = np.float64(pf.open(config['darks'][line+'/bbi'])[0].data)\n",
    "dk1 = np.float64(pf.open(config['darks'][line+'/pol1'])[0].data)\n",
    "dk2 = np.float64(pf.open(config['darks'][line+'/pol2'])[0].data)\n",
    "# flats\n",
    "ff_ = pf.open(config['flats'][line+'/pol'])\n",
    "ff_bbi = np.float64(ff_[0].data)\n",
    "ff_pol1 = np.float64(ff_[1].data)\n",
    "ff_pol2 = np.float64(ff_[2].data)\n",
    "# pol1 calib\n",
    "pc1 = pf.open(config['pcalibration'][line+'/pol1'])\n",
    "modmat1 = pc1[1].data\n",
    "pc1.close()\n",
    "demodmat1 = np.linalg.pinv(modmat1)\n",
    "# pol2 calib\n",
    "pc2 = pf.open(config['pcalibration'][line+'/pol2'])\n",
    "modmat2 = pc2[1].data\n",
    "pc2.close()\n",
    "demodmat2 = np.linalg.pinv(modmat2)\n",
    "#\n",
    "if (line=='Ca_II_8542'):\n",
    "    demodmat1[0,:] = 0.25\n",
    "    demodmat1[1::,:] = 0\n",
    "    demodmat2[0,:] = 0.25\n",
    "    demodmat2[1::,:] = 0"
   ]
  },
  {
   "cell_type": "code",
   "execution_count": null,
   "metadata": {},
   "outputs": [],
   "source": [
    "# Average the accumulations, demodulate and flip the images\n",
    "for i in tqdm.tqdm(range(1)):\n",
    "    # bbi data save\n",
    "    dc0 = data_cube(scdir, line, 0, i)\n",
    "    sc0 = np.mean(dc0.data[:,:,:,np.newaxis], axis=2)\n",
    "    sc0 = np.uint16(16*(sc0 - dk0)/ff_bbi)\n",
    "    sc0 = np.flipud(np.fliplr(sc0))\n",
    "\n",
    "    # pol1 data save\n",
    "    dc1 = data_cube(scdir, line, 1, i)\n",
    "    Y, X, Z = dc1.data.shape\n",
    "    sc1 = dc1.data.reshape([Y,X,nacc*nmod*nwav], order='F') - dk1\n",
    "    sc1_add = coadd_modulated_imgs (sc1, im1ind[i], nmod, nacc, nwav)\n",
    "    sc1_ff = sc1_add/ff_pol1\n",
    "    sc1_demod = np.einsum('ijkl,mk->ijml', sc1_ff, demodmat1)\n",
    "    # sc1_demod[:,:,1::] /= sc1_demod[:,:,0:1] \n",
    "    sc1_demod = np.fliplr(sc1_demod)\n",
    "    #\n",
    "    # pol2 data save\n",
    "    dc2 = data_cube(scdir, line, 2, i)\n",
    "    Y, X, Z = dc2.data.shape\n",
    "    sc2 = dc2.data.reshape([Y,X,nacc*nmod*nwav], order='F') - dk2\n",
    "    sc2_add = coadd_modulated_imgs (sc2, im2ind[i], nmod, nacc, nwav)\n",
    "    sc2_ff = sc2_add/ff_pol2\n",
    "    sc2_demod = np.einsum('ijkl,mk->ijml', sc2_ff, demodmat2)\n",
    "    # sc2_demod[:,:,1::] /= sc2_demod[:,:,0:1] \n",
    "    sc2_demod = np.flipud(np.fliplr(sc2_demod))\n",
    "    #\n",
    "    scname = l0dir+os.sep+f'{i:04}_'+'_'.join(os.path.split(dc0.file)[-1].split('_')[3::]).replace('.DAT', '.fits')\n",
    "    hdu1 = pf.PrimaryHDU(sc0)\n",
    "    hdu2 = pf.ImageHDU(sc1_demod)\n",
    "    hdu3 = pf.ImageHDU(sc2_demod)\n",
    "    hdul = pf.HDUList([hdu1, hdu2, hdu3])\n",
    "    hdul.writeto(scname, overwrite=True)"
   ]
  },
  {
   "cell_type": "code",
   "execution_count": 6,
   "metadata": {},
   "outputs": [
    {
     "name": "stderr",
     "output_type": "stream",
     "text": [
      "libGL error: MESA-LOADER: failed to open swrast: /usr/lib/dri/swrast_dri.so: cannot open shared object file: No such file or directory (search paths /usr/lib/x86_64-linux-gnu/dri:\\$${ORIGIN}/dri:/usr/lib/dri, suffix _dri)\n",
      "libGL error: failed to load driver: swrast\n"
     ]
    }
   ],
   "source": [
    "show_img_series(ff_pol2[:,:,2], fps=5)"
   ]
  },
  {
   "cell_type": "code",
   "execution_count": null,
   "metadata": {},
   "outputs": [],
   "source": [
    "config = configobj.ConfigObj('config.ini')\n",
    "ffname = config['flats'][line+'/pol1']\n",
    "ff1 = pf.open(ffname)[0].data\n",
    "\n",
    "# dc1 = data_cube(scdir, line, 1, 0)\n",
    "# Y, X, Z = dc1.data.shape\n",
    "# sc1 = dc1.data.reshape([Y,X,nacc*nmod*nwav], order='F')\n",
    "pix = 200\n",
    "# plt.figure()\n",
    "# plt.plot(sc1_add[pix,pix,0]/sc1_add[pix,pix,0].mean())\n",
    "plt.plot(ff1[pix,pix,0]/ff1[pix,pix,0].mean())\n",
    "# plt.plot(sc1_add[pix,pix,0,:])\n",
    "plt.plot(sc1_ff[pix,pix,0,:])\n",
    "plt.plot(sc1_add[pix,pix,0,:])\n",
    "\n",
    "# plt.figure()\n",
    "# plt.plot(ff_pol1[pix,pix,0,:])\n",
    "# plt.plot(ff_pol1[680,484,0,:])"
   ]
  },
  {
   "cell_type": "code",
   "execution_count": 10,
   "metadata": {},
   "outputs": [],
   "source": [
    "# Display for checking\n",
    "scnames =[l0dir+os.sep+f for f in sorted(os.listdir(l0dir)) if '.fits' in f]\n",
    "for i, f in enumerate(scnames[1:2]):\n",
    "    scd = pf.open(f)[1].data\n",
    "    show_img_series(scd[:,:,1], fps=2)\n",
    "    plt.close()"
   ]
  },
  {
   "cell_type": "code",
   "execution_count": null,
   "metadata": {},
   "outputs": [],
   "source": [
    "# Load the alignment parameners from the target plate data\n",
    "tpname = config['targetplate'][line+'/l0data']\n",
    "tpaffines = pf.open(tpname)[3].data\n",
    "affine10, affine12 = tpaffines[0], tpaffines[1]\n",
    "#\n",
    "scnames =[l0dir+os.sep+f for f in sorted(os.listdir(l0dir)) if '.fits' in f]\n",
    "l0aligndir = l0dir.replace('stokes_', 'stokes_align_')\n",
    "if not os.path.exists(l0aligndir): os.makedirs(l0aligndir)\n",
    "config['science'][line+'/l0aligndir_'] = l0aligndir\n",
    "config.write()"
   ]
  },
  {
   "cell_type": "code",
   "execution_count": null,
   "metadata": {},
   "outputs": [],
   "source": [
    "# Align the channels with respect to POL1 channel; align the time series with respect to the first observations using BBI channel\n",
    "sc0_ref = pf.open(scnames[0])[0].data[:,:,0]\n",
    "sc0_ref = affine_transform(sc0_ref, affine10)\n",
    "#\n",
    "imshifts = []\n",
    "for i, f in tqdm.tqdm(enumerate(scnames)):\n",
    "    f_ = pf.open(f)\n",
    "    sc0 = np.float64(f_[0].data[:,:,0])\n",
    "    sc1 = np.float64(f_[1].data)\n",
    "    sc2 = np.float64(f_[2].data)\n",
    "    # Channel align\n",
    "    sc1_, sc2_ = 1.0*sc1, 1.0*sc2\n",
    "    sc0_ = affine_transform(sc0, affine10, mode='nearest')\n",
    "    for i in range(nwav*nmod):\n",
    "        sc2_[:,:,i%nmod,i//nmod] = affine_transform(sc2[:,:,i%nmod,i//nmod], affine12, mode='nearest')\n",
    "    # Channel merge\n",
    "    sc1_[:,:,1::] /= sc1_[:,:,0:1]\n",
    "    sc2_[:,:,1::] /= sc2_[:,:,0:1]\n",
    "    sc_ = 0.5*(sc1_+sc2_)\n",
    "    sc_[:,:,1::] *= sc_[:,:,0:1]\n",
    "    # Time series align\n",
    "    ts_shift = compute_image_shift(sc0_ref, sc0_)\n",
    "    imshifts.append(ts_shift)\n",
    "    sc0_align = shift(sc0_, ts_shift, mode='nearest')\n",
    "    sc_align = 1.0*sc_\n",
    "    for i in range(nwav*nmod):\n",
    "        sc_align[:,:,i%nmod,i//nmod] = shift(sc_[:,:,i%nmod,i//nmod], ts_shift, mode='nearest')\n",
    "    # Save\n",
    "    newname = f.replace('stokes_', 'stokes_align_')\n",
    "    hdu1 = pf.PrimaryHDU(sc0_align)\n",
    "    hdu2 = pf.ImageHDU(sc_align)\n",
    "    hdul = pf.HDUList([hdu1, hdu2])\n",
    "    hdul.writeto(newname, overwrite=True)\n",
    "imshifts = np.array(imshifts)"
   ]
  },
  {
   "cell_type": "code",
   "execution_count": null,
   "metadata": {},
   "outputs": [],
   "source": [
    "plt.figure(); plt.imshow(sc_[:,:,0,0], cmap='gray')\n",
    "# plt.figure(); plt.imshow(sc1_[:,:,0,0])\n",
    "# plt.figure(); plt.imshow(sc2_[:,:,0,0])"
   ]
  },
  {
   "cell_type": "code",
   "execution_count": null,
   "metadata": {},
   "outputs": [],
   "source": [
    "temp = pf.open(newname)\n",
    "temp0, temp1 = temp[0].data, temp[1].data\n",
    "blink_frames([temp0, temp1[:,:,0,0]], repeat=5)"
   ]
  }
 ],
 "metadata": {
  "kernelspec": {
   "display_name": "Python 3.8.8 ('base')",
   "language": "python",
   "name": "python3"
  },
  "language_info": {
   "codemirror_mode": {
    "name": "ipython",
    "version": 3
   },
   "file_extension": ".py",
   "mimetype": "text/x-python",
   "name": "python",
   "nbconvert_exporter": "python",
   "pygments_lexer": "ipython3",
   "version": "3.11.5"
  },
  "orig_nbformat": 4,
  "vscode": {
   "interpreter": {
    "hash": "1c1078a940144fcb486ff9d1334d3fdb2e0f9e86f163fbd19e2f06a9d73144ad"
   }
  }
 },
 "nbformat": 4,
 "nbformat_minor": 2
}
