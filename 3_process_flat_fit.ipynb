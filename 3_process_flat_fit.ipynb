{
 "cells": [
  {
   "cell_type": "code",
   "execution_count": 2,
   "metadata": {},
   "outputs": [
    {
     "name": "stderr",
     "output_type": "stream",
     "text": [
      "qt.qpa.xcb: X server does not support XInput 2\n"
     ]
    },
    {
     "name": "stderr",
     "output_type": "stream",
     "text": [
      "qt.qpa.xcb: QXcbConnection: XCB error: 1 (BadRequest), sequence: 169, resource id: 132, major code: 130 (Unknown), minor code: 47\n"
     ]
    }
   ],
   "source": [
    "%matplotlib qt5\n",
    "from process_files import *\n",
    "from func_flats import *"
   ]
  },
  {
   "cell_type": "code",
   "execution_count": null,
   "metadata": {},
   "outputs": [],
   "source": [
    "#\n",
    "def process_flat_fit(line, channel, mod):\n",
    "    #\n",
    "    config = configobj.ConfigObj('config.ini')\n",
    "    ffdir = config['flats']['directory']\n",
    "    settings = [f for f in os.listdir(ffdir) if 'settings' in f]\n",
    "    settings = ffdir + os.sep + settings[0]\n",
    "    settings = configobj.ConfigObj(settings)\n",
    "    # Other numbers\n",
    "    iline = get_line_num(settings, line)\n",
    "    linestr = 'Line_' + str(iline)\n",
    "    nacc = int(settings[linestr]['Polarimeter\\\\NAccumulations'])\n",
    "    nwav = int(settings[linestr]['NWavePoints'])\n",
    "    wavescan_range = float(settings[linestr]['WaveScanRange'])\n",
    "    wavelength = float(settings[linestr]['LineWavelength'])\n",
    "    wavestep = wavescan_range/(nwav-1)\n",
    "    filtstr = settings[linestr]['Filter']\n",
    "    modstr = settings[linestr]['Polarimeter\\\\Modulation']\n",
    "    nmod = int(settings[filtstr]['Polarimeter\\\\'+modstr+'\\\\NModulations'])\n",
    "    nfpc = nmod*nacc*nwav\n",
    "    nfpw = nmod*nacc\n",
    "    ncyc = len(os.listdir(ffdir+os.sep+line))//3\n",
    "    #\n",
    "    ffname = config['flats'][line+'/'+channel]\n",
    "    ff = np.float64(pf.open(ffname)[0].data)[:,:,mod]\n",
    "    print(time_now(), 'reading average flat files: ', '\\n', ffname)\n",
    "    spectrum = get_fts_spectra('solar_spectrum_fts.csv', wavelength=wavelength*1e-10, wave_range=2*wavescan_range*1e-10)\n",
    "    factor_avg = spectrum[1].mean()\n",
    "    factor_max = spectrum[1][len(spectrum[1])//4:-len(spectrum[1])//4].max()\n",
    "    #\n",
    "    nknots = (nwav-1)//3+1\n",
    "    xdata = np.arange(nwav)\n",
    "    model_line = Model(real_spectral_line, independent_vars=['x', 'spectrum'])\n",
    "    model_cont = SplineModel(np.linspace(0,nwav,nknots))\n",
    "    params = model_cont.guess(np.zeros(nwav), x=xdata)\n",
    "    params.add('wavelength', value=wavelength, vary=False)\n",
    "    params.add('wavescan_range', value=wavescan_range, vary=False)\n",
    "    params.add('broad', value=1, min=0, max=2, vary=True)\n",
    "    params.add('linesh', value=0, min=-nwav, max=nwav)\n",
    "    model = model_cont*model_line\n",
    "    #\n",
    "    Y, X = ff.shape[0:2]\n",
    "    ff_line = 0.0*ff\n",
    "    ff_cont = 0.0*ff\n",
    "    ff_broad = np.zeros([Y,X])\n",
    "    ff_linesh = np.zeros([Y,X])\n",
    "    for i in tqdm.tqdm(range(Y)):\n",
    "        for j in range(X):\n",
    "            try:\n",
    "                for s in range(nknots):\n",
    "                    params.add('s'+str(s), value=ff[i,j].max()/factor_avg)\n",
    "                res = model.fit(ff[i,j], params, x=xdata, spectrum=spectrum)\n",
    "                ff_line[i,j] = model_line.eval(res.params, x=xdata, spectrum=spectrum)\n",
    "                ff_cont[i,j] = model_cont.eval(res.params, x=xdata)\n",
    "                ff_broad[i,j] = res.best_values['broad']\n",
    "                ff_linesh[i,j] = res.best_values['linesh']\n",
    "            except:\n",
    "                for s in range(nknots):\n",
    "                    params.add('s'+str(s), value=ff[i,j].max()/factor_max)\n",
    "                res = model.fit(ff[i,j], params, x=xdata, spectrum=spectrum)\n",
    "                ff_line[i,j] = model_line.eval(res.params, x=xdata, spectrum=spectrum)\n",
    "                ff_cont[i,j] = model_cont.eval(res.params, x=xdata)\n",
    "                ff_broad[i,j] = res.best_values['broad']\n",
    "                ff_linesh[i,j] = res.best_values['linesh']\n",
    "    #\n",
    "    ffit_name = ffname.replace('_fa', '_mod'+str(mod)+'_ft')\n",
    "    hdu1 = pf.PrimaryHDU(ff)\n",
    "    hdu2 = pf.ImageHDU(ff_cont)\n",
    "    hdu3 = pf.ImageHDU(ff_line)\n",
    "    hdu4 = pf.ImageHDU(ff_linesh)    \n",
    "    hdu5 = pf.ImageHDU(ff_broad)\n",
    "    hdul = pf.HDUList([hdu1, hdu2, hdu3, hdu4, hdu5])\n",
    "    hdul.writeto(ffit_name, overwrite=True)\n",
    "    hdul.close()\n",
    "    config = configobj.ConfigObj('config.ini')\n",
    "    config['flats'][line+'/'+channel+'_mod'+str(mod)+'_fit'] = ffit_name\n",
    "    print(line+'/'+channel+'_mod'+str(mod)+'_fit', ffit_name)\n",
    "    config.write()\n",
    "    print(time_now(), 'fit data written to: ', '\\n', ffit_name)\n",
    "# # #\n",
    "# res = model.fit(obspec, params, x=xdata, spectrum=spectrum)\n",
    "# fitline = model_line.eval(res.params,x=xdata,spectrum=spectrum)\n",
    "# fitcont = model_cont.eval(res.params,x=xdata)\n",
    "# plt.figure()\n",
    "# plt.plot(obspec, 'k')\n",
    "# plt.plot(res.init_fit, 'c')\n",
    "# plt.plot(res.best_fit, 'm')\n",
    "# plt.plot(fitcont, 'g')\n",
    "# plt.plot(obspec/fitline, 'b')\n",
    "# res"
   ]
  },
  {
   "cell_type": "code",
   "execution_count": 4,
   "metadata": {},
   "outputs": [
    {
     "name": "stdout",
     "output_type": "stream",
     "text": [
      "14:08:04 reading average flat files:  \n",
      " /arch/1/VTT/hellride/raw/20230503/L0/HELLRIDE_pol2_20230503_Flats_1232_Ca_II_8542_fa.FITS\n",
      "14:08:04 reading average flat files:  \n",
      " /arch/1/VTT/hellride/raw/20230503/L0/HELLRIDE_pol2_20230503_Flats_1232_Ca_II_8542_fa.FITS\n",
      "14:08:04 reading average flat files:  \n",
      " /arch/1/VTT/hellride/raw/20230503/L0/HELLRIDE_pol2_20230503_Flats_1232_Ca_II_8542_fa.FITS\n",
      "14:08:04 reading average flat files:  \n",
      " /arch/1/VTT/hellride/raw/20230503/L0/HELLRIDE_pol2_20230503_Flats_1232_Ca_II_8542_fa.FITS\n"
     ]
    },
    {
     "name": "stderr",
     "output_type": "stream",
     "text": [
      "100%|██████████| 1280/1280 [116:12:50<00:00, 326.85s/it]   \n"
     ]
    },
    {
     "name": "stdout",
     "output_type": "stream",
     "text": [
      "Ca_II_8542/pol2_mod0_fit /arch/1/VTT/hellride/raw/20230503/L0/HELLRIDE_pol2_20230503_Flats_1232_Ca_II_8542_mod0_ft.FITS\n",
      "10:21:00 fit data written to:  \n",
      " /arch/1/VTT/hellride/raw/20230503/L0/HELLRIDE_pol2_20230503_Flats_1232_Ca_II_8542_mod0_ft.FITS\n"
     ]
    },
    {
     "name": "stderr",
     "output_type": "stream",
     "text": [
      "100%|██████████| 1280/1280 [116:14:10<00:00, 326.91s/it]\n"
     ]
    },
    {
     "name": "stdout",
     "output_type": "stream",
     "text": [
      "Ca_II_8542/pol2_mod2_fit /arch/1/VTT/hellride/raw/20230503/L0/HELLRIDE_pol2_20230503_Flats_1232_Ca_II_8542_mod2_ft.FITS\n",
      "10:22:19 fit data written to:  \n",
      " /arch/1/VTT/hellride/raw/20230503/L0/HELLRIDE_pol2_20230503_Flats_1232_Ca_II_8542_mod2_ft.FITS\n"
     ]
    },
    {
     "name": "stderr",
     "output_type": "stream",
     "text": [
      "100%|██████████| 1280/1280 [116:15:36<00:00, 326.98s/it]\n"
     ]
    },
    {
     "name": "stdout",
     "output_type": "stream",
     "text": [
      "Ca_II_8542/pol2_mod3_fit /arch/1/VTT/hellride/raw/20230503/L0/HELLRIDE_pol2_20230503_Flats_1232_Ca_II_8542_mod3_ft.FITS\n",
      "10:23:46 fit data written to:  \n",
      " /arch/1/VTT/hellride/raw/20230503/L0/HELLRIDE_pol2_20230503_Flats_1232_Ca_II_8542_mod3_ft.FITS\n"
     ]
    },
    {
     "name": "stderr",
     "output_type": "stream",
     "text": [
      "100%|██████████| 1280/1280 [116:19:23<00:00, 327.16s/it]\n"
     ]
    },
    {
     "name": "stdout",
     "output_type": "stream",
     "text": [
      "Ca_II_8542/pol2_mod1_fit /arch/1/VTT/hellride/raw/20230503/L0/HELLRIDE_pol2_20230503_Flats_1232_Ca_II_8542_mod1_ft.FITS\n",
      "10:27:32 fit data written to:  \n",
      " /arch/1/VTT/hellride/raw/20230503/L0/HELLRIDE_pol2_20230503_Flats_1232_Ca_II_8542_mod1_ft.FITS\n"
     ]
    },
    {
     "data": {
      "text/plain": [
       "[None, None, None, None]"
      ]
     },
     "execution_count": 4,
     "metadata": {},
     "output_type": "execute_result"
    }
   ],
   "source": [
    "config = configobj.ConfigObj('config.ini')\n",
    "line = config['line']\n",
    "pool = mp.Pool(8)\n",
    "mp_args = []\n",
    "mp_args.append([line, 'pol1', 0])\n",
    "mp_args.append([line, 'pol1', 1])\n",
    "mp_args.append([line, 'pol1', 2])\n",
    "mp_args.append([line, 'pol1', 3])\n",
    "mp_args.append([line, 'pol2', 0])\n",
    "mp_args.append([line, 'pol2', 1])\n",
    "mp_args.append([line, 'pol2', 2])\n",
    "mp_args.append([line, 'pol2', 3])\n",
    "pool.starmap(process_flat_fit, mp_args)"
   ]
  },
  {
   "cell_type": "code",
   "execution_count": null,
   "metadata": {},
   "outputs": [],
   "source": [
    "line, channel, mod = 'Ca_II_8542', 'pol1', 0\n",
    "config = configobj.ConfigObj('config.ini')\n",
    "ffdir = config['flats']['directory']\n",
    "settings = [f for f in os.listdir(ffdir) if 'settings' in f]\n",
    "settings = ffdir + os.sep + settings[0]\n",
    "settings = configobj.ConfigObj(settings)\n",
    "# Other numbers\n",
    "iline = get_line_num(settings, line)\n",
    "linestr = 'Line_' + str(iline)\n",
    "nacc = int(settings[linestr]['Polarimeter\\\\NAccumulations'])\n",
    "nwav = int(settings[linestr]['NWavePoints'])\n",
    "wavescan_range = float(settings[linestr]['WaveScanRange'])\n",
    "wavelength = float(settings[linestr]['LineWavelength'])\n",
    "wavestep = wavescan_range/(nwav-1)\n",
    "filtstr = settings[linestr]['Filter']\n",
    "modstr = settings[linestr]['Polarimeter\\\\Modulation']\n",
    "nmod = int(settings[filtstr]['Polarimeter\\\\'+modstr+'\\\\NModulations'])\n",
    "nfpc = nmod*nacc*nwav\n",
    "nfpw = nmod*nacc\n",
    "ncyc = len(os.listdir(ffdir+os.sep+line))//3\n",
    "#\n",
    "ffname = config['flats'][line+'/'+channel]\n",
    "ff = np.float64(pf.open(ffname)[0].data)[:,:,mod]\n",
    "print(time_now(), 'reading average flat files: ', '\\n', ffname)\n",
    "spectrum = get_fts_spectra('solar_spectrum_fts.csv', wavelength=wavelength*1e-10, wave_range=2*wavescan_range*1e-10)\n",
    "factor_avg = spectrum[1].mean()\n",
    "factor_max = spectrum[1][len(spectrum[1])//4:-len(spectrum[1])//4].max()\n",
    "#\n",
    "Y, X = ff.shape[0:2]\n",
    "nknots = (nwav-1)//3+1\n",
    "xdata = np.arange(nwav)\n",
    "model_line = Model(real_spectral_line, independent_vars=['x', 'spectrum'])\n",
    "model_cont = SplineModel(np.linspace(0,nwav,nknots))\n",
    "params = model_cont.guess(np.zeros(nwav), x=xdata)\n",
    "params.add('wavelength', value=wavelength, vary=False)\n",
    "params.add('wavescan_range', value=wavescan_range, vary=False)\n",
    "params.add('broad', value=1, min=0, max=2, vary=True)\n",
    "params.add('linesh', value=0, min=-25, max=25)\n",
    "model = model_cont*model_line\n",
    "#\n",
    "ff_line = 0.0*ff\n",
    "ff_cont = 0.0*ff\n",
    "ff_broad = np.zeros([Y,X])\n",
    "ff_linesh = np.zeros([Y,X])\n",
    "for i in tqdm.tqdm(range(Y)):\n",
    "    for j in range(X):\n",
    "    # i, j = 31, 516\n",
    "        try:\n",
    "            for s in range(nknots):\n",
    "                params.add('s'+str(s), value=ff[i,j].max()/factor_avg)\n",
    "            res = model.fit(ff[i,j], params, x=xdata, spectrum=spectrum)\n",
    "            ff_line[i,j] = model_line.eval(res.params, x=xdata, spectrum=spectrum)\n",
    "            ff_cont[i,j] = model_cont.eval(res.params, x=xdata)\n",
    "            ff_broad[i,j] = res.best_values['broad']\n",
    "            ff_linesh[i,j] = res.best_values['linesh']\n",
    "        except:\n",
    "            print(i,j)\n",
    "            for s in range(nknots):\n",
    "                params.add('s'+str(s), value=ff[i,j].max()/factor_max)\n",
    "            res = model.fit(ff[i,j], params, x=xdata, spectrum=spectrum)\n",
    "            ff_line[i,j] = model_line.eval(res.params, x=xdata, spectrum=spectrum)\n",
    "            ff_cont[i,j] = model_cont.eval(res.params, x=xdata)\n",
    "            ff_broad[i,j] = res.best_values['broad']\n",
    "            ff_linesh[i,j] = res.best_values['linesh']\n",
    "        # #\n",
    "# ffit_name = ffname.replace('_fa', '_mod'+str(mod)+'_ft')\n",
    "# hdu1 = pf.PrimaryHDU(ff)\n",
    "# hdu2 = pf.ImageHDU(ff_cont)\n",
    "# hdu3 = pf.ImageHDU(ff_line)\n",
    "# hdu4 = pf.ImageHDU(ff_linesh)    \n",
    "# hdu5 = pf.ImageHDU(ff_broad)\n",
    "# hdul = pf.HDUList([hdu1, hdu2, hdu3, hdu4, hdu5])\n",
    "# hdul.writeto(ffit_name, overwrite=True)\n",
    "# hdul.close()\n",
    "# config = configobj.ConfigObj('config.ini')\n",
    "# config['flats'][line+'/'+channel+'_mod'+str(mod)+'_fit'] = ffit_name\n",
    "# print(line+'/'+channel+'_mod'+str(mod)+'_fit', ffit_name)\n",
    "# config.write()\n",
    "# print(time_now(), 'fit data written to: ', '\\n', ffit_name)"
   ]
  },
  {
   "cell_type": "code",
   "execution_count": null,
   "metadata": {},
   "outputs": [],
   "source": [
    "plt.plot(model.eval(params, x=xdata, spectrum=spectrum))\n",
    "plt.plot(ff[i,j])\n",
    "plt.plot(res.best_fit)\n",
    "# plt.plot(res.init_fit)"
   ]
  }
 ],
 "metadata": {
  "kernelspec": {
   "display_name": "Python 3.8.8 ('base')",
   "language": "python",
   "name": "python3"
  },
  "language_info": {
   "codemirror_mode": {
    "name": "ipython",
    "version": 3
   },
   "file_extension": ".py",
   "mimetype": "text/x-python",
   "name": "python",
   "nbconvert_exporter": "python",
   "pygments_lexer": "ipython3",
   "version": "3.11.5"
  },
  "orig_nbformat": 4,
  "vscode": {
   "interpreter": {
    "hash": "1c1078a940144fcb486ff9d1334d3fdb2e0f9e86f163fbd19e2f06a9d73144ad"
   }
  }
 },
 "nbformat": 4,
 "nbformat_minor": 2
}
