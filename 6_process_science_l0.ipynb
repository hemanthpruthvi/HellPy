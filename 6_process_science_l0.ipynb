{
 "cells": [
  {
   "cell_type": "code",
   "execution_count": null,
   "metadata": {},
   "outputs": [
    {
     "name": "stderr",
     "output_type": "stream",
     "text": [
      "qt.qpa.xcb: X server does not support XInput 2\n"
     ]
    },
    {
     "name": "stderr",
     "output_type": "stream",
     "text": [
      "qt.qpa.xcb: QXcbConnection: XCB error: 1 (BadRequest), sequence: 169, resource id: 132, major code: 130 (Unknown), minor code: 47\n"
     ]
    }
   ],
   "source": [
    "%matplotlib qt5\n",
    "from process_files import *\n",
    "from func_science import *"
   ]
  },
  {
   "cell_type": "markdown",
   "metadata": {},
   "source": [
    "## Reduce the data and write individual frames for MOMFBD"
   ]
  },
  {
   "cell_type": "code",
   "execution_count": null,
   "metadata": {},
   "outputs": [],
   "source": [
    "#\n",
    "config = configobj.ConfigObj('config.ini')\n",
    "line = config['line']\n",
    "dkdir = config['darks']['directory']\n",
    "scdir = config['science']['directory']\n",
    "settings = [f for f in os.listdir(scdir) if 'settings' in f]\n",
    "settings = scdir + os.sep + settings[0]\n",
    "settings = configobj.ConfigObj(settings)\n",
    "# Other numbers\n",
    "iline = get_line_num(settings, line, 0)\n",
    "linestr = 'Line_' + str(iline)\n",
    "nacc = int(settings[linestr]['Polarimeter\\\\NAccumulations'])\n",
    "nwav = int(settings[linestr]['NWavePoints'])\n",
    "filtstr = settings[linestr]['Filter']\n",
    "modstr = settings[linestr]['Polarimeter\\\\Modulation']\n",
    "nmod = int(settings[filtstr]['Polarimeter\\\\'+modstr+'\\\\NModulations'])\n",
    "nfpc = nmod*nacc*nwav\n",
    "nfpw = nmod*nacc\n",
    "ncyc = len(os.listdir(scdir+os.sep+line))//3\n",
    "wave_range = np.float64(settings[linestr]['WaveScanRange'])\n",
    "wave_step = wave_range/(np.float64(settings[linestr]['NWavePoints'])-1)\n",
    "# Time stamps\n",
    "im0ind, im1ind, im2ind = read_time_stamps_obs(scdir, iline)\n",
    "im0ind_ = im0ind.reshape([ncyc, nfpc])\n",
    "im1ind_ = im1ind.reshape([ncyc, nfpc])\n",
    "im2ind_ = im2ind.reshape([ncyc, nfpc])\n",
    "im0ind_ -= im0ind_[:,0:1]\n",
    "im1ind_ -= im1ind_[:,0:1]\n",
    "im2ind_ -= im2ind_[:,0:1]\n",
    "im0ind = im0ind_.reshape([ncyc, nwav, nacc, nmod])%nmod\n",
    "im1ind = im1ind_.reshape([ncyc, nwav, nacc, nmod])%nmod\n",
    "im2ind = im2ind_.reshape([ncyc, nwav, nacc, nmod])%nmod\n",
    "#"
   ]
  },
  {
   "cell_type": "code",
   "execution_count": null,
   "metadata": {},
   "outputs": [],
   "source": [
    "# darks\n",
    "dk0 = np.float64(pf.open(config['darks'][line+'/bbi'])[0].data)\n",
    "dk1 = np.float64(pf.open(config['darks'][line+'/pol1'])[0].data)\n",
    "dk2 = np.float64(pf.open(config['darks'][line+'/pol2'])[0].data)\n",
    "# flats\n",
    "# ff_bbi = np.float64(pf.open(config['flats'][line+'/bbi'])[0].data)\n",
    "# ff_bbi = ff_bbi[:,:,np.newaxis]/np.mean(ff_bbi)\n",
    "# ff_pol = np.float64(pf.open(config['flats'][line+'/pol'])[0].data)\n",
    "# ff_pol1 = ff_pol[:,:,0:4]\n",
    "# ff_pol2 = ff_pol[:,:,4::]\n",
    "ff_ = pf.open(config['flats'][line+'/pol'])\n",
    "ff_bbi = ff_[0].data\n",
    "ff_pol1 = ff_[1].data\n",
    "ff_pol2 = ff_[2].data\n",
    "# pol1 calib\n",
    "pc1 = pf.open(config['pcalibration'][line+'/pol1'])\n",
    "modmat1 = pc1[1].data\n",
    "pc1.close()\n",
    "demodmat1 = np.linalg.pinv(modmat1)\n",
    "# pol2 calib\n",
    "pc2 = pf.open(config['pcalibration'][line+'/pol2'])\n",
    "modmat2 = pc2[1].data\n",
    "pc2.close()\n",
    "demodmat2 = np.linalg.pinv(modmat2)\n",
    "#\n",
    "dir_tree = scdir.split(os.sep)\n",
    "l0dir = os.sep.join(dir_tree[0:-1])+os.sep+'L0'+os.sep+dir_tree[-1]+os.sep+line\n",
    "if not (os.path.exists(l0dir)): os.makedirs(l0dir)\n",
    "print('Science data will be saved to ', l0dir)\n",
    "config['science'][line+'/l0dir'] = l0dir\n",
    "config.write()"
   ]
  },
  {
   "cell_type": "code",
   "execution_count": null,
   "metadata": {},
   "outputs": [],
   "source": [
    "l0subdir_bbi = l0dir+os.sep+'bbi'\n",
    "if not (os.path.exists(l0subdir_bbi)): os.mkdir(l0subdir_bbi)\n",
    "l0subdir_pol1 = l0dir+os.sep+'pol1'\n",
    "if not (os.path.exists(l0subdir_pol1)): os.mkdir(l0subdir_pol1)\n",
    "l0subdir_pol2 = l0dir+os.sep+'pol2'\n",
    "if not (os.path.exists(l0subdir_pol2)): os.mkdir(l0subdir_pol2)\n",
    "print('Data will be written to', l0dir)\n",
    "for i in tqdm.tqdm(range(ncyc)):\n",
    "    # print('Processing', i+1, 'of', ncyc, 'frames...')\n",
    "    # Load the data from all the channels\n",
    "    dc0 = data_cube(scdir, line, 0, i)\n",
    "    sc0 = (dc0.data - dk0)/ff_bbi\n",
    "    dc1 = data_cube(scdir, line, 1, i)\n",
    "    sc1 = dc1.data - dk1\n",
    "    dc2 = data_cube(scdir, line, 2, i)\n",
    "    sc2 = dc2.data - dk2\n",
    "    #\n",
    "    rel_ind = np.arange(nwav*nacc*nmod)\n",
    "    wav_ind = np.int16(rel_ind//int(nacc*nmod))\n",
    "    mod1_ind = np.int16(im1ind_[i]%nmod)\n",
    "    mod2_ind = np.int16(im2ind_[i]%nmod)\n",
    "    #\n",
    "    for i_ in rel_ind:\n",
    "        sc0[:,:,i_] = 16*sc0[:,:,i_]\n",
    "        sc0[:,:,i_] = np.flipud(np.fliplr(sc0[:,:,i_]))\n",
    "        #\n",
    "        sc1[:,:,i_] = 16*sc1[:,:,i_]/ff_pol1[:,:,mod1_ind[i_],wav_ind[i_]]\n",
    "        sc1[:,:,i_] = np.fliplr(sc1[:,:,i_])\n",
    "        # sc1[:,:,i_] = rotate(sc1[:,:,i_], rotang1, mode='nearest', reshape=False)\n",
    "        # sc1[:,:,i_] = zoom_clipped(sc1[:,:,i_], mag)\n",
    "        # sc1[:,:,i_] = shift(sc1[:,:,i_], pol1_shifts[0:2], mode='nearest')        \n",
    "        #\n",
    "        sc2[:,:,i_] = 16*sc2[:,:,i_]/ff_pol2[:,:,mod2_ind[i_],wav_ind[i_]]\n",
    "        sc2[:,:,i_] = np.flipud(np.fliplr(sc2[:,:,i_]))\n",
    "        # sc2[:,:,i_] = rotate(sc2[:,:,i_], rotang2, mode='nearest', reshape=False)\n",
    "        # sc2[:,:,i_] = zoom_clipped(sc2[:,:,i_], mag)\n",
    "        # sc2[:,:,i_] = shift(sc2[:,:,i_], pol2_shifts[0:2], mode='nearest')   \n",
    "        #\n",
    "        sc0_name = l0subdir_bbi+os.sep+'bbi_'+f'{i:04}'+f'{im0ind_[i][i_]:04}'+'.fits'\n",
    "        hdu = pf.PrimaryHDU(np.uint16(sc0[:,:,i_]))\n",
    "        hdu.writeto(sc0_name, overwrite=True)\n",
    "        sc1_name = l0subdir_pol1+os.sep+'pol1_'+f'{i:04}'+f'{im1ind_[i][i_]:04}'+'.fits'\n",
    "        hdu = pf.PrimaryHDU(np.uint16(sc1[:,:,i_]))\n",
    "        hdu.writeto(sc1_name, overwrite=True)\n",
    "        sc2_name = l0subdir_pol2+os.sep+'pol2_'+f'{i:04}'+f'{im2ind_[i][i_]:04}'+'.fits'\n",
    "        hdu = pf.PrimaryHDU(np.uint16(sc2[:,:,i_]))\n",
    "        hdu.writeto(sc2_name, overwrite=True)"
   ]
  },
  {
   "cell_type": "code",
   "execution_count": null,
   "metadata": {},
   "outputs": [],
   "source": [
    "bbi_files = [l0dir+os.sep+f for f in sorted(os.listdir(l0dir)) if (('bbi' in f) and ('.fits' in f))]\n",
    "pol1_files = [l0dir+os.sep+f for f in sorted(os.listdir(l0dir)) if (('pol1' in f) and ('.fits' in f))]\n",
    "pol2_files = [l0dir+os.sep+f for f in sorted(os.listdir(l0dir)) if (('pol2' in f) and ('.fits' in f))]"
   ]
  },
  {
   "cell_type": "code",
   "execution_count": null,
   "metadata": {},
   "outputs": [],
   "source": [
    "for i, f in enumerate(pol1_files):\n",
    "    print(i)\n",
    "    sc0 = pf.open(f)[0].data\n",
    "    show_img_series(sc0[:,:,], fps=2)\n",
    "    plt.close()"
   ]
  },
  {
   "cell_type": "markdown",
   "metadata": {},
   "source": [
    "## MOMFBD wrapper for image reconstruction"
   ]
  },
  {
   "cell_type": "markdown",
   "metadata": {},
   "source": [
    "## Demodulate the reconstructed data "
   ]
  },
  {
   "cell_type": "code",
   "execution_count": 2,
   "metadata": {},
   "outputs": [],
   "source": [
    "#\n",
    "config = configobj.ConfigObj('config.ini')\n",
    "# line =config['line']\n",
    "line = 'Fe_I_6173'\n",
    "scdir = config['science']['directory']\n",
    "imdir = config['science'][line+'/imdir']\n",
    "settings = [f for f in os.listdir(scdir) if 'settings' in f]\n",
    "settings = scdir + os.sep + settings[0]\n",
    "settings = configobj.ConfigObj(settings)\n",
    "# Other numbers\n",
    "linestr = 'Line_' + str(get_line_num(settings, line, 0))\n",
    "nacc = int(settings[linestr]['Polarimeter\\\\NAccumulations'])\n",
    "nwav = int(settings[linestr]['NWavePoints'])\n",
    "filtstr = settings[linestr]['Filter']\n",
    "modstr = settings[linestr]['Polarimeter\\\\Modulation']\n",
    "nmod = int(settings[filtstr]['Polarimeter\\\\'+modstr+'\\\\NModulations'])\n",
    "nfpc = nmod*nacc*nwav\n",
    "nfpw = nmod*nacc\n",
    "ncyc = len(os.listdir(scdir+os.sep+line))//3\n",
    "wave_range = np.float64(settings[linestr]['WaveScanRange'])\n",
    "wave_step = wave_range/(np.float64(settings[linestr]['NWavePoints'])-1)\n",
    "#"
   ]
  },
  {
   "cell_type": "code",
   "execution_count": null,
   "metadata": {},
   "outputs": [
    {
     "name": "stdout",
     "output_type": "stream",
     "text": [
      "Science data will be saved to  /arch/1/VTT/hellride/raw/20230504/L0/Science_0745/Fe_I_6173/stokes_corr\n"
     ]
    }
   ],
   "source": [
    "sc_files = sorted(os.listdir(scdir+os.sep+line))[0:ncyc]\n",
    "# flats\n",
    "ff_pol1 = np.float64(pf.open(config['flats'][line+'/pol1'])[0].data)\n",
    "ff_pol2 = np.float64(pf.open(config['flats'][line+'/pol2'])[0].data)\n",
    "ff_pol = np.float64(pf.open(config['flats'][line+'/pol'])[0].data)\n",
    "ff_pol1 = ff_pol[:,:,0:4]\n",
    "ff_pol2 = ff_pol[:,:,4::]\n",
    "# pol1 calib\n",
    "pc1 = pf.open(config['pcalibration'][line+'/pol1'])\n",
    "modmat1 = pc1[1].data\n",
    "pc1.close()\n",
    "demodmat1 = np.linalg.inv(modmat1)\n",
    "# pol2 calib\n",
    "pc2 = pf.open(config['pcalibration'][line+'/pol2'])\n",
    "modmat2 = pc2[1].data\n",
    "pc2.close()\n",
    "demodmat2 = np.linalg.inv(modmat2)\n",
    "#\n",
    "dir_tree = scdir.split(os.sep)\n",
    "# l0dir = os.sep.join(dir_tree[0:-1])+os.sep+'L0'\n",
    "# if not (os.path.exists(l0dir)): os.mkdir(l0dir)\n",
    "# l0dir += os.sep+dir_tree[-1]\n",
    "# if not (os.path.exists(l0dir)): os.mkdir(l0dir)\n",
    "# l0dir += os.sep+line\n",
    "# if not (os.path.exists(l0dir)): os.mkdir(l0dir)\n",
    "\n",
    "l0dir = os.sep.join(dir_tree[0:-1])+os.sep+'L0'+os.sep+dir_tree[-1]+os.sep+line\n",
    "if not (os.path.exists(l0dir)): os.mkdirs(l0dir)\n",
    "config['science'][line+'/l0dir'] = l0dir\n",
    "config.write()\n",
    "#\n",
    "l0subdir = l0dir+os.sep+'stokes_align'\n",
    "if not (os.path.exists(l0subdir)): os.mkdir(l0subdir)\n",
    "config['science'][line+'/l0aligndir'] = l0subdir\n",
    "config.write()\n",
    "print('Science data will be saved to ', l0subdir)"
   ]
  },
  {
   "cell_type": "code",
   "execution_count": 5,
   "metadata": {},
   "outputs": [
    {
     "name": "stderr",
     "output_type": "stream",
     "text": [
      "100%|██████████| 40/40 [05:48<00:00,  8.72s/it]\n"
     ]
    }
   ],
   "source": [
    "for i in tqdm.tqdm(range(120,160)):\n",
    "    imsubdir = imdir + os.sep +f'{i:04}'\n",
    "    imlist = [imsubdir+os.sep+f for f in sorted(os.listdir(imsubdir)) if '.fits' in f]\n",
    "    #\n",
    "    sc0 = pf.open(imlist[0])[0].data\n",
    "    sc0 = np.pad(sc0, ((6,6),(7,7)), mode='constant')\n",
    "    sc1, sc2 = [], []\n",
    "    for m in range(nmod*nwav):\n",
    "        sc1_ = pf.open(imlist[m+1])[0].data\n",
    "        sc1.append(np.pad(sc1_,((6,6),(7,7)),mode='constant'))\n",
    "        sc2_ = pf.open(imlist[m+1+nmod*nwav])[0].data\n",
    "        sc2.append(np.pad(sc2_,((6,6),(7,7)),mode='constant'))\n",
    "    sc1, sc2 = np.array(sc1), np.array(sc2)\n",
    "    #\n",
    "    Y, X = sc0.shape\n",
    "    sc1 = np.reshape(np.moveaxis(sc1,0,2), [Y,X,nmod,nwav], order='F')\n",
    "    sc2 = np.reshape(np.moveaxis(sc2,0,2), [Y,X,nmod,nwav], order='F')\n",
    "    sc0[sc0==0] = sc0.mean()\n",
    "    sc1[sc1==0] = sc1.mean()\n",
    "    sc2[sc2==0] = sc2.mean()\n",
    "    # \n",
    "    sc1_demod = np.einsum('ijkl,mk->ijml', sc1, demodmat1)\n",
    "    # sc1_demod[:,:,1::] /= sc1_demod[:,:,0:1] \n",
    "    sc2_demod = np.einsum('ijkl,mk->ijml', sc2, demodmat2)\n",
    "    # sc2_demod[:,:,1::] /= sc2_demod[:,:,0:1] \n",
    "    # #\n",
    "    sc_name = l0subdir + os.sep + f'{i:04}_'+sc_files[i].split('_')[-2]+'_sc.fits'\n",
    "    hdu1 = pf.PrimaryHDU(sc0)\n",
    "    hdu2 = pf.ImageHDU(sc1_demod)\n",
    "    hdu3 = pf.ImageHDU(sc2_demod)\n",
    "    hdul = pf.HDUList([hdu1,hdu2,hdu3])\n",
    "    hdul.writeto(sc_name, overwrite=True)"
   ]
  },
  {
   "cell_type": "code",
   "execution_count": 6,
   "metadata": {},
   "outputs": [
    {
     "data": {
      "text/plain": [
       "'/arch/1/VTT/hellride/raw/20230504/L0/Science_0745/Fe_I_6173/stokes_align/0159_100323906_sc.fits'"
      ]
     },
     "execution_count": 6,
     "metadata": {},
     "output_type": "execute_result"
    }
   ],
   "source": [
    "sc_name"
   ]
  },
  {
   "cell_type": "code",
   "execution_count": null,
   "metadata": {},
   "outputs": [],
   "source": [
    "def save_mono_video(vid_data, name, fps=30, cmap='gray'):\n",
    "    \"\"\"\n",
    "    |   Generate and save a series of mono images as a video\n",
    "    |   Input:  3d data of size X*Y*N\n",
    "    |           name of the video file\n",
    "    |   Output: None\n",
    "    \"\"\"\n",
    "    i, vid_size = 0, 10\n",
    "    N = vid_data.shape[2]\n",
    "    # DPI = vid_data.shape[0]/vid_size\n",
    "    #\n",
    "    fig, ax = plt.subplots(1,1,figsize=(10,10))\n",
    "    disp = ax.imshow(vid_data[:,:,0], cmap=cmap, animated=True)\n",
    "    ax.set_xticklabels([])\n",
    "    ax.set_yticklabels([])\n",
    "    ax.set_xticks([])\n",
    "    ax.set_yticks([])\n",
    "    fig.tight_layout()\n",
    "    def update_frame(i):\n",
    "        disp.set_array(vid_data[:,:,i])\n",
    "        return disp,\n",
    "    writer = animation.writers['ffmpeg'](fps=fps)\n",
    "    ani = animation.FuncAnimation(fig, update_frame, frames=N, interval=1000.0/fps, blit=True)\n",
    "    ani.save(name, writer=writer, dpi=120)\n",
    "    plt.show()\n"
   ]
  },
  {
   "cell_type": "code",
   "execution_count": null,
   "metadata": {},
   "outputs": [],
   "source": [
    "save_mono_video(sc1_demod[:,:,0], 'fei6173_140_i.mp4', fps=2)"
   ]
  },
  {
   "cell_type": "code",
   "execution_count": null,
   "metadata": {},
   "outputs": [],
   "source": [
    "clip = 20\n",
    "img = sc1_demod[clip:-clip,clip:-clip,0,10]\n",
    "fig, ax = plt.subplots(1,1,figsize=(10,10))\n",
    "ax.imshow(img, cmap='gray', vmin=1200, vmax=6000)\n",
    "ax.set_xticklabels([])\n",
    "ax.set_yticklabels([])\n",
    "ax.set_xticks([])\n",
    "ax.set_yticks([])\n",
    "fig.tight_layout()\n",
    "plt.savefig(line+'_'+str(i)+'_sample.png')"
   ]
  },
  {
   "cell_type": "code",
   "execution_count": null,
   "metadata": {},
   "outputs": [],
   "source": [
    "img.min()"
   ]
  }
 ],
 "metadata": {
  "kernelspec": {
   "display_name": "base",
   "language": "python",
   "name": "python3"
  },
  "language_info": {
   "codemirror_mode": {
    "name": "ipython",
    "version": 3
   },
   "file_extension": ".py",
   "mimetype": "text/x-python",
   "name": "python",
   "nbconvert_exporter": "python",
   "pygments_lexer": "ipython3",
   "version": "3.11.5"
  },
  "orig_nbformat": 4
 },
 "nbformat": 4,
 "nbformat_minor": 2
}
