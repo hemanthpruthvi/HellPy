{
 "cells": [
  {
   "cell_type": "code",
   "execution_count": 23,
   "id": "bd620717",
   "metadata": {},
   "outputs": [],
   "source": [
    "%matplotlib qt5\n",
    "from scipy.signal import correlate2d\n",
    "from process_target import *"
   ]
  },
  {
   "cell_type": "code",
   "execution_count": 2,
   "id": "35a99fce",
   "metadata": {},
   "outputs": [
    {
     "name": "stdout",
     "output_type": "stream",
     "text": [
      "Settings loaded from  E:\\Targetplate\\20211026\\1028\\HELLRIDE_20211028_102822735_settings.ini\n",
      "Number of spectral lines in the data:  2\n"
     ]
    },
    {
     "name": "stderr",
     "output_type": "stream",
     "text": [
      "\r",
      "  0%|                                                                                            | 0/3 [00:00<?, ?it/s]"
     ]
    },
    {
     "name": "stdout",
     "output_type": "stream",
     "text": [
      "No valid unique settings file found!\n"
     ]
    },
    {
     "name": "stderr",
     "output_type": "stream",
     "text": [
      "100%|████████████████████████████████████████████████████████████████████████████████████| 3/3 [00:01<00:00,  1.73it/s]\n"
     ]
    },
    {
     "name": "stdout",
     "output_type": "stream",
     "text": [
      "Threshold:  0.8734425072746809\n",
      "Reference angle:  33.00740003311938\n",
      "Threshold:  0.8714632424490362\n",
      "Reference angle:  34.0331769048804\n",
      "Threshold:  0.8657280970262363\n",
      "Reference angle:  35.00496547161291\n",
      "Shifts:  [-17  13] [-23  51]\n"
     ]
    }
   ],
   "source": [
    "d1 = target_process()"
   ]
  },
  {
   "cell_type": "code",
   "execution_count": 3,
   "id": "e9301bd3",
   "metadata": {},
   "outputs": [],
   "source": [
    "d1.view_targets()"
   ]
  },
  {
   "cell_type": "code",
   "execution_count": 18,
   "id": "8f379806",
   "metadata": {},
   "outputs": [
    {
     "name": "stderr",
     "output_type": "stream",
     "text": [
      "100%|████████████████████████████████████████████████████████████████████████████████| 101/101 [00:47<00:00,  2.14it/s]\n"
     ]
    }
   ],
   "source": [
    "img1 = 1.0*d1.data[0]\n",
    "zooms = np.linspace(0.9, 1.1, 101)\n",
    "# def compute_max_corr(zooms, img1, img2):\n",
    "corrs = 0.0*zooms\n",
    "half = img1.shape[0]//3\n",
    "ny1, nx1 = img1.shape\n",
    "im1 = img1[ny1//2-half:ny1//2+half, nx1//2-half:nx1//2+half]\n",
    "im1 = (im1-im1.mean())/(im1.std()*nx1*ny1)\n",
    "# Window\n",
    "coeff = 0.54\n",
    "x = coeff - (1-coeff)*np.cos(2*np.pi*np.arange(2*half)/(2*half-1));\n",
    "y = coeff - (1-coeff)*np.cos(2*np.pi*np.arange(2*half)/(2*half-1));\n",
    "w = np.reshape(x,[1,2*half])*np.reshape(y,[2*half,1])\n",
    "for i, fact in enumerate(tqdm.tqdm(zooms)):\n",
    "    img2 = zoom(d1.data[1], fact)\n",
    "    ny2, nx2 = img2.shape\n",
    "    im2 = (im2-im2.mean())/(im2.std()*nx2*ny2)\n",
    "    corr = correlate2d(im1, im2)\n",
    "    corrs[i] = corr.max()"
   ]
  },
  {
   "cell_type": "code",
   "execution_count": 24,
   "id": "4eb36e5f",
   "metadata": {},
   "outputs": [
    {
     "data": {
      "text/plain": [
       "<function scipy.signal.signaltools.correlate2d(in1, in2, mode='full', boundary='fill', fillvalue=0)>"
      ]
     },
     "execution_count": 24,
     "metadata": {},
     "output_type": "execute_result"
    }
   ],
   "source": [
    "correlate2d"
   ]
  }
 ],
 "metadata": {
  "kernelspec": {
   "display_name": "Python 3",
   "language": "python",
   "name": "python3"
  },
  "language_info": {
   "codemirror_mode": {
    "name": "ipython",
    "version": 3
   },
   "file_extension": ".py",
   "mimetype": "text/x-python",
   "name": "python",
   "nbconvert_exporter": "python",
   "pygments_lexer": "ipython3",
   "version": "3.8.8"
  }
 },
 "nbformat": 4,
 "nbformat_minor": 5
}
