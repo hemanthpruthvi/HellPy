{
 "cells": [
  {
   "cell_type": "code",
   "execution_count": 1,
   "metadata": {},
   "outputs": [
    {
     "name": "stderr",
     "output_type": "stream",
     "text": [
      "qt.qpa.xcb: X server does not support XInput 2\n"
     ]
    },
    {
     "name": "stderr",
     "output_type": "stream",
     "text": [
      "qt.qpa.xcb: QXcbConnection: XCB error: 1 (BadRequest), sequence: 169, resource id: 132, major code: 130 (Unknown), minor code: 47\n"
     ]
    }
   ],
   "source": [
    "%matplotlib qt5\n",
    "from process_files import *\n",
    "from process_darks import *\n",
    "from func_pcalib import *"
   ]
  },
  {
   "cell_type": "code",
   "execution_count": 2,
   "metadata": {},
   "outputs": [],
   "source": [
    "# iline = 0\n",
    "line = 'Fe_I_6173'\n",
    "# calib data\n",
    "config = configobj.ConfigObj('config.ini')\n",
    "dkdir = config['darks']['directory']\n",
    "pcdir = config['pcalibration']['directory']\n",
    "settings = [f for f in os.listdir(pcdir) if 'settings' in f]\n",
    "settings = pcdir + os.sep + settings[0]\n",
    "settings = configobj.ConfigObj(settings)\n",
    "# dark frames\n",
    "dk0 = data_cube(dkdir, line, 0, 0 )\n",
    "dk0.data = process_dark_cube(dk0.data)\n",
    "dk1 = data_cube(dkdir, line, 1, 0)\n",
    "dk1.data = process_dark_cube(dk0.data)\n",
    "dk2 = data_cube(dkdir, line, 2, 0)\n",
    "dk2.data = process_dark_cube(dk0.data)"
   ]
  },
  {
   "cell_type": "code",
   "execution_count": 5,
   "metadata": {},
   "outputs": [
    {
     "name": "stdout",
     "output_type": "stream",
     "text": [
      "Intended and actual recordings of polcal data:  45 ,  45\n",
      "Retarder and polarizer positions as per logs:  9 5\n"
     ]
    }
   ],
   "source": [
    "npol = int(settings['VTTControls']['ICUPolarizer\\\\NPositions'])\n",
    "nret = int(settings['VTTControls']['ICURetarder\\\\NPositions'])\n",
    "pang0 = float(settings['VTTControls']['ICUPolarizer\\\\Start'])\n",
    "pang1 = float(settings['VTTControls']['ICUPolarizer\\\\Stop'])\n",
    "poffset = float(settings['VTTControls']['ICUPolarizer\\\\Offset'])\n",
    "pzero = float(settings['VTTControls']['ICUPolarizer\\\\Zero'])\n",
    "pfactor = float(settings['VTTControls']['ICUPolarizer\\\\Factor'])\n",
    "rang0 = float(settings['VTTControls']['ICURetarder\\\\Start'])\n",
    "rang1 = float(settings['VTTControls']['ICURetarder\\\\Stop'])\n",
    "roffset = float(settings['VTTControls']['ICURetarder\\\\Offset'])\n",
    "rzero = float(settings['VTTControls']['ICURetarder\\\\Zero'])\n",
    "rfactor = float(settings['VTTControls']['ICURetarder\\\\Factor'])\n",
    "ncyc = npol*nret\n",
    "ncycobs = len(os.listdir(pcdir+os.sep+line))//3\n",
    "print('Intended and actual recordings of polcal data: ', ncyc, ', ', ncycobs)\n",
    "\n",
    "# Analyze log file\n",
    "logfile = [f for f in os.listdir(pcdir) if 'log' in f]\n",
    "logfile = pcdir + os.sep + logfile[0]\n",
    "with open(logfile) as f:\n",
    "    log = f.readlines()\n",
    "poltemp = [int(l.split()[-1][4:-1]) for l in log if 'X10A' in l][0:ncycobs]\n",
    "rettemp = [int(l.split()[-1][4:-1]) for l in log if 'X11A' in l][0:ncycobs]\n",
    "pang = np.array(poltemp)/pfactor - pzero\n",
    "rang = np.array(rettemp)/rfactor - rzero\n",
    "rnpos = sum(pang==pang0)\n",
    "pnpos = sum(rang==rang1)\n",
    "rnpos = 9\n",
    "pnpos = 5\n",
    "print('Retarder and polarizer positions as per logs: ', rnpos, pnpos)"
   ]
  },
  {
   "cell_type": "code",
   "execution_count": 6,
   "metadata": {},
   "outputs": [
    {
     "name": "stderr",
     "output_type": "stream",
     "text": [
      "100%|██████████| 45/45 [02:41<00:00,  3.59s/it]\n",
      "100%|██████████| 45/45 [02:24<00:00,  3.21s/it]\n",
      "100%|██████████| 45/45 [02:06<00:00,  2.81s/it]\n",
      "sh: 1: cls: not found\n"
     ]
    },
    {
     "data": {
      "text/plain": [
       "32512"
      ]
     },
     "execution_count": 6,
     "metadata": {},
     "output_type": "execute_result"
    }
   ],
   "source": [
    "# Get intensity\n",
    "roi = 320\n",
    "halfw = 640\n",
    "ind = halfw-roi//2\n",
    "# BBI data\n",
    "int0 = []\n",
    "for i in tqdm.tqdm(range(pnpos*rnpos)):\n",
    "    dc = data_cube(pcdir, line, 0, i)\n",
    "    int0.append(np.mean(dc.data[ind:-ind,ind:-ind,:], axis=(0,1)))\n",
    "int0 = np.array(int0)\n",
    "# Pol1 data\n",
    "int1_mod = []\n",
    "for i in tqdm.tqdm(range(pnpos*rnpos)):\n",
    "    dc = data_cube(pcdir, line, 1, i)\n",
    "    int1_mod.append(np.mean(dc.data[ind:-ind,ind:-ind,:], axis=(0,1)))\n",
    "int1_mod = np.array(int1_mod)\n",
    "# Pol2 data\n",
    "int2_mod = []\n",
    "for i in tqdm.tqdm(range(pnpos*rnpos)):\n",
    "    dc = data_cube(pcdir, line, 2, i)\n",
    "    int2_mod.append(np.mean(dc.data[ind:-ind,ind:-ind,:], axis=(0,1)))\n",
    "int2_mod = np.array(int2_mod)\n",
    "os.system('cls')"
   ]
  },
  {
   "cell_type": "code",
   "execution_count": null,
   "metadata": {},
   "outputs": [],
   "source": [
    "# Other numbers\n",
    "linestr = 'Line_' + str(get_line_num(settings, line))\n",
    "nacc = int(settings[linestr]['Polarimeter\\\\NAccumulations'])\n",
    "nwav = int(settings[linestr]['NWavePoints'])\n",
    "filtstr = settings[linestr]['Filter']\n",
    "modstr = settings[linestr]['Polarimeter\\\\Modulation']\n",
    "nmod = int(settings[filtstr]['Polarimeter\\\\'+modstr+'\\\\NModulations'])\n",
    "nfpc = nmod*nacc*nwav\n",
    "nfpw = nmod*nacc\n",
    "# Time stamps\n",
    "tsfile = [f for f in os.listdir(pcdir) if 'timestamp' in f]\n",
    "tsfile = pcdir + os.sep + tsfile[0]\n",
    "ts = np.loadtxt(tsfile, delimiter=',')\n",
    "im0ind, im1ind, im2ind = ts[:,3], ts[:,6], ts[:,9]\n",
    "im0ind = im0ind[0:nfpc*pnpos*rnpos].reshape(int0.shape)\n",
    "im1ind = im1ind[0:nfpc*pnpos*rnpos].reshape(int1_mod.shape)\n",
    "im2ind = im2ind[0:nfpc*pnpos*rnpos].reshape(int2_mod.shape)\n",
    "#\n",
    "im0ind = im0ind - im0ind[:,0:1]\n",
    "im1ind = im1ind - im1ind[:,0:1]\n",
    "im2ind = im2ind - im2ind[:,0:1]\n",
    "#\n",
    "im0ind = im0ind.reshape([pnpos*rnpos, nwav, nacc, nmod])%4\n",
    "im1ind = im1ind.reshape([pnpos*rnpos, nwav, nacc, nmod])%4\n",
    "im2ind = im2ind.reshape([pnpos*rnpos, nwav, nacc, nmod])%4"
   ]
  },
  {
   "cell_type": "code",
   "execution_count": null,
   "metadata": {},
   "outputs": [],
   "source": [
    "# Data for one cycle\n",
    "b1 = np.zeros([nmod, nwav, pnpos*rnpos])\n",
    "for i in range(pnpos*rnpos):\n",
    "    b1[:,:,i] = coadd_modulated_intens(int1_mod[i,:], im1ind[i,:], nmod, nacc, nwav)\n",
    "beam1 = np.mean(b1, axis=1)\n",
    "#\n",
    "b2 = np.zeros([nmod, nwav, pnpos*rnpos])\n",
    "for i in range(pnpos*rnpos):\n",
    "    b2[:,:,i] = coadd_modulated_intens(int2_mod[i,:], im2ind[i,:], nmod, nacc, nwav)\n",
    "beam2 = np.mean(b2, axis=1)\n",
    "# pnpos = 1\n",
    "beam1 = beam1[:,0:pnpos*rnpos]\n",
    "beam2 = beam2[:,0:pnpos*rnpos]\n",
    "#\n",
    "norm_int = (beam1+beam2)/np.mean(beam1+beam2)\n",
    "beam1 /= norm_int\n",
    "beam2 /= norm_int\n",
    "#\n",
    "fig, ax = plt.subplots(1,1,figsize=(10,6))\n",
    "ax.plot(beam1.transpose(), ls='--')\n",
    "ax.legend(['1', '2', '3', '4'])\n",
    "fig.gca().set_prop_cycle(None)\n",
    "ax.plot(beam2.transpose(), ls='-')\n",
    "ax.plot((beam1+beam2).transpose(), color='k')\n",
    "fig.tight_layout()\n",
    "#"
   ]
  },
  {
   "cell_type": "code",
   "execution_count": null,
   "metadata": {},
   "outputs": [],
   "source": [
    "# \n",
    "s_in = compute_pcu_generated_stokes(pnpos, rnpos, wpret=60)\n",
    "del_dat = []\n",
    "weights = beam1*0.0\n",
    "weights[0,:], weights[1,:], weights[2,:], weights[3,:] = 1, 1, 1, 1\n",
    "# weights = np.abs(s_in)\n",
    "params = Parameters()\n",
    "params.add('pa_pcusys', value=0, min=-10, max=10, vary=False)\n",
    "params.add('pa_reloff', value=0, min=-10, max=10, vary=False)\n",
    "params.add('wpret', value=60, min=0, max=180, vary=True)\n",
    "params.add('span', value=180.0, min=-360, max=360, vary=False)\n",
    "# fit_res = minimize(compute_modmat_residual, params, args=(beam1, pnpos, rnpos, weights, del_dat))\n",
    "fit_res = minimize(compute_residual_twobeam, params, args=([beam1, beam2], pnpos, rnpos, weights, del_dat))\n",
    "fit_res"
   ]
  },
  {
   "cell_type": "code",
   "execution_count": null,
   "metadata": {},
   "outputs": [],
   "source": [
    "pa_pcusys, pa_reloff, wpret, span = fit_res.params.values()\n",
    "thetas = np.linspace(0.0, span, pnpos)\n",
    "s_fit = compute_pcu_generated_stokes(pnpos, rnpos, pa_pcusys=pa_pcusys, pa_reloff=pa_reloff, wpret=wpret)\n",
    "# Beam-1\n",
    "modmat_beam1 = compute_modulation_matrix(s_fit, beam1)\n",
    "demodmat_beam1 = np.linalg.pinv(modmat_beam1)\n",
    "meas_in1 = np.array(np.matrix(demodmat_beam1)*np.matrix(beam1))\n",
    "meas_in1[1::,:] /= meas_in1[0:1,:]\n",
    "meas_in1[0,:] /= np.median(meas_in1[0:1,:])\n",
    "# fig, axs = plt.subplots(2,2,figsize=(10,6))\n",
    "# for i, ax in enumerate(axs.flatten()):\n",
    "#     ax.plot(thetas, meas_in1[i], 'k:')\n",
    "#     ax.plot(thetas, s_fit[i], 'k-')\n",
    "#     ax.plot(thetas, meas_in1[i]-np.mean(meas_in1[i])+np.mean(s_fit[i]), 'k--')\n",
    "#     ax.set_ylim([-1.1, 1.1])\n",
    "# fig.tight_layout()\n",
    "print('Modulation efficiency for beam-1', compute_modulation_efficiency(demodmat_beam1))\n",
    "# Beam-2\n",
    "modmat_beam2 = compute_modulation_matrix(s_fit, beam2)\n",
    "demodmat_beam2 = np.linalg.pinv(modmat_beam2)\n",
    "meas_in2 = np.array(np.matrix(demodmat_beam2)*np.matrix(beam2))\n",
    "meas_in2[1::,:] /= meas_in2[0:1,:]\n",
    "meas_in2[0,:] /= np.median(meas_in2[0:1,:])\n",
    "# fig, axs = plt.subplots(2,2,figsize=(10,6))\n",
    "# for i, ax in enumerate(axs.flatten()):\n",
    "#     ax.plot(thetas, meas_in2[i], 'k:')\n",
    "#     ax.plot(thetas, s_fit[i], 'k-')\n",
    "#     ax.plot(thetas, meas_in2[i]-np.mean(meas_in2[i])+np.mean(s_fit[i]), 'k--')\n",
    "#     ax.set_ylim([-1.1, 1.1])\n",
    "# fig.tight_layout()\n",
    "print('Modulation efficiency for beam-2', compute_modulation_efficiency(demodmat_beam2))\n",
    "# Plot results\n",
    "xlabels = ['I', 'Q/I', 'U/I', 'V/I']\n",
    "fig, axs = plt.subplots(2,2,figsize=(10,6))\n",
    "for i, ax in enumerate(axs.flatten()):\n",
    "    ax.plot(s_fit[i], 'k-')\n",
    "    ax.plot(meas_in1[i]-np.mean(meas_in1[i])+np.mean(s_fit[i]), 'g--')\n",
    "    ax.plot(meas_in2[i]-np.mean(meas_in2[i])+np.mean(s_fit[i]), 'r--')\n",
    "    if (i==0): ax.set_ylim([0, 1.5])\n",
    "    else: ax.set_ylim([-1.5,1.5])\n",
    "    ax.set_xlabel('Wave plate angle w.r.t. polarizer (degrees)')\n",
    "    ax.set_xlabel('Wave plate angle w.r.t. polarizer (degrees)')\n",
    "    ax.set_ylabel(xlabels[i])\n",
    "    ax.axhline(0, color='gray', ls=':')\n",
    "fig.tight_layout()"
   ]
  },
  {
   "cell_type": "code",
   "execution_count": null,
   "metadata": {},
   "outputs": [],
   "source": [
    "# int_var1 = meas_in1[i]-np.mean(meas_in1[i])+np.mean(s_fit[i])\n",
    "# int_var2 = meas_in2[i]-np.mean(meas_in2[i])+np.mean(s_fit[i])\n",
    "# int_var = 0.5*(int_var1[np.newaxis,:]+int_var2[np.newaxis,:])\n",
    "# beam1 = beam1/int_var\n",
    "# beam2 = beam2/int_var"
   ]
  },
  {
   "cell_type": "code",
   "execution_count": null,
   "metadata": {},
   "outputs": [],
   "source": [
    "# # npos = int_mod.shape[1]\n",
    "# pang_offset = params['pang_offset']\n",
    "# rang_offset = params['rang_offset']\n",
    "# wpret = params['wpret']\n",
    "# span = params['span']\n",
    "# # offset, wpret, rotang, range = params\n",
    "# # s_in = compute_input_stokes(npos, offset=offset, wpret=wpret, rotang=rotang, range=range)\n",
    "# s_in = compute_pcu_generated_stokes(pnpos, rnpos, pang_offset=pang_offset, rang_offset=rang_offset, wpret=wpret, span=span)"
   ]
  },
  {
   "cell_type": "code",
   "execution_count": null,
   "metadata": {},
   "outputs": [],
   "source": [
    "#\n",
    "topdir =  os.sep.join(pcdir.split(os.sep)[0:-1])\n",
    "topdir += os.sep + 'L0' \n",
    "if not (os.path.exists(topdir)): os.mkdir(topdir)\n",
    "dirtree = pcdir.split(os.sep)[-2::]\n",
    "pc1name = topdir + os.sep + '_'.join(['HELLRIDE', 'pol1'] + dirtree + [line, 'pc.FITS'])\n",
    "pc1name = pc1name.replace('PCalibration_', '')\n",
    "pc2name = topdir + os.sep + '_'.join(['HELLRIDE', 'pol2'] + dirtree + [line, 'pc.FITS'])\n",
    "pc2name = pc2name.replace('PCalibration_', '')\n",
    "print('Modulation matrx 1 saved as: ', pc1name)\n",
    "print('Modulation matrx 2 saved as: ', pc2name)\n",
    "#\n",
    "hdu1 = pf.PrimaryHDU(beam1)\n",
    "hdu2 = pf.ImageHDU(modmat_beam1)\n",
    "hdul = pf.HDUList([hdu1, hdu2])\n",
    "hdul.writeto(pc1name, overwrite=True)\n",
    "hdul.close()\n",
    "#\n",
    "hdu1 = pf.PrimaryHDU(beam2)\n",
    "hdu2 = pf.ImageHDU(modmat_beam2)\n",
    "hdul = pf.HDUList([hdu1, hdu2])\n",
    "hdul.writeto(pc2name, overwrite=True)\n",
    "hdul.close()\n",
    "#\n",
    "config['pcalibration'][line+'/pol1'] = pc1name\n",
    "config['pcalibration'][line+'/pol2'] = pc2name\n",
    "config.write()"
   ]
  },
  {
   "cell_type": "code",
   "execution_count": null,
   "metadata": {},
   "outputs": [],
   "source": [
    "temp_ang, temp_sin = compute_input_stokes(13, wpret=61.5)\n",
    "temp_modmat = ideal_mod_matrix(1)\n",
    "temp_intens = get_modulation_intens(temp_sin, temp_modmat)\n",
    "plt.figure()\n",
    "plt.plot(temp_intens.transpose())"
   ]
  }
 ],
 "metadata": {
  "kernelspec": {
   "display_name": "base",
   "language": "python",
   "name": "python3"
  },
  "language_info": {
   "codemirror_mode": {
    "name": "ipython",
    "version": 3
   },
   "file_extension": ".py",
   "mimetype": "text/x-python",
   "name": "python",
   "nbconvert_exporter": "python",
   "pygments_lexer": "ipython3",
   "version": "3.11.5"
  },
  "orig_nbformat": 4
 },
 "nbformat": 4,
 "nbformat_minor": 2
}
