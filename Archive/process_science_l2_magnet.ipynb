{
 "cells": [
  {
   "cell_type": "code",
   "execution_count": 1,
   "metadata": {},
   "outputs": [
    {
     "name": "stderr",
     "output_type": "stream",
     "text": [
      "qt.qpa.xcb: X server does not support XInput 2\n"
     ]
    },
    {
     "name": "stderr",
     "output_type": "stream",
     "text": [
      "qt.qpa.xcb: QXcbConnection: XCB error: 1 (BadRequest), sequence: 169, resource id: 132, major code: 130 (Unknown), minor code: 47\n"
     ]
    }
   ],
   "source": [
    "%matplotlib qt5\n",
    "from process_files import *\n",
    "from func_science import *\n",
    "from mpl_toolkits.axes_grid1 import make_axes_locatable, axes_size"
   ]
  },
  {
   "cell_type": "markdown",
   "metadata": {},
   "source": [
    "# Flow of generating magnetograms\n",
    "1. Load the config file corresponding to the data to be reduced\n",
    "2. Get the darks data\n",
    "3. Load meta data from the config file to derive structure of the data\n",
    "4. Load flat field correction data\n",
    "5. Load polarimetric modulation parameters (from the calibration data, stored in config file)\n",
    "6. Load alignment parameters (from the target plate data, stored in config file)\n",
    "7. Load the raw science data of interest and apply corrections (flat fielding, pol. demodulation, pol. crosstalk corrections) \n",
    "8. visualize the data --\n",
    "\n",
    "--- yet to be done\n",
    "\n",
    "9. Correct additional pol. crosstalks (e.g., instrumental polarization)\n",
    "10. Combine the two beams\n",
    "11. Derive magnetic field maps "
   ]
  },
  {
   "cell_type": "code",
   "execution_count": 2,
   "metadata": {},
   "outputs": [
    {
     "name": "stdout",
     "output_type": "stream",
     "text": [
      "Settings loaded from  /arch/1/VTT/hellride/raw/20230504/Darks_1147/HELLRIDE_20230547_114744909_settings.ini\n",
      "Data loading from  /arch/1/VTT/hellride/raw/20230504/Darks_1147/Fe_I_6173/HELLRIDE_bbi_20230504_114756442_dk.DAT\n",
      "Settings loaded from  /arch/1/VTT/hellride/raw/20230504/Darks_1147/HELLRIDE_20230547_114744909_settings.ini\n",
      "Data loading from  /arch/1/VTT/hellride/raw/20230504/Darks_1147/Fe_I_6173/HELLRIDE_pol1_20230504_114756745_dk.DAT\n",
      "Settings loaded from  /arch/1/VTT/hellride/raw/20230504/Darks_1147/HELLRIDE_20230547_114744909_settings.ini\n",
      "Data loading from  /arch/1/VTT/hellride/raw/20230504/Darks_1147/Fe_I_6173/HELLRIDE_pol2_20230504_114757033_dk.DAT\n"
     ]
    }
   ],
   "source": [
    "iline = 0\n",
    "line = 'Fe_I_6173'\n",
    "# calib data\n",
    "config = configobj.ConfigObj('config.ini')\n",
    "dkdir = config['darks']['directory']\n",
    "scdir = config['science']['directory']\n",
    "settings = [f for f in os.listdir(scdir) if 'settings' in f]\n",
    "settings = scdir + os.sep + settings[0]\n",
    "settings = configobj.ConfigObj(settings)\n",
    "# dark frames \n",
    "dk0 = data_cube(dkdir, line, 0, 0 )\n",
    "dk0m = process_dark_cube(dk0.data)\n",
    "dk1 = data_cube(dkdir, line, 1, 0)\n",
    "dk1m = process_dark_cube(dk1.data)\n",
    "dk2 = data_cube(dkdir, line, 2, 0)\n",
    "dk2m = process_dark_cube(dk2.data)"
   ]
  },
  {
   "cell_type": "code",
   "execution_count": 3,
   "metadata": {},
   "outputs": [],
   "source": [
    "# Other numbers\n",
    "linestr = 'Line_' + str(get_line_num(settings, line, iline))\n",
    "nacc = int(settings[linestr]['Polarimeter\\\\NAccumulations'])\n",
    "nwav = int(settings[linestr]['NWavePoints'])\n",
    "filtstr = settings[linestr]['Filter']\n",
    "modstr = settings[linestr]['Polarimeter\\\\Modulation']\n",
    "nmod = int(settings[filtstr]['Polarimeter\\\\'+modstr+'\\\\NModulations'])\n",
    "nfpc = nmod*nacc*nwav\n",
    "nfpw = nmod*nacc\n",
    "ncyc = len(os.listdir(scdir+os.sep+line))//3\n",
    "wave_range = np.float64(settings[linestr]['WaveScanRange'])\n",
    "wave_step = wave_range/(np.float64(settings[linestr]['NWavePoints'])-1)\n",
    "# Time stamps\n",
    "tsfile = [f for f in os.listdir(scdir) if 'timestamp' in f]\n",
    "tsfile = scdir + os.sep + tsfile[0]\n",
    "ts = np.loadtxt(tsfile, delimiter=',')\n",
    "im0ind, im1ind, im2ind = ts[:,3], ts[:,6], ts[:,9]\n",
    "im0ind = im0ind[0:nfpc*ncyc].reshape([ncyc,nfpc])\n",
    "im1ind = im1ind[0:nfpc*ncyc].reshape([ncyc,nfpc])\n",
    "im2ind = im2ind[0:nfpc*ncyc].reshape([ncyc,nfpc])\n",
    "#\n",
    "im0ind = im0ind - im0ind[:,0:1]\n",
    "im1ind = im1ind - im1ind[:,0:1]\n",
    "im2ind = im2ind - im2ind[:,0:1]\n",
    "#\n",
    "im0ind = im0ind.reshape([ncyc, nwav, nacc, nmod])%nmod\n",
    "im1ind = im1ind.reshape([ncyc, nwav, nacc, nmod])%nmod\n",
    "im2ind = im2ind.reshape([ncyc, nwav, nacc, nmod])%nmod"
   ]
  },
  {
   "cell_type": "code",
   "execution_count": 4,
   "metadata": {},
   "outputs": [
    {
     "ename": "KeyError",
     "evalue": "'Fe_I_6173/bbi'",
     "output_type": "error",
     "traceback": [
      "\u001b[0;31m---------------------------------------------------------------------------\u001b[0m",
      "\u001b[0;31mKeyError\u001b[0m                                  Traceback (most recent call last)",
      "\u001b[1;32m/home/pruthvi/pCloudDrive/Academic/Projects/05_HELLRIDE/6_Observations/HellPy/process_science_magnet.ipynb Cell 5\u001b[0m line \u001b[0;36m2\n\u001b[1;32m      <a href='vscode-notebook-cell:/home/pruthvi/pCloudDrive/Academic/Projects/05_HELLRIDE/6_Observations/HellPy/process_science_magnet.ipynb#W4sZmlsZQ%3D%3D?line=0'>1</a>\u001b[0m \u001b[39m# bbi flats\u001b[39;00m\n\u001b[0;32m----> <a href='vscode-notebook-cell:/home/pruthvi/pCloudDrive/Academic/Projects/05_HELLRIDE/6_Observations/HellPy/process_science_magnet.ipynb#W4sZmlsZQ%3D%3D?line=1'>2</a>\u001b[0m ff0 \u001b[39m=\u001b[39m pf\u001b[39m.\u001b[39mopen(config[\u001b[39m'\u001b[39m\u001b[39mflats\u001b[39m\u001b[39m'\u001b[39m][line\u001b[39m+\u001b[39m\u001b[39m'\u001b[39m\u001b[39m/bbi\u001b[39m\u001b[39m'\u001b[39m])\n\u001b[1;32m      <a href='vscode-notebook-cell:/home/pruthvi/pCloudDrive/Academic/Projects/05_HELLRIDE/6_Observations/HellPy/process_science_magnet.ipynb#W4sZmlsZQ%3D%3D?line=2'>3</a>\u001b[0m ff0m \u001b[39m=\u001b[39m ff0[\u001b[39m0\u001b[39m]\u001b[39m.\u001b[39mdata[:,:,np\u001b[39m.\u001b[39mnewaxis]\n\u001b[1;32m      <a href='vscode-notebook-cell:/home/pruthvi/pCloudDrive/Academic/Projects/05_HELLRIDE/6_Observations/HellPy/process_science_magnet.ipynb#W4sZmlsZQ%3D%3D?line=3'>4</a>\u001b[0m ff0m \u001b[39m/\u001b[39m\u001b[39m=\u001b[39m ff0m\u001b[39m.\u001b[39mmean()\n",
      "File \u001b[0;32m~/anaconda3/lib/python3.11/site-packages/configobj/__init__.py:554\u001b[0m, in \u001b[0;36mSection.__getitem__\u001b[0;34m(self, key)\u001b[0m\n\u001b[1;32m    552\u001b[0m \u001b[39mdef\u001b[39;00m \u001b[39m__getitem__\u001b[39m(\u001b[39mself\u001b[39m, key):\n\u001b[1;32m    553\u001b[0m \u001b[39m    \u001b[39m\u001b[39m\"\"\"Fetch the item and do string interpolation.\"\"\"\u001b[39;00m\n\u001b[0;32m--> 554\u001b[0m     val \u001b[39m=\u001b[39m \u001b[39mdict\u001b[39m\u001b[39m.\u001b[39m\u001b[39m__getitem__\u001b[39m(\u001b[39mself\u001b[39m, key)\n\u001b[1;32m    555\u001b[0m     \u001b[39mif\u001b[39;00m \u001b[39mself\u001b[39m\u001b[39m.\u001b[39mmain\u001b[39m.\u001b[39minterpolation: \n\u001b[1;32m    556\u001b[0m         \u001b[39mif\u001b[39;00m \u001b[39misinstance\u001b[39m(val, six\u001b[39m.\u001b[39mstring_types):\n",
      "\u001b[0;31mKeyError\u001b[0m: 'Fe_I_6173/bbi'"
     ]
    }
   ],
   "source": [
    "# bbi flats\n",
    "ff0 = pf.open(config['flats'][line+'/bbi'])\n",
    "ff0m = ff0[0].data[:,:,np.newaxis]\n",
    "ff0m /= ff0m.mean()\n",
    "ff0.close()\n",
    "# pol1 flats\n",
    "ff1 = pf.open(config['flats'][line+'/pol1'])\n",
    "continuum1 = ff1[0].data\n",
    "line_shifts1 = ff1[1].data\n",
    "ff1m = ff1[2].data\n",
    "ff1.close()\n",
    "ff1msh = shift_3darray(ff1m/continuum1, line_shifts1)\n",
    "ltempl1 = compute_mean_profile(ff1msh)\n",
    "linearr1 = compute_shifted_lines(ltempl1, -line_shifts1)\n",
    "ff1mast = ff1m/linearr1\n",
    "# pol2 flats\n",
    "ff2 = pf.open(config['flats'][line+'/pol2'])\n",
    "continuum2 = ff2[0].data\n",
    "line_shifts2 = ff2[1].data\n",
    "ff2m = ff2[2].data\n",
    "ff2.close()\n",
    "ff2msh = shift_3darray(ff2m/continuum2, line_shifts2)\n",
    "ltempl2 = compute_mean_profile(ff2msh)\n",
    "linearr2 = compute_shifted_lines(ltempl2, -line_shifts2)\n",
    "ff2mast = ff2m/linearr2"
   ]
  },
  {
   "cell_type": "code",
   "execution_count": 5,
   "metadata": {},
   "outputs": [
    {
     "data": {
      "text/plain": [
       "[<matplotlib.lines.Line2D at 0x1d94df91ca0>]"
      ]
     },
     "execution_count": 5,
     "metadata": {},
     "output_type": "execute_result"
    }
   ],
   "source": [
    "plt.plot(ff2msh[600,600])\n",
    "plt.plot(ff2msh[1000,1000])"
   ]
  },
  {
   "cell_type": "code",
   "execution_count": 6,
   "metadata": {},
   "outputs": [],
   "source": [
    "# pol1 calib\n",
    "pc1 = pf.open(config['pcalibration'][line+'/pol1'])\n",
    "modmat1 = pc1[1].data\n",
    "pc1.close()\n",
    "demodmat1 = np.linalg.pinv(modmat1)\n",
    "# pol2 calib\n",
    "pc2 = pf.open(config['pcalibration'][line+'/pol2'])\n",
    "modmat2 = pc2[1].data\n",
    "pc2.close()\n",
    "demodmat2 = np.linalg.pinv(modmat2)\n",
    "# config params\n",
    "rotang1 = np.float64(config['targetplate']['rotang1'])\n",
    "rotang2 = np.float64(config['targetplate']['rotang2'])\n",
    "mag = np.float64(config['targetplate']['mag'])\n",
    "shift1_y = np.float64(config['targetplate']['shift1_y'])\n",
    "shift1_x = np.float64(config['targetplate']['shift1_x'])\n",
    "shift2_y = np.float64(config['targetplate']['shift2_y'])\n",
    "shift2_x = np.float64(config['targetplate']['shift2_x'])\n",
    "bbi_scale = np.float64(config['targetplate']['bbi_scale'])\n",
    "pol1_scale = mag*bbi_scale\n",
    "pol2_scale = mag*bbi_scale"
   ]
  },
  {
   "cell_type": "code",
   "execution_count": 7,
   "metadata": {},
   "outputs": [
    {
     "name": "stdout",
     "output_type": "stream",
     "text": [
      "Settings loaded from  D:\\Science\\20220302\\1317\\HELLRIDE_20220317_131730726_settings.ini\n",
      "Data loading from  D:\\Science\\20220302\\1317\\Fe_I_6173\\HELLRIDE_bbi_20220302_131732198_sc.DAT\n",
      "Settings loaded from  D:\\Science\\20220302\\1317\\HELLRIDE_20220317_131730726_settings.ini\n",
      "Data loading from  D:\\Science\\20220302\\1317\\Fe_I_6173\\HELLRIDE_pol1_20220302_131732544_sc.DAT\n"
     ]
    },
    {
     "name": "stderr",
     "output_type": "stream",
     "text": [
      "100%|██████████| 1280/1280 [01:48<00:00, 11.76it/s]\n",
      "100%|██████████| 1280/1280 [01:48<00:00, 11.75it/s]\n",
      "100%|██████████| 1280/1280 [01:48<00:00, 11.77it/s]\n",
      "100%|██████████| 1280/1280 [01:48<00:00, 11.78it/s]\n"
     ]
    },
    {
     "name": "stdout",
     "output_type": "stream",
     "text": [
      "I-->Q crosstalk distribution (mean, stdev): 0.0222 0.0062\n",
      "I-->U crosstalk distribution (mean, stdev): -0.0357 0.0101\n",
      "I-->V crosstalk distribution (mean, stdev): -0.1761 0.0063\n",
      "Settings loaded from  D:\\Science\\20220302\\1317\\HELLRIDE_20220317_131730726_settings.ini\n",
      "Data loading from  D:\\Science\\20220302\\1317\\Fe_I_6173\\HELLRIDE_pol2_20220302_131732905_sc.DAT\n"
     ]
    },
    {
     "name": "stderr",
     "output_type": "stream",
     "text": [
      "100%|██████████| 1280/1280 [01:48<00:00, 11.78it/s]\n",
      "100%|██████████| 1280/1280 [01:47<00:00, 11.89it/s]\n",
      "100%|██████████| 1280/1280 [01:47<00:00, 11.95it/s]\n",
      "100%|██████████| 1280/1280 [01:47<00:00, 11.90it/s]\n"
     ]
    },
    {
     "name": "stdout",
     "output_type": "stream",
     "text": [
      "I-->Q crosstalk distribution (mean, stdev): 0.0357 0.008\n",
      "I-->U crosstalk distribution (mean, stdev): -0.1056 0.0143\n",
      "I-->V crosstalk distribution (mean, stdev): -0.172 0.0056\n"
     ]
    }
   ],
   "source": [
    "# Get science data; test it only on one set\n",
    "for i in range(1):\n",
    "    dc0 = data_cube(scdir, line, 0, i)\n",
    "    Y = X = dc0.roi\n",
    "    sc0 = dc0.data - dk0m\n",
    "    sc0corr = sc0/ff0m\n",
    "    #\n",
    "    dc1 = data_cube(scdir, line, 1, i)\n",
    "    sc1 = dc1.data.reshape([Y,X,nacc*nmod*nwav], order='F') - dk1m\n",
    "    sc1_add = coadd_modulated_imgs (sc1, im1ind[i], nmod, nacc, nwav)\n",
    "    sc1_ff = sc1_add/ff1mast[:,:,np.newaxis,:]\n",
    "    sc1_sh = shift_lines_4d(sc1_ff, line_shifts1)\n",
    "    sc1_demod = np.einsum('ijkl,mk->ijml', sc1_sh, demodmat1)\n",
    "    sc1_demod[:,:,1::,:] /= sc1_demod[:,:,0,:][:,:,np.newaxis,:]\n",
    "    sc1_demod = np.fliplr(sc1_demod)\n",
    "    sc1_i2quv_corr = correct_i2quv(sc1_demod)\n",
    "    #\n",
    "    dc2 = data_cube(scdir, line, 2, i)\n",
    "    sc2 = dc2.data.reshape([Y,X,nacc*nmod*nwav], order='F') - dk2m\n",
    "    sc2_add = coadd_modulated_imgs (sc2, im2ind[i], nmod, nacc, nwav)\n",
    "    sc2_ff = sc2_add/ff2mast[:,:,np.newaxis,:]\n",
    "    sc2_sh = shift_lines_4d(sc2_ff, line_shifts2)\n",
    "    sc2_demod = np.einsum('ijkl,mk->ijml', sc2_sh, demodmat2)\n",
    "    sc2_demod[:,:,1::,:] /= sc2_demod[:,:,0,:][:,:,np.newaxis,:] \n",
    "    sc2_demod = np.flipud(np.fliplr(sc2_demod))\n",
    "    sc2_i2quv_corr = correct_i2quv(sc2_demod)"
   ]
  },
  {
   "cell_type": "code",
   "execution_count": 8,
   "metadata": {},
   "outputs": [
    {
     "data": {
      "text/plain": [
       "<matplotlib.image.AxesImage at 0x1d93be374f0>"
      ]
     },
     "execution_count": 8,
     "metadata": {},
     "output_type": "execute_result"
    }
   ],
   "source": [
    "# sc1_ff = sc1_add/ff1mast[:,:,np.newaxis,:]\n",
    "plt.imshow(sc2_i2quv_corr[100:-100,100:-100,0,5], cmap='gray')"
   ]
  },
  {
   "cell_type": "code",
   "execution_count": 9,
   "metadata": {},
   "outputs": [],
   "source": [
    "def plot_stokes_figures(data_4d, npts, pscale_im, pscale_wav, lcore=5, lwing=4):\n",
    "    \"\"\"\n",
    "    Plot stokes images and profiles at selected points of the image\n",
    "    Input:  4d spectro-polarimetric imaging data\n",
    "            number of points to be plotted\n",
    "            (opt.) line core position in pixels\n",
    "            (opt.) line wing width in pixels\n",
    "    Output: figure showing stokes images and profiles\n",
    "    \"\"\"\n",
    "    plt.figure()\n",
    "    plt.imshow(data_4d[:,:,0,0])\n",
    "    pts = plt.ginput(npts)\n",
    "    plt.close()\n",
    "    #\n",
    "    colors = plt.rcParams['axes.prop_cycle'].by_key()['color']\n",
    "    circ_size=20*pscale_im\n",
    "    ny, nx, nm, nw = data_4d.shape\n",
    "    #\n",
    "    fig, axs = plt.subplots(nrows=6, ncols=2, figsize=(8,11))\n",
    "    gs = axs[0,0].get_gridspec()\n",
    "    for ax in axs[0:4,:]:\n",
    "        for ax_ in ax:\n",
    "            ax_.remove()\n",
    "    axii = fig.add_subplot(gs[0:2,0])\n",
    "    axqq = fig.add_subplot(gs[0:2,1])\n",
    "    axuu = fig.add_subplot(gs[2:4,0])\n",
    "    axvv = fig.add_subplot(gs[2:4,1])\n",
    "    axi, axq, axu, axv = axs[4,0], axs[4,1], axs[5,0], axs[5,1]\n",
    "    im_extent = [0,nx*pscale_im,0,ny*pscale_im]\n",
    "    # print(im_extent)\n",
    "    waves = (np.arange(nw)-5)*pscale_wav\n",
    "    #\n",
    "    axci = axii.imshow(data_4d[:,:,0,lcore], extent=im_extent, cmap='gray')\n",
    "    axcq = axqq.imshow(np.mean(data_4d[:,:,1,lcore-lwing:lcore],axis=2), extent=im_extent, cmap='gray')\n",
    "    axcu = axuu.imshow(np.mean(data_4d[:,:,2,lcore-lwing:lcore],axis=2), extent=im_extent, cmap='gray')\n",
    "    axcv = axvv.imshow(np.mean (data_4d[:,:,3,lcore-lwing:lcore],axis=2), extent=im_extent, cmap='gray')\n",
    "    #\n",
    "    fig.colorbar(axci, ax=axii, fraction=0.0475, pad=0.0125)\n",
    "    fig.colorbar(axcq, ax=axqq, fraction=0.0475, pad=0.0125)\n",
    "    fig.colorbar(axcu, ax=axuu, fraction=0.0475, pad=0.0125)\n",
    "    fig.colorbar(axcv, ax=axvv, fraction=0.0475, pad=0.0125)\n",
    "\n",
    "    #\n",
    "    axi.set_ylabel('I (arbitrary units)')\n",
    "    axq.set_ylabel('Q/I')\n",
    "    axu.set_ylabel('U/I')\n",
    "    axv.set_ylabel('V/I')\n",
    "    for ax in [axi, axq, axu, axv]:\n",
    "        ax.set_xlabel('Wavelength from line core (in $\\AA$)')\n",
    "    #\n",
    "    axii.set_title('Stokes-I map (core)')\n",
    "    axqq.set_title('Stokes-Q map (wing)')\n",
    "    axuu.set_title('Stokes-U map (wing)')\n",
    "    axvv.set_title('Stokes-V map (wing)')\n",
    "    #\n",
    "    for ax in [axii, axqq, axuu, axvv]:\n",
    "            ax.set_xlabel('arcsec')\n",
    "            ax.set_ylabel('arcsec')\n",
    "    #\n",
    "    for i, xy in enumerate(pts):\n",
    "        x, y = xy\n",
    "        xa, ya = x*pscale_im, (ny-y)*pscale_im\n",
    "        axii.add_patch(plt.Circle((xa,ya),circ_size,fill=False,color=colors[i]))\n",
    "        axqq.add_patch(plt.Circle((xa,ya),circ_size,fill=False,color=colors[i]))\n",
    "        axuu.add_patch(plt.Circle((xa,ya),circ_size,fill=False,color=colors[i]))\n",
    "        axvv.add_patch(plt.Circle((xa,ya),circ_size,fill=False,color=colors[i]))\n",
    "        axi.plot(waves, data_4d[int(y),int(x),0])\n",
    "        axq.plot(waves, data_4d[int(y),int(x),1])\n",
    "        axu.plot(waves, data_4d[int(y),int(x),2])\n",
    "        axv.plot(waves, data_4d[int(y),int(x),3])\n",
    "    fig.tight_layout()\n",
    "    fig.subplots_adjust(wspace=0.35, hspace=0.4)"
   ]
  },
  {
   "cell_type": "code",
   "execution_count": 11,
   "metadata": {},
   "outputs": [],
   "source": [
    "crop = 100\n",
    "plot_stokes_figures(sc2_i2quv_corr[crop:-crop,crop:-crop], 3, pol2_scale, wave_step)\n",
    "# plt.savefig('stokes_map.png', dpi=600)"
   ]
  },
  {
   "cell_type": "code",
   "execution_count": 36,
   "metadata": {},
   "outputs": [
    {
     "ename": "IndexError",
     "evalue": "index 15 is out of bounds for axis 2 with size 15",
     "output_type": "error",
     "traceback": [
      "\u001b[1;31m---------------------------------------------------------------------------\u001b[0m",
      "\u001b[1;31mIndexError\u001b[0m                                Traceback (most recent call last)",
      "\u001b[1;32m<ipython-input-36-7e13e2616aa3>\u001b[0m in \u001b[0;36m<module>\u001b[1;34m\u001b[0m\n\u001b[0;32m      9\u001b[0m \u001b[0mwriter\u001b[0m \u001b[1;33m=\u001b[0m \u001b[0manimation\u001b[0m\u001b[1;33m.\u001b[0m\u001b[0mwriters\u001b[0m\u001b[1;33m[\u001b[0m\u001b[1;34m'ffmpeg'\u001b[0m\u001b[1;33m]\u001b[0m\u001b[1;33m(\u001b[0m\u001b[0mfps\u001b[0m\u001b[1;33m=\u001b[0m\u001b[1;36m30\u001b[0m\u001b[1;33m)\u001b[0m\u001b[1;33m\u001b[0m\u001b[1;33m\u001b[0m\u001b[0m\n\u001b[0;32m     10\u001b[0m \u001b[0mani\u001b[0m \u001b[1;33m=\u001b[0m \u001b[0manimation\u001b[0m\u001b[1;33m.\u001b[0m\u001b[0mFuncAnimation\u001b[0m\u001b[1;33m(\u001b[0m\u001b[0mfig\u001b[0m\u001b[1;33m,\u001b[0m \u001b[0mupdate_frame\u001b[0m\u001b[1;33m,\u001b[0m  \u001b[0mblit\u001b[0m\u001b[1;33m=\u001b[0m\u001b[1;32mTrue\u001b[0m\u001b[1;33m)\u001b[0m\u001b[1;33m\u001b[0m\u001b[1;33m\u001b[0m\u001b[0m\n\u001b[1;32m---> 11\u001b[1;33m \u001b[0mani\u001b[0m\u001b[1;33m.\u001b[0m\u001b[0msave\u001b[0m\u001b[1;33m(\u001b[0m\u001b[1;34m'sc2_i2quv_corr_I.mp4'\u001b[0m\u001b[1;33m,\u001b[0m \u001b[0mwriter\u001b[0m\u001b[1;33m=\u001b[0m\u001b[0mwriter\u001b[0m\u001b[1;33m,\u001b[0m \u001b[0mdpi\u001b[0m\u001b[1;33m=\u001b[0m\u001b[1;36m300\u001b[0m\u001b[1;33m)\u001b[0m\u001b[1;33m\u001b[0m\u001b[1;33m\u001b[0m\u001b[0m\n\u001b[0m\u001b[0;32m     12\u001b[0m \u001b[0mplt\u001b[0m\u001b[1;33m.\u001b[0m\u001b[0mshow\u001b[0m\u001b[1;33m(\u001b[0m\u001b[1;33m)\u001b[0m\u001b[1;33m\u001b[0m\u001b[1;33m\u001b[0m\u001b[0m\n",
      "\u001b[1;32mc:\\Users\\Observer\\anaconda3\\lib\\site-packages\\matplotlib\\animation.py\u001b[0m in \u001b[0;36msave\u001b[1;34m(self, filename, writer, fps, dpi, codec, bitrate, extra_args, metadata, extra_anim, savefig_kwargs, progress_callback)\u001b[0m\n\u001b[0;32m   1155\u001b[0m                 \u001b[1;32mfor\u001b[0m \u001b[0manim\u001b[0m\u001b[1;33m,\u001b[0m \u001b[0md\u001b[0m \u001b[1;32min\u001b[0m \u001b[0mzip\u001b[0m\u001b[1;33m(\u001b[0m\u001b[0mall_anim\u001b[0m\u001b[1;33m,\u001b[0m \u001b[0mdata\u001b[0m\u001b[1;33m)\u001b[0m\u001b[1;33m:\u001b[0m\u001b[1;33m\u001b[0m\u001b[1;33m\u001b[0m\u001b[0m\n\u001b[0;32m   1156\u001b[0m                     \u001b[1;31m# TODO: See if turning off blit is really necessary\u001b[0m\u001b[1;33m\u001b[0m\u001b[1;33m\u001b[0m\u001b[1;33m\u001b[0m\u001b[0m\n\u001b[1;32m-> 1157\u001b[1;33m                     \u001b[0manim\u001b[0m\u001b[1;33m.\u001b[0m\u001b[0m_draw_next_frame\u001b[0m\u001b[1;33m(\u001b[0m\u001b[0md\u001b[0m\u001b[1;33m,\u001b[0m \u001b[0mblit\u001b[0m\u001b[1;33m=\u001b[0m\u001b[1;32mFalse\u001b[0m\u001b[1;33m)\u001b[0m\u001b[1;33m\u001b[0m\u001b[1;33m\u001b[0m\u001b[0m\n\u001b[0m\u001b[0;32m   1158\u001b[0m                     \u001b[1;32mif\u001b[0m \u001b[0mprogress_callback\u001b[0m \u001b[1;32mis\u001b[0m \u001b[1;32mnot\u001b[0m \u001b[1;32mNone\u001b[0m\u001b[1;33m:\u001b[0m\u001b[1;33m\u001b[0m\u001b[1;33m\u001b[0m\u001b[0m\n\u001b[0;32m   1159\u001b[0m                         \u001b[0mprogress_callback\u001b[0m\u001b[1;33m(\u001b[0m\u001b[0mframe_number\u001b[0m\u001b[1;33m,\u001b[0m \u001b[0mtotal_frames\u001b[0m\u001b[1;33m)\u001b[0m\u001b[1;33m\u001b[0m\u001b[1;33m\u001b[0m\u001b[0m\n",
      "\u001b[1;32mc:\\Users\\Observer\\anaconda3\\lib\\site-packages\\matplotlib\\animation.py\u001b[0m in \u001b[0;36m_draw_next_frame\u001b[1;34m(self, framedata, blit)\u001b[0m\n\u001b[0;32m   1190\u001b[0m         \u001b[1;31m# post- draw, as well as the drawing of the frame itself.\u001b[0m\u001b[1;33m\u001b[0m\u001b[1;33m\u001b[0m\u001b[1;33m\u001b[0m\u001b[0m\n\u001b[0;32m   1191\u001b[0m         \u001b[0mself\u001b[0m\u001b[1;33m.\u001b[0m\u001b[0m_pre_draw\u001b[0m\u001b[1;33m(\u001b[0m\u001b[0mframedata\u001b[0m\u001b[1;33m,\u001b[0m \u001b[0mblit\u001b[0m\u001b[1;33m)\u001b[0m\u001b[1;33m\u001b[0m\u001b[1;33m\u001b[0m\u001b[0m\n\u001b[1;32m-> 1192\u001b[1;33m         \u001b[0mself\u001b[0m\u001b[1;33m.\u001b[0m\u001b[0m_draw_frame\u001b[0m\u001b[1;33m(\u001b[0m\u001b[0mframedata\u001b[0m\u001b[1;33m)\u001b[0m\u001b[1;33m\u001b[0m\u001b[1;33m\u001b[0m\u001b[0m\n\u001b[0m\u001b[0;32m   1193\u001b[0m         \u001b[0mself\u001b[0m\u001b[1;33m.\u001b[0m\u001b[0m_post_draw\u001b[0m\u001b[1;33m(\u001b[0m\u001b[0mframedata\u001b[0m\u001b[1;33m,\u001b[0m \u001b[0mblit\u001b[0m\u001b[1;33m)\u001b[0m\u001b[1;33m\u001b[0m\u001b[1;33m\u001b[0m\u001b[0m\n\u001b[0;32m   1194\u001b[0m \u001b[1;33m\u001b[0m\u001b[0m\n",
      "\u001b[1;32mc:\\Users\\Observer\\anaconda3\\lib\\site-packages\\matplotlib\\animation.py\u001b[0m in \u001b[0;36m_draw_frame\u001b[1;34m(self, framedata)\u001b[0m\n\u001b[0;32m   1740\u001b[0m         \u001b[1;31m# Call the func with framedata and args. If blitting is desired,\u001b[0m\u001b[1;33m\u001b[0m\u001b[1;33m\u001b[0m\u001b[1;33m\u001b[0m\u001b[0m\n\u001b[0;32m   1741\u001b[0m         \u001b[1;31m# func needs to return a sequence of any artists that were modified.\u001b[0m\u001b[1;33m\u001b[0m\u001b[1;33m\u001b[0m\u001b[1;33m\u001b[0m\u001b[0m\n\u001b[1;32m-> 1742\u001b[1;33m         \u001b[0mself\u001b[0m\u001b[1;33m.\u001b[0m\u001b[0m_drawn_artists\u001b[0m \u001b[1;33m=\u001b[0m \u001b[0mself\u001b[0m\u001b[1;33m.\u001b[0m\u001b[0m_func\u001b[0m\u001b[1;33m(\u001b[0m\u001b[0mframedata\u001b[0m\u001b[1;33m,\u001b[0m \u001b[1;33m*\u001b[0m\u001b[0mself\u001b[0m\u001b[1;33m.\u001b[0m\u001b[0m_args\u001b[0m\u001b[1;33m)\u001b[0m\u001b[1;33m\u001b[0m\u001b[1;33m\u001b[0m\u001b[0m\n\u001b[0m\u001b[0;32m   1743\u001b[0m         \u001b[1;32mif\u001b[0m \u001b[0mself\u001b[0m\u001b[1;33m.\u001b[0m\u001b[0m_blit\u001b[0m\u001b[1;33m:\u001b[0m\u001b[1;33m\u001b[0m\u001b[1;33m\u001b[0m\u001b[0m\n\u001b[0;32m   1744\u001b[0m             \u001b[1;32mif\u001b[0m \u001b[0mself\u001b[0m\u001b[1;33m.\u001b[0m\u001b[0m_drawn_artists\u001b[0m \u001b[1;32mis\u001b[0m \u001b[1;32mNone\u001b[0m\u001b[1;33m:\u001b[0m\u001b[1;33m\u001b[0m\u001b[1;33m\u001b[0m\u001b[0m\n",
      "\u001b[1;32m<ipython-input-36-7e13e2616aa3>\u001b[0m in \u001b[0;36mupdate_frame\u001b[1;34m(i)\u001b[0m\n\u001b[0;32m      5\u001b[0m \u001b[0mdisp\u001b[0m \u001b[1;33m=\u001b[0m \u001b[0max\u001b[0m\u001b[1;33m.\u001b[0m\u001b[0mimshow\u001b[0m\u001b[1;33m(\u001b[0m\u001b[0mvid_data\u001b[0m\u001b[1;33m[\u001b[0m\u001b[1;33m:\u001b[0m\u001b[1;33m,\u001b[0m\u001b[1;33m:\u001b[0m\u001b[1;33m,\u001b[0m\u001b[1;36m0\u001b[0m\u001b[1;33m]\u001b[0m\u001b[1;33m,\u001b[0m \u001b[0manimated\u001b[0m\u001b[1;33m=\u001b[0m\u001b[1;32mTrue\u001b[0m\u001b[1;33m)\u001b[0m\u001b[1;33m\u001b[0m\u001b[1;33m\u001b[0m\u001b[0m\n\u001b[0;32m      6\u001b[0m \u001b[1;32mdef\u001b[0m \u001b[0mupdate_frame\u001b[0m\u001b[1;33m(\u001b[0m\u001b[0mi\u001b[0m\u001b[1;33m)\u001b[0m\u001b[1;33m:\u001b[0m\u001b[1;33m\u001b[0m\u001b[1;33m\u001b[0m\u001b[0m\n\u001b[1;32m----> 7\u001b[1;33m     \u001b[0mdisp\u001b[0m\u001b[1;33m.\u001b[0m\u001b[0mset_array\u001b[0m\u001b[1;33m(\u001b[0m\u001b[0mvid_data\u001b[0m\u001b[1;33m[\u001b[0m\u001b[1;33m:\u001b[0m\u001b[1;33m,\u001b[0m\u001b[1;33m:\u001b[0m\u001b[1;33m,\u001b[0m\u001b[0mi\u001b[0m\u001b[1;33m]\u001b[0m\u001b[1;33m)\u001b[0m\u001b[1;33m\u001b[0m\u001b[1;33m\u001b[0m\u001b[0m\n\u001b[0m\u001b[0;32m      8\u001b[0m     \u001b[1;32mreturn\u001b[0m \u001b[0mdisp\u001b[0m\u001b[1;33m,\u001b[0m\u001b[1;33m\u001b[0m\u001b[1;33m\u001b[0m\u001b[0m\n\u001b[0;32m      9\u001b[0m \u001b[0mwriter\u001b[0m \u001b[1;33m=\u001b[0m \u001b[0manimation\u001b[0m\u001b[1;33m.\u001b[0m\u001b[0mwriters\u001b[0m\u001b[1;33m[\u001b[0m\u001b[1;34m'ffmpeg'\u001b[0m\u001b[1;33m]\u001b[0m\u001b[1;33m(\u001b[0m\u001b[0mfps\u001b[0m\u001b[1;33m=\u001b[0m\u001b[1;36m30\u001b[0m\u001b[1;33m)\u001b[0m\u001b[1;33m\u001b[0m\u001b[1;33m\u001b[0m\u001b[0m\n",
      "\u001b[1;31mIndexError\u001b[0m: index 15 is out of bounds for axis 2 with size 15"
     ]
    }
   ],
   "source": [
    "from matplotlib import animation\n",
    "vid_data = sc2_i2quv_corr[crop:-crop, crop:-crop,0,:]\n",
    "i, vid_size = 0, 10\n",
    "N = vid_data.shape[2]\n",
    "DPI = vid_data.shape[0]/vid_size\n",
    "#\n",
    "fig, ax = plt.subplots(1,1,figsize=(10,10))\n",
    "disp = ax.imshow(vid_data[:,:,0], animated=True)\n",
    "def update_frame(i):\n",
    "    disp.set_array(vid_data[:,:,i])\n",
    "    return disp,\n",
    "writer = animation.writers['ffmpeg'](fps=30)\n",
    "ani = animation.FuncAnimation(fig, update_frame,  blit=True)\n",
    "ani.save('sc2_i2quv_corr_I.mp4', writer=writer, dpi=108)\n",
    "plt.show()"
   ]
  },
  {
   "cell_type": "code",
   "execution_count": 31,
   "metadata": {},
   "outputs": [],
   "source": [
    "plt.close()"
   ]
  },
  {
   "cell_type": "code",
   "execution_count": 15,
   "metadata": {},
   "outputs": [
    {
     "data": {
      "text/plain": [
       "(1080, 1080, 15)"
      ]
     },
     "execution_count": 15,
     "metadata": {},
     "output_type": "execute_result"
    }
   ],
   "source": [
    "vid_data.shape"
   ]
  }
 ],
 "metadata": {
  "kernelspec": {
   "display_name": "Python 3.8.8 ('base')",
   "language": "python",
   "name": "python3"
  },
  "language_info": {
   "codemirror_mode": {
    "name": "ipython",
    "version": 3
   },
   "file_extension": ".py",
   "mimetype": "text/x-python",
   "name": "python",
   "nbconvert_exporter": "python",
   "pygments_lexer": "ipython3",
   "version": "3.11.5"
  },
  "orig_nbformat": 4,
  "vscode": {
   "interpreter": {
    "hash": "1c1078a940144fcb486ff9d1334d3fdb2e0f9e86f163fbd19e2f06a9d73144ad"
   }
  }
 },
 "nbformat": 4,
 "nbformat_minor": 2
}
