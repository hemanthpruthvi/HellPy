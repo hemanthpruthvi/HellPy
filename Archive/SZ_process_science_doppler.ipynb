{
 "cells": [
  {
   "cell_type": "code",
   "execution_count": 47,
   "metadata": {},
   "outputs": [],
   "source": [
    "%matplotlib qt5\n",
    "from process_files import *\n",
    "from func_science import *"
   ]
  },
  {
   "cell_type": "code",
   "execution_count": 53,
   "metadata": {},
   "outputs": [
    {
     "name": "stdout",
     "output_type": "stream",
     "text": [
      "Settings loaded from  D:\\Darks\\20220302\\1239\\HELLRIDE_20220339_123950561_settings.ini\n",
      "Data loading from  D:\\Darks\\20220302\\1239\\Fe_I_6173\\HELLRIDE_bbi_20220302_123927508_dk.DAT\n",
      "Settings loaded from  D:\\Darks\\20220302\\1239\\HELLRIDE_20220339_123950561_settings.ini\n",
      "Data loading from  D:\\Darks\\20220302\\1239\\Fe_I_6173\\HELLRIDE_pol1_20220302_123927683_dk.DAT\n",
      "Settings loaded from  D:\\Darks\\20220302\\1239\\HELLRIDE_20220339_123950561_settings.ini\n",
      "Data loading from  D:\\Darks\\20220302\\1239\\Fe_I_6173\\HELLRIDE_pol2_20220302_123927860_dk.DAT\n"
     ]
    }
   ],
   "source": [
    "#darks data\n",
    "iline = 0\n",
    "line = 'Fe_I_6173'\n",
    "# calib data\n",
    "config = configobj.ConfigObj('config.ini')\n",
    "dkdir = config['darks']['directory']\n",
    "scdir = config['science']['directory']\n",
    "bbi_scale = config['targetplate']['bbi_scale']\n",
    "settings = [f for f in os.listdir(scdir) if 'settings' in f]\n",
    "settings = scdir + os.sep + settings[0]\n",
    "settings = configobj.ConfigObj(settings)\n",
    "# dark frames\n",
    "dk0 = data_cube(dkdir, line, 0, 0 )\n",
    "dk0m = process_dark_cube(dk0.data)\n",
    "dk1 = data_cube(dkdir, line, 1, 0)\n",
    "dk1m = process_dark_cube(dk1.data)\n",
    "dk2 = data_cube(dkdir, line, 2, 0)\n",
    "dk2m = process_dark_cube(dk2.data)"
   ]
  },
  {
   "cell_type": "code",
   "execution_count": 54,
   "metadata": {},
   "outputs": [],
   "source": [
    "# Other numbers\n",
    "linestr = 'Line_' + str(get_line_num(settings, line, iline))\n",
    "nacc = int(settings[linestr]['Polarimeter\\\\NAccumulations'])\n",
    "nwav = int(settings[linestr]['NWavePoints'])\n",
    "filtstr = settings[linestr]['Filter']\n",
    "modstr = settings[linestr]['Polarimeter\\\\Modulation']\n",
    "nmod = int(settings[filtstr]['Polarimeter\\\\'+modstr+'\\\\NModulations'])\n",
    "nfpc = nmod*nacc*nwav\n",
    "nfpw = nmod*nacc\n",
    "ncyc = len(os.listdir(scdir+os.sep+line))//3\n",
    "bbi_scale = np.float64(config['targetplate']['bbi_scale'])\n",
    "# Time stamps\n",
    "tsfile = [f for f in os.listdir(scdir) if 'timestamp' in f]\n",
    "tsfile = scdir + os.sep + tsfile[0]\n",
    "ts = np.loadtxt(tsfile, delimiter=',')\n",
    "im0ind, im1ind, im2ind = ts[:,3], ts[:,6], ts[:,9]\n",
    "im0ind = im0ind[0:nfpc*ncyc].reshape([ncyc,nfpc])\n",
    "im1ind = im1ind[0:nfpc*ncyc].reshape([ncyc,nfpc])\n",
    "im2ind = im2ind[0:nfpc*ncyc].reshape([ncyc,nfpc])\n",
    "#\n",
    "im0ind = im0ind - im0ind[:,0:1]\n",
    "im1ind = im1ind - im1ind[:,0:1]\n",
    "im2ind = im2ind - im2ind[:,0:1]\n",
    "#\n",
    "im0ind = im0ind.reshape([ncyc, nwav, nacc, nmod])%nmod\n",
    "im1ind = im1ind.reshape([ncyc, nwav, nacc, nmod])%nmod\n",
    "im2ind = im2ind.reshape([ncyc, nwav, nacc, nmod])%nmod"
   ]
  },
  {
   "cell_type": "code",
   "execution_count": 55,
   "metadata": {},
   "outputs": [],
   "source": [
    "# Get flats\n",
    "ff0 = pf.open(config['flats'][line+'/bbi'])\n",
    "ff0m = ff0[0].data[:,:,np.newaxis]\n",
    "ff0m /= ff0m.mean()\n",
    "ff0.close()\n",
    "#\n",
    "ff1 = pf.open(config['flats'][line+'/pol1'])\n",
    "continuum1 = ff1[0].data\n",
    "line_shifts1 = ff1[1].data\n",
    "ff1m = ff1[2].data\n",
    "ff1.close()\n",
    "#\n",
    "ff2 = pf.open(config['flats'][line+'/pol2'])\n",
    "continuum2 = ff2[0].data\n",
    "line_shifts2 = ff2[1].data\n",
    "ff2m = ff2[2].data\n",
    "ff2.close()"
   ]
  },
  {
   "cell_type": "code",
   "execution_count": 56,
   "metadata": {},
   "outputs": [
    {
     "name": "stderr",
     "output_type": "stream",
     "text": [
      "  0%|          | 0/1 [00:00<?, ?it/s]"
     ]
    },
    {
     "name": "stdout",
     "output_type": "stream",
     "text": [
      "Settings loaded from  D:\\Science\\20220302\\1317\\HELLRIDE_20220317_131730726_settings.ini\n",
      "Data loading from  D:\\Science\\20220302\\1317\\Fe_I_6173\\HELLRIDE_bbi_20220302_131732198_sc.DAT\n",
      "Settings loaded from  D:\\Science\\20220302\\1317\\HELLRIDE_20220317_131730726_settings.ini\n",
      "Data loading from  D:\\Science\\20220302\\1317\\Fe_I_6173\\HELLRIDE_pol1_20220302_131732544_sc.DAT\n"
     ]
    },
    {
     "name": "stderr",
     "output_type": "stream",
     "text": [
      "100%|██████████| 1280/1280 [01:56<00:00, 10.96it/s]\n"
     ]
    },
    {
     "name": "stdout",
     "output_type": "stream",
     "text": [
      "Settings loaded from  D:\\Science\\20220302\\1317\\HELLRIDE_20220317_131730726_settings.ini\n",
      "Data loading from  D:\\Science\\20220302\\1317\\Fe_I_6173\\HELLRIDE_pol2_20220302_131732905_sc.DAT\n"
     ]
    },
    {
     "name": "stderr",
     "output_type": "stream",
     "text": [
      "100%|██████████| 1280/1280 [01:55<00:00, 11.09it/s]\n",
      "100%|██████████| 1/1 [04:24<00:00, 264.67s/it]\n"
     ]
    }
   ],
   "source": [
    "# Get science data\n",
    "for i in tqdm.tqdm(range(1)):\n",
    "    # bbi cam\n",
    "    dc0 = data_cube(scdir, line, 0, i)\n",
    "    Y = X = dc0.roi\n",
    "    sc0 = dc0.data - dk0m\n",
    "    sc0m = np.sum(sc0.reshape([Y,X,nacc*nmod,nwav], order='F'), axis=2)\n",
    "    sc0corr = sc0m/ff0m\n",
    "    # pol1 cam\n",
    "    dc1 = data_cube(scdir, line, 1, i)\n",
    "    sc1 = np.mean(dc1.data.reshape([Y,X,nacc*nmod,nwav], order='F'), axis=2) - dk1m\n",
    "    sc1sh = shift_3darray(sc1, line_shifts1)\n",
    "    sc1corr = np.fliplr(sc1sh)\n",
    "    # sc1corr = sc1sh/continuum1\n",
    "    # pol2 cam\n",
    "    dc2 = data_cube(scdir, line, 2, i)\n",
    "    sc2 = np.mean(dc2.data.reshape([Y,X,nacc*nmod,nwav], order='F'), axis=2) - dk2m\n",
    "    sc2sh = shift_3darray(sc2, line_shifts2)\n",
    "    sc2corr = np.flipud(np.fliplr(sc2sh))\n",
    "    "
   ]
  },
  {
   "cell_type": "code",
   "execution_count": 59,
   "metadata": {},
   "outputs": [],
   "source": [
    "show_img_series(sc1corr, fps=1)"
   ]
  },
  {
   "cell_type": "code",
   "execution_count": 45,
   "metadata": {},
   "outputs": [
    {
     "name": "stdout",
     "output_type": "stream",
     "text": [
      "BBI RoI:  90.28\n"
     ]
    }
   ],
   "source": [
    "# crop\n",
    "bbi_crop = 30\n",
    "bbi_extent = (dc0.roi-2*bbi_crop)*bbi_scale\n",
    "print('BBI RoI: ', bbi_extent)\n",
    "bbi_extent = [0,bbi_extent,0,bbi_extent]\n",
    "fig, ax = plt.subplots(1,1, figsize=(5,5))\n",
    "ax.imshow(sc0corr[bbi_crop:-bbi_crop,bbi_crop:-bbi_crop,-1], extent=bbi_extent,cmap='gray')\n",
    "ax.set_xlabel('arcsec')\n",
    "ax.set_ylabel('arcsec')\n",
    "fig.tight_layout()\n",
    "plt.savefig('broadband.png', dpi=1200)"
   ]
  },
  {
   "cell_type": "code",
   "execution_count": 46,
   "metadata": {},
   "outputs": [
    {
     "name": "stdout",
     "output_type": "stream",
     "text": [
      "Pol2 RoI:  90.70738988381406\n"
     ]
    }
   ],
   "source": [
    "pol2_crop = 70\n",
    "pol2_extent = (dc2.roi-2*pol2_crop)*bbi_scale*np.float64(config['targetplate']['mag'])\n",
    "print('Pol2 RoI: ', pol2_extent)\n",
    "pol2_extent = [0,pol2_extent,0,pol2_extent]\n",
    "fig, ax = plt.subplots(1,1, figsize=(5,5))\n",
    "ax.imshow(sc2corr[pol2_crop:-pol2_crop,pol2_crop:-pol2_crop,10], extent=pol2_extent, cmap='gray')\n",
    "ax.set_xlabel('arcsec')\n",
    "ax.set_ylabel('arcsec')\n",
    "fig.tight_layout()\n",
    "plt.savefig('halpha_core.png', dpi=1200)"
   ]
  }
 ],
 "metadata": {
  "interpreter": {
   "hash": "ca1bbeed4cf13cdb6cc04c24eeb0fd5c926192403ad669bcfb4ac375cae3b663"
  },
  "kernelspec": {
   "display_name": "Python 3.8.8 64-bit ('base': conda)",
   "language": "python",
   "name": "python3"
  },
  "language_info": {
   "codemirror_mode": {
    "name": "ipython",
    "version": 3
   },
   "file_extension": ".py",
   "mimetype": "text/x-python",
   "name": "python",
   "nbconvert_exporter": "python",
   "pygments_lexer": "ipython3",
   "version": "3.8.8"
  },
  "orig_nbformat": 4
 },
 "nbformat": 4,
 "nbformat_minor": 2
}
