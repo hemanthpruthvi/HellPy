{
 "cells": [
  {
   "cell_type": "code",
   "execution_count": 1,
   "id": "bd620717",
   "metadata": {},
   "outputs": [],
   "source": [
    "%matplotlib qt5\n",
    "from process_target import *"
   ]
  },
  {
   "cell_type": "code",
   "execution_count": 2,
   "id": "35a99fce",
   "metadata": {},
   "outputs": [
    {
     "name": "stdout",
     "output_type": "stream",
     "text": [
      "Settings loaded from  E:\\Targetplate\\20211026\\1028\\HELLRIDE_20211028_102822735_settings.ini\n",
      "Number of spectral lines in the data:  2\n"
     ]
    },
    {
     "name": "stderr",
     "output_type": "stream",
     "text": [
      "\r",
      "  0%|                                                                                            | 0/3 [00:00<?, ?it/s]"
     ]
    },
    {
     "name": "stdout",
     "output_type": "stream",
     "text": [
      "No valid unique settings file found!\n"
     ]
    },
    {
     "name": "stderr",
     "output_type": "stream",
     "text": [
      "100%|████████████████████████████████████████████████████████████████████████████████████| 3/3 [00:01<00:00,  1.65it/s]\n"
     ]
    },
    {
     "name": "stdout",
     "output_type": "stream",
     "text": [
      "Threshold:  0.8734425072746809\n",
      "Reference angle:  33.00740003311938\n",
      "Threshold:  0.8714632424490362\n",
      "Reference angle:  34.0331769048804\n",
      "Threshold:  0.8657280970262363\n",
      "Reference angle:  35.00496547161291\n",
      "Shifts:  [-17  13] [-23  51]\n"
     ]
    }
   ],
   "source": [
    "d1 = target_process()"
   ]
  },
  {
   "cell_type": "code",
   "execution_count": 10,
   "id": "f64df4b2",
   "metadata": {},
   "outputs": [],
   "source": [
    "img1 = 1.0*d1.data[0]\n",
    "zooms = np.linspace(1.05, 1.1, 101)\n",
    "# def compute_max_corr(zooms, img1, img2):\n",
    "corrs = 0.0*zooms\n",
    "half = img1.shape[0]//4\n",
    "ny1, nx1 = img1.shape\n",
    "im1 = img1[ny1//2-half:ny1//2+half, nx1//2-half:nx1//2+half]\n",
    "im1 = (im1-im1.mean())/im1.std()"
   ]
  },
  {
   "cell_type": "code",
   "execution_count": 19,
   "id": "8f379806",
   "metadata": {},
   "outputs": [
    {
     "name": "stderr",
     "output_type": "stream",
     "text": [
      "100%|████████████████████████████████████████████████████████████████████████████████| 101/101 [01:07<00:00,  1.51it/s]\n"
     ]
    }
   ],
   "source": [
    "for i, fact in enumerate(tqdm.tqdm(zooms)):\n",
    "    img2 = zoom(d1.data[1], fact)\n",
    "    ny2, nx2 = img2.shape\n",
    "    im2 = (img2-img2.mean())/img2.std()\n",
    "    corr = fftconvolve(im1, im2, mode='valid')\n",
    "    corrs[i] = corr.max()"
   ]
  },
  {
   "cell_type": "code",
   "execution_count": 20,
   "id": "352fd4f7",
   "metadata": {},
   "outputs": [
    {
     "data": {
      "text/plain": [
       "[<matplotlib.lines.Line2D at 0x25ab8a0b9d0>]"
      ]
     },
     "execution_count": 20,
     "metadata": {},
     "output_type": "execute_result"
    }
   ],
   "source": [
    "from lmfit.models import QuadraticModel\n",
    "mi = np.argmax(corrs).flatten()[0]\n",
    "ni = 30\n",
    "x = zooms[mi-ni:mi+ni] \n",
    "y = corrs[mi-ni:mi+ni]\n",
    "qmod = QuadraticModel(prefix='qm_')\n",
    "params = qmod.make_params()\n",
    "result = qmod.fit(y, params, x=x)\n",
    "plt.plot(zooms, corrs)\n",
    "plt.plot(x, result.best_fit)"
   ]
  },
  {
   "cell_type": "code",
   "execution_count": 21,
   "id": "cebe3162",
   "metadata": {},
   "outputs": [
    {
     "name": "stdout",
     "output_type": "stream",
     "text": [
      "0.9360781648240144\n"
     ]
    }
   ],
   "source": [
    "a = result.params['qm_a'].value\n",
    "b = result.params['qm_b'].value\n",
    "c = result.params['qm_c'].value\n",
    "maxim = -b/a/2\n",
    "print(1/maxim)"
   ]
  }
 ],
 "metadata": {
  "kernelspec": {
   "display_name": "Python 3",
   "language": "python",
   "name": "python3"
  },
  "language_info": {
   "codemirror_mode": {
    "name": "ipython",
    "version": 3
   },
   "file_extension": ".py",
   "mimetype": "text/x-python",
   "name": "python",
   "nbconvert_exporter": "python",
   "pygments_lexer": "ipython3",
   "version": "3.8.8"
  }
 },
 "nbformat": 4,
 "nbformat_minor": 5
}
