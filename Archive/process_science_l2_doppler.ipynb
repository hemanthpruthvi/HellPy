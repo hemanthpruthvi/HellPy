{
 "cells": [
  {
   "cell_type": "code",
   "execution_count": 1,
   "metadata": {},
   "outputs": [
    {
     "name": "stderr",
     "output_type": "stream",
     "text": [
      "qt.qpa.xcb: X server does not support XInput 2\n"
     ]
    },
    {
     "name": "stderr",
     "output_type": "stream",
     "text": [
      "qt.qpa.xcb: QXcbConnection: XCB error: 1 (BadRequest), sequence: 169, resource id: 132, major code: 130 (Unknown), minor code: 47\n"
     ]
    }
   ],
   "source": [
    "%matplotlib qt5\n",
    "from process_files import *\n",
    "from func_science import *"
   ]
  },
  {
   "cell_type": "code",
   "execution_count": 3,
   "metadata": {},
   "outputs": [],
   "source": [
    "#\n",
    "line = 'Fe_I_6173'\n",
    "config = configobj.ConfigObj('config.ini')\n",
    "dkdir = config['darks']['directory']\n",
    "scdir = config['science']['directory']\n",
    "settings = [f for f in os.listdir(scdir) if 'settings' in f]\n",
    "settings = scdir + os.sep + settings[0]\n",
    "settings = configobj.ConfigObj(settings)\n",
    "# Other numbers\n",
    "linestr = 'Line_' + str(get_line_num(settings, line, 0))\n",
    "nacc = int(settings[linestr]['Polarimeter\\\\NAccumulations'])\n",
    "nwav = int(settings[linestr]['NWavePoints'])\n",
    "filtstr = settings[linestr]['Filter']\n",
    "modstr = settings[linestr]['Polarimeter\\\\Modulation']\n",
    "nmod = int(settings[filtstr]['Polarimeter\\\\'+modstr+'\\\\NModulations'])\n",
    "nfpc = nmod*nacc*nwav\n",
    "nfpw = nmod*nacc\n",
    "ncyc = len(os.listdir(scdir+os.sep+line))//3\n",
    "wave_range = np.float64(settings[linestr]['WaveScanRange'])\n",
    "wave_step = wave_range/(np.float64(settings[linestr]['NWavePoints'])-1)"
   ]
  },
  {
   "cell_type": "code",
   "execution_count": 5,
   "metadata": {},
   "outputs": [
    {
     "name": "stdout",
     "output_type": "stream",
     "text": [
      "Master flat read from  /arch/1/VTT/hellride/raw/20230502/L0/HELLRIDE_pol_20230502_Flats_1309_Fe_I_6173_fm.FITS\n"
     ]
    }
   ],
   "source": [
    "# alignment\n",
    "rotang1 = np.float64(config['targetplate']['rotang1'])\n",
    "rotang2 = np.float64(config['targetplate']['rotang2'])\n",
    "#\n",
    "shift1_y = np.float64(config['targetplate'][line+'/shift1_y'])\n",
    "shift1_x = np.float64(config['targetplate'][line+'/shift1_x'])\n",
    "shift2_y = np.float64(config['targetplate'][line+'/shift2_y'])\n",
    "shift2_x = np.float64(config['targetplate'][line+'/shift2_x'])\n",
    "pol1_shifts = [shift1_y, shift1_x, 0, 0]\n",
    "pol2_shifts = [shift2_y, shift2_x, 0, 0]\n",
    "# flats\n",
    "fa1_name = config['flats'][line+'/pol1']\n",
    "fa2_name = config['flats'][line+'/pol2']\n",
    "ff_name = config['flats'][line+'/pol']\n",
    "line_cens = pf.open(ff_name)[1].data\n",
    "print('Master flat read from ', ff_name)\n",
    "#\n",
    "l0dir = config['science'][line+'/l0dir']\n",
    "pol1_names = [l0dir+os.sep+f for f in sorted(os.listdir(l0dir+os.sep+'pol1')) if 'pol1' in f]\n",
    "pol2_names = [l0dir+os.sep+f for f in sorted(os.listdir(l0dir+os.sep+'pol2')) if 'pol2' in f]"
   ]
  },
  {
   "cell_type": "code",
   "execution_count": 78,
   "metadata": {},
   "outputs": [],
   "source": [
    "# Get science data\n",
    "for i in range(1):\n",
    "    sc1 = pf.open(pol1_names[i])[0].data\n",
    "    sc2 = pf.open(pol2_names[i])[0].data\n",
    "    "
   ]
  },
  {
   "cell_type": "code",
   "execution_count": null,
   "metadata": {},
   "outputs": [],
   "source": [
    "def compute_line_minima(lines):\n",
    "    Y, X, Z = lines.shape\n",
    "    minima = np.zeros([Y, X])\n",
    "    for y in tqdm.tqdm(range(Y)):\n",
    "        for x in range(X):\n",
    "            minima[y,x] = find_line_valley(lines[y,x])\n",
    "    return minima"
   ]
  },
  {
   "cell_type": "code",
   "execution_count": null,
   "metadata": {},
   "outputs": [],
   "source": [
    "sc1_ = compute_line_minima(sc1[:,:,0])"
   ]
  },
  {
   "cell_type": "code",
   "execution_count": 67,
   "metadata": {},
   "outputs": [],
   "source": [
    "\n",
    "\n",
    "from lmfit.models import GaussianModel, ConstantModel, QuadraticModel\n",
    "\n",
    "def absorption_line(xdata, cont, cen, sig, amp):\n",
    "    return cont*(1 - amp*np.exp(-0.5*(xdata-cen)**2/sig**2))\n",
    "\n",
    "def fit_absorption_line(spectral_line, line_width=3.0, gain_factor=1.0, plot=False):\n",
    "    \"\"\"\n",
    "    Compute best fit for the line+continuum in the form of f(x)*[1-g(x)] where\n",
    "    x is the pixel number starting at 0\n",
    "    f(x) is quadratic (3 params)\n",
    "    g(x) is Gaussian (3 params)\n",
    "    Input:  1d-array spectral line\n",
    "            (opt.) estimated width of the line\n",
    "            (opt.) gain factor to estimate weights \n",
    "            (opt.) plot the results\n",
    "    Output: list of inital guess parameters\n",
    "            list of best fit parameters\n",
    "    \"\"\"\n",
    "    xdata = np.arange(len(spectral_line))\n",
    "    ydata = np.float64(spectral_line)\n",
    "    ydata_error = np.sqrt(spectral_line.mean()/gain_factor)\n",
    "    #\n",
    "    cont_guess = ydata[0]\n",
    "    amp_guess = 1-ydata.min()/cont_guess\n",
    "    cen_guess = xdata[np.argwhere(ydata==ydata.min())].flatten()[0]\n",
    "    sig_guess = line_width/2.355\n",
    "    #\n",
    "    guess_params = Parameters()\n",
    "    guess_params.add(name='amp', value=amp_guess, max=1)\n",
    "    guess_params.add(name='cen', value=cen_guess, min=xdata.min(), max=xdata.max())\n",
    "    guess_params.add(name='sig', value=sig_guess, min=0, max=xdata.max())\n",
    "    guess_params.add(name='cont', value=cont_guess)\n",
    "    #\n",
    "    model = Model(absorption_line)\n",
    "    result = model.fit(ydata, guess_params, xdata=xdata)\n",
    "    if(plot):\n",
    "        fig, ax = plt.subplots(1,1)\n",
    "        ax.plot(ydata, 'k--')\n",
    "        ax.plot(result.init_fit, 'k:')\n",
    "        ax.plot(result.best_fit, 'k-')\n",
    "        ax.legend(['Data', 'Initial', 'Fitted'])\n",
    "    return result\n",
    "\n",
    "def find_line_cens(lines, beg=0, end=11):\n",
    "    Y, X, Z = lines.shape\n",
    "    cens = np.zeros([Y, X])\n",
    "    for y in tqdm.tqdm(range(Y)):\n",
    "        for x in range(X):\n",
    "            res = fit_absorption_line(lines[y,x,beg:end], plot=False)\n",
    "            cens[y, x] = res.best_values['cen']\n",
    "    return cens"
   ]
  },
  {
   "cell_type": "code",
   "execution_count": null,
   "metadata": {},
   "outputs": [],
   "source": [
    "def fit_absorption_line(ydata, plot=False):\n",
    "    xdata = np.arange(len(ydata))\n",
    "    #\n",
    "    cont_guess = ydata[0]\n",
    "    amp_guess = cont_guess-ydata.min()\n",
    "    cen_guess = xdata[np.argwhere(ydata==ydata.min())].flatten()[0]\n",
    "    sig_guess = 2\n",
    "    #\n",
    "    guess_params = Parameters()\n",
    "    guess_params.add(name='amplitude', value=amp_guess, max=cont_guess)\n",
    "    guess_params.add(name='center', value=cen_guess, min=xdata.min(), max=xdata.max())\n",
    "    guess_params.add(name='sigma', value=sig_guess, min=0, max=xdata.max())\n",
    "    guess_params.add(name='c', value=cont_guess)\n",
    "    #\n",
    "    cont = ConstantModel()\n",
    "    absl = GaussianModel()\n",
    "    model = cont - absl\n",
    "    res = model.fit(ydata, guess_params, x=xdata)\n",
    "    if (plot==True):\n",
    "        plt.figure()\n",
    "        plt.plot(res.best_fit)\n",
    "        plt.plot(ydata)\n",
    "    cen = res.best_values['center']\n",
    "    return cen\n",
    "\n",
    "def find_line_cens(lines, beg=0, end=11):\n",
    "    Y, X, Z = lines.shape\n",
    "    cens = np.zeros([Y, X])\n",
    "    for y in tqdm.tqdm(range(Y)):\n",
    "        for x in range(X):\n",
    "            cens[y, x] = fit_absorption_line(lines[y,x,beg:end], plot=False)\n",
    "    return cens"
   ]
  },
  {
   "cell_type": "code",
   "execution_count": 68,
   "metadata": {},
   "outputs": [
    {
     "name": "stderr",
     "output_type": "stream",
     "text": [
      "100%|██████████| 1280/1280 [1:50:03<00:00,  5.16s/it]\n"
     ]
    }
   ],
   "source": [
    "cens1 = find_line_cens(sc1[:,:,0])"
   ]
  },
  {
   "cell_type": "code",
   "execution_count": 1,
   "metadata": {},
   "outputs": [],
   "source": [
    "def compute_doppler_fft(dref, dsci):\n",
    "    Y, X, Z = dref.shape\n",
    "    dref_fft, dsci_fft = np.fft.fft(dref, axis=2), np.fft.fft2(dsci, axis=2)\n",
    "    d_corr = np.fft.ifftshift(np.abs(np.fft.ifft(dref_fft*np.conj(dsci_fft))), axes=2)\n",
    "    return d_corr\n",
    "    # sh = np.argwhere(d_corr==d_corr.amax(axis=2))-Z//2"
   ]
  },
  {
   "cell_type": "code",
   "execution_count": 71,
   "metadata": {},
   "outputs": [
    {
     "data": {
      "text/plain": [
       "<matplotlib.image.AxesImage at 0x7fd5882a7810>"
      ]
     },
     "execution_count": 71,
     "metadata": {},
     "output_type": "execute_result"
    }
   ],
   "source": [
    "plt.imshow(cens1-line_cens[:,:,0], cmap='RdBu')"
   ]
  },
  {
   "cell_type": "code",
   "execution_count": 87,
   "metadata": {},
   "outputs": [],
   "source": [
    "show_img_series(sc1[:,:,3]/sc1[:,:,0], fps=1)"
   ]
  }
 ],
 "metadata": {
  "kernelspec": {
   "display_name": "Python 3.8.8 ('base')",
   "language": "python",
   "name": "python3"
  },
  "language_info": {
   "codemirror_mode": {
    "name": "ipython",
    "version": 3
   },
   "file_extension": ".py",
   "mimetype": "text/x-python",
   "name": "python",
   "nbconvert_exporter": "python",
   "pygments_lexer": "ipython3",
   "version": "3.11.5"
  },
  "orig_nbformat": 4,
  "vscode": {
   "interpreter": {
    "hash": "1c1078a940144fcb486ff9d1334d3fdb2e0f9e86f163fbd19e2f06a9d73144ad"
   }
  }
 },
 "nbformat": 4,
 "nbformat_minor": 2
}
