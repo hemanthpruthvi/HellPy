{
 "cells": [
  {
   "cell_type": "code",
   "execution_count": 1,
   "metadata": {},
   "outputs": [
    {
     "name": "stderr",
     "output_type": "stream",
     "text": [
      "qt.qpa.xcb: X server does not support XInput 2\n"
     ]
    },
    {
     "name": "stderr",
     "output_type": "stream",
     "text": [
      "qt.qpa.xcb: QXcbConnection: XCB error: 1 (BadRequest), sequence: 169, resource id: 132, major code: 130 (Unknown), minor code: 47\n"
     ]
    }
   ],
   "source": [
    "%matplotlib qt5\n",
    "import sys\n",
    "sys.path.append('../')\n",
    "from process_files import *\n",
    "from func_science import *"
   ]
  },
  {
   "cell_type": "markdown",
   "metadata": {},
   "source": [
    "#### 8. Invert the Stokes profiles using VFISV for FPI based instruments"
   ]
  },
  {
   "cell_type": "code",
   "execution_count": 2,
   "metadata": {},
   "outputs": [],
   "source": [
    "# Load the metadata\n",
    "config = configobj.ConfigObj('../config.ini')\n",
    "line = 'Fe_I_6302'\n",
    "line_ = 'Fe_I_6301'\n",
    "dkdir = config['darks']['directory']\n",
    "scdir = config['science']['directory']\n",
    "settings = [f for f in os.listdir(scdir) if 'settings' in f]\n",
    "settings = scdir + os.sep + settings[0]\n",
    "settings = configobj.ConfigObj(settings)\n",
    "# Other numbers\n",
    "iline = get_line_num(settings, line, 0)\n",
    "linestr = 'Line_' + str(iline)\n",
    "nacc = int(settings[linestr]['Polarimeter\\\\NAccumulations'])\n",
    "nwav = int(settings[linestr]['NWavePoints'])\n",
    "filtstr = settings[linestr]['Filter']\n",
    "modstr = settings[linestr]['Polarimeter\\\\Modulation']\n",
    "nmod = int(settings[filtstr]['Polarimeter\\\\'+modstr+'\\\\NModulations'])\n",
    "nfpc = nmod*nacc*nwav\n",
    "nfpw = nmod*nacc\n",
    "ncyc = len(os.listdir(scdir+os.sep+line))//3\n",
    "wavelength = np.float128(settings[linestr]['LineWavelength'])-0.25\n",
    "wave_range = np.float128(settings[linestr]['WaveScanRange'])\n",
    "wave_step = wave_range/(np.int16(settings[linestr]['NWavePoints'])-1)\n",
    "geff = np.float128(config['science'][line+'/geff'])\n",
    "#\n",
    "suffix_dq = '_' # data quality suffix for image reconstructed vs non-reconstructed data ('' : reconstructed, '_' : not reconstructed)\n",
    "l0corrdir = config['science'][line+'/l0corrdir'+suffix_dq]\n",
    "pol_files = [l0corrdir+os.sep+f for f in sorted(os.listdir(l0corrdir))]\n",
    "invdir = config['science']['invdir']\n",
    "tempdir = os.sep.join(l0corrdir.split(os.sep)[0:-1]).replace(line, line_)\n",
    "tempdir_in = tempdir.replace(os.sep+'L0'+os.sep, os.sep+'L1'+os.sep)+os.sep+'tempdir_in'+suffix_dq\n",
    "tempdir_out = tempdir.replace(os.sep+'L0'+os.sep, os.sep+'L1'+os.sep)+os.sep+'tempdir_out'+suffix_dq\n",
    "if not os.path.exists(tempdir_in): os.makedirs(tempdir_in)\n",
    "if not os.path.exists(tempdir_out): os.makedirs(tempdir_out)\n",
    "#\n",
    "ff_file = config['flats'][line+'/pol']\n",
    "tp_file = config['targetplate'][line+'/l0data']\n",
    "nwav = 10\n",
    "config['science'][line_+'/nwav'] = nwav\n",
    "config.write()"
   ]
  },
  {
   "cell_type": "code",
   "execution_count": 3,
   "metadata": {},
   "outputs": [],
   "source": [
    "# Read the template spectrum from the master flat \n",
    "lines_ff = pf.open(ff_file)\n",
    "align_pars = pf.open(tp_file)\n",
    "affine12 = align_pars[3].data[1]\n",
    "#\n",
    "lines_pol1 = lines_ff[7].data\n",
    "lines_pol1 = np.fliplr(lines_pol1)\n",
    "lines_pol2 = lines_ff[8].data\n",
    "lines_pol2 = np.flipud(np.fliplr(lines_pol2))\n",
    "for w in range(nwav):\n",
    "    lines_pol2[:,:,w] = affine_transform(lines_pol2[:,:,w], affine12, mode='nearest')\n",
    "lines_pol = lines_pol1+lines_pol2\n",
    "zeros = 0*lines_pol\n",
    "lines_pol_ = np.array([lines_pol, zeros, zeros, zeros])\n",
    "lines_pol_ = np.moveaxis(lines_pol_, 0, 2)\n",
    "lines_pol_ = lines_pol_[:,:,:,0:nwav]\n",
    "#"
   ]
  },
  {
   "cell_type": "code",
   "execution_count": 4,
   "metadata": {},
   "outputs": [
    {
     "name": "stderr",
     "output_type": "stream",
     "text": [
      "[mpiexec@oig] HYDU_process_mfile_token (lib/utils/args.c:300): token slots not supported at this time\n",
      "[mpiexec@oig] HYDU_parse_hostfile (lib/utils/args.c:345): unable to process token\n",
      "[mpiexec@oig] mfile_fn (mpiexec/options.c:304): error parsing hostfile\n",
      "[mpiexec@oig] match_arg (lib/utils/args.c:159): match handler returned error\n",
      "[mpiexec@oig] HYDU_parse_array (lib/utils/args.c:181): argument matching returned error\n",
      "[mpiexec@oig] parse_args (mpiexec/get_parameters.c:315): error parsing input array\n",
      "[mpiexec@oig] HYD_uii_mpx_get_parameters (mpiexec/get_parameters.c:47): unable to parse user arguments\n",
      "[mpiexec@oig] main (mpiexec/mpiexec.c:49): error parsing parameters\n"
     ]
    },
    {
     "data": {
      "text/plain": [
       "CompletedProcess(args='mpirun --hostfile /home/pruthvi/vfisv_merged/src_fpi/hostfile -n 16 /home/pruthvi/vfisv_merged/src_fpi/vfisv_fpi.x -map=/home/pruthvi/vfisv_merged/src_fpi/hellride2.map -line=/home/pruthvi/vfisv_merged/src_fpi/hellride2.line -filter=/home/pruthvi/vfisv_merged/src_fpi/hellride2.filter', returncode=255)"
      ]
     },
     "execution_count": 4,
     "metadata": {},
     "output_type": "execute_result"
    }
   ],
   "source": [
    "# Invert template spectral profiles\n",
    "sprefix = ['ii', 'qq', 'uu', 'vv']\n",
    "tfile = open(tempdir_in+os.sep+'file_list.txt', 'w')\n",
    "# sc = pf.open(pfile)[1].data\n",
    "ny, nx, ns, nw = lines_pol_.shape\n",
    "nwav = nw\n",
    "for s in np.arange(ns):\n",
    "    for w in np.arange(nw):\n",
    "        file_name = sprefix[s] + '_' + f'{w:02}' + '.fits'  \n",
    "        hdu = pf.PrimaryHDU(lines_pol_[:,:,s,w])\n",
    "        hdu.writeto(tempdir_in+os.sep+file_name, overwrite=True)\n",
    "        tfile.write(file_name + '\\n')\n",
    "tfile.close()\n",
    "\n",
    "# create the map file\n",
    "params_file = 'pol_flat_params.dat'\n",
    "stokes_file = 'pol_flat_stokes.dat'\n",
    "#\n",
    "tfile = open(invdir+os.sep+'hellride2.map', 'w')\n",
    "tfile.write(f'xmin {1} \\t \\n')\n",
    "tfile.write(f'xmax {nx} \\t \\n')\n",
    "tfile.write(f'ymin {1} \\t \\n')\n",
    "tfile.write(f'ymax {ny} \\t \\n')\n",
    "tfile.write(f'dirin {tempdir_in+os.sep} \\n')\n",
    "tfile.write(f'dirout {tempdir_out+os.sep} \\n')\n",
    "tfile.write(f'invfileout {params_file} \\n')\n",
    "tfile.write(f'stokfileout {stokes_file} \\n')\n",
    "tfile.write(f'fitslist file_list.txt \\n')\n",
    "tfile.close()\n",
    "\n",
    "# create the line file\n",
    "noise = 0.001\n",
    "wave_steps = np.arange(-nwav//2+1, nwav//2+1)*wave_step*1e3\n",
    "#\n",
    "tfile = open(invdir+os.sep+'hellride2.line', 'w')\n",
    "tfile.write(f'cen_wav {wavelength:.3f} \\n')\n",
    "tfile.write(f'geff {geff:.3f} \\n')\n",
    "tfile.write(f'noise {noise:.5f} \\n')\n",
    "tfile.write(f'nwav {nwav} \\n')\n",
    "tfile.write(f'cont_pix {nwav} \\n')\n",
    "tfile.write(f'wavpos ')\n",
    "for w in wave_steps: tfile.write(f'{w} ')\n",
    "tfile.write('\\n')\n",
    "tfile.write('telluric ini 9 \\n')\n",
    "tfile.write('telluric end 10 \\n')\n",
    "tfile.write('instrument hellride \\n')\n",
    "tfile.close()\n",
    "\n",
    "# create the filter file\n",
    "et1_r, et2_r = 0.93, 0.93\n",
    "et1_s = int(int(settings['Etalon_1']['ZSpacing'])*1e4)\n",
    "et2_s = int(int(settings['Etalon_2']['ZSpacing'])*1e4)\n",
    "tfile = open(invdir+os.sep+'hellride2.filter', 'w')\n",
    "tfile.write(f'reflectivity et1 {et1_r:0.3} \\n')\n",
    "tfile.write(f'reflectivity et2 {et2_r:0.3} \\n')\n",
    "tfile.write(f'distance plates et1 {et1_s} \\n')\n",
    "tfile.write(f'distance plates et2 {et2_s} \\n')\n",
    "tfile.close()\n",
    "sp.run(f'mpirun -machinefile {invdir}/hostfile -n 16 {invdir}/vfisv_fpi.x -map={invdir}/hellride2.map -line={invdir}/hellride2.line -filter={invdir}/hellride2.filter', shell=True)"
   ]
  },
  {
   "cell_type": "code",
   "execution_count": null,
   "metadata": {},
   "outputs": [],
   "source": [
    "sc = pf.open(pol_files[-1])[1].data\n",
    "show_img_series(sc[:,:,0,0:nwav], fps=1)"
   ]
  },
  {
   "cell_type": "code",
   "execution_count": null,
   "metadata": {},
   "outputs": [],
   "source": [
    "# Invert the observed stoke profiles\n",
    "for pfile in pol_files:\n",
    "    sprefix = ['ii', 'qq', 'uu', 'vv']\n",
    "    tfile = open(tempdir_in+os.sep+'file_list.txt', 'w')\n",
    "    sc = pf.open(pfile)[1].data[:,:,:,0:11]\n",
    "    ny, nx, ns, nw = sc.shape\n",
    "    nwav = nw\n",
    "    for s in np.arange(ns):\n",
    "        for w in np.arange(nw):\n",
    "            file_name = sprefix[s] + '_' + f'{w:02}' + '.fits'  \n",
    "            hdu = pf.PrimaryHDU(sc[:,:,s,w])\n",
    "            hdu.writeto(tempdir_in+os.sep+file_name, overwrite=True)\n",
    "            tfile.write(file_name + '\\n')\n",
    "    tfile.close()\n",
    "\n",
    "    # create the map file\n",
    "    pfile_name = os.path.split(pfile)[-1]\n",
    "    params_file = pfile_name.replace('.fits', '_params.dat')\n",
    "    stokes_file = pfile_name.replace('.fits', '_stokes.dat')\n",
    "    #\n",
    "    tfile = open(invdir+os.sep+'hellride2.map', 'w')\n",
    "    tfile.write(f'xmin {1} \\t \\n')\n",
    "    tfile.write(f'xmax {nx} \\t \\n')\n",
    "    tfile.write(f'ymin {1} \\t \\n')\n",
    "    tfile.write(f'ymax {ny} \\t \\n')\n",
    "    tfile.write(f'dirin {tempdir_in+os.sep} \\n')\n",
    "    tfile.write(f'dirout {tempdir_out+os.sep} \\n')\n",
    "    tfile.write(f'invfileout {params_file} \\n')\n",
    "    tfile.write(f'stokfileout {stokes_file} \\n')\n",
    "    tfile.write(f'fitslist file_list.txt \\n')\n",
    "    tfile.close()\n",
    "\n",
    "    # create the line file\n",
    "    noise = 1.0/np.sqrt(sc.mean())\n",
    "    wave_steps = np.arange(-nwav//2+1, nwav//2+1)*wave_step*1e3\n",
    "    # print(wave_steps)\n",
    "    #\n",
    "    tfile = open(invdir+os.sep+'hellride2.line', 'w')\n",
    "    tfile.write(f'cen_wav {wavelength:.3f} \\n')\n",
    "    tfile.write(f'geff {geff:.3f} \\n')\n",
    "    tfile.write(f'noise {noise:.5f} \\n')\n",
    "    tfile.write(f'nwav {nwav} \\n')\n",
    "    tfile.write(f'cont_pix {nwav} \\n')\n",
    "    tfile.write(f'wavpos ')\n",
    "    for w in wave_steps: tfile.write(f'{w} ')\n",
    "    tfile.write('\\n')\n",
    "    tfile.write('telluric ini 9 \\n')\n",
    "    tfile.write('telluric end 10 \\n')\n",
    "    tfile.write('instrument hellride \\n')\n",
    "    tfile.close()\n",
    "\n",
    "    # create the filter file\n",
    "    et1_r, et2_r = 0.93, 0.93\n",
    "    et1_s = int(int(settings['Etalon_1']['ZSpacing'])*1e4)\n",
    "    et2_s = int(int(settings['Etalon_2']['ZSpacing'])*1e4)\n",
    "    tfile = open(invdir+os.sep+'hellride2.filter', 'w')\n",
    "    tfile.write(f'reflectivity et1 {et1_r:0.3} \\n')\n",
    "    tfile.write(f'reflectivity et2 {et2_r:0.3} \\n')\n",
    "    tfile.write(f'distance plates et1 {et1_s} \\n')\n",
    "    tfile.write(f'distance plates et2 {et2_s} \\n')\n",
    "    tfile.close()\n",
    "    sp.run(f'mpirun -n 16 {invdir}/vfisv_fpi.x -map={invdir}/hellride2.map -line={invdir}/hellride2.line -filter={invdir}/hellride2.filter', shell=True)"
   ]
  }
 ],
 "metadata": {
  "kernelspec": {
   "display_name": "base",
   "language": "python",
   "name": "python3"
  },
  "language_info": {
   "codemirror_mode": {
    "name": "ipython",
    "version": 3
   },
   "file_extension": ".py",
   "mimetype": "text/x-python",
   "name": "python",
   "nbconvert_exporter": "python",
   "pygments_lexer": "ipython3",
   "version": "3.11.5"
  }
 },
 "nbformat": 4,
 "nbformat_minor": 2
}
