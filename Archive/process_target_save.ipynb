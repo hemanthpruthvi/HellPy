{
 "cells": [
  {
   "cell_type": "code",
   "execution_count": 3,
   "metadata": {},
   "outputs": [],
   "source": [
    "%matplotlib qt5\n",
    "from process_files import *\n",
    "from func_target import *"
   ]
  },
  {
   "cell_type": "code",
   "execution_count": 4,
   "metadata": {},
   "outputs": [],
   "source": [
    "config = configobj.ConfigObj('config.ini')\n",
    "dkdir = config['darks']['directory']\n",
    "tgdir = config['targetplate']['directory']\n",
    "line = config['line']\n",
    "settings = [f for f in os.listdir(tgdir) if 'settings' in f]\n",
    "settings = tgdir + os.sep + settings[0]\n",
    "settings = configobj.ConfigObj(settings)\n",
    "#\n",
    "iline = 0\n",
    "linestr = 'Line_' + str(get_line_num(settings, line, iline))\n",
    "nacc = int(settings[linestr]['Polarimeter\\\\NAccumulations'])\n",
    "nwav = int(settings[linestr]['NWavePoints'])\n",
    "filtstr = settings[linestr]['Filter']\n",
    "modstr = settings[linestr]['Polarimeter\\\\Modulation']\n",
    "nmod = int(settings[filtstr]['Polarimeter\\\\'+modstr+'\\\\NModulations'])\n",
    "nfpc = nmod*nacc*nwav\n",
    "nfpw = nmod*nacc\n",
    "ncyc = len(os.listdir(tgdir+os.sep+line))//3"
   ]
  },
  {
   "cell_type": "code",
   "execution_count": 5,
   "metadata": {},
   "outputs": [
    {
     "ename": "KeyError",
     "evalue": "'Fe_I_6302/pol'",
     "output_type": "error",
     "traceback": [
      "\u001b[0;31m---------------------------------------------------------------------------\u001b[0m",
      "\u001b[0;31mKeyError\u001b[0m                                  Traceback (most recent call last)",
      "Cell \u001b[0;32mIn[5], line 8\u001b[0m\n\u001b[1;32m      6\u001b[0m ff_bbi \u001b[38;5;241m=\u001b[39m np\u001b[38;5;241m.\u001b[39mfloat64(pf\u001b[38;5;241m.\u001b[39mopen(config[\u001b[38;5;124m'\u001b[39m\u001b[38;5;124mflats\u001b[39m\u001b[38;5;124m'\u001b[39m][line\u001b[38;5;241m+\u001b[39m\u001b[38;5;124m'\u001b[39m\u001b[38;5;124m/bbi\u001b[39m\u001b[38;5;124m'\u001b[39m])[\u001b[38;5;241m0\u001b[39m]\u001b[38;5;241m.\u001b[39mdata)\n\u001b[1;32m      7\u001b[0m ff_bbi \u001b[38;5;241m=\u001b[39m ff_bbi[:,:,np\u001b[38;5;241m.\u001b[39mnewaxis]\u001b[38;5;241m/\u001b[39mnp\u001b[38;5;241m.\u001b[39mmean(ff_bbi)\n\u001b[0;32m----> 8\u001b[0m ff_pol \u001b[38;5;241m=\u001b[39m np\u001b[38;5;241m.\u001b[39mfloat64(pf\u001b[38;5;241m.\u001b[39mopen(config[\u001b[38;5;124m'\u001b[39m\u001b[38;5;124mflats\u001b[39m\u001b[38;5;124m'\u001b[39m][line\u001b[38;5;241m+\u001b[39m\u001b[38;5;124m'\u001b[39m\u001b[38;5;124m/pol\u001b[39m\u001b[38;5;124m'\u001b[39m])[\u001b[38;5;241m0\u001b[39m]\u001b[38;5;241m.\u001b[39mdata)\n\u001b[1;32m      9\u001b[0m ff_pol1 \u001b[38;5;241m=\u001b[39m ff_pol[:,:,\u001b[38;5;241m0\u001b[39m:\u001b[38;5;241m1\u001b[39m,\u001b[38;5;241m0\u001b[39m]\n\u001b[1;32m     10\u001b[0m ff_pol2 \u001b[38;5;241m=\u001b[39m ff_pol[:,:,\u001b[38;5;241m4\u001b[39m:\u001b[38;5;241m5\u001b[39m,\u001b[38;5;241m0\u001b[39m]\n",
      "File \u001b[0;32m~/anaconda3/lib/python3.11/site-packages/configobj/__init__.py:554\u001b[0m, in \u001b[0;36mSection.__getitem__\u001b[0;34m(self, key)\u001b[0m\n\u001b[1;32m    552\u001b[0m \u001b[38;5;28;01mdef\u001b[39;00m \u001b[38;5;21m__getitem__\u001b[39m(\u001b[38;5;28mself\u001b[39m, key):\n\u001b[1;32m    553\u001b[0m \u001b[38;5;250m    \u001b[39m\u001b[38;5;124;03m\"\"\"Fetch the item and do string interpolation.\"\"\"\u001b[39;00m\n\u001b[0;32m--> 554\u001b[0m     val \u001b[38;5;241m=\u001b[39m \u001b[38;5;28mdict\u001b[39m\u001b[38;5;241m.\u001b[39m\u001b[38;5;21m__getitem__\u001b[39m(\u001b[38;5;28mself\u001b[39m, key)\n\u001b[1;32m    555\u001b[0m     \u001b[38;5;28;01mif\u001b[39;00m \u001b[38;5;28mself\u001b[39m\u001b[38;5;241m.\u001b[39mmain\u001b[38;5;241m.\u001b[39minterpolation: \n\u001b[1;32m    556\u001b[0m         \u001b[38;5;28;01mif\u001b[39;00m \u001b[38;5;28misinstance\u001b[39m(val, six\u001b[38;5;241m.\u001b[39mstring_types):\n",
      "\u001b[0;31mKeyError\u001b[0m: 'Fe_I_6302/pol'"
     ]
    }
   ],
   "source": [
    "# darks\n",
    "dk0 = np.float64(pf.open(config['darks'][line+'/bbi'])[0].data)\n",
    "dk1 = np.float64(pf.open(config['darks'][line+'/pol1'])[0].data)\n",
    "dk2 = np.float64(pf.open(config['darks'][line+'/pol2'])[0].data)\n",
    "# flats\n",
    "ff_bbi = np.float64(pf.open(config['flats'][line+'/bbi'])[0].data)\n",
    "ff_bbi = ff_bbi[:,:,np.newaxis]/np.mean(ff_bbi)\n",
    "ff_pol = np.float64(pf.open(config['flats'][line+'/pol'])[0].data)\n",
    "ff_pol1 = ff_pol[:,:,0:1,0]\n",
    "ff_pol2 = ff_pol[:,:,4:5,0]"
   ]
  },
  {
   "cell_type": "code",
   "execution_count": null,
   "metadata": {},
   "outputs": [],
   "source": [
    "# Get target\n",
    "dc0 = data_cube(tgdir, line, 0, 0)\n",
    "print('Reading BBI target image from ', dc0.file)\n",
    "tg0 = np.uint16(16*(dc0.data-dk0)/ff_bbi)\n",
    "dc1 = data_cube(tgdir, line, 1, 0)\n",
    "print('Reading POL1 target image from ', dc1.file)\n",
    "tg1 = np.uint16(16*(dc1.data-dk1)/ff_pol1)\n",
    "tg1 = np.flipud(tg1)\n",
    "dc2 = data_cube(tgdir, line, 2, 0)\n",
    "print('Reading POL2 target image from ', dc2.file)\n",
    "tg2 = np.uint16(16*(dc2.data-dk2)/ff_pol2)\n",
    "#\n",
    "config['targetplate']['flip1_lr'] = 0\n",
    "config['targetplate']['flip1_ud'] = 1\n",
    "config['targetplate']['flip2_lr'] = 0\n",
    "config['targetplate']['flip2_ud'] = 0\n",
    "config.write()\n",
    "#"
   ]
  },
  {
   "cell_type": "code",
   "execution_count": null,
   "metadata": {},
   "outputs": [],
   "source": [
    "tg0_ = np.mean(tg0, axis=2)\n",
    "tg1_ = np.mean(tg1, axis=2)\n",
    "tg2_ = np.mean(tg2, axis=2)\n",
    "blink_frames([tg0_, tg1_, tg2_], repeat=1)"
   ]
  },
  {
   "cell_type": "code",
   "execution_count": null,
   "metadata": {},
   "outputs": [],
   "source": [
    "npts=12\n",
    "plt.imshow(tg0_)\n",
    "pts0 = plt.ginput(n=npts, timeout=0, mouse_add=None, mouse_pop=None, mouse_stop=None)\n",
    "plt.imshow(tg1_)\n",
    "pts1 = plt.ginput(n=npts, timeout=0, mouse_add=None, mouse_pop=None, mouse_stop=None)\n",
    "plt.imshow(tg2_)\n",
    "pts2 = plt.ginput(n=npts, timeout=0, mouse_add=None, mouse_pop=None, mouse_stop=None)\n",
    "pts0_ = np.array(pts0)\n",
    "pts1_ = np.array(pts1)\n",
    "pts2_ = np.array(pts2)\n",
    "aff1, temp = cv2.estimateAffine2D(pts1_, pts0_)\n",
    "aff2, temp = cv2.estimateAffine2D(pts2_, pts0_)"
   ]
  },
  {
   "cell_type": "code",
   "execution_count": null,
   "metadata": {},
   "outputs": [],
   "source": [
    "dir_tree = tgdir.split(os.sep)\n",
    "l0dir = os.sep.join(dir_tree[0:-1])+os.sep+'L0'\n",
    "if not (os.path.exists(l0dir)): os.mkdir(l0dir)\n",
    "l0dir += os.sep+dir_tree[-1]\n",
    "if not (os.path.exists(l0dir)): os.mkdir(l0dir)\n",
    "tg_name = l0dir+os.sep+os.path.split(dc0.file)[-1]\n",
    "tg_name = tg_name.replace('.DAT', '.fits').replace('bbi', line)\n",
    "config['targetplate'][line+'/l0data'] = tg_name\n",
    "config.write()\n",
    "#\n",
    "hdu1 = pf.PrimaryHDU(tg0)\n",
    "hdu2 = pf.ImageHDU(tg1)\n",
    "hdu3 = pf.ImageHDU(tg2)\n",
    "hdu4 = pf.ImageHDU(np.array([aff1, aff2]))\n",
    "hdul = pf.HDUList([hdu1, hdu2, hdu3, hdu4])\n",
    "hdul.writeto(tg_name, overwrite=True)\n",
    "print('Target plate data saved as: ', tg_name)"
   ]
  },
  {
   "cell_type": "code",
   "execution_count": 4,
   "metadata": {},
   "outputs": [
    {
     "name": "stdout",
     "output_type": "stream",
     "text": [
      "Read targetplate data from:  /arch/1/VTT/hellride/raw/20230504/L0/Targetplate_1203/HELLRIDE_Fe_I_6173_20230504_120328106_tp.fits\n"
     ]
    }
   ],
   "source": [
    "tg_name = config['targetplate'][line+'/l0data'] \n",
    "hdul = pf.open(tg_name)\n",
    "tg0 = hdul[0].data\n",
    "tg1 = hdul[1].data\n",
    "tg2 = hdul[2].data\n",
    "aff = hdul[3].data\n",
    "aff1 = aff[0]\n",
    "aff2 = aff[1]\n",
    "print('Read targetplate data from: ', tg_name)"
   ]
  },
  {
   "cell_type": "code",
   "execution_count": 5,
   "metadata": {},
   "outputs": [
    {
     "name": "stderr",
     "output_type": "stream",
     "text": [
      "libGL error: MESA-LOADER: failed to open swrast: /usr/lib/dri/swrast_dri.so: cannot open shared object file: No such file or directory (search paths /usr/lib/x86_64-linux-gnu/dri:\\$${ORIGIN}/dri:/usr/lib/dri, suffix _dri)\n",
      "libGL error: failed to load driver: swrast\n"
     ]
    }
   ],
   "source": [
    "tg0_ = np.mean(tg0, axis=2)\n",
    "tg1_ = np.mean(tg1, axis=2)\n",
    "tg2_ = np.mean(tg2, axis=2)\n",
    "blink_frames([tg0_, tg1_, tg2_], repeat=1)"
   ]
  },
  {
   "cell_type": "code",
   "execution_count": 31,
   "metadata": {},
   "outputs": [],
   "source": [
    "sx1, sy1 = np.linalg.norm(aff1[:,0]), np.linalg.norm(aff1[:,1])\n",
    "sx2, sy2 = np.linalg.norm(aff2[:,0]), np.linalg.norm(aff2[:,1])\n",
    "mag = np.mean([sx1, sy1, sx2, sy2])\n",
    "#\n",
    "rotang1 = -np.degrees(np.arctan2(-aff1[0,1]/sy1, aff1[0,0]/sx1))\n",
    "rotang2 = -np.degrees(np.arctan2(-aff2[0,1]/sy2, aff2[0,0]/sx2))\n",
    "#\n",
    "sh1_ = np.array([-4,-3])\n",
    "sh2_ = np.array([-5,-2])\n",
    "sh1 = aff1[::-1,2] + sh1_\n",
    "sh2 = aff2[::-1,2] + sh2_\n",
    "#\n",
    "tg0_rot = tg0_\n",
    "tg1_rot = rotate(tg1_, rotang1, mode='nearest', reshape=False)\n",
    "tg2_rot = rotate(tg2_, rotang2, mode='nearest', reshape=False)\n",
    "#\n",
    "tg0_mag = tg0_rot\n",
    "tg1_mag = zoom_clipped(tg1_rot, mag) \n",
    "tg2_mag = zoom_clipped(tg2_rot, mag)\n",
    "#\n",
    "tg0_shift = tg0_mag\n",
    "tg1_shift = shift(tg1_mag, sh1, mode='nearest')\n",
    "tg2_shift = shift(tg2_mag, sh2, mode='nearest')"
   ]
  },
  {
   "cell_type": "code",
   "execution_count": 32,
   "metadata": {},
   "outputs": [],
   "source": [
    "tg0_plt = (tg0_shift-tg0_shift.min())/(tg0_shift.max()-tg0_shift.min())\n",
    "tg1_plt = (tg1_shift-tg1_shift.min())/(tg1_shift.max()-tg1_shift.min())\n",
    "tg2_plt = (tg2_shift-tg2_shift.min())/(tg2_shift.max()-tg2_shift.min())\n",
    "blink_frames([tg0_plt, tg1_plt], repeat=5)\n",
    "# plt.figure(); plt.imshow(tg0_shift)\n",
    "# plt.figure(); plt.imshow(tg1_shift)\n",
    "# plt.figure(); plt.imshow(tg2_shift)"
   ]
  },
  {
   "cell_type": "code",
   "execution_count": 26,
   "metadata": {},
   "outputs": [],
   "source": [
    "config['targetplate'][line+'/rotang1'] = rotang1\n",
    "config['targetplate'][line+'/rotang2'] = rotang2\n",
    "config['targetplate'][line+'/mag'] = mag\n",
    "config['targetplate'][line+'/shift1_x'] = sh1[1]\n",
    "config['targetplate'][line+'/shift1_y'] = sh1[0]\n",
    "config['targetplate'][line+'/shift2_x'] = sh2[1]\n",
    "config['targetplate'][line+'/shift2_y'] = sh2[0]\n",
    "config.write()"
   ]
  }
 ],
 "metadata": {
  "interpreter": {
   "hash": "ca1bbeed4cf13cdb6cc04c24eeb0fd5c926192403ad669bcfb4ac375cae3b663"
  },
  "kernelspec": {
   "display_name": "Python 3.8.8 64-bit ('base': conda)",
   "language": "python",
   "name": "python3"
  },
  "language_info": {
   "codemirror_mode": {
    "name": "ipython",
    "version": 3
   },
   "file_extension": ".py",
   "mimetype": "text/x-python",
   "name": "python",
   "nbconvert_exporter": "python",
   "pygments_lexer": "ipython3",
   "version": "3.11.5"
  },
  "orig_nbformat": 4
 },
 "nbformat": 4,
 "nbformat_minor": 2
}
