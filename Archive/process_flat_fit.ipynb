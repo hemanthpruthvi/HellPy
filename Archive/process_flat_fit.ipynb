{
 "cells": [
  {
   "cell_type": "code",
   "execution_count": 1,
   "metadata": {},
   "outputs": [
    {
     "name": "stderr",
     "output_type": "stream",
     "text": [
      "qt.qpa.xcb: X server does not support XInput 2\n"
     ]
    }
   ],
   "source": [
    "%matplotlib qt5\n",
    "from process_files import *\n",
    "from func_flats import *"
   ]
  },
  {
   "cell_type": "code",
   "execution_count": 2,
   "metadata": {},
   "outputs": [
    {
     "name": "stderr",
     "output_type": "stream",
     "text": [
      "qt.qpa.xcb: QXcbConnection: XCB error: 1 (BadRequest), sequence: 169, resource id: 132, major code: 130 (Unknown), minor code: 47\n"
     ]
    }
   ],
   "source": [
    "config = configobj.ConfigObj('config.ini')\n",
    "line = config['line']\n",
    "ffdir = config['flats']['directory']\n",
    "settings = [f for f in os.listdir(ffdir) if 'settings' in f]\n",
    "settings = ffdir + os.sep + settings[0]\n",
    "settings = configobj.ConfigObj(settings)\n",
    "\n",
    "# Other numbers\n",
    "iline = get_line_num(settings, line)\n",
    "linestr = 'Line_' + str(iline)\n",
    "nacc = int(settings[linestr]['Polarimeter\\\\NAccumulations'])\n",
    "nwav = int(settings[linestr]['NWavePoints'])\n",
    "wavscan_range = float(settings[linestr]['WaveScanRange'])\n",
    "wavelength = float(settings[linestr]['LineWavelength'])\n",
    "wavestep = wavscan_range/(nwav-1)\n",
    "filtstr = settings[linestr]['Filter']\n",
    "modstr = settings[linestr]['Polarimeter\\\\Modulation']\n",
    "nmod = int(settings[filtstr]['Polarimeter\\\\'+modstr+'\\\\NModulations'])\n",
    "nfpc = nmod*nacc*nwav\n",
    "nfpw = nmod*nacc\n",
    "ncyc = len(os.listdir(ffdir+os.sep+line))//3"
   ]
  },
  {
   "cell_type": "code",
   "execution_count": 3,
   "metadata": {},
   "outputs": [],
   "source": [
    "def process_flat_fit(line, channel, mod):\n",
    "    # Read the settings\n",
    "    config = configobj.ConfigObj('config.ini')\n",
    "    ffdir = config['flats']['directory']\n",
    "    settings = [f for f in os.listdir(ffdir) if 'settings' in f]\n",
    "    settings = ffdir + os.sep + settings[0]\n",
    "    settings = configobj.ConfigObj(settings)\n",
    "\n",
    "    # Other numbers\n",
    "    iline = 0\n",
    "    linestr = 'Line_' + str(get_line_num(settings, line, iline))\n",
    "    nacc = int(settings[linestr]['Polarimeter\\\\NAccumulations'])\n",
    "    nwav = int(settings[linestr]['NWavePoints'])\n",
    "    filtstr = settings[linestr]['Filter']\n",
    "    modstr = settings[linestr]['Polarimeter\\\\Modulation']\n",
    "    nmod = int(settings[filtstr]['Polarimeter\\\\'+modstr+'\\\\NModulations'])\n",
    "    nfpc = nmod*nacc*nwav\n",
    "    nfpw = nmod*nacc\n",
    "    ncyc = len(os.listdir(ffdir+os.sep+line))//3\n",
    "    # Read the data\n",
    "    ffname = config['flats'][line+'/'+channel]\n",
    "    ff = np.float64(pf.open(ffname)[0].data)\n",
    "    print(time_now(), 'reading average flat files: ', '\\n', ffname)\n",
    "    Y, X = ff.shape[0:2]\n",
    "    ffm = ff[:,:,mod,:]\n",
    "    \n",
    "    # Fit the data\n",
    "    guess_params, fit_params = fit_lines_3d(ffm)\n",
    "    \n",
    "    # Save the data\n",
    "    ffit_name = ffname.replace('_fa', '_mod'+str(mod)+'_ft')\n",
    "    hdu1 = pf.PrimaryHDU(fit_params)\n",
    "    hdul = pf.HDUList([hdu1])\n",
    "    hdul.writeto(ffit_name, overwrite=True)\n",
    "    hdul.close()\n",
    "    config['flats'][line+'/'+channel+'_mod'+str(mod)+'_fit'] = ffit_name\n",
    "    config.write()\n",
    "    print(time_now(), 'fit data written to: ', '\\n', ffit_name)\n",
    "    return"
   ]
  },
  {
   "cell_type": "code",
   "execution_count": 4,
   "metadata": {},
   "outputs": [
    {
     "name": "stdout",
     "output_type": "stream",
     "text": [
      "09:35:27 reading average flat files: 09:35:2709:35:27  \n",
      " reading average flat files:  reading average flat files: /arch/1/VTT/hellride/raw/20230502/L0/HELLRIDE_pol2_20230502_Flats_1309_Fe_I_6173_fa.FITS  \n",
      "\n",
      "\n",
      "  /arch/1/VTT/hellride/raw/20230502/L0/HELLRIDE_pol2_20230502_Flats_1309_Fe_I_6173_fa.FITS/arch/1/VTT/hellride/raw/20230502/L0/HELLRIDE_pol2_20230502_Flats_1309_Fe_I_6173_fa.FITS\n",
      "\n"
     ]
    },
    {
     "name": "stderr",
     "output_type": "stream",
     "text": [
      "  0%|          | 0/1280 [00:00<?, ?it/s]"
     ]
    },
    {
     "name": "stdout",
     "output_type": "stream",
     "text": [
      "09:35:2709:35:27  reading average flat files:  reading average flat files: 09:35:27\n",
      " 09:35:27  \n",
      " /arch/1/VTT/hellride/raw/20230502/L0/HELLRIDE_pol1_20230502_Flats_1309_Fe_I_6173_fa.FITSreading average flat files:  reading average flat files: /arch/1/VTT/hellride/raw/20230502/L0/HELLRIDE_pol2_20230502_Flats_1309_Fe_I_6173_fa.FITS \n",
      "09:35:27 \n",
      "\n",
      " \n",
      "  /arch/1/VTT/hellride/raw/20230502/L0/HELLRIDE_pol1_20230502_Flats_1309_Fe_I_6173_fa.FITS"
     ]
    },
    {
     "name": "stderr",
     "output_type": "stream",
     "text": [
      "  0%|          | 0/1280 [00:00<?, ?it/s]"
     ]
    },
    {
     "name": "stdout",
     "output_type": "stream",
     "text": [
      "\n",
      "/arch/1/VTT/hellride/raw/20230502/L0/HELLRIDE_pol1_20230502_Flats_1309_Fe_I_6173_fa.FITS"
     ]
    },
    {
     "name": "stderr",
     "output_type": "stream",
     "text": [
      "  0%|          | 0/1280 [00:00<?, ?it/s]"
     ]
    },
    {
     "name": "stdout",
     "output_type": "stream",
     "text": [
      "reading average flat files:  \n"
     ]
    },
    {
     "name": "stderr",
     "output_type": "stream",
     "text": [
      "  0%|          | 0/1280 [00:00<?, ?it/s]"
     ]
    },
    {
     "name": "stdout",
     "output_type": "stream",
     "text": [
      "\n",
      " /arch/1/VTT/hellride/raw/20230502/L0/HELLRIDE_pol1_20230502_Flats_1309_Fe_I_6173_fa.FITS\n"
     ]
    },
    {
     "name": "stderr",
     "output_type": "stream",
     "text": [
      "  0%|          | 0/1280 [00:00<?, ?it/s]"
     ]
    },
    {
     "ename": "KeyboardInterrupt",
     "evalue": "",
     "output_type": "error",
     "traceback": [
      "\u001b[0;31m---------------------------------------------------------------------------\u001b[0m",
      "\u001b[0;31mKeyboardInterrupt\u001b[0m                         Traceback (most recent call last)",
      "Cell \u001b[0;32mIn[4], line 12\u001b[0m\n\u001b[1;32m     10\u001b[0m mp_args\u001b[38;5;241m.\u001b[39mappend([line, \u001b[38;5;124m'\u001b[39m\u001b[38;5;124mpol2\u001b[39m\u001b[38;5;124m'\u001b[39m, \u001b[38;5;241m2\u001b[39m])\n\u001b[1;32m     11\u001b[0m mp_args\u001b[38;5;241m.\u001b[39mappend([line, \u001b[38;5;124m'\u001b[39m\u001b[38;5;124mpol2\u001b[39m\u001b[38;5;124m'\u001b[39m, \u001b[38;5;241m3\u001b[39m])\n\u001b[0;32m---> 12\u001b[0m pool\u001b[38;5;241m.\u001b[39mstarmap(process_flat_fit, mp_args)\n",
      "File \u001b[0;32m~/anaconda3/lib/python3.11/multiprocessing/pool.py:375\u001b[0m, in \u001b[0;36mPool.starmap\u001b[0;34m(self, func, iterable, chunksize)\u001b[0m\n\u001b[1;32m    369\u001b[0m \u001b[38;5;28;01mdef\u001b[39;00m \u001b[38;5;21mstarmap\u001b[39m(\u001b[38;5;28mself\u001b[39m, func, iterable, chunksize\u001b[38;5;241m=\u001b[39m\u001b[38;5;28;01mNone\u001b[39;00m):\n\u001b[1;32m    370\u001b[0m \u001b[38;5;250m    \u001b[39m\u001b[38;5;124;03m'''\u001b[39;00m\n\u001b[1;32m    371\u001b[0m \u001b[38;5;124;03m    Like `map()` method but the elements of the `iterable` are expected to\u001b[39;00m\n\u001b[1;32m    372\u001b[0m \u001b[38;5;124;03m    be iterables as well and will be unpacked as arguments. Hence\u001b[39;00m\n\u001b[1;32m    373\u001b[0m \u001b[38;5;124;03m    `func` and (a, b) becomes func(a, b).\u001b[39;00m\n\u001b[1;32m    374\u001b[0m \u001b[38;5;124;03m    '''\u001b[39;00m\n\u001b[0;32m--> 375\u001b[0m     \u001b[38;5;28;01mreturn\u001b[39;00m \u001b[38;5;28mself\u001b[39m\u001b[38;5;241m.\u001b[39m_map_async(func, iterable, starmapstar, chunksize)\u001b[38;5;241m.\u001b[39mget()\n",
      "File \u001b[0;32m~/anaconda3/lib/python3.11/multiprocessing/pool.py:768\u001b[0m, in \u001b[0;36mApplyResult.get\u001b[0;34m(self, timeout)\u001b[0m\n\u001b[1;32m    767\u001b[0m \u001b[38;5;28;01mdef\u001b[39;00m \u001b[38;5;21mget\u001b[39m(\u001b[38;5;28mself\u001b[39m, timeout\u001b[38;5;241m=\u001b[39m\u001b[38;5;28;01mNone\u001b[39;00m):\n\u001b[0;32m--> 768\u001b[0m     \u001b[38;5;28mself\u001b[39m\u001b[38;5;241m.\u001b[39mwait(timeout)\n\u001b[1;32m    769\u001b[0m     \u001b[38;5;28;01mif\u001b[39;00m \u001b[38;5;129;01mnot\u001b[39;00m \u001b[38;5;28mself\u001b[39m\u001b[38;5;241m.\u001b[39mready():\n\u001b[1;32m    770\u001b[0m         \u001b[38;5;28;01mraise\u001b[39;00m \u001b[38;5;167;01mTimeoutError\u001b[39;00m\n",
      "File \u001b[0;32m~/anaconda3/lib/python3.11/multiprocessing/pool.py:765\u001b[0m, in \u001b[0;36mApplyResult.wait\u001b[0;34m(self, timeout)\u001b[0m\n\u001b[1;32m    764\u001b[0m \u001b[38;5;28;01mdef\u001b[39;00m \u001b[38;5;21mwait\u001b[39m(\u001b[38;5;28mself\u001b[39m, timeout\u001b[38;5;241m=\u001b[39m\u001b[38;5;28;01mNone\u001b[39;00m):\n\u001b[0;32m--> 765\u001b[0m     \u001b[38;5;28mself\u001b[39m\u001b[38;5;241m.\u001b[39m_event\u001b[38;5;241m.\u001b[39mwait(timeout)\n",
      "File \u001b[0;32m~/anaconda3/lib/python3.11/threading.py:622\u001b[0m, in \u001b[0;36mEvent.wait\u001b[0;34m(self, timeout)\u001b[0m\n\u001b[1;32m    620\u001b[0m signaled \u001b[38;5;241m=\u001b[39m \u001b[38;5;28mself\u001b[39m\u001b[38;5;241m.\u001b[39m_flag\n\u001b[1;32m    621\u001b[0m \u001b[38;5;28;01mif\u001b[39;00m \u001b[38;5;129;01mnot\u001b[39;00m signaled:\n\u001b[0;32m--> 622\u001b[0m     signaled \u001b[38;5;241m=\u001b[39m \u001b[38;5;28mself\u001b[39m\u001b[38;5;241m.\u001b[39m_cond\u001b[38;5;241m.\u001b[39mwait(timeout)\n\u001b[1;32m    623\u001b[0m \u001b[38;5;28;01mreturn\u001b[39;00m signaled\n",
      "File \u001b[0;32m~/anaconda3/lib/python3.11/threading.py:320\u001b[0m, in \u001b[0;36mCondition.wait\u001b[0;34m(self, timeout)\u001b[0m\n\u001b[1;32m    318\u001b[0m \u001b[38;5;28;01mtry\u001b[39;00m:    \u001b[38;5;66;03m# restore state no matter what (e.g., KeyboardInterrupt)\u001b[39;00m\n\u001b[1;32m    319\u001b[0m     \u001b[38;5;28;01mif\u001b[39;00m timeout \u001b[38;5;129;01mis\u001b[39;00m \u001b[38;5;28;01mNone\u001b[39;00m:\n\u001b[0;32m--> 320\u001b[0m         waiter\u001b[38;5;241m.\u001b[39macquire()\n\u001b[1;32m    321\u001b[0m         gotit \u001b[38;5;241m=\u001b[39m \u001b[38;5;28;01mTrue\u001b[39;00m\n\u001b[1;32m    322\u001b[0m     \u001b[38;5;28;01melse\u001b[39;00m:\n",
      "\u001b[0;31mKeyboardInterrupt\u001b[0m: "
     ]
    }
   ],
   "source": [
    "line = 'Fe_I_6173'\n",
    "pool = mp.Pool(8)\n",
    "mp_args = []\n",
    "mp_args.append([line, 'pol1', 0])\n",
    "mp_args.append([line, 'pol1', 1])\n",
    "mp_args.append([line, 'pol1', 2])\n",
    "mp_args.append([line, 'pol1', 3])\n",
    "mp_args.append([line, 'pol2', 0])\n",
    "mp_args.append([line, 'pol2', 1])\n",
    "mp_args.append([line, 'pol2', 2])\n",
    "mp_args.append([line, 'pol2', 3])\n",
    "pool.starmap(process_flat_fit, mp_args)"
   ]
  },
  {
   "cell_type": "code",
   "execution_count": null,
   "metadata": {},
   "outputs": [],
   "source": [
    "def process_flat_fit_parallel(line, channel, mod):\n",
    "    # Read the settings\n",
    "    config = configobj.ConfigObj('config.ini')\n",
    "    ffdir = config['flats']['directory']\n",
    "    settings = [f for f in os.listdir(ffdir) if 'settings' in f]\n",
    "    settings = ffdir + os.sep + settings[0]\n",
    "    settings = configobj.ConfigObj(settings)\n",
    "\n",
    "    # Other numbers\n",
    "    iline = 0\n",
    "    linestr = 'Line_' + str(get_line_num(settings, line, iline))\n",
    "    nacc = int(settings[linestr]['Polarimeter\\\\NAccumulations'])\n",
    "    nwav = int(settings[linestr]['NWavePoints'])\n",
    "    filtstr = settings[linestr]['Filter']\n",
    "    modstr = settings[linestr]['Polarimeter\\\\Modulation']\n",
    "    nmod = int(settings[filtstr]['Polarimeter\\\\'+modstr+'\\\\NModulations'])\n",
    "    nfpc = nmod*nacc*nwav\n",
    "    nfpw = nmod*nacc\n",
    "    ncyc = len(os.listdir(ffdir+os.sep+line))//3\n",
    "    # Read the data\n",
    "    ffname = config['flats'][line+'/'+channel]\n",
    "    ff = np.float64(pf.open(ffname)[0].data)\n",
    "    print(time_now(), 'reading average flat files: ', '\\n', ffname)\n",
    "    Y, X = ff.shape[0:2]\n",
    "    ffm = ff[:,:,mod,:]\n",
    "    \n",
    "    # Fit the data\n",
    "    fit_params = fit_lines_3d_parallel_poly2(ffm, nparallel=16)\n",
    "    \n",
    "    # Save the data\n",
    "    ffit_name = ffname.replace('_fa', '_mod'+str(mod)+'_ft')\n",
    "    hdu1 = pf.PrimaryHDU(fit_params)\n",
    "    hdul = pf.HDUList([hdu1])\n",
    "    hdul.writeto(ffit_name, overwrite=True)\n",
    "    hdul.close()\n",
    "    config['flats'][line+'/'+channel+str(mod)+'_fit'] = ffit_name\n",
    "    config.write()\n",
    "    print(time_now(), 'fit data written to: ', '\\n', ffit_name)\n",
    "    return"
   ]
  },
  {
   "cell_type": "code",
   "execution_count": null,
   "metadata": {},
   "outputs": [],
   "source": [
    "config = configobj.ConfigObj('config.ini')\n",
    "ffdir = config['flats']['directory']\n",
    "settings = [f for f in os.listdir(ffdir) if 'settings' in f]\n",
    "settings = ffdir + os.sep + settings[0]\n",
    "settings = configobj.ConfigObj(settings)\n",
    "#\n",
    "fit_params = []\n",
    "ffit_name = config['flats'][line+'/pol1_mod0_fit']\n",
    "fit_params.append(pf.open(ffit_name)[0].data)\n",
    "ffit_name = config['flats'][line+'/pol1_mod1_fit']\n",
    "fit_params.append(pf.open(ffit_name)[0].data)\n",
    "ffit_name = config['flats'][line+'/pol1_mod2_fit']\n",
    "fit_params.append(pf.open(ffit_name)[0].data)\n",
    "ffit_name = config['flats'][line+'/pol1_mod3_fit']\n",
    "fit_params.append(pf.open(ffit_name)[0].data)\n",
    "ffit_name = config['flats'][line+'/pol2_mod0_fit']\n",
    "fit_params.append(pf.open(ffit_name)[0].data)\n",
    "ffit_name = config['flats'][line+'/pol2_mod1_fit']\n",
    "fit_params.append(pf.open(ffit_name)[0].data)\n",
    "ffit_name = config['flats'][line+'/pol2_mod2_fit']\n",
    "fit_params.append(pf.open(ffit_name)[0].data)\n",
    "ffit_name = config['flats'][line+'/pol2_mod3_fit']\n",
    "fit_params.append(pf.open(ffit_name)[0].data)\n",
    "fit_params = np.array(fit_params)"
   ]
  },
  {
   "cell_type": "code",
   "execution_count": null,
   "metadata": {},
   "outputs": [],
   "source": [
    "temp = fit_params[2]\n",
    "fig, axs = plt.subplots(2,3,figsize=(12,8))\n",
    "for i, ax in enumerate(axs.flatten()):\n",
    "    ax.imshow(temp[:,:,i])\n",
    "fig.tight_layout()"
   ]
  },
  {
   "cell_type": "code",
   "execution_count": null,
   "metadata": {},
   "outputs": [],
   "source": [
    "ipar = 5\n",
    "plt.imshow(fit_params[0,:,:,ipar]-fit_params[1,:,:,ipar])\n",
    "plt.colorbar()"
   ]
  },
  {
   "cell_type": "code",
   "execution_count": null,
   "metadata": {},
   "outputs": [],
   "source": [
    "# Sample line fitting with predefined model\n",
    "ff1name = config['flats'][line+'/pol1']\n",
    "ff1 = np.float64(pf.open(ff1name)[0].data)\n",
    "ff2name = config['flats'][line+'/pol2']\n",
    "ff2 = np.float64(pf.open(ff2name)[0].data)\n",
    "#\n",
    "plt.figure()\n",
    "Y, X, nmod, Z = ff1.shape\n",
    "y, x  = 375, 30\n",
    "line_data, wav_ind = ff1[y,x,0], np.arange(Z)\n",
    "# fit_res = fit_gauss_poly2_parallel(line_data, y, x)\n",
    "fit1 = fit_gauss_poly2(line_data, y, x)\n",
    "plt.plot(fit1.best_fit, 'b')\n",
    "# plt.plot(gauss_poly2(guess_params, wav_ind))\n",
    "plt.plot(line_data, 'k--')\n",
    "# plt.plot(line_data)\n",
    "# plt.plot(res.init_fit)\n",
    "# fit_res[2]"
   ]
  }
 ],
 "metadata": {
  "kernelspec": {
   "display_name": "Python 3.8.8 ('base')",
   "language": "python",
   "name": "python3"
  },
  "language_info": {
   "codemirror_mode": {
    "name": "ipython",
    "version": 3
   },
   "file_extension": ".py",
   "mimetype": "text/x-python",
   "name": "python",
   "nbconvert_exporter": "python",
   "pygments_lexer": "ipython3",
   "version": "3.11.5"
  },
  "orig_nbformat": 4,
  "vscode": {
   "interpreter": {
    "hash": "1c1078a940144fcb486ff9d1334d3fdb2e0f9e86f163fbd19e2f06a9d73144ad"
   }
  }
 },
 "nbformat": 4,
 "nbformat_minor": 2
}
