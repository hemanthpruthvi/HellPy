{
 "cells": [
  {
   "cell_type": "code",
   "execution_count": 1,
   "metadata": {},
   "outputs": [
    {
     "name": "stderr",
     "output_type": "stream",
     "text": [
      "qt.qpa.xcb: X server does not support XInput 2\n"
     ]
    },
    {
     "name": "stderr",
     "output_type": "stream",
     "text": [
      "qt.qpa.xcb: QXcbConnection: XCB error: 1 (BadRequest), sequence: 169, resource id: 132, major code: 130 (Unknown), minor code: 47\n"
     ]
    }
   ],
   "source": [
    "%matplotlib qt5\n",
    "from process_files import *\n",
    "from func_target import *"
   ]
  },
  {
   "cell_type": "code",
   "execution_count": 6,
   "metadata": {},
   "outputs": [],
   "source": [
    "iline = 0\n",
    "line = 'Fe_I_6173'\n",
    "# calib data\n",
    "config = configobj.ConfigObj('config.ini')\n",
    "dkdir = config['darks']['directory']\n",
    "tgdir = config['targetplate']['directory']\n",
    "settings = [f for f in os.listdir(tgdir) if 'settings' in f]\n",
    "settings = tgdir + os.sep + settings[0]\n",
    "settings = configobj.ConfigObj(settings)\n",
    "#\n",
    "linestr = 'Line_' + str(get_line_num(settings, line, iline))\n",
    "nacc = int(settings[linestr]['Polarimeter\\\\NAccumulations'])\n",
    "nwav = int(settings[linestr]['NWavePoints'])\n",
    "filtstr = settings[linestr]['Filter']\n",
    "modstr = settings[linestr]['Polarimeter\\\\Modulation']\n",
    "nmod = int(settings[filtstr]['Polarimeter\\\\'+modstr+'\\\\NModulations'])\n",
    "nfpc = nmod*nacc*nwav\n",
    "nfpw = nmod*nacc\n",
    "ncyc = len(os.listdir(tgdir+os.sep+line))//3"
   ]
  },
  {
   "cell_type": "code",
   "execution_count": 24,
   "metadata": {},
   "outputs": [],
   "source": [
    "tg_name = config['targetplate'][line+'/l0data'] \n",
    "hdul = pf.open(tg_name)\n",
    "tg0 = hdul[0].data\n",
    "tg1 = hdul[1].data\n",
    "tg2 = hdul[2].data\n",
    "aff = hdul[3].data\n",
    "aff1 = aff[0]\n",
    "aff2 = aff[1]"
   ]
  },
  {
   "cell_type": "code",
   "execution_count": 25,
   "metadata": {},
   "outputs": [],
   "source": [
    "tg0_ = np.mean(tg0, axis=2)\n",
    "tg1_ = np.mean(tg1, axis=2)\n",
    "tg2_ = np.mean(tg2, axis=2)\n",
    "blink_frames([tg0_, tg1_, tg2_], repeat=1)"
   ]
  },
  {
   "cell_type": "code",
   "execution_count": 113,
   "metadata": {},
   "outputs": [],
   "source": [
    "sx1, sy1 = np.linalg.norm(aff1[:,0]), np.linalg.norm(aff1[:,1])\n",
    "sx2, sy2 = np.linalg.norm(aff2[:,0]), np.linalg.norm(aff2[:,1])\n",
    "mag = np.mean([sx1, sy1, sx2, sy2])\n",
    "#\n",
    "rotang1 = np.degrees(np.arctan2(-aff1[0,1]/sy1, aff1[0,0]/sx1))\n",
    "rotang2 = np.degrees(np.arctan2(-aff2[0,1]/sy2, aff2[0,0]/sx2))\n",
    "#\n",
    "sh1_ = np.array([-2,-2])\n",
    "sh2_ = np.array([-5,-1])\n",
    "sh1 = aff1[::-1,2] + sh1_\n",
    "sh2 = aff2[::-1,2] + sh2_\n",
    "#\n",
    "tg0_rot = tg0_\n",
    "tg1_rot = rotate(tg1_, -rotang1, reshape=False)\n",
    "tg2_rot = rotate(tg2_, -rotang2, reshape=False)\n",
    "#\n",
    "tg0_mag = tg0_rot\n",
    "tg1_mag = zoom_clipped(tg1_rot, mag) \n",
    "tg2_mag = zoom_clipped(tg2_rot, mag)\n",
    "#\n",
    "tg0_shift = tg0_mag\n",
    "tg1_shift = shift(tg1_mag, sh1)\n",
    "tg2_shift = shift(tg2_mag, sh2)"
   ]
  },
  {
   "cell_type": "code",
   "execution_count": 115,
   "metadata": {},
   "outputs": [],
   "source": [
    "roi = 800\n",
    "tg0_plt = get_imcenter(tg0_shift, roi, roi)\n",
    "tg1_plt = get_imcenter(tg1_shift, roi, roi)\n",
    "tg2_plt = get_imcenter(tg2_shift, roi, roi)\n",
    "tg0_plt = (tg0_plt-tg0_plt.min())/(tg0_plt.max()-tg0_plt.min())\n",
    "tg1_plt = (tg1_plt-tg1_plt.min())/(tg1_plt.max()-tg1_plt.min())\n",
    "tg2_plt = (tg2_plt-tg2_plt.min())/(tg2_plt.max()-tg2_plt.min())\n",
    "blink_frames([tg0_plt, tg1_plt], repeat=5)\n",
    "# plt.figure(); plt.imshow(tg0_shift)\n",
    "# plt.figure(); plt.imshow(tg1_shift)\n",
    "# plt.figure(); plt.imshow(tg2_shift)"
   ]
  },
  {
   "cell_type": "code",
   "execution_count": 82,
   "metadata": {},
   "outputs": [],
   "source": [
    "roi = 900\n",
    "tg0_ = get_imcenter(np.mean(tg0, axis=2), roi, roi)\n",
    "tg1_ = get_imcenter(np.mean(tg1, axis=2), roi, roi)\n",
    "tg2_ = get_imcenter(np.mean(tg2, axis=2), roi, roi)\n",
    "blink_frames([tg0_, tg1_, tg2_], repeat=1)"
   ]
  },
  {
   "cell_type": "code",
   "execution_count": 86,
   "metadata": {},
   "outputs": [],
   "source": [
    "def compute_angle1(img):\n",
    "    \"\"\" \n",
    "    |   Compute the angle of the lines in the image of a grid\n",
    "    |   Input : 2d image array\n",
    "    |   Output : angle [0,90)\n",
    "    \"\"\"\n",
    "    td = np.uint8(255*(img-img.min())/(img.max()-img.min()))\n",
    "    nyy, nxx = td.shape\n",
    "    plt.figure(); plt.imshow(td)\n",
    "    td = cv2.Canny(td, 50, 150)\n",
    "    td = cv2.dilate(td, np.ones([5,5], dtype=np.uint8))\n",
    "    td = cv2.erode(td, np.ones([5,5], dtype=np.uint8))\n",
    "    # plt.figure(); plt.imshow(td)\n",
    "    lines = cv2.HoughLinesP(td, rho=1, theta=np.pi/180, threshold=nxx//4, lines=50, minLineLength=nxx//1.5, maxLineGap=8)\n",
    "    for line in lines:\n",
    "        for x1, y1, x2, y2 in line:\n",
    "            plt.plot([x1,x2],[y1,y2],color='red')\n",
    "    # compute slope of the lines\n",
    "    angs = (lines[:,0,1]-lines[:,0,3])/(lines[:,0,0]-lines[:,0,2])\n",
    "    angs = np.degrees(np.arctan(angs))\n",
    "    angs[np.argwhere(angs<0)] += 90 \n",
    "    ang = np.median(angs)\n",
    "    # remove extremes\n",
    "    try:\n",
    "        extremes = np.argwhere(np.abs(angs-ang)>3).flatten()\n",
    "        angs = list(angs)\n",
    "        del angs[extremes]\n",
    "        ang = np.median(np.array(angs))\n",
    "    except: pass\n",
    "    return ang\n"
   ]
  },
  {
   "cell_type": "code",
   "execution_count": 94,
   "metadata": {},
   "outputs": [
    {
     "name": "stdout",
     "output_type": "stream",
     "text": [
      "Angles:  34.02166767656435 33.994945269224424 34.97774892350883\n",
      "Rotation angles are:  0 0\n"
     ]
    }
   ],
   "source": [
    "# Rotation\n",
    "ang0 = compute_angle1(tg0_)\n",
    "ang1 = compute_angle1(tg1_)\n",
    "ang2 = compute_angle1(tg2_)\n",
    "print('Angles: ', ang0, ang1, ang2)\n",
    "rotang1 = ang1 - ang0\n",
    "rotang2 = ang2 - ang0\n",
    "rotang1 = 0\n",
    "rotang2 = 0\n",
    "tg0_rot = tg0_\n",
    "tg1_rot = rotate(tg1_, rotang1, reshape=False)\n",
    "tg2_rot = rotate(tg2_, rotang2, reshape=False)\n",
    "print('Rotation angles are: ', rotang1, rotang2)\n",
    "config['targetplate']['rotang1'] = rotang1\n",
    "config['targetplate']['rotang2'] = rotang2\n",
    "config.write()\n"
   ]
  },
  {
   "cell_type": "code",
   "execution_count": 96,
   "metadata": {},
   "outputs": [],
   "source": [
    "blink_frames([tg0_, tg1_], repeat=10)"
   ]
  },
  {
   "cell_type": "code",
   "execution_count": 104,
   "metadata": {},
   "outputs": [
    {
     "name": "stderr",
     "output_type": "stream",
     "text": [
      "100%|██████████| 101/101 [00:10<00:00,  9.93it/s]\n",
      "100%|██████████| 101/101 [00:10<00:00,  9.99it/s]\n"
     ]
    },
    {
     "name": "stdout",
     "output_type": "stream",
     "text": [
      "Magnification:  0.9908 0.992\n"
     ]
    }
   ],
   "source": [
    "# Scaling\n",
    "mag1 = compute_magnification(tg0_rot, tg1_rot, minmag=0.98)\n",
    "mag2 = compute_magnification(tg0_rot, tg2_rot, maxmag=1.02)\n",
    "mag = 0.5*(mag1+mag2)\n",
    "mag = 0.98\n",
    "print('Magnification: ', mag1, mag2)\n",
    "tg0_mag = tg0_rot\n",
    "tg1_mag = zoom_clipped(tg1_rot, mag) \n",
    "tg2_mag = zoom_clipped(tg2_rot, mag)\n",
    "config['targetplate']['mag'] = mag\n",
    "config.write()\n",
    "#       "
   ]
  },
  {
   "cell_type": "code",
   "execution_count": 103,
   "metadata": {},
   "outputs": [],
   "source": [
    "blink_frames([tg0_mag, tg2_mag], pause=1, repeat=5)"
   ]
  },
  {
   "cell_type": "code",
   "execution_count": null,
   "metadata": {},
   "outputs": [],
   "source": [
    "\n",
    "def compute_shift(img1, img2, roi=0.5):\n",
    "    ny, nx = np.int16(roi*np.array(img1.shape))\n",
    "    im1_cen = get_imcenter(img1, nx, ny)\n",
    "    im1_int = fit_2d_plane(im1_cen, w=im1_cen)\n",
    "    im2_cen = get_imcenter(img2, nx, ny)\n",
    "    im2_int = fit_2d_plane(im2_cen, w=im2_cen)\n",
    "    im1, im2 = im1_cen-im1_int, im2_cen-im2_int\n",
    "    im1, im2 = (im1-im1.mean())/im1.std(), (im2-im2.mean())/im2.std()\n",
    "    # Window\n",
    "    hamm_0 = np.reshape(np.hamming(im1.shape[0]), (im1.shape[0], 1))\n",
    "    # hamm_0[32:-32] = hamm_0[31]\n",
    "    hamm_0 /= hamm_0.max()\n",
    "    hamm_1 = np.reshape(np.hamming(im1.shape[1]), (1, im1.shape[1]))\n",
    "    # hamm_1[32:-32] = hamm_1[31]\n",
    "    hamm_1 /= hamm_1.max()\n",
    "    w = hamm_0*hamm_1\n",
    "    # Images\n",
    "    im1, im2 = w*im1, w*im2\n",
    "    fim1, fim2 = np.fft.fft2(im1), np.fft.fft2(im2)\n",
    "    corr = np.fft.ifftshift(np.abs(np.fft.ifft2(fim1*np.conj(fim2))))\n",
    "    half = np.array([ny//2, nx//2])\n",
    "    sh = np.argwhere(corr==corr.max()).flatten()[0:2]-half\n",
    "    return sh"
   ]
  },
  {
   "cell_type": "code",
   "execution_count": null,
   "metadata": {},
   "outputs": [],
   "source": [
    "# Translation\n",
    "sh1 = compute_shift(tg0_mag, tg1_mag, roi=0.6)\n",
    "sh2 = compute_shift(tg0_mag, tg2_mag, roi=0.6)\n",
    "print('Shifts: ', sh1, sh2)\n",
    "tg0_shift = tg0_mag\n",
    "tg1_shift = shift(tg1_mag, sh1)\n",
    "tg2_shift = shift(tg2_mag, sh2)\n",
    "config['targetplate']['shift1_y'] = sh1[0]\n",
    "config['targetplate']['shift1_x'] = sh1[1]\n",
    "config['targetplate']['shift2_y'] = sh2[0]\n",
    "config['targetplate']['shift2_x'] = sh2[1]\n",
    "config.write()\n"
   ]
  },
  {
   "cell_type": "code",
   "execution_count": null,
   "metadata": {},
   "outputs": [],
   "source": [
    "fig, ax = plt.subplots(1,1,figsize=(5,5))\n",
    "ax.imshow(get)"
   ]
  },
  {
   "cell_type": "code",
   "execution_count": null,
   "metadata": {},
   "outputs": [],
   "source": [
    "# Crop \n",
    "vnow, hnow = tg0_shift.shape[0:2]\n",
    "vsize, hsize = tg0.shape[0:2]\n",
    "vcrop, hcrop = (vnow-vsize)//2, (hnow-hsize)//2\n",
    "tg0_crop = tg0_shift[vcrop:vcrop+vsize, hcrop:hcrop+hsize] \n",
    "tg1_crop = tg1_shift[vcrop:vcrop+vsize, hcrop:hcrop+hsize]\n",
    "tg2_crop = tg2_shift[vcrop:vcrop+vsize, hcrop:hcrop+hsize]"
   ]
  },
  {
   "cell_type": "code",
   "execution_count": null,
   "metadata": {},
   "outputs": [],
   "source": [
    "fig, axs = plt.subplots(1,3,figsize=(15,6))\n",
    "axs[0].imshow(tg0_crop)\n",
    "axs[1].imshow(tg1_crop)\n",
    "axs[2].imshow(tg2_crop)\n",
    "plt.tight_layout()"
   ]
  },
  {
   "cell_type": "code",
   "execution_count": null,
   "metadata": {},
   "outputs": [],
   "source": [
    "import cv2\n",
    "# Initiate ORB detector\n",
    "sift = cv2.SIFT_create()\n",
    "# find the keypoints and descriptors with ORB\n",
    "kpts0, descr0 = sift.detectAndCompute(np.uint8(255*tg0),None)\n",
    "kpts1, descr1 = sift.detectAndCompute(np.uint8(255*tg1),None)\n",
    "kpts2, descr2 = sift.detectAndCompute(np.uint8(255*tg2),None)\n",
    "# create BFMatcher object\n",
    "bf = cv2.BFMatcher()\n",
    "matches1 = bf.knnMatch(descr0, descr1, k=2)\n",
    "matches1_good = []\n",
    "for m,n in matches1:\n",
    "    if m.distance < 0.75*n.distance:\n",
    "        matches1_good.append(m)\n",
    "matches2 = bf.knnMatch(descr0, descr2, k=2)\n",
    "matches2_good = []\n",
    "for m,n in matches2:\n",
    "    if m.distance < 0.75*n.distance:\n",
    "        matches2_good.append(m)\n",
    "# Draw first 10 matches.\n",
    "matches1_img = cv2.drawMatches(tg0, kpts0, tg1, kpts1, matches1_good, None, flags=2)\n",
    "plt.figure(); plt.imshow(matches1_img)\n",
    "matches2_img = cv2.drawMatches(tg0, kpts0, tg2, kpts2, matches2_good, None, flags=2)\n",
    "plt.figure(); plt.imshow(matches2_img)"
   ]
  },
  {
   "cell_type": "code",
   "execution_count": null,
   "metadata": {},
   "outputs": [],
   "source": [
    "pts0 = np.array([kp.pt for kp in kpts0[0:10]], dtype=np.float32)\n",
    "pts1 = np.array([kp.pt for kp in kpts1[0:10]], dtype=np.float32)\n",
    "pts2 = np.array([kp.pt for kp in kpts2[0:10]], dtype=np.float32)\n",
    "affine1 = cv2.estimateAffinePartial2D(pts0, pts1)[0]\n",
    "affine2 = cv2.estimateAffinePartial2D(pts0, pts2)[0]"
   ]
  },
  {
   "cell_type": "code",
   "execution_count": null,
   "metadata": {},
   "outputs": [],
   "source": [
    "scale1 = affine1[0,0]/affine1[1,1]\n",
    "rotang1 = np.arctan2(affine1[1,0]/scale1, affine1[1,1]/scale1)\n",
    "shift1 = affine1[:,2]\n",
    "print(scale1, rotang1, shift1)\n",
    "#\n",
    "scale2= affine2[0,0]/affine2[1,1]\n",
    "rotang2 = np.arctan2(affine2[1,0]/scale2, affine2[1,1]/scale2)\n",
    "shift2 = affine2[:,2]\n",
    "print(scale2, rotang2, shift2)"
   ]
  },
  {
   "cell_type": "code",
   "execution_count": null,
   "metadata": {},
   "outputs": [],
   "source": []
  }
 ],
 "metadata": {
  "interpreter": {
   "hash": "ca1bbeed4cf13cdb6cc04c24eeb0fd5c926192403ad669bcfb4ac375cae3b663"
  },
  "kernelspec": {
   "display_name": "Python 3.8.8 64-bit ('base': conda)",
   "language": "python",
   "name": "python3"
  },
  "language_info": {
   "codemirror_mode": {
    "name": "ipython",
    "version": 3
   },
   "file_extension": ".py",
   "mimetype": "text/x-python",
   "name": "python",
   "nbconvert_exporter": "python",
   "pygments_lexer": "ipython3",
   "version": "3.11.5"
  },
  "orig_nbformat": 4
 },
 "nbformat": 4,
 "nbformat_minor": 2
}
