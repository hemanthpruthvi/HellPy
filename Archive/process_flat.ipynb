{
 "cells": [
  {
   "cell_type": "code",
   "execution_count": 1,
   "metadata": {},
   "outputs": [
    {
     "name": "stderr",
     "output_type": "stream",
     "text": [
      "qt.qpa.xcb: X server does not support XInput 2\n"
     ]
    },
    {
     "name": "stderr",
     "output_type": "stream",
     "text": [
      "qt.qpa.xcb: QXcbConnection: XCB error: 1 (BadRequest), sequence: 169, resource id: 132, major code: 130 (Unknown), minor code: 47\n"
     ]
    }
   ],
   "source": [
    "%matplotlib qt5\n",
    "from process_files import *\n",
    "from func_flats import *\n",
    "from process_flat_fit import *"
   ]
  },
  {
   "cell_type": "code",
   "execution_count": 2,
   "metadata": {},
   "outputs": [
    {
     "name": "stdout",
     "output_type": "stream",
     "text": [
      "Reading average flat files:  \n",
      " /arch/1/VTT/hellride/raw/20230502/L0/HELLRIDE_pol1_20230502_Flats_1309_Fe_I_6173_fa.FITS\n",
      "Fit data written to:  \n",
      " /arch/1/VTT/hellride/raw/20230502/L0/HELLRIDE_pol1_20230502_Flats_1309_Fe_I_6173_ft.FITS\n"
     ]
    }
   ],
   "source": [
    "line = 'Fe_I_6173'\n",
    "fit_params1 = process_flat_fit(line, 'pol1')"
   ]
  },
  {
   "cell_type": "code",
   "execution_count": null,
   "metadata": {},
   "outputs": [],
   "source": [
    "# iline = 0\n",
    "line = 'Fe_I_6173'\n",
    "# calib data\n",
    "config = configobj.ConfigObj('config.ini')\n",
    "ffdir = config['flats']['directory']\n",
    "settings = [f for f in os.listdir(ffdir) if 'settings' in f]\n",
    "settings = ffdir + os.sep + settings[0]\n",
    "settings = configobj.ConfigObj(settings)"
   ]
  },
  {
   "cell_type": "code",
   "execution_count": null,
   "metadata": {},
   "outputs": [],
   "source": [
    "ff1name = config['flats'][line+'/pol1'].replace('_fm', '_fa')\n",
    "ff2name = config['flats'][line+'/pol2'].replace('_fm', '_fa')\n",
    "#\n",
    "hdul = pf.open(ff1name)\n",
    "ff1 = np.float64(hdul[0].data)\n",
    "hdul = pf.open(ff2name)\n",
    "ff2 = np.float64(hdul[0].data)\n",
    "print('Reading average flat files: ', '\\n', ff1name, '\\n', ff2name)\n",
    "#\n",
    "fm1name = config['flats'][line+'/pol1'].replace('_fa', '_fm')\n",
    "fm2name = config['flats'][line+'/pol2'].replace('_fa', '_fm')"
   ]
  },
  {
   "cell_type": "code",
   "execution_count": null,
   "metadata": {},
   "outputs": [],
   "source": [
    "# Other numbers\n",
    "linestr = 'Line_' + str(get_line_num(settings, line, iline))\n",
    "nacc = int(settings[linestr]['Polarimeter\\\\NAccumulations'])\n",
    "nwav = int(settings[linestr]['NWavePoints'])\n",
    "filtstr = settings[linestr]['Filter']\n",
    "modstr = settings[linestr]['Polarimeter\\\\Modulation']\n",
    "nmod = int(settings[filtstr]['Polarimeter\\\\'+modstr+'\\\\NModulations'])\n",
    "nfpc = nmod*nacc*nwav\n",
    "nfpw = nmod*nacc\n",
    "ncyc = len(os.listdir(ffdir+os.sep+line))//3\n",
    "# Time stamps\n",
    "tsfile = [f for f in os.listdir(ffdir) if 'timestamp' in f]\n",
    "tsfile = ffdir + os.sep + tsfile[0]\n",
    "ts = np.loadtxt(tsfile, delimiter=',')\n",
    "im0ind, im1ind, im2ind = ts[:,3], ts[:,6], ts[:,9]"
   ]
  },
  {
   "cell_type": "code",
   "execution_count": null,
   "metadata": {},
   "outputs": [],
   "source": [
    "Y, X = ff1.shape[0:2]\n",
    "# ff1m = np.delete(ff1.reshape([Y,X,nacc*nmod,nwav], order='F'), 0, 2)\n",
    "ff1m = ff1.reshape([Y,X,nacc*nmod,nwav], order='F')\n",
    "ff1m = np.average(ff1m, axis=2)\n",
    "# ff2m = np.delete(ff2.reshape([Y,X,nacc*nmod,nwav], order='F'), 0, 2)\n",
    "ff2m = ff2.reshape([Y,X,nacc*nmod,nwav], order='F')\n",
    "ff2m = np.average(ff2m, axis=2)"
   ]
  },
  {
   "cell_type": "code",
   "execution_count": null,
   "metadata": {},
   "outputs": [],
   "source": [
    "fit_params1 = fit_lines_3d_parallel_poly2(ff1m, nparallel=16)\n",
    "#\n",
    "hdu1 = pf.PrimaryHDU(fit_params1)\n",
    "hdul = pf.HDUList([hdu1])\n",
    "hdul.writeto(ff1name, overwrite=True)\n",
    "hdul.close()\n",
    "#\n",
    "config['flats'][line+'/pol1_fit'] = ff1name\n",
    "config.write()"
   ]
  },
  {
   "cell_type": "code",
   "execution_count": null,
   "metadata": {},
   "outputs": [],
   "source": [
    "fit_params2 = fit_lines_3d_parallel_poly2(ff2m, nparallel=16)\n",
    "#\n",
    "hdu1 = pf.PrimaryHDU(fit_params2)\n",
    "hdul = pf.HDUList([hdu1])\n",
    "hdul.writeto(ff2name, overwrite=True)\n",
    "hdul.close()\n",
    "#\n",
    "config['flats'][line+'/pol2_fit'] = ff2name\n",
    "config.write()"
   ]
  },
  {
   "cell_type": "code",
   "execution_count": 3,
   "metadata": {},
   "outputs": [
    {
     "name": "stderr",
     "output_type": "stream",
     "text": [
      "libGL error: MESA-LOADER: failed to open swrast: /usr/lib/dri/swrast_dri.so: cannot open shared object file: No such file or directory (search paths /usr/lib/x86_64-linux-gnu/dri:\\$${ORIGIN}/dri:/usr/lib/dri, suffix _dri)\n",
      "libGL error: failed to load driver: swrast\n"
     ]
    }
   ],
   "source": [
    "fig, axs = plt.subplots(2,3,figsize=(12,8))\n",
    "for i, ax in enumerate(axs.flatten()):\n",
    "    ax.imshow(fit_params1[:,:,i])\n",
    "fig.tight_layout()"
   ]
  },
  {
   "cell_type": "code",
   "execution_count": null,
   "metadata": {},
   "outputs": [],
   "source": [
    "fit_params2.shape\n",
    "fig, axs = plt.subplots(2,3,figsize=(12,8))\n",
    "for i, ax in enumerate(axs.flatten()):\n",
    "    ax.imshow(fit_params2[:,:,i])\n",
    "fig.tight_layout()"
   ]
  },
  {
   "cell_type": "code",
   "execution_count": null,
   "metadata": {},
   "outputs": [],
   "source": [
    "# Sample line fitting with predefined model\n",
    "Y, X, Z = ff1m.shape\n",
    "y, x  = 375, 30\n",
    "line_data, wav_ind = ff1m[y,x,:], np.arange(Z)\n",
    "# fit_res = fit_gauss_poly2_parallel(line_data, y, x)\n",
    "fit_res = fit_gauss_poly2_parallel(line_data, y, x)\n",
    "plt.plot(fit_res[2].best_fit, 'b')\n",
    "# plt.plot(gauss_poly2(guess_params, wav_ind))\n",
    "plt.plot(line_data, 'k--')\n",
    "# plt.plot(line_data/gaussian_absroption_line(fit_params[3::], wav_ind))\n",
    "# print(fit_res[2].best_values)\n",
    "# res = fit_res[2]\n",
    "plt.plot(fit_res[2].init_fit, 'r')\n",
    "# plt.plot(line_data)\n",
    "# plt.plot(res.init_fit)\n",
    "# fit_res[2]"
   ]
  },
  {
   "cell_type": "code",
   "execution_count": null,
   "metadata": {},
   "outputs": [],
   "source": [
    "def fit_gauss_poly2(spectral_line, line_width=5.0, gain_factor=1.0, plot=False):\n",
    "    \"\"\"\n",
    "    Compute best fit for the line+continuum in the form of f(x)*[1-g(x)] where\n",
    "    x is the pixel number starting at 0\n",
    "    f(x) is quadratic (3 params)\n",
    "    g(x) is Gaussian (3 params)\n",
    "    Input:  1d-array spectral line\n",
    "            (opt.) estimated width of the line\n",
    "            (opt.) gain factor to estimate weights \n",
    "            (opt.) plot the results\n",
    "    Output: list of inital guess parameters\n",
    "            list of best fit parameters\n",
    "    \"\"\"\n",
    "    xdata = np.arange(len(spectral_line))\n",
    "    ydata = np.float64(spectral_line)\n",
    "    ydata_error = np.sqrt(spectral_line.mean()/gain_factor)\n",
    "    #\n",
    "    deg0_guess = ydata[0]\n",
    "    deg1_guess = (ydata[0]-ydata[-1])/(xdata[0]-xdata[-1])\n",
    "    deg2_guess = 0\n",
    "    amp_guess = 1-ydata.min()/deg0_guess\n",
    "    cen_guess = xdata[np.argwhere(ydata==ydata.min())].flatten()[0]\n",
    "    sig_guess = line_width/2.355\n",
    "    #\n",
    "    guess_params = Parameters()\n",
    "    guess_params.add(name='amp', value=amp_guess, max=1)\n",
    "    guess_params.add(name='cen', value=cen_guess, min=xdata.min(), max=xdata.max())\n",
    "    guess_params.add(name='sig', value=sig_guess, min=0, max=xdata.max())\n",
    "    guess_params.add(name='deg2', value=deg2_guess)\n",
    "    guess_params.add(name='deg1', value=deg1_guess)\n",
    "    guess_params.add(name='deg0', value=deg0_guess)\n",
    "    #\n",
    "    model = Model(gauss_poly2)\n",
    "    result = model.fit(ydata, guess_params, xdata=xdata)\n",
    "    return result\n",
    "#\n",
    "Y, X, Z = ff1m.shape\n",
    "fit1_params = np.zeros([Y, X, 6])\n",
    "for y in tqdm.tqdm(range(Y)):\n",
    "    for x in range(X):\n",
    "        res = fit_gauss_poly2(ff1m[y,x])\n",
    "        fit1_params[y,x,:] = np.fromiter(res.best_values.values(), dtype=float)\n",
    "hdu1 = pf.PrimaryHDU(fit1_params)\n",
    "hdu2 = pf.ImageHDU(ff1m)\n",
    "hdul = pf.HDUList([hdu1, hdu2])\n",
    "hdul.writeto(ff1name, overwrite=True)\n",
    "hdul.close()"
   ]
  },
  {
   "cell_type": "code",
   "execution_count": null,
   "metadata": {},
   "outputs": [],
   "source": [
    "Y, X, Z = ff2m.shape\n",
    "fit2_params = np.zeros([Y, X, 6])\n",
    "for y in tqdm.tqdm(range(Y)) :\n",
    "    for x in range(X):\n",
    "        res = fit_gauss_poly2(ff2m[y,x])\n",
    "        fit2_params[y,x,:] = np.fromiter(res.best_values.values(), dtype=float)\n",
    "hdu1 = pf.PrimaryHDU(fit2_params)\n",
    "hdu2 = pf.ImageHDU(ff2m)\n",
    "hdul = pf.HDUList([hdu1, hdu2])\n",
    "hdul.writeto(ff2name, overwrite=True)\n",
    "hdul.close()"
   ]
  },
  {
   "cell_type": "code",
   "execution_count": null,
   "metadata": {},
   "outputs": [],
   "source": [
    "# xdata = np.arange(ff1m.shape[2])\n",
    "plt.imshow(fit1_params[:,:,0])\n",
    "# plt.imshow(fit_line_shifts)\n",
    "plt.colorbar()\n",
    "# plt.clim([3,6])"
   ]
  },
  {
   "cell_type": "code",
   "execution_count": null,
   "metadata": {},
   "outputs": [],
   "source": [
    "popt, fit_line_shifts = fit_2d_parabola(fit_params1[:,:,1])\n",
    "plt.plot(fit_params1[600,:,1])\n",
    "plt.plot(fit_line_shifts[600,:])"
   ]
  },
  {
   "cell_type": "code",
   "execution_count": null,
   "metadata": {},
   "outputs": [],
   "source": [
    "# For photospheric lines\n",
    "# Channel-1 fitting\n",
    "guess_params1, fit_params1 = fit_lines_3d(ff1m)\n",
    "continuum1, line_shifts1 = compute_line_params_3d(fit_params1, np.arange(Z))\n",
    "#\n",
    "hdu1 = pf.PrimaryHDU(continuum1)\n",
    "hdu2 = pf.ImageHDU(line_shifts1)\n",
    "hdu3 = pf.ImageHDU(ff1m)\n",
    "hdul = pf.HDUList([hdu1, hdu2, hdu3])\n",
    "hdul.writeto(ff1name, overwrite=True)\n",
    "hdul.close()\n",
    "# Channel-2 fitting\n",
    "guess_params2, fit_params2 = fit_lines_3d(ff2m)\n",
    "continuum2, line_shifts2 = compute_line_params_3d(fit_params2, np.arange(nwav))\n",
    "#\n",
    "hdu1 = pf.PrimaryHDU(continuum2)\n",
    "hdu2 = pf.ImageHDU(line_shifts2)\n",
    "hdu3 = pf.ImageHDU(ff2m)\n",
    "hdul = pf.HDUList([hdu1, hdu2, hdu3])\n",
    "hdul.writeto(ff2name, overwrite=True)\n",
    "hdul.close()"
   ]
  },
  {
   "cell_type": "code",
   "execution_count": null,
   "metadata": {},
   "outputs": [],
   "source": [
    "# For photospheric lines\n",
    "# Channel-1 fitting\n",
    "guess_params1, fit_params1 = fit_lines_3d(ff1m)\n",
    "continuum1, line_shifts1 = compute_line_params_3d(fit_params1, np.arange(Z))\n",
    "#\n",
    "hdu1 = pf.PrimaryHDU(continuum1)\n",
    "hdu2 = pf.ImageHDU(line_shifts1)\n",
    "hdu3 = pf.ImageHDU(ff1m)\n",
    "hdul = pf.HDUList([hdu1, hdu2, hdu3])\n",
    "hdul.writeto(ff1name, overwrite=True)\n",
    "hdul.close()\n",
    "# Channel-2 fitting\n",
    "guess_params2, fit_params2 = fit_lines_3d(ff2m)\n",
    "continuum2, line_shifts2 = compute_line_params_3d(fit_params2, np.arange(nwav))\n",
    "#\n",
    "hdu1 = pf.PrimaryHDU(continuum2)\n",
    "hdu2 = pf.ImageHDU(line_shifts2)\n",
    "hdu3 = pf.ImageHDU(ff2m)\n",
    "hdul = pf.HDUList([hdu1, hdu2, hdu3])\n",
    "hdul.writeto(ff2name, overwrite=True)\n",
    "hdul.close()"
   ]
  },
  {
   "cell_type": "code",
   "execution_count": null,
   "metadata": {},
   "outputs": [],
   "source": [
    "config['flats'][line+'/bbi'] = ff0name\n",
    "config['flats'][line+'/pol1'] = ff1name\n",
    "config['flats'][line+'/pol2'] = ff2name\n",
    "config.write()"
   ]
  },
  {
   "cell_type": "code",
   "execution_count": null,
   "metadata": {},
   "outputs": [],
   "source": [
    "plt.imshow(line_shifts1)"
   ]
  },
  {
   "cell_type": "code",
   "execution_count": null,
   "metadata": {},
   "outputs": [],
   "source": [
    "# To compute other artifacts, divide corrected flat array by template line profile \n",
    "ff1_corr = []\n",
    "for i in tqdm.tqdm(range(ncyc)):\n",
    "    dc1 = data_cube(ffdir, line, 1, i)\n",
    "    temp1 = np.median(dc1.data.reshape([1280,1280,20,13], order='F'), axis=2) - dk1.data.reshape([Y,X,1])\n",
    "    temp2 = shift_3darray(temp1/continuum, -line_shifts)\n",
    "    ff1_corr.append(temp2)\n",
    "ff1_cm = np.mean(np.array(ff1_corr)/ncyc, axis=0)\n",
    "ff1_line = np.median(ff1_cm, axis=(0,1)).reshape([1,1,Z])\n",
    "ff1_master = ff1_cm/ff1_line"
   ]
  },
  {
   "cell_type": "code",
   "execution_count": null,
   "metadata": {},
   "outputs": [],
   "source": [
    "ff1_save = np.zeros([Y,X,2*Z+1])\n",
    "ff1_save[:,:,0:Z] = continuum\n",
    "ff1_save[:,:,Z] = line_shifts\n",
    "ff1_save[:,:,Z+1::] = ff1_master"
   ]
  },
  {
   "cell_type": "code",
   "execution_count": null,
   "metadata": {},
   "outputs": [],
   "source": [
    "# Compute line shifts using finding valleys\n",
    "\n",
    "def compute_line_shifts(data, npix=1280):\n",
    "    Y, X, Z = data.shape\n",
    "    # crop data\n",
    "    Ybeg, Yend, Xbeg, Xend = Y//2-npix//2, Y//2-npix//2+npix, X//2-npix//2, X//2-npix//2+npix\n",
    "    data_ = data[Ybeg:Yend,Xbeg:Xend,:]\n",
    "    line_cens = np.zeros([npix, npix])\n",
    "    for y in tqdm.tqdm(range(npix)):\n",
    "        for x in range(npix):\n",
    "            lprof = data_[y,x,:]\n",
    "            line_cens[y,x] = find_line_valley(lprof,npts=5)\n",
    "    # Fit line shifts with a 2d quadratic (Poly2) equation\n",
    "    YY, XX = np.meshgrid(np.arange(Ybeg,Yend), np.arange(Xbeg,Xend))\n",
    "    x_ = np.vstack((YY.ravel(), XX.ravel()))\n",
    "    p0 = (0,0,0,0,0)\n",
    "    popt, pcov = curve_fit(poly2_2d, x_, line_cens.ravel(),p0=p0)\n",
    "    # Extend the fit to the entire range\n",
    "    YY, XX = np.meshgrid(np.arange(Y), np.arange(X))\n",
    "    x_ = np.vstack((YY.ravel(), XX.ravel()))\n",
    "    line_cens_fit = poly2_2d(x_, *popt).reshape([Y,X])\n",
    "    return line_cens, line_cens_fit\n",
    "# Plot the fits\n",
    "line_cens, line_cens_fit = compute_line_shifts(ff1m)\n",
    "fig = plt.figure()\n",
    "ax = fig.add_subplot(111, projection='3d')\n",
    "YY, XX = np.meshgrid(np.arange(Y), np.arange(X))\n",
    "# ax.plot_surface(YY, XX, line_cens)\n",
    "ax.plot_surface(YY, XX, line_cens_fit)\n",
    "#"
   ]
  },
  {
   "cell_type": "code",
   "execution_count": null,
   "metadata": {},
   "outputs": [],
   "source": [
    "plt.imshow(line_cens)"
   ]
  },
  {
   "cell_type": "code",
   "execution_count": null,
   "metadata": {},
   "outputs": [],
   "source": [
    "from scipy.interpolate import interp1d\n",
    "def find_valley_interp(line, res=0.01):\n",
    "    \"\"\"\n",
    "    |   Compute line center by sub-pixel interpolation of Poly2 minima\n",
    "    |   Input : 1d line profile, number of points around minima to consider for Poly2 interpolation \n",
    "    |   Output : valley position (double)\n",
    "    \"\"\"\n",
    "    func = interp1d(np.arange(len(line)), line, kind='cubic')\n",
    "    xnew = np.arange(0, len(line)-1, res)\n",
    "    xmin = xnew[np.argmin(func(xnew))]\n",
    "    return xmin"
   ]
  },
  {
   "cell_type": "code",
   "execution_count": null,
   "metadata": {},
   "outputs": [],
   "source": [
    "# Compute line shifts using finding valleys\n",
    "def compute_line_shifts(data):\n",
    "    Y, X, Z = data.shape\n",
    "    line_cens = np.zeros([Y, X])\n",
    "    for y in tqdm.tqdm(range(Y)):\n",
    "        for x in range(X):\n",
    "            line_cens[y,x] = find_valley_interp(data[y,x,:])\n",
    "    # Fit line shifts with a 2d quadratic (Poly2) equation\n",
    "    YY, XX = np.meshgrid(np.arange(Y), np.arange(X))\n",
    "    x_ = np.vstack((YY.ravel(), XX.ravel()))\n",
    "    p0 = (0,0,0,0,0)\n",
    "    popt, pcov = curve_fit(poly2_2d, x_, line_cens.ravel(),p0=p0)\n",
    "    line_cens_fit = poly2_2d(x_, *popt).reshape([Y,X])\n",
    "    return line_cens, line_cens_fit\n",
    "# Plot the fits\n",
    "line1_cens, line1_cens_fit = compute_line_shifts(ff1m)\n",
    "line2_cens, line2_cens_fit = compute_line_shifts(ff2m)\n",
    "#\n",
    "fig = plt.figure()\n",
    "ax1 = fig.add_subplot(211, projection='3d')\n",
    "ax2 = fig.add_subplot(212, projection='3d')\n",
    "YY, XX = np.meshgrid(np.arange(Y), np.arange(X))\n",
    "ax1.plot_surface(YY, XX, line1_cens)\n",
    "ax1.plot_surface(YY, XX, line1_cens_fit)\n",
    "ax2.plot_surface(YY, XX, line2_cens)\n",
    "ax2.plot_surface(YY, XX, line2_cens_fit)\n",
    "#"
   ]
  },
  {
   "cell_type": "code",
   "execution_count": null,
   "metadata": {},
   "outputs": [],
   "source": [
    "plt.plot(line1_cens[:,640])\n",
    "plt.plot(line1_cens_fit[:,640])"
   ]
  },
  {
   "cell_type": "code",
   "execution_count": null,
   "metadata": {},
   "outputs": [],
   "source": [
    "# Compute line shifts using finding valleys\n",
    "Y, X, Z = ff2m.shape\n",
    "line_cens = np.zeros([Y, X])\n",
    "for y in tqdm.tqdm(range(Y)):\n",
    "    for x in range(X):\n",
    "        lprof = ff2m[y,x,:]\n",
    "        line_cens[y,x] = find_line_valley(lprof)\n",
    "# Fit line shifts with a 2d quadratic (Poly2) equation\n",
    "x_ = np.tile(np.arange(Y).reshape([1,Y]),2).flatten()\n",
    "YY, XX = np.meshgrid(np.arange(Y), np.arange(X))\n",
    "x_ = np.vstack((YY.ravel(), XX.ravel()))\n",
    "p0 = (0,0,0,0,0)\n",
    "popt, pcov = curve_fit(poly2_2d, x_, line_cens.ravel(),p0=p0)\n",
    "line_cens_fit = poly2_2d(x_, *popt).reshape([Y,X])\n",
    "# Plot the fits\n",
    "fig = plt.figure()\n",
    "ax = fig.add_subplot(111, projection='3d')\n",
    "YY, XX = np.meshgrid(np.arange(Y), np.arange(X))\n",
    "ax.plot_surface(YY, XX, line_cens)\n",
    "ax.plot_surface(YY, XX, line_cens_fit)"
   ]
  },
  {
   "cell_type": "code",
   "execution_count": null,
   "metadata": {},
   "outputs": [],
   "source": [
    "popt"
   ]
  },
  {
   "cell_type": "code",
   "execution_count": null,
   "metadata": {},
   "outputs": [],
   "source": [
    "temp = line_cens[640]\n",
    "temp[24:324] -= 0.46\n",
    "plt.plot(line_cens[640])"
   ]
  },
  {
   "cell_type": "code",
   "execution_count": null,
   "metadata": {},
   "outputs": [],
   "source": [
    "plt.plot(ff2m[640,322])\n",
    "plt.plot(ff2m[640,336])"
   ]
  },
  {
   "cell_type": "code",
   "execution_count": null,
   "metadata": {},
   "outputs": [],
   "source": []
  },
  {
   "cell_type": "code",
   "execution_count": null,
   "metadata": {},
   "outputs": [],
   "source": [
    "plt.plot()"
   ]
  },
  {
   "cell_type": "code",
   "execution_count": null,
   "metadata": {},
   "outputs": [],
   "source": [
    "# Shift all the lines to compute master\n",
    "line_shifts = Z//2-line_cens_fit\n",
    "ff1m_shifted = shift_3darray(ff1m, line_shifts)"
   ]
  },
  {
   "cell_type": "code",
   "execution_count": null,
   "metadata": {},
   "outputs": [],
   "source": [
    "temp = ff1m_shifted/np.average(ff1m_shifted, axis=2).reshape([Y,X,1])\n",
    "ltempl1 = np.median(temp, axis=(0,1)).reshape([1,1,Z])\n",
    "# ltempl1m = np.mean(temp, axis=(0,1)).reshape([1,1,Z])\n",
    "plt.figure()\n",
    "plt.plot(ltempl1.flatten())\n",
    "# plt.plot(ltempl1m.flatten())\n",
    "ff1_gt = ff1m_shifted/ltempl1\n",
    "continuum = ff1_gt/np.median(ff1_gt)"
   ]
  }
 ],
 "metadata": {
  "kernelspec": {
   "display_name": "Python 3.8.8 ('base')",
   "language": "python",
   "name": "python3"
  },
  "language_info": {
   "codemirror_mode": {
    "name": "ipython",
    "version": 3
   },
   "file_extension": ".py",
   "mimetype": "text/x-python",
   "name": "python",
   "nbconvert_exporter": "python",
   "pygments_lexer": "ipython3",
   "version": "3.11.5"
  },
  "orig_nbformat": 4,
  "vscode": {
   "interpreter": {
    "hash": "1c1078a940144fcb486ff9d1334d3fdb2e0f9e86f163fbd19e2f06a9d73144ad"
   }
  }
 },
 "nbformat": 4,
 "nbformat_minor": 2
}
