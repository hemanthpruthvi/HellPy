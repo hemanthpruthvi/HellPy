{
 "cells": [
  {
   "cell_type": "code",
   "execution_count": 1,
   "metadata": {},
   "outputs": [],
   "source": [
    "%matplotlib qt5\n",
    "from process_files import *\n",
    "from func_science import *\n",
    "from mpl_toolkits.axes_grid1 import make_axes_locatable, axes_size"
   ]
  },
  {
   "cell_type": "markdown",
   "metadata": {},
   "source": [
    "# Flow of generating magnetograms\n",
    "1. Load the config file corresponding to the data to be reduced\n",
    "2. Get the darks data\n",
    "3. Load meta data from the config file to derive structure of the data\n",
    "4. Load flat field correction data\n",
    "5. Load polarimetric modulation parameters (from the calibration data, stored in config file)\n",
    "6. Load alignment parameters (from the target plate data, stored in config file)\n",
    "7. Load the raw science data of interest and apply corrections (flat fielding, pol. demodulation, pol. crosstalk corrections) \n",
    "8. visualize the data --\n",
    "\n",
    "--- yet to be done\n",
    "\n",
    "9. Correct additional pol. crosstalks (e.g., instrumental polarization)\n",
    "10. Combine the two beams\n",
    "11. Derive magnetic field maps "
   ]
  },
  {
   "cell_type": "code",
   "execution_count": 2,
   "metadata": {},
   "outputs": [
    {
     "name": "stdout",
     "output_type": "stream",
     "text": [
      "Settings loaded from  D:\\Darks\\20220302\\1239\\HELLRIDE_20220339_123950561_settings.ini\n",
      "Data loading from  D:\\Darks\\20220302\\1239\\Fe_I_6173\\HELLRIDE_bbi_20220302_123927508_dk.DAT\n",
      "Settings loaded from  D:\\Darks\\20220302\\1239\\HELLRIDE_20220339_123950561_settings.ini\n",
      "Data loading from  D:\\Darks\\20220302\\1239\\Fe_I_6173\\HELLRIDE_pol1_20220302_123927683_dk.DAT\n",
      "Settings loaded from  D:\\Darks\\20220302\\1239\\HELLRIDE_20220339_123950561_settings.ini\n",
      "Data loading from  D:\\Darks\\20220302\\1239\\Fe_I_6173\\HELLRIDE_pol2_20220302_123927860_dk.DAT\n"
     ]
    }
   ],
   "source": [
    "iline = 0\n",
    "line = 'Fe_I_6173'\n",
    "# calib data\n",
    "config = configobj.ConfigObj('config.ini')\n",
    "dkdir = config['darks']['directory']\n",
    "scdir = config['science']['directory']\n",
    "settings = [f for f in os.listdir(scdir) if 'settings' in f]\n",
    "settings = scdir + os.sep + settings[0]\n",
    "settings = configobj.ConfigObj(settings)\n",
    "# dark frames \n",
    "dk0 = data_cube(dkdir, line, 0, 0 )\n",
    "dk0m = process_dark_cube(dk0.data)\n",
    "dk1 = data_cube(dkdir, line, 1, 0)\n",
    "dk1m = process_dark_cube(dk1.data)\n",
    "dk2 = data_cube(dkdir, line, 2, 0)\n",
    "dk2m = process_dark_cube(dk2.data)"
   ]
  },
  {
   "cell_type": "code",
   "execution_count": 3,
   "metadata": {},
   "outputs": [],
   "source": [
    "# Other numbers\n",
    "linestr = 'Line_' + str(get_line_num(settings, line, iline))\n",
    "nacc = int(settings[linestr]['Polarimeter\\\\NAccumulations'])\n",
    "nwav = int(settings[linestr]['NWavePoints'])\n",
    "filtstr = settings[linestr]['Filter']\n",
    "modstr = settings[linestr]['Polarimeter\\\\Modulation']\n",
    "nmod = int(settings[filtstr]['Polarimeter\\\\'+modstr+'\\\\NModulations'])\n",
    "nfpc = nmod*nacc*nwav\n",
    "nfpw = nmod*nacc\n",
    "ncyc = len(os.listdir(scdir+os.sep+line))//3\n",
    "wave_range = np.float64(settings[linestr]['WaveScanRange'])\n",
    "wave_step = wave_range/(np.float64(settings[linestr]['NWavePoints'])-1)\n",
    "# Time stamps\n",
    "tsfile = [f for f in os.listdir(scdir) if 'timestamp' in f]\n",
    "tsfile = scdir + os.sep + tsfile[0]\n",
    "ts = np.loadtxt(tsfile, delimiter=',')\n",
    "im0ind, im1ind, im2ind = ts[:,3], ts[:,6], ts[:,9]\n",
    "im0ind = im0ind[0:nfpc*ncyc].reshape([ncyc,nfpc])\n",
    "im1ind = im1ind[0:nfpc*ncyc].reshape([ncyc,nfpc])\n",
    "im2ind = im2ind[0:nfpc*ncyc].reshape([ncyc,nfpc])\n",
    "#\n",
    "im0ind = im0ind - im0ind[:,0:1]\n",
    "im1ind = im1ind - im1ind[:,0:1]\n",
    "im2ind = im2ind - im2ind[:,0:1]\n",
    "#\n",
    "im0ind = im0ind.reshape([ncyc, nwav, nacc, nmod])%nmod\n",
    "im1ind = im1ind.reshape([ncyc, nwav, nacc, nmod])%nmod\n",
    "im2ind = im2ind.reshape([ncyc, nwav, nacc, nmod])%nmod"
   ]
  },
  {
   "cell_type": "code",
   "execution_count": 4,
   "metadata": {},
   "outputs": [
    {
     "name": "stderr",
     "output_type": "stream",
     "text": [
      "100%|██████████| 1280/1280 [01:52<00:00, 11.39it/s]\n",
      "100%|██████████| 1280/1280 [01:51<00:00, 11.45it/s]\n",
      "100%|██████████| 1280/1280 [01:52<00:00, 11.34it/s]\n",
      "100%|██████████| 1280/1280 [01:52<00:00, 11.33it/s]\n"
     ]
    }
   ],
   "source": [
    "# bbi flats\n",
    "ff0 = pf.open(config['flats'][line+'/bbi'])\n",
    "ff0m = ff0[0].data[:,:,np.newaxis]\n",
    "ff0m /= ff0m.mean()\n",
    "ff0.close()\n",
    "# pol1 flats\n",
    "ff1 = pf.open(config['flats'][line+'/pol1'])\n",
    "continuum1 = ff1[0].data\n",
    "line_shifts1 = ff1[1].data\n",
    "ff1m = ff1[2].data\n",
    "ff1.close()\n",
    "ff1msh = shift_3darray(ff1m/continuum1, line_shifts1)\n",
    "ltempl1 = compute_mean_profile(ff1msh)\n",
    "linearr1 = compute_shifted_lines(ltempl1, -line_shifts1)\n",
    "ff1mast = ff1m/linearr1\n",
    "# pol2 flats\n",
    "ff2 = pf.open(config['flats'][line+'/pol2'])\n",
    "continuum2 = ff2[0].data\n",
    "line_shifts2 = ff2[1].data\n",
    "ff2m = ff2[2].data\n",
    "ff2.close()\n",
    "ff2msh = shift_3darray(ff2m/continuum2, line_shifts2)\n",
    "ltempl2 = compute_mean_profile(ff2msh)\n",
    "linearr2 = compute_shifted_lines(ltempl2, -line_shifts2)\n",
    "ff2mast = ff2m/linearr2"
   ]
  },
  {
   "cell_type": "code",
   "execution_count": 6,
   "metadata": {},
   "outputs": [
    {
     "data": {
      "text/plain": [
       "[<matplotlib.lines.Line2D at 0x23ff46f7250>]"
      ]
     },
     "execution_count": 6,
     "metadata": {},
     "output_type": "execute_result"
    }
   ],
   "source": [
    "plt.plot(ff2msh[600,600])\n",
    "plt.plot(ff2msh[1000,1000])"
   ]
  },
  {
   "cell_type": "code",
   "execution_count": 5,
   "metadata": {},
   "outputs": [],
   "source": [
    "# pol1 calib\n",
    "pc1 = pf.open(config['pcalibration'][line+'/pol1'])\n",
    "modmat1 = pc1[1].data\n",
    "pc1.close()\n",
    "demodmat1 = np.linalg.pinv(modmat1)\n",
    "# pol2 calib\n",
    "pc2 = pf.open(config['pcalibration'][line+'/pol2'])\n",
    "modmat2 = pc2[1].data\n",
    "pc2.close()\n",
    "demodmat2 = np.linalg.pinv(modmat2)\n",
    "# config params\n",
    "rotang1 = np.float64(config['targetplate']['rotang1'])\n",
    "rotang2 = np.float64(config['targetplate']['rotang2'])\n",
    "mag = np.float64(config['targetplate']['mag'])\n",
    "shift1_y = np.float64(config['targetplate']['shift1_y'])\n",
    "shift1_x = np.float64(config['targetplate']['shift1_x'])\n",
    "shift2_y = np.float64(config['targetplate']['shift2_y'])\n",
    "shift2_x = np.float64(config['targetplate']['shift2_x'])\n",
    "bbi_scale = np.float64(config['targetplate']['bbi_scale'])\n",
    "pol1_scale = mag*bbi_scale\n",
    "pol2_scale = mag*bbi_scale"
   ]
  },
  {
   "cell_type": "code",
   "execution_count": 6,
   "metadata": {},
   "outputs": [
    {
     "name": "stdout",
     "output_type": "stream",
     "text": [
      "Settings loaded from  D:\\Science\\20220302\\1317\\HELLRIDE_20220317_131730726_settings.ini\n",
      "Data loading from  D:\\Science\\20220302\\1317\\Fe_I_6173\\HELLRIDE_bbi_20220302_131732198_sc.DAT\n",
      "Settings loaded from  D:\\Science\\20220302\\1317\\HELLRIDE_20220317_131730726_settings.ini\n",
      "Data loading from  D:\\Science\\20220302\\1317\\Fe_I_6173\\HELLRIDE_pol1_20220302_131732544_sc.DAT\n"
     ]
    },
    {
     "name": "stderr",
     "output_type": "stream",
     "text": [
      "100%|██████████| 1280/1280 [01:52<00:00, 11.42it/s]\n",
      "100%|██████████| 1280/1280 [01:51<00:00, 11.44it/s]\n",
      "100%|██████████| 1280/1280 [01:48<00:00, 11.80it/s]\n",
      "100%|██████████| 1280/1280 [01:48<00:00, 11.85it/s]\n"
     ]
    },
    {
     "name": "stdout",
     "output_type": "stream",
     "text": [
      "I-->Q crosstalk distribution (mean, stdev): 0.0222 0.0062\n",
      "I-->U crosstalk distribution (mean, stdev): -0.0357 0.0101\n",
      "I-->V crosstalk distribution (mean, stdev): -0.1761 0.0063\n",
      "Settings loaded from  D:\\Science\\20220302\\1317\\HELLRIDE_20220317_131730726_settings.ini\n",
      "Data loading from  D:\\Science\\20220302\\1317\\Fe_I_6173\\HELLRIDE_pol2_20220302_131732905_sc.DAT\n"
     ]
    },
    {
     "name": "stderr",
     "output_type": "stream",
     "text": [
      "100%|██████████| 1280/1280 [01:51<00:00, 11.46it/s]\n",
      "100%|██████████| 1280/1280 [01:51<00:00, 11.49it/s]\n",
      "100%|██████████| 1280/1280 [01:51<00:00, 11.48it/s]\n",
      "100%|██████████| 1280/1280 [01:48<00:00, 11.80it/s]\n"
     ]
    },
    {
     "name": "stdout",
     "output_type": "stream",
     "text": [
      "I-->Q crosstalk distribution (mean, stdev): 0.0357 0.008\n",
      "I-->U crosstalk distribution (mean, stdev): -0.1056 0.0143\n",
      "I-->V crosstalk distribution (mean, stdev): -0.172 0.0056\n"
     ]
    }
   ],
   "source": [
    "# Get science data; test it only on one set\n",
    "for i in range(1):\n",
    "    dc0 = data_cube(scdir, line, 0, i)\n",
    "    Y = X = dc0.roi\n",
    "    sc0 = dc0.data - dk0m\n",
    "    sc0corr = sc0/ff0m\n",
    "    #\n",
    "    dc1 = data_cube(scdir, line, 1, i)\n",
    "    sc1 = dc1.data.reshape([Y,X,nacc*nmod*nwav], order='F') - dk1m\n",
    "    sc1_add = coadd_modulated_imgs (sc1, im1ind[i], nmod, nacc, nwav)\n",
    "    sc1_ff = sc1_add/ff1mast[:,:,np.newaxis,:]\n",
    "    sc1_sh = shift_lines_4d(sc1_ff, line_shifts1)\n",
    "    sc1_demod = np.einsum('ijkl,mk->ijml', sc1_sh, demodmat1)\n",
    "    sc1_demod[:,:,1::,:] /= sc1_demod[:,:,0,:][:,:,np.newaxis,:]\n",
    "    sc1_demod = np.fliplr(sc1_demod)\n",
    "    sc1_i2quv_corr = correct_i2quv(sc1_demod)\n",
    "    #\n",
    "    dc2 = data_cube(scdir, line, 2, i)\n",
    "    sc2 = dc2.data.reshape([Y,X,nacc*nmod*nwav], order='F') - dk2m\n",
    "    sc2_add = coadd_modulated_imgs (sc2, im2ind[i], nmod, nacc, nwav)\n",
    "    sc2_ff = sc2_add/ff2mast[:,:,np.newaxis,:]\n",
    "    sc2_sh = shift_lines_4d(sc2_ff, line_shifts2)\n",
    "    sc2_demod = np.einsum('ijkl,mk->ijml', sc2_sh, demodmat2)\n",
    "    sc2_demod[:,:,1::,:] /= sc2_demod[:,:,0,:][:,:,np.newaxis,:] \n",
    "    sc2_demod = np.flipud(np.fliplr(sc2_demod))\n",
    "    sc2_i2quv_corr = correct_i2quv(sc2_demod)"
   ]
  },
  {
   "cell_type": "code",
   "execution_count": 31,
   "metadata": {},
   "outputs": [
    {
     "data": {
      "text/plain": [
       "<matplotlib.image.AxesImage at 0x195977a7b50>"
      ]
     },
     "execution_count": 31,
     "metadata": {},
     "output_type": "execute_result"
    }
   ],
   "source": [
    "# sc1_ff = sc1_add/ff1mast[:,:,np.newaxis,:]\n",
    "plt.imshow(sc2_i2quv_corr[100:-100,100:-100,0,5], cmap='gray')"
   ]
  },
  {
   "cell_type": "code",
   "execution_count": 168,
   "metadata": {},
   "outputs": [],
   "source": [
    "def plot_stokes_figures(data_4d, npts, pscale_im, pscale_wav, lcore=5, lwing=4):\n",
    "    \"\"\"\n",
    "    Plot stokes images and profiles at selected points of the image\n",
    "    Input:  4d spectro-polarimetric imaging data\n",
    "            number of points to be plotted\n",
    "            (opt.) line core position in pixels\n",
    "            (opt.) line wing width in pixels\n",
    "    Output: figure showing stokes images and profiles\n",
    "    \"\"\"\n",
    "    plt.figure()\n",
    "    plt.imshow(data_4d[:,:,0,0])\n",
    "    pts = plt.ginput(npts)\n",
    "    plt.close()\n",
    "    #\n",
    "    colors = plt.rcParams['axes.prop_cycle'].by_key()['color']\n",
    "    circ_size=20*pscale_im\n",
    "    ny, nx, nm, nw = data_4d.shape\n",
    "    #\n",
    "    fig, axs = plt.subplots(nrows=6, ncols=2, figsize=(8,11))\n",
    "    gs = axs[0,0].get_gridspec()\n",
    "    for ax in axs[0:4,:]:\n",
    "        for ax_ in ax:\n",
    "            ax_.remove()\n",
    "    axii = fig.add_subplot(gs[0:2,0])\n",
    "    axqq = fig.add_subplot(gs[0:2,1])\n",
    "    axuu = fig.add_subplot(gs[2:4,0])\n",
    "    axvv = fig.add_subplot(gs[2:4,1])\n",
    "    axi, axq, axu, axv = axs[4,0], axs[4,1], axs[5,0], axs[5,1]\n",
    "    im_extent = [0,nx*pscale_im,0,ny*pscale_im]\n",
    "    # print(im_extent)\n",
    "    waves = (np.arange(nw)-5)*pscale_wav\n",
    "    #\n",
    "    axci = axii.imshow(data_4d[:,:,0,lcore], extent=im_extent, cmap='gray')\n",
    "    axcq = axqq.imshow(np.mean(data_4d[:,:,1,lcore-lwing:lcore],axis=2), extent=im_extent, cmap='gray')\n",
    "    axcu = axuu.imshow(np.mean(data_4d[:,:,2,lcore-lwing:lcore],axis=2), extent=im_extent, cmap='gray')\n",
    "    axcv = axvv.imshow(np.mean (data_4d[:,:,3,lcore-lwing:lcore],axis=2), extent=im_extent, cmap='gray')\n",
    "    #\n",
    "    fig.colorbar(axci, ax=axii, fraction=0.0475, pad=0.0125)\n",
    "    fig.colorbar(axcq, ax=axqq, fraction=0.0475, pad=0.0125)\n",
    "    fig.colorbar(axcu, ax=axuu, fraction=0.0475, pad=0.0125)\n",
    "    fig.colorbar(axcv, ax=axvv, fraction=0.0475, pad=0.0125)\n",
    "\n",
    "    #\n",
    "    axi.set_ylabel('I (arbitrary units)')\n",
    "    axq.set_ylabel('Q/I')\n",
    "    axu.set_ylabel('U/I')\n",
    "    axv.set_ylabel('V/I')\n",
    "    for ax in [axi, axq, axu, axv]:\n",
    "        ax.set_xlabel('Wavelength from line core (in $\\AA$)')\n",
    "    #\n",
    "    axii.set_title('Stokes-I map (core)')\n",
    "    axqq.set_title('Stokes-Q map (wing)')\n",
    "    axuu.set_title('Stokes-U map (wing)')\n",
    "    axvv.set_title('Stokes-V map (wing)')\n",
    "    #\n",
    "    for ax in [axii, axqq, axuu, axvv]:\n",
    "            ax.set_xlabel('arcsec')\n",
    "            ax.set_ylabel('arcsec')\n",
    "    #\n",
    "    for i, xy in enumerate(pts):\n",
    "        x, y = xy\n",
    "        xa, ya = x*pscale_im, (ny-y)*pscale_im\n",
    "        axii.add_patch(plt.Circle((xa,ya),circ_size,fill=False,color=colors[i]))\n",
    "        axqq.add_patch(plt.Circle((xa,ya),circ_size,fill=False,color=colors[i]))\n",
    "        axuu.add_patch(plt.Circle((xa,ya),circ_size,fill=False,color=colors[i]))\n",
    "        axvv.add_patch(plt.Circle((xa,ya),circ_size,fill=False,color=colors[i]))\n",
    "        axi.plot(waves, data_4d[int(y),int(x),0])\n",
    "        axq.plot(waves, data_4d[int(y),int(x),1])\n",
    "        axu.plot(waves, data_4d[int(y),int(x),2])\n",
    "        axv.plot(waves, data_4d[int(y),int(x),3])\n",
    "    fig.tight_layout()\n",
    "    fig.subplots_adjust(wspace=0.35, hspace=0.4)"
   ]
  },
  {
   "cell_type": "code",
   "execution_count": 5,
   "metadata": {},
   "outputs": [
    {
     "ename": "NameError",
     "evalue": "name 'sc1_i2quv_corr' is not defined",
     "output_type": "error",
     "traceback": [
      "\u001b[1;31m---------------------------------------------------------------------------\u001b[0m",
      "\u001b[1;31mNameError\u001b[0m                                 Traceback (most recent call last)",
      "\u001b[1;32m<ipython-input-5-06f88a7cff51>\u001b[0m in \u001b[0;36m<module>\u001b[1;34m\u001b[0m\n\u001b[1;32m----> 1\u001b[1;33m \u001b[0mplot_stokes_figures\u001b[0m\u001b[1;33m(\u001b[0m\u001b[0msc1_i2quv_corr\u001b[0m\u001b[1;33m[\u001b[0m\u001b[0mcrop\u001b[0m\u001b[1;33m:\u001b[0m\u001b[1;33m-\u001b[0m\u001b[0mcrop\u001b[0m\u001b[1;33m,\u001b[0m\u001b[0mcrop\u001b[0m\u001b[1;33m:\u001b[0m\u001b[1;33m-\u001b[0m\u001b[0mcrop\u001b[0m\u001b[1;33m]\u001b[0m\u001b[1;33m,\u001b[0m \u001b[1;36m3\u001b[0m\u001b[1;33m,\u001b[0m \u001b[0mpol2_scale\u001b[0m\u001b[1;33m,\u001b[0m \u001b[0mwave_step\u001b[0m\u001b[1;33m)\u001b[0m\u001b[1;33m\u001b[0m\u001b[1;33m\u001b[0m\u001b[0m\n\u001b[0m\u001b[0;32m      2\u001b[0m \u001b[0mplt\u001b[0m\u001b[1;33m.\u001b[0m\u001b[0msavefig\u001b[0m\u001b[1;33m(\u001b[0m\u001b[1;34m'stokes_map.png'\u001b[0m\u001b[1;33m,\u001b[0m \u001b[0mdpi\u001b[0m\u001b[1;33m=\u001b[0m\u001b[1;36m600\u001b[0m\u001b[1;33m)\u001b[0m\u001b[1;33m\u001b[0m\u001b[1;33m\u001b[0m\u001b[0m\n",
      "\u001b[1;31mNameError\u001b[0m: name 'sc1_i2quv_corr' is not defined"
     ]
    }
   ],
   "source": [
    "plot_stokes_figures(sc1_i2quv_corr[crop:-crop,crop:-crop], 3, pol2_scale, wave_step)\n",
    "plt.savefig('stokes_map.png', dpi=600)"
   ]
  },
  {
   "cell_type": "code",
   "execution_count": 180,
   "metadata": {},
   "outputs": [],
   "source": [
    "std_ = np.std(sc2_i2quv_corr[:,:,3,8::], axis=2)"
   ]
  },
  {
   "cell_type": "code",
   "execution_count": 16,
   "metadata": {},
   "outputs": [
    {
     "data": {
      "text/plain": [
       "<matplotlib.image.AxesImage at 0x195903f3a00>"
      ]
     },
     "execution_count": 16,
     "metadata": {},
     "output_type": "execute_result"
    }
   ],
   "source": []
  }
 ],
 "metadata": {
  "interpreter": {
   "hash": "ca1bbeed4cf13cdb6cc04c24eeb0fd5c926192403ad669bcfb4ac375cae3b663"
  },
  "kernelspec": {
   "display_name": "Python 3.8.8 64-bit ('base': conda)",
   "language": "python",
   "name": "python3"
  },
  "language_info": {
   "codemirror_mode": {
    "name": "ipython",
    "version": 3
   },
   "file_extension": ".py",
   "mimetype": "text/x-python",
   "name": "python",
   "nbconvert_exporter": "python",
   "pygments_lexer": "ipython3",
   "version": "3.8.8"
  },
  "orig_nbformat": 4
 },
 "nbformat": 4,
 "nbformat_minor": 2
}
