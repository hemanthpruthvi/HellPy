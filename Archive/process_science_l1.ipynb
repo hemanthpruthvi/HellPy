{
 "cells": [
  {
   "cell_type": "code",
   "execution_count": 1,
   "metadata": {},
   "outputs": [
    {
     "name": "stderr",
     "output_type": "stream",
     "text": [
      "qt.qpa.xcb: X server does not support XInput 2\n"
     ]
    }
   ],
   "source": [
    "%matplotlib qt5\n",
    "from process_files import *\n",
    "from func_science import *"
   ]
  },
  {
   "cell_type": "code",
   "execution_count": 8,
   "metadata": {},
   "outputs": [],
   "source": [
    "#\n",
    "config = configobj.ConfigObj('config.ini')\n",
    "line =config['line']\n",
    "scdir = config['science']['directory']\n",
    "imdir = config['science'][line+'/imdir']\n",
    "settings = [f for f in os.listdir(scdir) if 'settings' in f]\n",
    "settings = scdir + os.sep + settings[0]\n",
    "settings = configobj.ConfigObj(settings)\n",
    "# Other numbers\n",
    "linestr = 'Line_' + str(get_line_num(settings, line, 0))\n",
    "nacc = int(settings[linestr]['Polarimeter\\\\NAccumulations'])\n",
    "nwav = int(settings[linestr]['NWavePoints'])\n",
    "filtstr = settings[linestr]['Filter']\n",
    "modstr = settings[linestr]['Polarimeter\\\\Modulation']\n",
    "nmod = int(settings[filtstr]['Polarimeter\\\\'+modstr+'\\\\NModulations'])\n",
    "nfpc = nmod*nacc*nwav\n",
    "nfpw = nmod*nacc\n",
    "ncyc = len(os.listdir(scdir+os.sep+line))//3\n",
    "wave_range = np.float64(settings[linestr]['WaveScanRange'])\n",
    "wave_step = wave_range/(np.float64(settings[linestr]['NWavePoints'])-1)\n",
    "#\n",
    "rotang1 = np.float64(config['targetplate']['rotang1'])\n",
    "rotang2 = np.float64(config['targetplate']['rotang2'])\n",
    "#\n",
    "mag = np.float64(config['targetplate'][line+'/mag'])\n",
    "shift1_y = np.float64(config['targetplate'][line+'/shift1_y'])\n",
    "shift1_x = np.float64(config['targetplate'][line+'/shift1_x'])\n",
    "shift2_y = np.float64(config['targetplate'][line+'/shift2_y'])\n",
    "shift2_x = np.float64(config['targetplate'][line+'/shift2_x'])\n",
    "pol1_shifts = [shift1_y, shift1_x, 0, 0]\n",
    "pol2_shifts = [shift2_y, shift2_x, 0, 0]"
   ]
  },
  {
   "cell_type": "code",
   "execution_count": 6,
   "metadata": {},
   "outputs": [
    {
     "name": "stdout",
     "output_type": "stream",
     "text": [
      "Science data will be saved to  /arch/1/VTT/hellride/raw/20230504/L0/Science_0745/Fe_I_6302/stokes\n"
     ]
    }
   ],
   "source": [
    "sc_files = sorted(os.listdir(scdir+os.sep+line))[0:ncyc]\n",
    "# flats\n",
    "ff_pol1 = np.float64(pf.open(config['flats'][line+'/pol1'])[0].data)\n",
    "ff_pol2 = np.float64(pf.open(config['flats'][line+'/pol2'])[0].data)\n",
    "ff_pol = np.float64(pf.open(config['flats'][line+'/pol'])[0].data)\n",
    "ff_pol1 = ff_pol[:,:,0:4]\n",
    "ff_pol2 = ff_pol[:,:,4::]\n",
    "# pol1 calib\n",
    "pc1 = pf.open(config['pcalibration'][line+'/pol1'])\n",
    "modmat1 = pc1[1].data\n",
    "pc1.close()\n",
    "demodmat1 = np.linalg.inv(modmat1)\n",
    "# pol2 calib\n",
    "pc2 = pf.open(config['pcalibration'][line+'/pol2'])\n",
    "modmat2 = pc2[1].data\n",
    "pc2.close()\n",
    "demodmat2 = np.linalg.inv(modmat2)\n",
    "#\n",
    "dir_tree = scdir.split(os.sep)\n",
    "l0dir = os.sep.join(dir_tree[0:-1])+os.sep+'L0'\n",
    "if not (os.path.exists(l0dir)): os.mkdir(l0dir)\n",
    "l0dir += os.sep+dir_tree[-1]\n",
    "if not (os.path.exists(l0dir)): os.mkdir(l0dir)\n",
    "l0dir += os.sep+line\n",
    "if not (os.path.exists(l0dir)): os.mkdir(l0dir)\n",
    "config['science'][line+'/l0dir'] = l0dir\n",
    "config.write()\n",
    "#\n",
    "l0subdir = l0dir+os.sep+'stokes'\n",
    "if not (os.path.exists(l0subdir)): os.mkdir(l0subdir)\n",
    "print('Science data will be saved to ', l0subdir)"
   ]
  },
  {
   "cell_type": "code",
   "execution_count": 10,
   "metadata": {},
   "outputs": [
    {
     "name": "stderr",
     "output_type": "stream",
     "text": [
      "100%|██████████| 1/1 [00:26<00:00, 26.59s/it]\n"
     ]
    }
   ],
   "source": [
    "for i in tqdm.tqdm(range(140,141)):\n",
    "    imsubdir = imdir + os.sep +f'{i:04}'\n",
    "    imlist = [imsubdir+os.sep+f for f in sorted(os.listdir(imsubdir)) if '.fits' in f]\n",
    "    #\n",
    "    sc0 = pf.open(imlist[0])[0].data\n",
    "    sc0 = np.pad(sc0, ((6,6),(7,7)), mode='constant')\n",
    "    sc1, sc2 = [], []\n",
    "    for m in range(nmod*nwav):\n",
    "        sc1_ = pf.open(imlist[m+1])[0].data\n",
    "        sc1.append(np.pad(sc1_,((6,6),(7,7)),mode='constant'))\n",
    "        sc2_ = pf.open(imlist[m+1+nmod*nwav])[0].data\n",
    "        sc2.append(np.pad(sc2_,((6,6),(7,7)),mode='constant'))\n",
    "    sc1, sc2 = np.array(sc1), np.array(sc2)\n",
    "    #\n",
    "    Y, X = sc0.shape\n",
    "    sc1 = np.reshape(np.moveaxis(sc1,0,2), [Y,X,nmod,nwav], order='F')\n",
    "    sc2 = np.reshape(np.moveaxis(sc2,0,2), [Y,X,nmod,nwav], order='F')\n",
    "    sc0[sc0==0] = sc0.mean()\n",
    "    sc1[sc1==0] = sc1.mean()\n",
    "    sc2[sc2==0] = sc2.mean()\n",
    "    # \n",
    "    sc1_demod = np.einsum('ijkl,mk->ijml', sc1, demodmat1)\n",
    "    # sc1_demod[:,:,1::] /= sc1_demod[:,:,0:1] \n",
    "    sc2_demod = np.einsum('ijkl,mk->ijml', sc2, demodmat2)\n",
    "    # sc2_demod[:,:,1::] /= sc2_demod[:,:,0:1] \n",
    "    # #\n",
    "    sc_name = l0subdir + os.sep + f'{i:04}_'+sc_files[i].split('_')[-2]+'.fits'\n",
    "    hdu1 = pf.PrimaryHDU(sc0)\n",
    "    hdu2 = pf.ImageHDU(sc1_demod)\n",
    "    hdu3 = pf.ImageHDU(sc2_demod)\n",
    "    hdul = pf.HDUList([hdu1,hdu2,hdu3])\n",
    "    hdul.writeto(sc_name, overwrite=True)"
   ]
  },
  {
   "cell_type": "code",
   "execution_count": 22,
   "metadata": {},
   "outputs": [],
   "source": [
    "show_img_series(sc1_demod[:,:,0], fps=2)"
   ]
  },
  {
   "cell_type": "code",
   "execution_count": 1,
   "metadata": {},
   "outputs": [
    {
     "ename": "NameError",
     "evalue": "name 'sc1_demod' is not defined",
     "output_type": "error",
     "traceback": [
      "\u001b[0;31m---------------------------------------------------------------------------\u001b[0m",
      "\u001b[0;31mNameError\u001b[0m                                 Traceback (most recent call last)",
      "Cell \u001b[0;32mIn[1], line 1\u001b[0m\n\u001b[0;32m----> 1\u001b[0m sc1_demod\u001b[38;5;241m.\u001b[39mshape\n",
      "\u001b[0;31mNameError\u001b[0m: name 'sc1_demod' is not defined"
     ]
    }
   ],
   "source": [
    "sc1_demod.shape"
   ]
  },
  {
   "cell_type": "code",
   "execution_count": null,
   "metadata": {},
   "outputs": [],
   "source": [
    "imsubdir = imdir + os.sep+ 'xtalk'\n",
    "xt1 = [imsubdir+os.sep+f for f in os.listdir(imsubdir) if 'cam1' in f][0]\n",
    "xt1 = pf.open(xt1)[0].data\n",
    "xt1 = np.moveaxis(np.moveaxis(xt1,0,3),0,3)"
   ]
  },
  {
   "cell_type": "code",
   "execution_count": null,
   "metadata": {},
   "outputs": [],
   "source": [
    "show_img_series(xt1[:,:,0], fps=2)"
   ]
  },
  {
   "cell_type": "code",
   "execution_count": null,
   "metadata": {},
   "outputs": [],
   "source": [
    "os.listdir(imsubdir)"
   ]
  },
  {
   "cell_type": "code",
   "execution_count": null,
   "metadata": {},
   "outputs": [],
   "source": [
    "sc1_ = 1.0*sc1_demod\n",
    "sc1_[:,:,1::] = sc1_demod[:,:,1::]/sc1_demod[:,:,0:1]\n",
    "sc1_[:,:,0] /= sc1_[:,:,0].mean()\n",
    "sc2_ = 1.0*sc2_demod\n",
    "sc2_[:,:,1::] = sc2_demod[:,:,1::]/sc2_demod[:,:,0:1]\n",
    "sc2_[:,:,0] /= sc2_[:,:,0].mean()"
   ]
  },
  {
   "cell_type": "code",
   "execution_count": null,
   "metadata": {},
   "outputs": [],
   "source": [
    "#\n",
    "line = 'Fe_I_6173'\n",
    "iline = get_line_num(settings, line, 0)\n",
    "config = configobj.ConfigObj('config.ini')\n",
    "dkdir = config['darks']['directory']\n",
    "scdir = config['science']['directory']\n",
    "settings = [f for f in os.listdir(scdir) if 'settings' in f]\n",
    "settings = scdir + os.sep + settings[0]\n",
    "settings = configobj.ConfigObj(settings)\n",
    "# Other numbers\n",
    "linestr = 'Line_' + str(get_line_num(settings, line, 0))\n",
    "nacc = int(settings[linestr]['Polarimeter\\\\NAccumulations'])\n",
    "nwav = int(settings[linestr]['NWavePoints'])\n",
    "filtstr = settings[linestr]['Filter']\n",
    "modstr = settings[linestr]['Polarimeter\\\\Modulation']\n",
    "nmod = int(settings[filtstr]['Polarimeter\\\\'+modstr+'\\\\NModulations'])\n",
    "nfpc = nmod*nacc*nwav\n",
    "nfpw = nmod*nacc\n",
    "ncyc = len(os.listdir(scdir+os.sep+line))//3\n",
    "wave_range = np.float64(settings[linestr]['WaveScanRange'])\n",
    "wave_step = wave_range/(np.float64(settings[linestr]['NWavePoints'])-1)\n",
    "# Time stamps\n",
    "# Time stamps\n",
    "im0ind, im1ind, im2ind = read_time_stamps_obs(scdir, iline)\n",
    "im0ind_ = im0ind.reshape([ncyc, nfpc])\n",
    "im1ind_ = im1ind.reshape([ncyc, nfpc])\n",
    "im2ind_ = im2ind.reshape([ncyc, nfpc])\n",
    "im0ind_ -= im0ind_[:,0:1]\n",
    "im1ind_ -= im1ind_[:,0:1]\n",
    "im2ind_ -= im2ind_[:,0:1]\n",
    "im0ind = im0ind_.reshape([ncyc, nwav, nacc, nmod])%nmod\n",
    "im1ind = im1ind_.reshape([ncyc, nwav, nacc, nmod])%nmod\n",
    "im2ind = im2ind_.reshape([ncyc, nwav, nacc, nmod])%nmod\n",
    "#\n",
    "rotang1 = np.float64(config['targetplate']['rotang1'])\n",
    "rotang2 = np.float64(config['targetplate']['rotang2'])\n",
    "#\n",
    "mag = np.float64(config['targetplate'][line+'/mag'])\n",
    "shift1_y = np.float64(config['targetplate'][line+'/shift1_y'])\n",
    "shift1_x = np.float64(config['targetplate'][line+'/shift1_x'])\n",
    "shift2_y = np.float64(config['targetplate'][line+'/shift2_y'])\n",
    "shift2_x = np.float64(config['targetplate'][line+'/shift2_x'])\n",
    "pol1_shifts = [shift1_y, shift1_x, 0, 0]\n",
    "pol2_shifts = [shift2_y, shift2_x, 0, 0]\n",
    "#\n",
    "# darks\n",
    "dk0 = np.float64(pf.open(config['darks'][line+'/bbi'])[0].data)\n",
    "dk1 = np.float64(pf.open(config['darks'][line+'/pol1'])[0].data)\n",
    "dk2 = np.float64(pf.open(config['darks'][line+'/pol2'])[0].data)\n",
    "# flats\n",
    "ff_bbi = np.float64(pf.open(config['flats'][line+'/bbi'])[0].data)\n",
    "ff_bbi = ff_bbi[:,:,np.newaxis]/np.mean(ff_bbi)\n",
    "ff_pol = np.float64(pf.open(config['flats'][line+'/pol'])[0].data)\n",
    "ff_pol1 = ff_pol[:,:,0:4]\n",
    "ff_pol2 = ff_pol[:,:,4::]\n"
   ]
  },
  {
   "cell_type": "code",
   "execution_count": null,
   "metadata": {},
   "outputs": [],
   "source": [
    "for i in tqdm.tqdm(range(115,116)):\n",
    "    # bbi data save\n",
    "    dc0 = data_cube(scdir, line, 0, i)\n",
    "    sc0 = np.uint16(16*(dc0.data - dk0)/ff_bbi)\n",
    "    #\n",
    "    dc1 = data_cube(scdir, line, 1, i)\n",
    "    Y, X, Z = dc1.data.shape\n",
    "    sc1 = np.reshape(dc1.data-dk1, [Y,X,nmod,nacc,nwav], order='F')\n",
    "    sc1_add = coadd_del_accumulations (sc1, im1ind[i])\n",
    "    sc1_ff = sc1_add/ff_pol[:,:,0:4,:]\n",
    "    sc1_demod = np.einsum('ijkl,mk->ijml', sc1_ff, demodmat1)\n",
    "    sc1_demod[:,:,1::] /= sc1_demod[:,:,0:1] \n",
    "    sc1_demod = np.flipud(sc1_demod)\n",
    "    #\n",
    "    dc2 = data_cube(scdir, line, 2, i)\n",
    "    Y, X, Z = dc2.data.shape\n",
    "    sc2 = np.reshape(dc2.data-dk2, [Y,X,nmod,nacc,nwav], order='F')\n",
    "    sc2_add = coadd_del_accumulations(sc2, im2ind[i])\n",
    "    sc2_ff = sc2_add/ff_pol[:,:,4::,:]\n",
    "    sc2_demod = np.einsum('ijkl,mk->ijml', sc2_ff, demodmat2)\n",
    "    sc2_demod[:,:,1::] /= sc2_demod[:,:,0:1] \n",
    "    #"
   ]
  },
  {
   "cell_type": "code",
   "execution_count": null,
   "metadata": {},
   "outputs": [],
   "source": [
    "# plt.plot(sc1_demod[850,400].T)\n",
    "plt.figure()\n",
    "plt.plot(sc1_add[800,400].T)\n",
    "#\n",
    "# plt.plot(ff_pol[800,400, 0:4].T)"
   ]
  },
  {
   "cell_type": "code",
   "execution_count": null,
   "metadata": {},
   "outputs": [],
   "source": [
    "show_img_series(sc1_demod[:,:,3], fps=2)"
   ]
  }
 ],
 "metadata": {
  "kernelspec": {
   "display_name": "Python 3.8.8 ('base')",
   "language": "python",
   "name": "python3"
  },
  "language_info": {
   "codemirror_mode": {
    "name": "ipython",
    "version": 3
   },
   "file_extension": ".py",
   "mimetype": "text/x-python",
   "name": "python",
   "nbconvert_exporter": "python",
   "pygments_lexer": "ipython3",
   "version": "3.11.5"
  },
  "orig_nbformat": 4,
  "vscode": {
   "interpreter": {
    "hash": "1c1078a940144fcb486ff9d1334d3fdb2e0f9e86f163fbd19e2f06a9d73144ad"
   }
  }
 },
 "nbformat": 4,
 "nbformat_minor": 2
}
