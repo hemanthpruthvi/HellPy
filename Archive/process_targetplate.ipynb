{
 "cells": [
  {
   "cell_type": "code",
   "execution_count": 1,
   "metadata": {},
   "outputs": [
    {
     "name": "stderr",
     "output_type": "stream",
     "text": [
      "qt.qpa.xcb: X server does not support XInput 2\n"
     ]
    },
    {
     "name": "stderr",
     "output_type": "stream",
     "text": [
      "qt.qpa.xcb: QXcbConnection: XCB error: 1 (BadRequest), sequence: 169, resource id: 132, major code: 130 (Unknown), minor code: 47\n"
     ]
    }
   ],
   "source": [
    "%matplotlib qt5\n",
    "from process_files import *\n",
    "from func_target import *"
   ]
  },
  {
   "cell_type": "code",
   "execution_count": 2,
   "metadata": {},
   "outputs": [],
   "source": [
    "iline = 0\n",
    "line = 'Fe_I_6173'\n",
    "# calib data\n",
    "config = configobj.ConfigObj('config.ini')\n",
    "dkdir = config['darks']['directory']\n",
    "tgdir = config['targetplate']['directory']\n",
    "settings = [f for f in os.listdir(tgdir) if 'settings' in f]\n",
    "settings = tgdir + os.sep + settings[0]\n",
    "settings = configobj.ConfigObj(settings)\n",
    "#\n",
    "linestr = 'Line_' + str(get_line_num(settings, line, iline))\n",
    "nacc = int(settings[linestr]['Polarimeter\\\\NAccumulations'])\n",
    "nwav = int(settings[linestr]['NWavePoints'])\n",
    "filtstr = settings[linestr]['Filter']\n",
    "modstr = settings[linestr]['Polarimeter\\\\Modulation']\n",
    "nmod = int(settings[filtstr]['Polarimeter\\\\'+modstr+'\\\\NModulations'])\n",
    "nfpc = nmod*nacc*nwav\n",
    "nfpw = nmod*nacc\n",
    "ncyc = len(os.listdir(tgdir+os.sep+line))//3"
   ]
  },
  {
   "cell_type": "code",
   "execution_count": 3,
   "metadata": {},
   "outputs": [],
   "source": [
    "# dark frames\n",
    "dk0 = pf.open(config['darks'][line+'/bbi'])[0].data\n",
    "dk1 = pf.open(config['darks'][line+'/pol1'])[0].data\n",
    "dk2 = pf.open(config['darks'][line+'/pol2'])[0].data\n",
    "# flat frames\n",
    "ff_bbi = pf.open(config['flats'][line+'/bbi'])[0].data\n",
    "ff_pol = pf.open(config['flats'][line+'/pol'])[0].data"
   ]
  },
  {
   "cell_type": "code",
   "execution_count": 4,
   "metadata": {},
   "outputs": [
    {
     "name": "stdout",
     "output_type": "stream",
     "text": [
      "Reading BBI target image from  /arch/1/VTT/hellride/raw/20230504/Targetplate_1203/Fe_I_6173/HELLRIDE_bbi_20230504_120328106_tp.DAT\n",
      "Reading POL1 target image from  /arch/1/VTT/hellride/raw/20230504/Targetplate_1203/Fe_I_6173/HELLRIDE_pol1_20230504_120328391_tp.DAT\n",
      "Reading POL2 target image from  /arch/1/VTT/hellride/raw/20230504/Targetplate_1203/Fe_I_6173/HELLRIDE_pol2_20230504_120328693_tp.DAT\n"
     ]
    }
   ],
   "source": [
    "# Get target\n",
    "tg0, tg1, tg2 = 0.0, 0.0, 0.0 \n",
    "dc0 = data_cube(tgdir, line, 0, 0)\n",
    "print('Reading BBI target image from ', dc0.file)\n",
    "tg0 = np.average(dc0.data, axis=2)-dk0[:,:,0]\n",
    "tg0 = tg0/ff_bbi\n",
    "tg0 = (tg0-tg0.min())/(tg0.max()-tg0.min())\n",
    "dc1 = data_cube(tgdir, line, 1, 0)\n",
    "print('Reading POL1 target image from ', dc1.file)\n",
    "tg1 = np.average(dc1.data, axis=2)-dk1[:,:,0]\n",
    "tg1 = tg1/ff_pol[:,:,0,0]\n",
    "tg1 = np.flipud(tg1)\n",
    "tg1 = (tg1-tg1.min())/(tg1.max()-tg1.min())\n",
    "dc2 = data_cube(tgdir, line, 2, 0)\n",
    "print('Reading POL2 target image from ', dc2.file)\n",
    "tg2 = np.average(dc2.data, axis=2)-dk2[:,:,0]\n",
    "tg2 = tg2/ff_pol[:,:,4,0]\n",
    "tg2 = (tg2-tg2.min())/(tg2.max()-tg2.min())\n",
    "#\n",
    "config['targetplate']['flip1_lr'] = 0\n",
    "config['targetplate']['flip1_ud'] = 1\n",
    "config['targetplate']['flip2_lr'] = 0\n",
    "config['targetplate']['flip2_ud'] = 0\n",
    "config.write()\n",
    "#"
   ]
  },
  {
   "cell_type": "code",
   "execution_count": 10,
   "metadata": {},
   "outputs": [
    {
     "data": {
      "text/plain": [
       "<matplotlib.image.AxesImage at 0x7ff008bbb310>"
      ]
     },
     "execution_count": 10,
     "metadata": {},
     "output_type": "execute_result"
    }
   ],
   "source": [
    "# tg0 = np.uint8(255*tg0)\n",
    "# tg1 = np.uint8(255*tg1)\n",
    "# tg2 = np.uint8(255*tg2)\n",
    "blink_frames([tg0, tg1, tg2])"
   ]
  },
  {
   "cell_type": "code",
   "execution_count": 11,
   "metadata": {},
   "outputs": [
    {
     "ename": "KeyboardInterrupt",
     "evalue": "",
     "output_type": "error",
     "traceback": [
      "\u001b[0;31m---------------------------------------------------------------------------\u001b[0m",
      "\u001b[0;31mKeyboardInterrupt\u001b[0m                         Traceback (most recent call last)",
      "Cell \u001b[0;32mIn[11], line 2\u001b[0m\n\u001b[1;32m      1\u001b[0m plt\u001b[38;5;241m.\u001b[39mimshow(tg0)\n\u001b[0;32m----> 2\u001b[0m pts0 \u001b[38;5;241m=\u001b[39m plt\u001b[38;5;241m.\u001b[39mginput(n\u001b[38;5;241m=\u001b[39m\u001b[38;5;241m9\u001b[39m, timeout\u001b[38;5;241m=\u001b[39m\u001b[38;5;241m0\u001b[39m, mouse_add\u001b[38;5;241m=\u001b[39m\u001b[38;5;28;01mNone\u001b[39;00m, mouse_pop\u001b[38;5;241m=\u001b[39m\u001b[38;5;28;01mNone\u001b[39;00m, mouse_stop\u001b[38;5;241m=\u001b[39m\u001b[38;5;28;01mNone\u001b[39;00m)\n\u001b[1;32m      3\u001b[0m \u001b[38;5;28mprint\u001b[39m(pts0)\n",
      "File \u001b[0;32m~/anaconda3/lib/python3.11/site-packages/matplotlib/pyplot.py:2324\u001b[0m, in \u001b[0;36mginput\u001b[0;34m(n, timeout, show_clicks, mouse_add, mouse_pop, mouse_stop)\u001b[0m\n\u001b[1;32m   2319\u001b[0m \u001b[38;5;129m@_copy_docstring_and_deprecators\u001b[39m(Figure\u001b[38;5;241m.\u001b[39mginput)\n\u001b[1;32m   2320\u001b[0m \u001b[38;5;28;01mdef\u001b[39;00m \u001b[38;5;21mginput\u001b[39m(\n\u001b[1;32m   2321\u001b[0m         n\u001b[38;5;241m=\u001b[39m\u001b[38;5;241m1\u001b[39m, timeout\u001b[38;5;241m=\u001b[39m\u001b[38;5;241m30\u001b[39m, show_clicks\u001b[38;5;241m=\u001b[39m\u001b[38;5;28;01mTrue\u001b[39;00m,\n\u001b[1;32m   2322\u001b[0m         mouse_add\u001b[38;5;241m=\u001b[39mMouseButton\u001b[38;5;241m.\u001b[39mLEFT, mouse_pop\u001b[38;5;241m=\u001b[39mMouseButton\u001b[38;5;241m.\u001b[39mRIGHT,\n\u001b[1;32m   2323\u001b[0m         mouse_stop\u001b[38;5;241m=\u001b[39mMouseButton\u001b[38;5;241m.\u001b[39mMIDDLE):\n\u001b[0;32m-> 2324\u001b[0m     \u001b[38;5;28;01mreturn\u001b[39;00m gcf()\u001b[38;5;241m.\u001b[39mginput(\n\u001b[1;32m   2325\u001b[0m         n\u001b[38;5;241m=\u001b[39mn, timeout\u001b[38;5;241m=\u001b[39mtimeout, show_clicks\u001b[38;5;241m=\u001b[39mshow_clicks,\n\u001b[1;32m   2326\u001b[0m         mouse_add\u001b[38;5;241m=\u001b[39mmouse_add, mouse_pop\u001b[38;5;241m=\u001b[39mmouse_pop,\n\u001b[1;32m   2327\u001b[0m         mouse_stop\u001b[38;5;241m=\u001b[39mmouse_stop)\n",
      "File \u001b[0;32m~/anaconda3/lib/python3.11/site-packages/matplotlib/figure.py:3466\u001b[0m, in \u001b[0;36mFigure.ginput\u001b[0;34m(self, n, timeout, show_clicks, mouse_add, mouse_pop, mouse_stop)\u001b[0m\n\u001b[1;32m   3463\u001b[0m     \u001b[38;5;28;01mif\u001b[39;00m \u001b[38;5;28mlen\u001b[39m(clicks) \u001b[38;5;241m==\u001b[39m n \u001b[38;5;129;01mand\u001b[39;00m n \u001b[38;5;241m>\u001b[39m \u001b[38;5;241m0\u001b[39m:\n\u001b[1;32m   3464\u001b[0m         \u001b[38;5;28mself\u001b[39m\u001b[38;5;241m.\u001b[39mcanvas\u001b[38;5;241m.\u001b[39mstop_event_loop()\n\u001b[0;32m-> 3466\u001b[0m _blocking_input\u001b[38;5;241m.\u001b[39mblocking_input_loop(\n\u001b[1;32m   3467\u001b[0m     \u001b[38;5;28mself\u001b[39m, [\u001b[38;5;124m\"\u001b[39m\u001b[38;5;124mbutton_press_event\u001b[39m\u001b[38;5;124m\"\u001b[39m, \u001b[38;5;124m\"\u001b[39m\u001b[38;5;124mkey_press_event\u001b[39m\u001b[38;5;124m\"\u001b[39m], timeout, handler)\n\u001b[1;32m   3469\u001b[0m \u001b[38;5;66;03m# Cleanup.\u001b[39;00m\n\u001b[1;32m   3470\u001b[0m \u001b[38;5;28;01mfor\u001b[39;00m mark \u001b[38;5;129;01min\u001b[39;00m marks:\n",
      "File \u001b[0;32m~/anaconda3/lib/python3.11/site-packages/matplotlib/_blocking_input.py:26\u001b[0m, in \u001b[0;36mblocking_input_loop\u001b[0;34m(figure, event_names, timeout, handler)\u001b[0m\n\u001b[1;32m     24\u001b[0m cids \u001b[38;5;241m=\u001b[39m [figure\u001b[38;5;241m.\u001b[39mcanvas\u001b[38;5;241m.\u001b[39mmpl_connect(name, handler) \u001b[38;5;28;01mfor\u001b[39;00m name \u001b[38;5;129;01min\u001b[39;00m event_names]\n\u001b[1;32m     25\u001b[0m \u001b[38;5;28;01mtry\u001b[39;00m:\n\u001b[0;32m---> 26\u001b[0m     figure\u001b[38;5;241m.\u001b[39mcanvas\u001b[38;5;241m.\u001b[39mstart_event_loop(timeout)  \u001b[38;5;66;03m# Start event loop.\u001b[39;00m\n\u001b[1;32m     27\u001b[0m \u001b[38;5;28;01mfinally\u001b[39;00m:  \u001b[38;5;66;03m# Run even on exception like ctrl-c.\u001b[39;00m\n\u001b[1;32m     28\u001b[0m     \u001b[38;5;66;03m# Disconnect the callbacks.\u001b[39;00m\n\u001b[1;32m     29\u001b[0m     \u001b[38;5;28;01mfor\u001b[39;00m cid \u001b[38;5;129;01min\u001b[39;00m cids:\n",
      "File \u001b[0;32m~/anaconda3/lib/python3.11/site-packages/matplotlib/backends/backend_qt.py:421\u001b[0m, in \u001b[0;36mFigureCanvasQT.start_event_loop\u001b[0;34m(self, timeout)\u001b[0m\n\u001b[1;32m    418\u001b[0m \u001b[38;5;28;01mif\u001b[39;00m timeout \u001b[38;5;241m>\u001b[39m \u001b[38;5;241m0\u001b[39m:\n\u001b[1;32m    419\u001b[0m     _ \u001b[38;5;241m=\u001b[39m QtCore\u001b[38;5;241m.\u001b[39mQTimer\u001b[38;5;241m.\u001b[39msingleShot(\u001b[38;5;28mint\u001b[39m(timeout \u001b[38;5;241m*\u001b[39m \u001b[38;5;241m1000\u001b[39m), event_loop\u001b[38;5;241m.\u001b[39mquit)\n\u001b[0;32m--> 421\u001b[0m \u001b[38;5;28;01mwith\u001b[39;00m _maybe_allow_interrupt(event_loop):\n\u001b[1;32m    422\u001b[0m     qt_compat\u001b[38;5;241m.\u001b[39m_exec(event_loop)\n",
      "File \u001b[0;32m~/anaconda3/lib/python3.11/contextlib.py:144\u001b[0m, in \u001b[0;36m_GeneratorContextManager.__exit__\u001b[0;34m(self, typ, value, traceback)\u001b[0m\n\u001b[1;32m    142\u001b[0m \u001b[38;5;28;01mif\u001b[39;00m typ \u001b[38;5;129;01mis\u001b[39;00m \u001b[38;5;28;01mNone\u001b[39;00m:\n\u001b[1;32m    143\u001b[0m     \u001b[38;5;28;01mtry\u001b[39;00m:\n\u001b[0;32m--> 144\u001b[0m         \u001b[38;5;28mnext\u001b[39m(\u001b[38;5;28mself\u001b[39m\u001b[38;5;241m.\u001b[39mgen)\n\u001b[1;32m    145\u001b[0m     \u001b[38;5;28;01mexcept\u001b[39;00m \u001b[38;5;167;01mStopIteration\u001b[39;00m:\n\u001b[1;32m    146\u001b[0m         \u001b[38;5;28;01mreturn\u001b[39;00m \u001b[38;5;28;01mFalse\u001b[39;00m\n",
      "File \u001b[0;32m~/anaconda3/lib/python3.11/site-packages/matplotlib/backends/qt_compat.py:245\u001b[0m, in \u001b[0;36m_maybe_allow_interrupt\u001b[0;34m(qapp)\u001b[0m\n\u001b[1;32m    243\u001b[0m signal\u001b[38;5;241m.\u001b[39msignal(signal\u001b[38;5;241m.\u001b[39mSIGINT, old_sigint_handler)\n\u001b[1;32m    244\u001b[0m \u001b[38;5;28;01mif\u001b[39;00m handler_args \u001b[38;5;129;01mis\u001b[39;00m \u001b[38;5;129;01mnot\u001b[39;00m \u001b[38;5;28;01mNone\u001b[39;00m:\n\u001b[0;32m--> 245\u001b[0m     old_sigint_handler(\u001b[38;5;241m*\u001b[39mhandler_args)\n",
      "\u001b[0;31mKeyboardInterrupt\u001b[0m: "
     ]
    }
   ],
   "source": [
    "npts=12\n",
    "plt.imshow(tg0)\n",
    "pts0 = plt.ginput(n=npts, timeout=0, mouse_add=None, mouse_pop=None, mouse_stop=None)\n",
    "plt.imshow(tg1)\n",
    "pts1 = plt.ginput(n=npts, timeout=0, mouse_add=None, mouse_pop=None, mouse_stop=None)\n",
    "plt.imshow(tg2)\n",
    "pts2 = plt.ginput(n=npts, timeout=0, mouse_add=None, mouse_pop=None, mouse_stop=None)\n"
   ]
  },
  {
   "cell_type": "code",
   "execution_count": null,
   "metadata": {},
   "outputs": [],
   "source": [
    "def compute_angle1(img):\n",
    "    \"\"\" \n",
    "    |   Compute the angle of the lines in the image of a grid\n",
    "    |   Input : 2d image array\n",
    "    |   Output : angle [0,90)\n",
    "    \"\"\"\n",
    "    ny, nx = img.shape\n",
    "    nxx, nyy = 3*nx//4-nx//4, 3*ny//4-ny//4\n",
    "    td = 1.0*img[ny//4:ny//4+nyy, nx//4:nx//4+nxx]\n",
    "    # td_plane = fit_2d_plane(td, w=td)\n",
    "    # td -= td_plane\n",
    "    # td = (td-td.min())/(td.max()-td.min())\n",
    "    td = sobel(td)\n",
    "    # compute threshold to generate binary image\n",
    "    # thresh = 0.9*compute_thresh(td)\n",
    "    thresh = 0\n",
    "    td = np.array(td<thresh, dtype=np.uint8)\n",
    "    plt.figure()\n",
    "    plt.imshow(td)\n",
    "    # detect lines using Hough transform\n",
    "    lines = cv2.HoughLinesP(td, rho=1, theta=np.pi/180, threshold=nxx//4, lines=50, minLineLength=nxx//1.5, maxLineGap=8)\n",
    "    ls = 0.0*td\n",
    "    for line in lines:\n",
    "        for x1, y1, x2, y2 in line:\n",
    "            plt.plot([x1,x2],[y1,y2],color='red')\n",
    "    # compute slope of the lines\n",
    "    angs = (lines[:,0,1]-lines[:,0,3])/(lines[:,0,0]-lines[:,0,2])\n",
    "    angs = np.degrees(np.arctan(angs))\n",
    "    angs[np.argwhere(angs<0)] += 90 \n",
    "    ang = np.median(angs)\n",
    "    # remove extremes\n",
    "    try:\n",
    "        extremes = np.argwhere(np.abs(angs-ang)>3).flatten()\n",
    "        angs = list(angs)\n",
    "        del angs[extremes]\n",
    "        ang = np.median(np.array(angs))\n",
    "    except: pass\n",
    "    return ang\n",
    "\n",
    "def get_imcenter(img, nxx, nyy):\n",
    "    ny, nx = img.shape\n",
    "    x1, y1 = (nx-nxx)//2, (ny-nyy)//2\n",
    "    x2, y2 = x1+nxx, y1+nyy\n",
    "    return img[y1:y2,x1:x2]\n",
    "\n",
    "def compute_shift(img1, img2):\n",
    "    ny, nx = np.array(img1.shape)//2\n",
    "    im1_cen = get_imcenter(img1, nx, ny)\n",
    "    im1_int = fit_2d_plane(im1_cen, w=im1_cen)\n",
    "    im2_cen = get_imcenter(img2, nx, ny)\n",
    "    im2_int = fit_2d_plane(im2_cen, w=im2_cen)\n",
    "    im1, im2 = im1_cen-im1_int*0.0, im2_cen-im2_int*0.0\n",
    "    im1, im2 = im1/im1.mean(), im2/im2.mean()\n",
    "    # Window\n",
    "    hamm_0 = np.reshape(np.hamming(im1.shape[0]), (im1.shape[0], 1))\n",
    "    # hamm_0[32:-32] = hamm_0[31]\n",
    "    hamm_0 /= hamm_0.max()\n",
    "    hamm_1 = np.reshape(np.hamming(im1.shape[1]), (1, im1.shape[1]))\n",
    "    # hamm_1[32:-32] = hamm_1[31]\n",
    "    hamm_1 /= hamm_1.max()\n",
    "    w = hamm_0*hamm_1\n",
    "    # Images\n",
    "    im1, im2 = w*im1, w*im2\n",
    "    fim1, fim2 = np.fft.fft2(im1), np.fft.fft2(im2)\n",
    "    corr = np.fft.ifftshift(np.abs(np.fft.ifft2(fim1*np.conj(fim2))))\n",
    "    half = np.array([ny//2, nx//2])\n",
    "    sh = np.argwhere(corr==corr.max()).flatten()[0:2]-half\n",
    "    return sh\n",
    "\n",
    "def fit_2d_plane(z, w=1):\n",
    "    \"\"\"\n",
    "    |   Fit the 2d data with the equation of z = ax + by + c\n",
    "    |   Input:  2d array\n",
    "    |   Output: fitted 2d array\n",
    "    \"\"\"\n",
    "    ny, nx = z.shape\n",
    "    y, x = np.meshgrid(np.arange(ny), np.arange(nx))\n",
    "    s_1 = np.sum(np.ones([ny,nx])*w)\n",
    "    s_x = np.sum(x*w)\n",
    "    s_y = np.sum(y*w)\n",
    "    s_z = np.sum(z*w)\n",
    "    s_xx = np.sum(x**2*w)\n",
    "    s_yy = np.sum(y**2*w)\n",
    "    s_xy = np.sum(x*y*w)\n",
    "    s_zx = np.sum(z*x*w)\n",
    "    s_zy = np.sum(z*y*w)\n",
    "    M_z = np.matrix([[s_z],[s_zx],[s_zy]])\n",
    "    M_xy = np.matrix([[s_x, s_y, s_1],[s_xx, s_xy, s_x],[s_xy, s_yy, s_y]])\n",
    "    M_abc = np.linalg.pinv(M_xy)*M_z\n",
    "    a, b, c = np.array(M_abc).flatten()\n",
    "    zfit = a*x + b*y + c\n",
    "    return zfit"
   ]
  },
  {
   "cell_type": "code",
   "execution_count": null,
   "metadata": {},
   "outputs": [],
   "source": [
    "# Rotation\n",
    "ang0 = compute_angle1(tg0)\n",
    "ang1 = compute_angle1(tg1)\n",
    "ang2 = compute_angle1(tg2)\n",
    "print('Angles: ', ang0, ang1, ang2)\n",
    "rotang1 = ang1 - ang0\n",
    "rotang2 = ang2 - ang0\n",
    "tg0_rot = tg0\n",
    "tg1_rot = rotate(tg1, rotang1, reshape=False)\n",
    "tg2_rot = rotate(tg2, rotang2, reshape=False)\n",
    "print('Rotation angles are: ', rotang1, rotang2)\n",
    "config['targetplate']['rotang1'] = rotang1\n",
    "config['targetplate']['rotang2'] = rotang2\n",
    "config.write()\n",
    "#"
   ]
  },
  {
   "cell_type": "code",
   "execution_count": null,
   "metadata": {},
   "outputs": [],
   "source": [
    "# Scaling\n",
    "mag1 = compute_magnification(tg0_rot, tg1_rot, minmag=0.98)\n",
    "mag2 = compute_magnification(tg0_rot, tg2_rot, maxmag=1.02)\n",
    "mag = 0.5*(mag1+mag2)\n",
    "mag = 1\n",
    "print('Magnification: ', mag1, mag2)\n",
    "tg1_mag = zoom(tg1_rot, mag)\n",
    "tg2_mag = zoom(tg2_rot, mag)\n",
    "hpad = tg1_mag.shape[1]-tg0.shape[1]\n",
    "vpad = tg1_mag.shape[0]-tg0.shape[0]\n",
    "lpad, rpad = int(hpad/2), hpad-int(hpad/2)\n",
    "tpad, bpad = int(vpad/2), vpad-int(vpad/2)\n",
    "tg0_mag = np.pad(tg0_rot, ((tpad,bpad),(lpad,rpad)))\n",
    "config['targetplate'][line+'/mag'] = mag\n",
    "config.write()"
   ]
  },
  {
   "cell_type": "code",
   "execution_count": null,
   "metadata": {},
   "outputs": [],
   "source": [
    "# Translation\n",
    "sh1 = compute_shift(tg0_mag, tg1_mag)\n",
    "sh2 = compute_shift(tg0_mag, tg2_mag)\n",
    "print('Shifts: ', sh1, sh2)\n",
    "tg0_shift = tg0_mag\n",
    "tg1_shift = shift(tg1_mag, sh1)\n",
    "tg2_shift = shift(tg2_mag, sh2)\n",
    "config['targetplate'][line+'/shift1_y'] = sh1[0]\n",
    "config['targetplate'][line+'/shift1_x'] = sh1[1]\n",
    "config['targetplate'][line+'/shift2_y'] = sh2[0]\n",
    "config['targetplate'][line+'/shift2_x'] = sh2[1]\n",
    "config.write()"
   ]
  },
  {
   "cell_type": "code",
   "execution_count": null,
   "metadata": {},
   "outputs": [],
   "source": [
    "plt.figure(); plt.imshow(tg0_shift)\n",
    "plt.figure(); plt.imshow(tg1_shift)\n",
    "plt.figure(); plt.imshow(tg2_shift)"
   ]
  }
 ],
 "metadata": {
  "interpreter": {
   "hash": "ca1bbeed4cf13cdb6cc04c24eeb0fd5c926192403ad669bcfb4ac375cae3b663"
  },
  "kernelspec": {
   "display_name": "Python 3.8.8 64-bit ('base': conda)",
   "language": "python",
   "name": "python3"
  },
  "language_info": {
   "codemirror_mode": {
    "name": "ipython",
    "version": 3
   },
   "file_extension": ".py",
   "mimetype": "text/x-python",
   "name": "python",
   "nbconvert_exporter": "python",
   "pygments_lexer": "ipython3",
   "version": "3.11.5"
  },
  "orig_nbformat": 4
 },
 "nbformat": 4,
 "nbformat_minor": 2
}
