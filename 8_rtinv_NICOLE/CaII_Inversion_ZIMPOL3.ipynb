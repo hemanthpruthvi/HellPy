{
 "cells": [
  {
   "cell_type": "markdown",
   "metadata": {},
   "source": [
    "# Ca II 8542 inversion"
   ]
  },
  {
   "cell_type": "code",
   "execution_count": 71,
   "metadata": {},
   "outputs": [
    {
     "name": "stdout",
     "output_type": "stream",
     "text": [
      "/mnt/Data/CaII Polarimeter v2/Level-2\n"
     ]
    }
   ],
   "source": [
    "from __future__ import print_function\n",
    "%matplotlib tk\n",
    "from ReductionImports import *\n",
    "import  NicoleNative as nic\n",
    "setrcParams()\n",
    "# dir_init = getFileFilesDir(2)\n",
    "dir_init = '/mnt/Data/CaII Polarimeter v2/Level-2'\n",
    "nicole_dir = '/home/hp/Dropbox/Inversions/NICOLE.git/run'\n",
    "print(dir_init)"
   ]
  },
  {
   "cell_type": "code",
   "execution_count": null,
   "metadata": {},
   "outputs": [],
   "source": [
    "# Done so far (chi-square)\n",
    "# 57, 55, 1, 1 (1.1, 0.8)\n",
    "# 54, 50, 1, 1 (1.2, 1.2)\n",
    "# 56, 54\n",
    "# 55, 55, 4, 4 ()"
   ]
  },
  {
   "cell_type": "markdown",
   "metadata": {},
   "source": [
    "# Load Stokes data file"
   ]
  },
  {
   "cell_type": "code",
   "execution_count": 3,
   "metadata": {},
   "outputs": [
    {
     "name": "stdout",
     "output_type": "stream",
     "text": [
      "/mnt/Data/CaII Polarimeter v2/Level-2/STOKES_ZIMPOL3.fits  is loaded\n"
     ]
    }
   ],
   "source": [
    "stokes_file = getFileFilesDir(0, initialdir = dir_init, \n",
    "                                 filetypes  = (('FITS file', '*STOKES*.fits'),), \n",
    "                                 title = 'Choose the stack of Stokes files...') # Select the file\n",
    "hdu = pf.open(stokes_file) # Open with fits package\n",
    "stokes_obs = float32(hdu[0].data) # Read the data\n",
    "header = hdu[0].header # Read the header\n",
    "hdu.close() # Clos HDU\n",
    "print(stokes_file, ' is loaded')\n",
    "ns, nw, ny, nx = stokes_obs.shape\n",
    "#---------------------------------------------------- Fixed Parameters"
   ]
  },
  {
   "cell_type": "code",
   "execution_count": 25,
   "metadata": {},
   "outputs": [],
   "source": [
    "pix_caii = 603\n",
    "pix_fei = 294\n",
    "pix_sii = 157\n",
    "wav_caii = 8542.089\n",
    "wav_atm1 = 8540.8\n",
    "wav_fei = 8538.015\n",
    "wav_sii = 8536.165\n",
    "plate_scale = 0.1\n",
    "lin_disp = 0.0132\n",
    "nw_ran = (arange(nw) - pix_caii)*lin_disp + wav_caii"
   ]
  },
  {
   "cell_type": "code",
   "execution_count": 26,
   "metadata": {},
   "outputs": [],
   "source": [
    "stokes = np.copy(stokes_obs)\n",
    "stokes[1::] /= stokes[0]"
   ]
  },
  {
   "cell_type": "code",
   "execution_count": 27,
   "metadata": {},
   "outputs": [],
   "source": [
    "previewImage(stokes[0,100,:,:])"
   ]
  },
  {
   "cell_type": "code",
   "execution_count": 28,
   "metadata": {},
   "outputs": [
    {
     "data": {
      "text/plain": [
       "<matplotlib.lines.Line2D at 0x7f1ced94dc50>"
      ]
     },
     "execution_count": 28,
     "metadata": {},
     "output_type": "execute_result"
    }
   ],
   "source": [
    "previewPlot(stokes[3,:,75,12])\n",
    "axhline(0)"
   ]
  },
  {
   "cell_type": "markdown",
   "metadata": {},
   "source": [
    "# Select RoI for profiles"
   ]
  },
  {
   "cell_type": "code",
   "execution_count": 82,
   "metadata": {},
   "outputs": [
    {
     "name": "stdout",
     "output_type": "stream",
     "text": [
      "4 8 71 75\n",
      "/mnt/Data/CaII Polarimeter v2/Level-3/ZIMPOL3/ CaII_4_71_4_4\n"
     ]
    }
   ],
   "source": [
    "x_bin, y_bin = 4,4\n",
    "x_beg, x_end, y_beg, y_end = get_xy(stokes_obs[0,0], x_bin, y_bin)\n",
    "print(x_beg, x_end, y_beg, y_end)\n",
    "# Relevant dir and names\n",
    "path_dirs = os.path.normpath(stokes_file).split(SEP)\n",
    "savedir = SEP.join(path_dirs[0:-2]) + SEP + 'Level-3' + SEP + 'ZIMPOL3' + SEP\n",
    "if not os.path.exists(savedir):\n",
    "    os.makedirs(savedir)\n",
    "suffix = '_'.join(['CaII', str(x_beg), str(y_beg), str(x_bin), str(y_bin)])\n",
    "print(savedir, suffix)\n",
    "model_guess = savedir + 'modguess_' + suffix + '.model'\n",
    "model_fit = savedir + 'modfit_' + suffix + '.mod'\n",
    "model_fit2 = savedir + 'modfit_' + suffix + '.mod2'\n",
    "model_fit3 = savedir + 'modfit_' + suffix + '.mod3'\n",
    "profile_obs = savedir + 'proobs_' + suffix + '.pro'\n",
    "profile_fit = savedir + 'profit_' + suffix + '.pro'\n",
    "profile_fit2 = savedir + 'profit_' + suffix + '.pro2'\n",
    "profile_fit3= savedir + 'profit_' + suffix + '.pro3'\n",
    "# stokes_disp = mean(stokes_obs[:,:, y_beg:y_end, x_beg:x_end], axis=(2,3))\n",
    "# nic.plot_profile(figure(0), [stokes_disp])"
   ]
  },
  {
   "cell_type": "markdown",
   "metadata": {},
   "source": [
    "# Create Profiles"
   ]
  },
  {
   "cell_type": "code",
   "execution_count": 83,
   "metadata": {},
   "outputs": [],
   "source": [
    "win_smooth = 0.001\n",
    "wav_off = 0\n",
    "wav_n = 180\n",
    "pix_start = int(pix_caii-wav_n/2)\n",
    "# wav_n = 800\n",
    "# pix_start = 0\n",
    "wav_ran = nw_ran[pix_start:pix_start+wav_n] + wav_off\n",
    "stokes_temp = mean(stokes_obs[:,pix_start:pix_start+wav_n, y_beg:y_end, x_beg:x_end], axis=(2,3))\n",
    "stokes_temp = gaussian_filter1d(stokes_temp, win_smooth)\n",
    "stokes_temp /= 100000\n",
    "stokes_temp[1] += 0.000*stokes_temp[3]\n",
    "stokes_temp[2] += 0.000*stokes_temp[3]\n",
    "stokes_temp[3,:] = 1.2*stokes_temp[3,:]\n",
    "nic.plot_profile(figure(0), [stokes_temp])\n",
    "observ = transpose(append(reshape(wav_ran, (1, wav_n)) , stokes_temp, axis=0))\n",
    "savetxt(profile_obs, observ, fmt='{:^10}'.format('%s'), delimiter=' ')"
   ]
  },
  {
   "cell_type": "code",
   "execution_count": 84,
   "metadata": {},
   "outputs": [],
   "source": [
    "weights = np.copy(observ)\n",
    "weights[:,1::] = 10**10\n",
    "weights[40:-20, 1] = 0.002\n",
    "weights[:, 2] = 0.01\n",
    "weights[:, 3] = 0.01\n",
    "weights[:,4] = 0.002\n",
    "savetxt('Weights.pro', weights, fmt='{:^10}'.format('%s'), delimiter=' ')"
   ]
  },
  {
   "cell_type": "code",
   "execution_count": 85,
   "metadata": {},
   "outputs": [],
   "source": [
    "try:\n",
    "    os.remove('Weights.pro')\n",
    "except:pass"
   ]
  },
  {
   "cell_type": "markdown",
   "metadata": {},
   "source": [
    "# Create guess model"
   ]
  },
  {
   "cell_type": "code",
   "execution_count": 99,
   "metadata": {},
   "outputs": [],
   "source": [
    "# New model\n",
    "standard_model = nicole_dir + SEP + 'falc.model' \n",
    "me_pars, me_head, me_const, me_out = nic.read_ascii_model(standard_model)\n",
    "me_const = ' ' + str(int((lin_disp*2.0/8538)*2.998*10**10)) + ' 0.0\\r\\n'\n",
    "N = me_out.shape[0]\n",
    "# tau = np.copy(me_out[:,0])\n",
    "# tau -= tau.min()\n",
    "# tau /= tau.max()\n",
    "# me_out[:,5] = 200000*tau  # v_los\n",
    "# me_out[:,4] = -1300*tau  # b_los\n",
    "# me_out[:,6] = -100*tau  # b_x\n",
    "# me_out[:,7] = 400*tau  # b_y\n",
    "nic.create_ascii_model(model_guess, me_head, me_const, me_out)\n",
    "mi_pars, mi_head, mi_const, mi_plot = nic.read_ascii_model(model_guess)\n",
    "fig = figure(None, figsize=(10,6))\n",
    "nic.plot_model_bvtp(fig, [mi_plot])"
   ]
  },
  {
   "cell_type": "markdown",
   "metadata": {},
   "source": [
    "# Invert"
   ]
  },
  {
   "cell_type": "code",
   "execution_count": 100,
   "metadata": {},
   "outputs": [],
   "source": [
    "try:\n",
    "    os.remove(profile_fit)\n",
    "    os.remove(model_fit)\n",
    "except: pass\n",
    "nicole_input = nicole_dir + SEP + 'NICOLE.input'\n",
    "INPUT = nic.set_nicole_input_params(Mode = 'I',\n",
    "                                    Printout__detail = 1,\n",
    "                                    Input__model = model_guess,\n",
    "                                    Observed__profiles = profile_obs,\n",
    "                                    Output__profiles = profile_fit,\n",
    "                                    Heliocentric__angle = 0.97, \n",
    "                                    Output__model = model_fit,\n",
    "                                    noise__level = 0.0005,\n",
    "                                    Maximum__number__of__inversions=5,\n",
    "                                    Continuum__reference = 3,\n",
    "                                    Debug__mode = 1)\n",
    "INPUT = nic.set_nicole_regions_lines(INPUT, 'Region 1',\n",
    "                                     First__wavelength = wav_ran[0], \n",
    "                                     Wavelength__step = lin_disp,\n",
    "                                     Number__of__wavelengths = wav_n)\n",
    "INPUT = nic.set_nicole_regions_lines(INPUT, 'Line 1',\n",
    "                                     Line = 'CaII__8542',\n",
    "                                     Mode = 'NLTE')\n",
    "INPUT = nic.set_nicole_regions_lines(INPUT, 'Nodes',\n",
    "                                     Temperature = 5,\n",
    "                                     Velocity = 2,\n",
    "                                     Microturbulence = 1,\n",
    "                                     Bz = 2,\n",
    "                                     By = 2,\n",
    "                                     Bx = 2)\n",
    "INPUT = nic.set_nicole_regions_lines(INPUT, 'NLTE',\n",
    "                                     Linear__formal__solution = 1)\n",
    "\n",
    "F = open(nicole_input, 'w')\n",
    "F.write(INPUT)\n",
    "F.close()"
   ]
  },
  {
   "cell_type": "markdown",
   "metadata": {},
   "source": [
    "# Plot model, profiles"
   ]
  },
  {
   "cell_type": "code",
   "execution_count": 102,
   "metadata": {
    "scrolled": true
   },
   "outputs": [
    {
     "name": "stdout",
     "output_type": "stream",
     "text": [
      "/mnt/Data/CaII Polarimeter v2/Level-3/ZIMPOL3/profit_CaII_4_71_4_4.pro \n",
      " b'nicole2.3bp     '\n",
      "1 1 180\n"
     ]
    },
    {
     "name": "stderr",
     "output_type": "stream",
     "text": [
      "/home/hp/anaconda3/lib/python3.6/site-packages/matplotlib/cbook/deprecation.py:107: MatplotlibDeprecationWarning: Adding an axes using the same arguments as a previous axes currently reuses the earlier instance.  In a future version, a new instance will always be created and returned.  Meanwhile, this warning can be suppressed, and the future behavior ensured, by passing a unique label to each axes instance.\n",
      "  warnings.warn(message, mplDeprecation, stacklevel=1)\n"
     ]
    }
   ],
   "source": [
    "s_out = nic.read_native_profile([profile_fit])\n",
    "fig = figure(None, figsize=(10,6))\n",
    "nic.plot_profile(fig, [stokes_temp], color='k', ls='-.', lw=0.6)\n",
    "# nic.plot_profile(fig, [gaussian_filter1d(stokes_temp, 4)], color='k', ls='--', lw=0.8)\n",
    "nic.plot_profile(fig, s_out, color='k', ls='-', lw=1)\n",
    "fig.tight_layout()\n",
    "savefig(savedir+'profit_'+suffix+'.eps', format='eps', dpi=1200)"
   ]
  },
  {
   "cell_type": "code",
   "execution_count": 103,
   "metadata": {},
   "outputs": [],
   "source": [
    "mo_pars, mo_head, mo_plot, mo_const, mo_abu = nic.read_native_model(model_fit)\n",
    "fig = figure(None, figsize=(10,6))\n",
    "nic.plot_model_bvtp(fig, [mi_plot, mo_plot])\n",
    "fig.tight_layout()\n",
    "savefig(savedir+'modfit_'+suffix+'.eps', format='eps', dpi=1200)"
   ]
  },
  {
   "cell_type": "markdown",
   "metadata": {},
   "source": [
    "# Invert again"
   ]
  },
  {
   "cell_type": "code",
   "execution_count": 55,
   "metadata": {},
   "outputs": [],
   "source": [
    "try:\n",
    "    os.remove(profile_fit2)\n",
    "    os.remove(model_fit2)\n",
    "except: pass\n",
    "INPUT = nic.set_nicole_input_params(Mode = 'I',\n",
    "                                    Printout__detail = 1,\n",
    "                                    Input__model = model_fit,\n",
    "                                    Observed__profiles = profile_obs,\n",
    "                                    Output__profiles = profile_fit2,\n",
    "                                    Heliocentric__angle = 0.97, \n",
    "                                    Output__model = model_fit2,\n",
    "                                    noise__level = 0.005,\n",
    "                                    Maximum__number__of__inversions=5,\n",
    "                                    Continuum__reference = 3,\n",
    "                                    Debug__mode = 1)\n",
    "INPUT = nic.set_nicole_regions_lines(INPUT, 'Region 1',\n",
    "                                     First__wavelength = wav_ran[0], \n",
    "                                     Wavelength__step = lin_disp,\n",
    "                                     Number__of__wavelengths = wav_n)\n",
    "INPUT = nic.set_nicole_regions_lines(INPUT, 'Line 1',\n",
    "                                     Line = 'CaII__8542',\n",
    "                                     Mode = 'NLTE')\n",
    "INPUT = nic.set_nicole_regions_lines(INPUT, 'Nodes',\n",
    "                                     Temperature = 8,\n",
    "                                     Velocity = 3,\n",
    "                                     Microturbulence = 1,\n",
    "                                     Bz = 3,\n",
    "                                     By = 3,\n",
    "                                     Bx = 3)\n",
    "\n",
    "F = open('NICOLE.input', 'w')\n",
    "F.write(INPUT)\n",
    "F.close()"
   ]
  },
  {
   "cell_type": "markdown",
   "metadata": {},
   "source": [
    "# Plot again"
   ]
  },
  {
   "cell_type": "code",
   "execution_count": 58,
   "metadata": {},
   "outputs": [
    {
     "name": "stdout",
     "output_type": "stream",
     "text": [
      "./20180426_085155/profit_CaII_52_54_49_51.pro2 \n",
      " b'nicole2.3bp     '\n",
      "1 1 180\n"
     ]
    },
    {
     "name": "stderr",
     "output_type": "stream",
     "text": [
      "/home/hp/anaconda3/lib/python3.6/site-packages/matplotlib/cbook/deprecation.py:107: MatplotlibDeprecationWarning: Adding an axes using the same arguments as a previous axes currently reuses the earlier instance.  In a future version, a new instance will always be created and returned.  Meanwhile, this warning can be suppressed, and the future behavior ensured, by passing a unique label to each axes instance.\n",
      "  warnings.warn(message, mplDeprecation, stacklevel=1)\n"
     ]
    }
   ],
   "source": [
    "s_out2 = nic.read_native_profile([profile_fit2])\n",
    "# s_out2 = [gaussian_filter1d(s_out[0], 3, axis=1)]\n",
    "fig = figure(None, figsize=(10,6))\n",
    "nic.plot_profile(fig, [stokes_temp], color='k', ls='-.', lw=0.5)\n",
    "nic.plot_profile(fig, s_out, color='k', ls='--', lw=1)\n",
    "nic.plot_profile(fig, s_out2, color='k', ls='-', lw=0.8)\n",
    "fig.tight_layout()\n",
    "savefig(savedir+'profit2_'+suffix+'.eps', format='eps', dpi=1200)"
   ]
  },
  {
   "cell_type": "code",
   "execution_count": 59,
   "metadata": {},
   "outputs": [],
   "source": [
    "mo_pars2, mo_head2, mo_plot2, mo_const2, mo_abu2 = nic.read_native_model(model_fit2)\n",
    "fig = figure(None, figsize=(10,6))\n",
    "nic.plot_model_bvtp(fig, [mi_plot, mo_plot, mo_plot2])\n",
    "fig.tight_layout()\n",
    "savefig(savedir+'modfit2_'+suffix+'.eps', format='eps', dpi=1200)"
   ]
  }
 ],
 "metadata": {
  "anaconda-cloud": {},
  "kernelspec": {
   "display_name": "Python 3",
   "language": "python",
   "name": "python3"
  },
  "language_info": {
   "codemirror_mode": {
    "name": "ipython",
    "version": 3
   },
   "file_extension": ".py",
   "mimetype": "text/x-python",
   "name": "python",
   "nbconvert_exporter": "python",
   "pygments_lexer": "ipython3",
   "version": "3.6.5"
  }
 },
 "nbformat": 4,
 "nbformat_minor": 2
}
