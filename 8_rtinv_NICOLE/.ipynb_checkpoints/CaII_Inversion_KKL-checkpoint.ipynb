{
 "cells": [
  {
   "cell_type": "markdown",
   "metadata": {},
   "source": [
    "# Ca II 8542 inversion"
   ]
  },
  {
   "cell_type": "code",
   "execution_count": 1,
   "metadata": {
    "collapsed": false
   },
   "outputs": [
    {
     "name": "stdout",
     "output_type": "stream",
     "text": [
      "./\n"
     ]
    }
   ],
   "source": [
    "from __future__ import print_function\n",
    "%matplotlib tk\n",
    "from ReductionImports import *\n",
    "import  NicoleNative as nic\n",
    "setrcParams()\n",
    "# dir_init = getFileFilesDir(2) + SEP\n",
    "# dir_nicole = getFileFilesDir(2) + SEP\n",
    "# dir_init = '/mnt/Work/Data/Level-2/'\n",
    "# dir_nicole = '/home/pruthvi/Dropbox/NICOLE/run/'\n",
    "dir_nicole = '../'\n",
    "dir_init = './'\n",
    "print(dir_init)"
   ]
  },
  {
   "cell_type": "markdown",
   "metadata": {},
   "source": [
    "# Load Stokes data file"
   ]
  },
  {
   "cell_type": "code",
   "execution_count": 2,
   "metadata": {
    "collapsed": false
   },
   "outputs": [
    {
     "name": "stdout",
     "output_type": "stream",
     "text": [
      "/home/pruthvi/Dropbox/NICOLE/run/Codes/20180426_085155_STOKESCORRECT.fits  is loaded\n",
      "/home/pruthvi/Dropbox/NICOLE/run/20180426_085153/\n"
     ]
    }
   ],
   "source": [
    "stokes_file = getFileFilesDir(0, initialdir = dir_init, \n",
    "                                 filetypes  = (('FITS file', '*STOKES*.fits'),), \n",
    "                                 title = 'Choose the stack of Stokes files...') # Select the file\n",
    "hdu = pf.open(stokes_file) # Open with fits package\n",
    "stokes_obs = float32(hdu[0].data) # Read the data\n",
    "header = hdu[0].header # Read the header\n",
    "hdu.close() # Clos HDU\n",
    "print(stokes_file, ' is loaded')\n",
    "path_dirs = os.path.normpath(stokes_file).split(SEP)\n",
    "dir_save = header['date'].replace('/','') + '_' + header['time'].replace(':','')\n",
    "# dir_save = SEP.join(path_dirs[0:-2]) + SEP + 'Level-3' + SEP + dir_save + SEP\n",
    "dir_save = dir_nicole + dir_save + SEP\n",
    "print(dir_save)\n",
    "if not os.path.exists(dir_save):\n",
    "    os.makedirs(dir_save)"
   ]
  },
  {
   "cell_type": "code",
   "execution_count": 3,
   "metadata": {
    "collapsed": true
   },
   "outputs": [],
   "source": [
    "#---------------------------------------------------- Fixed Parameters\n",
    "ns, nw, ny, nx = stokes_obs.shape\n",
    "pix_caii = header['PIXCAII']\n",
    "pix_fei = header['PIXFEI']\n",
    "pix_sii = header['PIXSII']\n",
    "wav_caii = 8542.089\n",
    "wav_atm1 = 8540.8\n",
    "wav_fei = 8538.015\n",
    "wav_sii = 8536.165\n",
    "plate_scale = 0.07425*int(header['BINNING'])*int(header['IMBIN']) # Plate scale in arcsec/pixel\n",
    "# lin_disp = header['DISPERS']*(1-0.0102)\n",
    "# lin_disp = (wav_fei-wav_sii)/(pix_fei-pix_sii)\n",
    "lin_disp = header['DISPERS']\n",
    "nw_ran = (arange(nw) - pix_caii)*lin_disp + wav_caii\n",
    "stokes = np.copy(stokes_obs)\n",
    "stokes[1::] /= stokes[0]"
   ]
  },
  {
   "cell_type": "markdown",
   "metadata": {},
   "source": [
    "# Load B map"
   ]
  },
  {
   "cell_type": "code",
   "execution_count": 4,
   "metadata": {
    "collapsed": false
   },
   "outputs": [
    {
     "name": "stdout",
     "output_type": "stream",
     "text": [
      "/home/pruthvi/Dropbox/NICOLE/run/Codes/20180426_085155_BMAPWFA.fits  is loaded\n"
     ]
    }
   ],
   "source": [
    "bmap_file = getFileFilesDir(0, initialdir = dir_init, \n",
    "                                 filetypes  = (('FITS file', '*.fits'),), \n",
    "                                 title = 'Choose the stack of Stokes files...') # Select the file\n",
    "hdu = pf.open(bmap_file) # Open with fits package\n",
    "bmap = float32(hdu[0].data) # Read the data\n",
    "bmap_header = hdu[0].header # Read the header\n",
    "hdu.close() # Clos HDU\n",
    "print(bmap_file, ' is loaded')"
   ]
  },
  {
   "cell_type": "markdown",
   "metadata": {},
   "source": [
    "# Select RoI for profiles"
   ]
  },
  {
   "cell_type": "code",
   "execution_count": 5,
   "metadata": {
    "collapsed": true
   },
   "outputs": [],
   "source": [
    "# Done so far (chi-square)\n",
    "# 58, 68, 0.56  # \n",
    "# 58, 66, 0.59  #\n",
    "# 58, 64, 0.81  #\n",
    "# 58, 62, 0.73  #\n",
    "# 58, 60, 0.84  #\n",
    "# 58, 58, 0.89  # 56, 50, \n",
    "# 58, 56, 1.00  # 56, 52, 1.01\n",
    "# 58, 54, 0.93  # 56, 54, 1.05\n",
    "# 58, 52, 0.80  # 56, 52, 0.90\n",
    "# 58, 50, 0.93  # 56, 50, 0.85\n",
    "# 58, 48, 0.74  # 56, 48, 0.84\n",
    "# 58, 46, 0.74  # 56, 46, 0.89\n",
    "# 58, 44, 0.89  # 56, 44, "
   ]
  },
  {
   "cell_type": "code",
   "execution_count": 34,
   "metadata": {
    "collapsed": false
   },
   "outputs": [
    {
     "name": "stdout",
     "output_type": "stream",
     "text": [
      "55 56 3 3\n",
      "CaII_55_56_3_3\n"
     ]
    }
   ],
   "source": [
    "x_bin, y_bin = 3, 3\n",
    "x_beg, x_end, y_beg, y_end = get_xy(stokes_obs[0,0], x_bin, y_bin)\n",
    "x_beg, y_beg = 55, 56\n",
    "x_end, y_end = x_beg+x_bin, y_beg+y_bin\n",
    "print(x_beg, y_beg, x_bin, y_bin)\n",
    "# Relevant dir and names\n",
    "suffix = '_'.join(['CaII', str(x_beg), str(y_beg), str(x_bin), str(y_bin)])\n",
    "print(suffix)\n",
    "model_fit = dir_save + 'modfit_' + suffix + '.mod'\n",
    "model_fit2 = dir_save + 'modfit2_' + suffix + '.mod'\n",
    "model_fit3 = dir_save + 'modfit3_' + suffix + '.mod'\n",
    "profile_obs = dir_save + 'proobs_' + suffix + '.pro'\n",
    "profile_fit = dir_save + 'profit_' + suffix + '.pro'\n",
    "profile_fit2 = dir_save + 'profit2_' + suffix + '.pro'\n",
    "profile_fit3= dir_save + 'profit3_' + suffix + '.pro'\n",
    "stokes_disp = mean(stokes_obs[:,:, y_beg:y_end, x_beg:x_end], axis=(2,3))\n",
    "# stokes_disp = gaussian_filter1d(stokes_disp, 4, axis=1)\n",
    "nic.plot_profile(figure(0), [stokes_disp], color='k')"
   ]
  },
  {
   "cell_type": "markdown",
   "metadata": {},
   "source": [
    "# Observed Profiles"
   ]
  },
  {
   "cell_type": "code",
   "execution_count": 35,
   "metadata": {
    "collapsed": true
   },
   "outputs": [],
   "source": [
    "win_smooth = 3\n",
    "wav_off = 0\n",
    "wav_n = 180\n",
    "pix_start = int(pix_caii-wav_n/2.5)\n",
    "wav_bin = 3\n",
    "# wav_n = 600\n",
    "# pix_start = 200\n",
    "wav_ran = reshape(nw_ran[pix_start:pix_start+wav_n], (1,wav_n)) + wav_off\n",
    "tempstks = mean(stokes_obs[:,:, y_beg:y_end, x_beg:x_end], axis=(2,3))\n",
    "tempstks[1::] /= tempstks[0] \n",
    "stokes_temp = mean(stokes_obs[:,pix_start:pix_start+wav_n, y_beg:y_end, x_beg:x_end], axis=(2,3))\n",
    "stokes_temp /= tempstks.max()*1.11\n",
    "# stokes_temp /= stokes_temp[0,0]\n",
    "stokes_temp[1] += -0.00*stokes_temp[3]\n",
    "stokes_temp[2] += 0.0*stokes_temp[3]\n",
    "stokes_temp[3] *= 1.2\n",
    "stokes_temp[1::] *= -1.0\n",
    "# stokes_temp = gaussian_filter1d(stokes_temp, win_smooth)\n",
    "nic.plot_profile(figure(0), [stokes_temp], color='k')\n",
    "# wav_n //= 3\n",
    "# wav_ran = rebin(wav_ran, (1,wav_n))\n",
    "# stokes_temp = rebin(stokes_temp, [4,wav_n])\n",
    "# stokes_temp = gaussian_filter1d(stokes_temp, win_smooth)\n",
    "observ = transpose(append(wav_ran , stokes_temp, axis=0))\n",
    "savetxt(profile_obs, observ, fmt='{:^10}'.format('%s'), delimiter=' ')\n",
    "# nic.plot_profile(figure(1), [(transpose(observ[:,1::]))])"
   ]
  },
  {
   "cell_type": "markdown",
   "metadata": {},
   "source": [
    "## Weights"
   ]
  },
  {
   "cell_type": "code",
   "execution_count": 36,
   "metadata": {
    "collapsed": false
   },
   "outputs": [
    {
     "name": "stdout",
     "output_type": "stream",
     "text": [
      "0.002524933665326845 0.0014804904 0.0015942152 0.0012813727\n"
     ]
    }
   ],
   "source": [
    "cbeg, cend = 300,500\n",
    "q_noise = std(gaussian_filter1d(tempstks[1,cbeg:cend], 3, axis=0)-tempstks[1,cbeg:cend])\n",
    "u_noise = std(gaussian_filter1d(tempstks[2,cbeg:cend], 3, axis=0)-tempstks[2,cbeg:cend])\n",
    "v_noise = std(gaussian_filter1d(tempstks[3,cbeg:cend], 3, axis=0)-tempstks[3,cbeg:cend])\n",
    "q_noise = std(tempstks[1,cbeg:cend])\n",
    "u_noise = std(tempstks[2,cbeg:cend])\n",
    "# v_noise = std(tempstks[3,cbeg:cend])\n",
    "i_noise = sqrt(q_noise**2+u_noise**2+v_noise**2)\n",
    "print(i_noise, q_noise, u_noise, v_noise)\n",
    "weights = 10000+zeros([wav_n,5])\n",
    "weights[:,0] = wav_ran\n",
    "weights[:, 1] = i_noise\n",
    "# weights[375:555, 1] = i_noise\n",
    "weights[:, 2] = q_noise\n",
    "weights[:, 3] = u_noise\n",
    "weights[:,4] = v_noise\n",
    "# weights[170:230,4] = 10000\n",
    "savetxt('../Weights.pro', weights, fmt='{:^10}'.format('%s'), delimiter=' ')\n",
    "# %rm '../Weights.pro'"
   ]
  },
  {
   "cell_type": "markdown",
   "metadata": {},
   "source": [
    "# Guess model"
   ]
  },
  {
   "cell_type": "code",
   "execution_count": 37,
   "metadata": {
    "collapsed": true
   },
   "outputs": [],
   "source": [
    "# New model\n",
    "model_guess = dir_save + 'modguess_' + suffix + '.model'\n",
    "model_default = 'falc.model'\n",
    "me_pars, me_head, me_const, me_out = nic.read_ascii_model(dir_nicole + model_default)\n",
    "me_const = ' ' + str(int(3*2.98*10**10*lin_disp/wav_caii)) + ' 0.0\\r\\n'\n",
    "# me_out = rebin(me_out, [50,8])\n",
    "N = me_out.shape[0]\n",
    "tau = np.copy(me_out[:,0])\n",
    "tau -= tau.min()\n",
    "tau /= tau.max()\n",
    "tau += 1\n",
    "# tau *= 0\n",
    "# me_out[:,5] = 200000*tau  # v_los\n",
    "me_out[:,4] = bmap[0,y_beg,x_beg] # b_los\n",
    "# me_out[:,6] = bmap[1,y_beg,x_beg]  # b_x\n",
    "# me_out[:,7] = bmap[1,y_beg,x_beg] # b_y\n",
    "nic.create_ascii_model(model_guess, me_head, me_const, me_out)\n",
    "mi_pars, mi_head, mi_const, mi_plot = nic.read_ascii_model(model_guess)\n",
    "# fig = figure(None, figsize=(10,6))\n",
    "# nic.plot_model_bvtp(fig, [mi_plot])"
   ]
  },
  {
   "cell_type": "code",
   "execution_count": 38,
   "metadata": {
    "collapsed": false
   },
   "outputs": [
    {
     "data": {
      "text/plain": [
       "(-1758.0, 235.0)"
      ]
     },
     "execution_count": 38,
     "metadata": {},
     "output_type": "execute_result"
    }
   ],
   "source": [
    "bmap[0,y_beg,x_beg], bmap[1,y_beg,x_beg]\n",
    "# 1,3"
   ]
  },
  {
   "cell_type": "markdown",
   "metadata": {},
   "source": [
    "# Invert"
   ]
  },
  {
   "cell_type": "code",
   "execution_count": 22,
   "metadata": {
    "collapsed": false
   },
   "outputs": [
    {
     "name": "stdout",
     "output_type": "stream",
     "text": [
      "/home/pruthvi/Dropbox/NICOLE/run/NICOLE.input\n"
     ]
    }
   ],
   "source": [
    "nicole_input = dir_nicole + 'NICOLE.input'\n",
    "print(nicole_input)\n",
    "INPUT = nic.set_nicole_input_params(Mode = 'I',\n",
    "                                    Printout__detail = 1,\n",
    "                                    Input__model = model_guess,\n",
    "                                    Observed__profiles = profile_obs,\n",
    "                                    Output__profiles = profile_fit,\n",
    "                                    Heliocentric__angle = 0.96, \n",
    "                                    Output__model = model_fit,\n",
    "                                    noise__level = 0.0017,\n",
    "                                    Maximum__number__of__inversions=5,\n",
    "                                    Continuum__reference = 3,\n",
    "                                    Debug__mode = 1)\n",
    "INPUT = nic.set_nicole_regions_lines(INPUT, 'Region 1',\n",
    "                                     First__wavelength = observ[0,0], \n",
    "                                     Wavelength__step = observ[1,0]-observ[0,0],\n",
    "                                     Number__of__wavelengths = wav_n)\n",
    "INPUT = nic.set_nicole_regions_lines(INPUT, 'Line 1',\n",
    "                                     Line = 'CaII__8542',\n",
    "                                     Mode = 'NLTE')\n",
    "# INPUT = nic.set_nicole_regions_lines(INPUT, 'Line 2',\n",
    "#                                      Line = 'FeI__8538',\n",
    "#                                      Mode = 'LTE')\n",
    "INPUT = nic.set_nicole_regions_lines(INPUT, 'Nodes',\n",
    "                                     Temperature = 6,\n",
    "                                     Velocity = 2,\n",
    "                                     Microturbulence = 1,\n",
    "                                     Bz = 2,\n",
    "                                     By = 2,\n",
    "                                     Bx = 2)\n",
    "# INPUT = nic.set_nicole_regions_lines(INPUT, 'NLTE',\n",
    "#                                      Linear__formal__solution = 1)\n",
    "\n",
    "F = open(nicole_input, 'w')\n",
    "F.write(INPUT)\n",
    "F.close()"
   ]
  },
  {
   "cell_type": "markdown",
   "metadata": {},
   "source": [
    "# Plot model, profiles"
   ]
  },
  {
   "cell_type": "code",
   "execution_count": 45,
   "metadata": {
    "collapsed": false,
    "scrolled": false
   },
   "outputs": [
    {
     "name": "stdout",
     "output_type": "stream",
     "text": [
      "/home/pruthvi/Dropbox/NICOLE/run/20180426_085153/profit_CaII_55_56_3_3.pro \n",
      " b'nicole2.3bp     '\n",
      "1 1 180\n"
     ]
    },
    {
     "name": "stderr",
     "output_type": "stream",
     "text": [
      "/home/pruthvi/.local/lib/python3.6/site-packages/matplotlib/cbook/deprecation.py:107: MatplotlibDeprecationWarning: Adding an axes using the same arguments as a previous axes currently reuses the earlier instance.  In a future version, a new instance will always be created and returned.  Meanwhile, this warning can be suppressed, and the future behavior ensured, by passing a unique label to each axes instance.\n",
      "  warnings.warn(message, mplDeprecation, stacklevel=1)\n"
     ]
    }
   ],
   "source": [
    "s_out = nic.read_native_profile([profile_fit])\n",
    "fig = figure(None, figsize=(10,6))\n",
    "nic.plot_profile(fig, [stokes_temp], color='k', ls='--', lw=0.8)\n",
    "nic.plot_profile(fig, s_out, color='k', ls='-', lw=1)\n",
    "fig.tight_layout()\n",
    "savefig(dir_save+'profit_'+suffix+'.eps', format='eps', dpi=2400)"
   ]
  },
  {
   "cell_type": "code",
   "execution_count": 47,
   "metadata": {
    "collapsed": false
   },
   "outputs": [
    {
     "name": "stderr",
     "output_type": "stream",
     "text": [
      "/home/pruthvi/.local/lib/python3.6/site-packages/matplotlib/cbook/deprecation.py:107: MatplotlibDeprecationWarning: Adding an axes using the same arguments as a previous axes currently reuses the earlier instance.  In a future version, a new instance will always be created and returned.  Meanwhile, this warning can be suppressed, and the future behavior ensured, by passing a unique label to each axes instance.\n",
      "  warnings.warn(message, mplDeprecation, stacklevel=1)\n"
     ]
    }
   ],
   "source": [
    "mo_pars, mo_head, mo_plot, mo_const, mo_abu = nic.read_native_model(model_fit)\n",
    "fig1 = figure(None, figsize=(12,7))\n",
    "# fig2 = figure(2, figsize=(10,6))\n",
    "nic.plot_model_bvtp(fig1, [mi_plot], False, color='k', ls='--', lw=0.8)\n",
    "nic.plot_model_bvtp(fig1, [mo_plot[0]], False, color='k', ls = '-')\n",
    "fig1.subplots_adjust(hspace=0.3, wspace=0.3)\n",
    "fig1.suptitle(r'Physical parameter vs. log$\\tau$', fontsize=18)\n",
    "# fig1.tight_layout()\n",
    "savefig(dir_save+'modfit_'+suffix+'.eps', format='eps', dpi=2400, bbox_inches='tight')"
   ]
  },
  {
   "cell_type": "markdown",
   "metadata": {},
   "source": [
    "# Invert again"
   ]
  },
  {
   "cell_type": "code",
   "execution_count": null,
   "metadata": {
    "collapsed": true
   },
   "outputs": [],
   "source": [
    "nicole_input = dir_nicole + 'NICOLE.input'\n",
    "INPUT = nic.set_nicole_input_params(Mode = 'I',\n",
    "                                    Printout__detail = 1,\n",
    "                                    Input__model = model_fit,\n",
    "                                    Observed__profiles = profile_obs,\n",
    "                                    Output__profiles = profile_fit2,\n",
    "                                    Heliocentric__angle = 0.96, \n",
    "                                    Output__model = model_fit2,\n",
    "                                    noise__level = 0.003,\n",
    "                                    Maximum__number__of__inversions=5,\n",
    "                                    Continuum__reference = 3,\n",
    "                                    Debug__mode = 1)\n",
    "INPUT = nic.set_nicole_regions_lines(INPUT, 'Region 1',\n",
    "                                     First__wavelength = observ[0,0], \n",
    "                                     Wavelength__step = observ[1,0]-observ[0,0],\n",
    "                                     Number__of__wavelengths = wav_n)\n",
    "INPUT = nic.set_nicole_regions_lines(INPUT, 'Line 1',\n",
    "                                     Line = 'CaII__8542',\n",
    "                                     Mode = 'NLTE')\n",
    "INPUT = nic.set_nicole_regions_lines(INPUT, 'Line 2',\n",
    "                                     Line = 'FeI__8538',\n",
    "                                     Mode = 'LTE')\n",
    "INPUT = nic.set_nicole_regions_lines(INPUT, 'Nodes',\n",
    "                                     Temperature = 7,\n",
    "                                     Velocity = 3,\n",
    "                                     Microturbulence = 1,\n",
    "                                     Bz = 3,\n",
    "                                     By = 3,\n",
    "                                     Bx = 3)\n",
    "# INPUT = nic.set_nicole_regions_lines(INPUT, 'NLTE',\n",
    "#                                      Linear__formal__solution = 1)\n",
    "\n",
    "F = open(nicole_input, 'w')\n",
    "F.write(INPUT)\n",
    "F.close()"
   ]
  },
  {
   "cell_type": "markdown",
   "metadata": {},
   "source": [
    "# Plot again"
   ]
  },
  {
   "cell_type": "code",
   "execution_count": null,
   "metadata": {
    "collapsed": true
   },
   "outputs": [],
   "source": [
    "s_out2 = nic.read_native_profile([profile_fit2])\n",
    "# s_out2 = [gaussian_filter1d(s_out[0], 3, axis=1)]\n",
    "fig = figure(None, figsize=(10,6))\n",
    "nic.plot_profile(fig, [stokes_temp], color='k', ls='-.', lw=0.5)\n",
    "nic.plot_profile(fig, s_out, color='k', ls='--', lw=1)\n",
    "nic.plot_profile(fig, s_out2, color='k', ls='-', lw=0.8)\n",
    "fig.tight_layout()\n",
    "savefig(dir_save+'profit2_'+suffix+'.eps', format='eps', dpi=1200)"
   ]
  },
  {
   "cell_type": "code",
   "execution_count": null,
   "metadata": {
    "collapsed": true
   },
   "outputs": [],
   "source": [
    "mo_pars2, mo_head2, mo_plot2, mo_const2, mo_abu2 = nic.read_native_model(model_fit2)\n",
    "fig = figure(None, figsize=(10,6))\n",
    "nic.plot_model_bvtp(fig, [mi_plot], True, color='k', ls=':')\n",
    "nic.plot_model_bvtp(fig, [mo_plot[0]], True, color='k', ls = '--')\n",
    "nic.plot_model_bvtp(fig, [mo_plot2[0]], True, color='k', ls = '-')\n",
    "fig.tight_layout()\n",
    "savefig(dir_save +'modfit2_'+suffix+'.eps', format='eps', dpi=1200)"
   ]
  }
 ],
 "metadata": {
  "anaconda-cloud": {},
  "kernelspec": {
   "display_name": "Python [conda env:Anaconda2]",
   "language": "python",
   "name": "conda-env-Anaconda2-py"
  },
  "language_info": {
   "codemirror_mode": {
    "name": "ipython",
    "version": 2
   },
   "file_extension": ".py",
   "mimetype": "text/x-python",
   "name": "python",
   "nbconvert_exporter": "python",
   "pygments_lexer": "ipython2",
   "version": "2.7.12"
  }
 },
 "nbformat": 4,
 "nbformat_minor": 2
}
