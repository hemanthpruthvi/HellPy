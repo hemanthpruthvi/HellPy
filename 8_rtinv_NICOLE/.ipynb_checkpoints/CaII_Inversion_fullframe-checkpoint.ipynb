{
 "cells": [
  {
   "cell_type": "markdown",
   "metadata": {},
   "source": [
    "# Ca II 8542 inversion"
   ]
  },
  {
   "cell_type": "code",
   "execution_count": 1,
   "metadata": {},
   "outputs": [
    {
     "name": "stdout",
     "output_type": "stream",
     "text": [
      "/mnt/Data/CaII Polarimeter v2/Level-2/\n"
     ]
    }
   ],
   "source": [
    "from __future__ import print_function\n",
    "%matplotlib tk\n",
    "from ReductionImports import *\n",
    "import  NicoleNative as nic\n",
    "setrcParams()\n",
    "# dir_init = getFileFilesDir(2)\n",
    "dir_init = '/mnt/Data/CaII Polarimeter v2/Level-2/'\n",
    "dir_nicole = '/home/hp/Dropbox/Inversions/NICOLE.git/run/'\n",
    "print(dir_init)"
   ]
  },
  {
   "cell_type": "markdown",
   "metadata": {},
   "source": [
    "# Load Stokes data file"
   ]
  },
  {
   "cell_type": "code",
   "execution_count": 3,
   "metadata": {},
   "outputs": [
    {
     "name": "stdout",
     "output_type": "stream",
     "text": [
      "/mnt/Data/CaII Polarimeter v2/Level-2/20180426_085155_STOKESCORRECT.fits  is loaded\n",
      "/home/hp/Dropbox/Inversions/NICOLE.git/run/20180426_085153/\n"
     ]
    }
   ],
   "source": [
    "stokes_file = getFileFilesDir(0, initialdir = dir_init, \n",
    "                                 filetypes  = (('FITS file', '*STOKES*.fits'),), \n",
    "                                 title = 'Choose the stack of Stokes files...') # Select the file\n",
    "hdu = pf.open(stokes_file) # Open with fits package\n",
    "stokes_obs = float32(hdu[0].data) # Read the data\n",
    "header = hdu[0].header # Read the header\n",
    "hdu.close() # Clos HDU\n",
    "print(stokes_file, ' is loaded')\n",
    "path_dirs = os.path.normpath(stokes_file).split(SEP)\n",
    "dir_save = header['date'].replace('/','') + '_' + header['time'].replace(':','')\n",
    "# dir_save = SEP.join(path_dirs[0:-2]) + SEP + 'Level-3' + SEP + dir_save + SEP\n",
    "dir_save = dir_nicole + dir_save + SEP\n",
    "print(dir_save)\n",
    "if not os.path.exists(dir_save):\n",
    "    os.makedirs(dir_save)"
   ]
  },
  {
   "cell_type": "code",
   "execution_count": 4,
   "metadata": {},
   "outputs": [],
   "source": [
    "#---------------------------------------------------- Fixed Parameters\n",
    "ns, nw, ny, nx = stokes_obs.shape\n",
    "pix_caii = header['PIXCAII']\n",
    "pix_fei = header['PIXFEI']\n",
    "pix_sii = header['PIXSII']\n",
    "wav_caii = 8542.089\n",
    "wav_atm1 = 8540.8\n",
    "wav_fei = 8538.015\n",
    "wav_sii = 8536.165\n",
    "plate_scale = 0.07425*int(header['BINNING'])*int(header['IMBIN']) # Plate scale in arcsec/pixel\n",
    "lin_disp = header['DISPERS']\n",
    "nw_ran = (arange(nw) - pix_caii)*lin_disp + wav_caii\n",
    "stokes = np.copy(stokes_obs)\n",
    "stokes[1::] /= stokes[0]"
   ]
  },
  {
   "cell_type": "markdown",
   "metadata": {},
   "source": [
    "# Load B map"
   ]
  },
  {
   "cell_type": "code",
   "execution_count": 5,
   "metadata": {},
   "outputs": [
    {
     "name": "stdout",
     "output_type": "stream",
     "text": [
      "/mnt/Data/CaII Polarimeter v2/Level-2/20180426_085155_BMAPWFA.fits  is loaded\n"
     ]
    }
   ],
   "source": [
    "bmap_file = getFileFilesDir(0, initialdir = dir_init, \n",
    "                                 filetypes  = (('FITS file', '*.fits'),), \n",
    "                                 title = 'Choose the stack of Stokes files...') # Select the file\n",
    "hdu = pf.open(bmap_file) # Open with fits package\n",
    "bmap = float32(hdu[0].data) # Read the data\n",
    "bmap_header = hdu[0].header # Read the header\n",
    "hdu.close() # Clos HDU\n",
    "print(bmap_file, ' is loaded')"
   ]
  },
  {
   "cell_type": "markdown",
   "metadata": {},
   "source": [
    "# Select RoI for profiles"
   ]
  },
  {
   "cell_type": "code",
   "execution_count": 293,
   "metadata": {},
   "outputs": [],
   "source": [
    "# Done so far (chi-square)\n",
    "# 58, 68, 0.56  # \n",
    "# 58, 66, 0.59  #\n",
    "# 58, 64, 0.81  #\n",
    "# 58, 62, 0.73  #\n",
    "# 58, 60, 0.84  #\n",
    "# 58, 58, 0.89  # 56, 50, \n",
    "# 58, 56, 1.00  # 56, 52, 1.01\n",
    "# 58, 54, 0.93  # 56, 54, 1.05\n",
    "# 58, 52, 0.80  # 56, 52, 0.90\n",
    "# 58, 50, 0.93  # 56, 50, 0.85\n",
    "# 58, 48, 0.74  # 56, 48, 0.84\n",
    "# 58, 46, 0.74  # 56, 46, 0.89\n",
    "# 58, 44, 0.89  # 56, 44, "
   ]
  },
  {
   "cell_type": "code",
   "execution_count": 125,
   "metadata": {},
   "outputs": [
    {
     "name": "stdout",
     "output_type": "stream",
     "text": [
      "56 50 2 2\n",
      "CaII_56_50_2_2\n"
     ]
    }
   ],
   "source": [
    "x_bin, y_bin = 2,2\n",
    "x_beg, x_end, y_beg, y_end = get_xy(stokes_obs[0,0], x_bin, y_bin)\n",
    "x_beg, y_beg = 56, 50\n",
    "x_end, y_end = x_beg+x_bin, y_beg+y_bin\n",
    "print(x_beg, y_beg, x_bin, y_bin)\n",
    "# Relevant dir and names\n",
    "suffix = '_'.join(['CaII', str(x_beg), str(y_beg), str(x_bin), str(y_bin)])\n",
    "print(suffix)\n",
    "model_fit = dir_save + 'modfit_' + suffix + '.mod'\n",
    "model_fit2 = dir_save + 'modfit2_' + suffix + '.mod'\n",
    "model_fit3 = dir_save + 'modfit3_' + suffix + '.mod'\n",
    "profile_obs = dir_save + 'proobs_' + suffix + '.pro'\n",
    "profile_fit = dir_save + 'profit_' + suffix + '.pro'\n",
    "profile_fit2 = dir_save + 'profit2_' + suffix + '.pro'\n",
    "profile_fit3= dir_save + 'profit3_' + suffix + '.pro'\n",
    "stokes_disp = mean(stokes_obs[:,:, y_beg:y_end, x_beg:x_end], axis=(2,3))\n",
    "nic.plot_profile(figure(0), [stokes_disp])"
   ]
  },
  {
   "cell_type": "markdown",
   "metadata": {},
   "source": [
    "# Observed Profiles"
   ]
  },
  {
   "cell_type": "code",
   "execution_count": 132,
   "metadata": {},
   "outputs": [],
   "source": [
    "win_smooth = 3\n",
    "wav_off = 0\n",
    "wav_n = 180\n",
    "pix_start = int(pix_caii-wav_n/2.5)\n",
    "wav_bin = 3\n",
    "# wav_n = 800\n",
    "# pix_start = 0\n",
    "wav_ran = reshape(nw_ran[pix_start:pix_start+wav_n], (1,wav_n)) + wav_off\n",
    "stokes_temp = mean(stokes_obs[:,pix_start:pix_start+wav_n, y_beg:y_end, x_beg:x_end], axis=(2,3))\n",
    "stokes_temp /= stokes_temp.max()*1.5\n",
    "stokes_temp[1] += -0.00*stokes_temp[3]\n",
    "stokes_temp[2] += 0.04*stokes_temp[3]\n",
    "stokes_temp[3,:] = -1.2*stokes_temp[3,:]\n",
    "# stokes_temp = gaussian_filter1d(stokes_temp, win_smooth)\n",
    "nic.plot_profile(figure(0), [stokes_temp])\n",
    "# wav_n //= 3\n",
    "# wav_ran = rebin(wav_ran, (1,wav_n))\n",
    "# stokes_temp = rebin(stokes_temp, [4,wav_n])\n",
    "# stokes_temp = gaussian_filter1d(stokes_temp, win_smooth)\n",
    "observ = transpose(append(wav_ran , stokes_temp, axis=0))\n",
    "savetxt(profile_obs, observ, fmt='{:^10}'.format('%s'), delimiter=' ')\n",
    "# nic.plot_profile(figure(1), [(transpose(observ[:,1::]))])"
   ]
  },
  {
   "cell_type": "code",
   "execution_count": 136,
   "metadata": {},
   "outputs": [],
   "source": [
    "# previewImage(medfilt2d(bmap[0],3))\n",
    "model_guess = '/home/hp/Dropbox/Inversions/NICOLE.git/run/20180426_085153/modfit_CaII_58_52_2_2.mod'"
   ]
  },
  {
   "cell_type": "markdown",
   "metadata": {},
   "source": [
    "# Guess model"
   ]
  },
  {
   "cell_type": "code",
   "execution_count": 137,
   "metadata": {},
   "outputs": [],
   "source": [
    "# New model\n",
    "model_guess = dir_save + 'modguess_' + suffix + '.model'\n",
    "model_default = 'falc.model'\n",
    "me_pars, me_head, me_const, me_out = nic.read_ascii_model(dir_nicole + model_default)\n",
    "me_const = ' ' + str(37170*3) + ' 0.0\\r\\n'\n",
    "# me_out = rebin(me_out, [50,8])\n",
    "N = me_out.shape[0]\n",
    "tau = np.copy(me_out[:,0])\n",
    "tau -= tau.min() - 0.5\n",
    "tau /= tau.max()\n",
    "tau /= tau\n",
    "# me_out[:,5] = 200000*tau  # v_los\n",
    "me_out[:,4] = bmap[0,y_beg,x_beg] # b_los\n",
    "me_out[:,6] = 2*bmap[1,y_beg,x_beg]  # b_x\n",
    "me_out[:,7] = -2*bmap[1,y_beg,x_beg] # b_y\n",
    "nic.create_ascii_model(model_guess, me_head, me_const, me_out)\n",
    "mi_pars, mi_head, mi_const, mi_plot = nic.read_ascii_model(model_guess)\n",
    "# fig = figure(None, figsize=(10,6))\n",
    "# nic.plot_model_bvtp(fig, [mi_plot])"
   ]
  },
  {
   "cell_type": "code",
   "execution_count": 27,
   "metadata": {},
   "outputs": [
    {
     "data": {
      "text/plain": [
       "(-1103.0, 276.0)"
      ]
     },
     "execution_count": 27,
     "metadata": {},
     "output_type": "execute_result"
    }
   ],
   "source": [
    "bmap[0,y_beg,x_beg], bmap[1,y_beg,x_beg]\n",
    "# 1,3"
   ]
  },
  {
   "cell_type": "markdown",
   "metadata": {},
   "source": [
    "# Invert"
   ]
  },
  {
   "cell_type": "code",
   "execution_count": 121,
   "metadata": {},
   "outputs": [],
   "source": [
    "nicole_input = dir_nicole + 'NICOLE.input'\n",
    "INPUT = nic.set_nicole_input_params(Mode = 'I',\n",
    "                                    Printout__detail = 1,\n",
    "                                    Input__model = model_guess,\n",
    "                                    Observed__profiles = profile_obs,\n",
    "                                    Output__profiles = profile_fit,\n",
    "                                    Heliocentric__angle = 0.96, \n",
    "                                    Output__model = model_fit,\n",
    "                                    noise__level = 0.003,\n",
    "                                    Maximum__number__of__inversions=10,\n",
    "                                    Continuum__reference = 3,\n",
    "                                    Debug__mode = 1)\n",
    "INPUT = nic.set_nicole_regions_lines(INPUT, 'Region 1',\n",
    "                                     First__wavelength = observ[0,0], \n",
    "                                     Wavelength__step = observ[1,0]-observ[0,0],\n",
    "                                     Number__of__wavelengths = wav_n)\n",
    "INPUT = nic.set_nicole_regions_lines(INPUT, 'Line 1',\n",
    "                                     Line = 'CaII__8542',\n",
    "                                     Mode = 'NLTE')\n",
    "INPUT = nic.set_nicole_regions_lines(INPUT, 'Nodes',\n",
    "                                     Temperature = 6,\n",
    "                                     Velocity = 2,\n",
    "                                     Microturbulence = 1,\n",
    "                                     Bz = 2,\n",
    "                                     By = 2,\n",
    "                                     Bx = 2)\n",
    "# INPUT = nic.set_nicole_regions_lines(INPUT, 'NLTE',\n",
    "#                                      Linear__formal__solution = 1)\n",
    "\n",
    "F = open(nicole_input, 'w')\n",
    "F.write(INPUT)\n",
    "F.close()"
   ]
  },
  {
   "cell_type": "markdown",
   "metadata": {},
   "source": [
    "# Plot model, profiles"
   ]
  },
  {
   "cell_type": "code",
   "execution_count": 122,
   "metadata": {
    "scrolled": false
   },
   "outputs": [
    {
     "name": "stdout",
     "output_type": "stream",
     "text": [
      "/home/hp/Dropbox/Inversions/NICOLE.git/run/20180426_085153/profit_CaII_56_52_2_2.pro \n",
      " b'nicole2.3bp     '\n",
      "1 1 180\n"
     ]
    },
    {
     "name": "stderr",
     "output_type": "stream",
     "text": [
      "/home/hp/anaconda3/lib/python3.6/site-packages/matplotlib/cbook/deprecation.py:107: MatplotlibDeprecationWarning: Adding an axes using the same arguments as a previous axes currently reuses the earlier instance.  In a future version, a new instance will always be created and returned.  Meanwhile, this warning can be suppressed, and the future behavior ensured, by passing a unique label to each axes instance.\n",
      "  warnings.warn(message, mplDeprecation, stacklevel=1)\n"
     ]
    }
   ],
   "source": [
    "s_out = nic.read_native_profile([profile_fit])\n",
    "fig = figure(None, figsize=(10,6))\n",
    "nic.plot_profile(fig, [stokes_temp], color='k', ls='-.', lw=0.6)\n",
    "nic.plot_profile(fig, s_out, color='k', ls='-', lw=1)\n",
    "fig.tight_layout()\n",
    "savefig(dir_save+'profit_'+suffix+'.eps', format='eps', dpi=1200)"
   ]
  },
  {
   "cell_type": "code",
   "execution_count": 123,
   "metadata": {},
   "outputs": [
    {
     "name": "stderr",
     "output_type": "stream",
     "text": [
      "/home/hp/anaconda3/lib/python3.6/site-packages/matplotlib/cbook/deprecation.py:107: MatplotlibDeprecationWarning: Adding an axes using the same arguments as a previous axes currently reuses the earlier instance.  In a future version, a new instance will always be created and returned.  Meanwhile, this warning can be suppressed, and the future behavior ensured, by passing a unique label to each axes instance.\n",
      "  warnings.warn(message, mplDeprecation, stacklevel=1)\n"
     ]
    }
   ],
   "source": [
    "mo_pars, mo_head, mo_plot, mo_const, mo_abu = nic.read_native_model(model_fit)\n",
    "fig1 = figure(None, figsize=(10,6))\n",
    "# fig2 = figure(2, figsize=(10,6))\n",
    "nic.plot_model_bvtp(fig1, [mi_plot], True, color='k', ls=':')\n",
    "nic.plot_model_bvtp(fig1, [mo_plot[0]], True, color='k', ls = '--')\n",
    "fig.tight_layout()\n",
    "savefig(dir_save+'modfit_'+suffix+'.eps', format='eps', dpi=1200)"
   ]
  },
  {
   "cell_type": "markdown",
   "metadata": {},
   "source": [
    "# Invert again"
   ]
  },
  {
   "cell_type": "code",
   "execution_count": 283,
   "metadata": {},
   "outputs": [],
   "source": [
    "INPUT = nic.set_nicole_input_params(Mode = 'I',\n",
    "                                    Printout__detail = 1,\n",
    "                                    Input__model = model_fit,\n",
    "                                    Observed__profiles = profile_obs,\n",
    "                                    Output__profiles = profile_fit2,\n",
    "                                    Heliocentric__angle = 0.96, \n",
    "                                    Output__model = model_fit2,\n",
    "                                    noise__level = 0.003,\n",
    "                                    Maximum__number__of__inversions=5,\n",
    "                                    Continuum__reference = 3,\n",
    "                                    Debug__mode = 1)\n",
    "INPUT = nic.set_nicole_regions_lines(INPUT, 'Region 1',\n",
    "                                     First__wavelength = wav_ran[0], \n",
    "                                     Wavelength__step = lin_disp,\n",
    "                                     Number__of__wavelengths = wav_n)\n",
    "INPUT = nic.set_nicole_regions_lines(INPUT, 'Line 1',\n",
    "                                     Line = 'CaII__8542',\n",
    "                                     Mode = 'NLTE')\n",
    "INPUT = nic.set_nicole_regions_lines(INPUT, 'Nodes',\n",
    "                                     Temperature = 8,\n",
    "                                     Velocity = 4,\n",
    "                                     Microturbulence = 1,\n",
    "                                     Bz = 3,\n",
    "                                     By = 3,\n",
    "                                     Bx = 3)\n",
    "\n",
    "F = open(nicole_input, 'w')\n",
    "F.write(INPUT)\n",
    "F.close()"
   ]
  },
  {
   "cell_type": "markdown",
   "metadata": {},
   "source": [
    "# Plot again"
   ]
  },
  {
   "cell_type": "code",
   "execution_count": 314,
   "metadata": {},
   "outputs": [
    {
     "ename": "FileNotFoundError",
     "evalue": "[Errno 2] No such file or directory: '/home/hp/Dropbox/Inversions/NICOLE.git/run/20180426_085153/profit2_CaII_56_54_2_2.pro'",
     "output_type": "error",
     "traceback": [
      "\u001b[0;31m---------------------------------------------------------------------------\u001b[0m",
      "\u001b[0;31mFileNotFoundError\u001b[0m                         Traceback (most recent call last)",
      "\u001b[0;32m<ipython-input-314-d4844dd11f76>\u001b[0m in \u001b[0;36m<module>\u001b[0;34m()\u001b[0m\n\u001b[0;32m----> 1\u001b[0;31m \u001b[0ms_out2\u001b[0m \u001b[0;34m=\u001b[0m \u001b[0mnic\u001b[0m\u001b[0;34m.\u001b[0m\u001b[0mread_native_profile\u001b[0m\u001b[0;34m(\u001b[0m\u001b[0;34m[\u001b[0m\u001b[0mprofile_fit2\u001b[0m\u001b[0;34m]\u001b[0m\u001b[0;34m)\u001b[0m\u001b[0;34m\u001b[0m\u001b[0m\n\u001b[0m\u001b[1;32m      2\u001b[0m \u001b[0;31m# s_out2 = [gaussian_filter1d(s_out[0], 3, axis=1)]\u001b[0m\u001b[0;34m\u001b[0m\u001b[0;34m\u001b[0m\u001b[0m\n\u001b[1;32m      3\u001b[0m \u001b[0mfig\u001b[0m \u001b[0;34m=\u001b[0m \u001b[0mfigure\u001b[0m\u001b[0;34m(\u001b[0m\u001b[0;32mNone\u001b[0m\u001b[0;34m,\u001b[0m \u001b[0mfigsize\u001b[0m\u001b[0;34m=\u001b[0m\u001b[0;34m(\u001b[0m\u001b[0;36m10\u001b[0m\u001b[0;34m,\u001b[0m\u001b[0;36m6\u001b[0m\u001b[0;34m)\u001b[0m\u001b[0;34m)\u001b[0m\u001b[0;34m\u001b[0m\u001b[0m\n\u001b[1;32m      4\u001b[0m \u001b[0mnic\u001b[0m\u001b[0;34m.\u001b[0m\u001b[0mplot_profile\u001b[0m\u001b[0;34m(\u001b[0m\u001b[0mfig\u001b[0m\u001b[0;34m,\u001b[0m \u001b[0;34m[\u001b[0m\u001b[0mstokes_temp\u001b[0m\u001b[0;34m]\u001b[0m\u001b[0;34m,\u001b[0m \u001b[0mcolor\u001b[0m\u001b[0;34m=\u001b[0m\u001b[0;34m'k'\u001b[0m\u001b[0;34m,\u001b[0m \u001b[0mls\u001b[0m\u001b[0;34m=\u001b[0m\u001b[0;34m'-.'\u001b[0m\u001b[0;34m,\u001b[0m \u001b[0mlw\u001b[0m\u001b[0;34m=\u001b[0m\u001b[0;36m0.5\u001b[0m\u001b[0;34m)\u001b[0m\u001b[0;34m\u001b[0m\u001b[0m\n\u001b[1;32m      5\u001b[0m \u001b[0mnic\u001b[0m\u001b[0;34m.\u001b[0m\u001b[0mplot_profile\u001b[0m\u001b[0;34m(\u001b[0m\u001b[0mfig\u001b[0m\u001b[0;34m,\u001b[0m \u001b[0ms_out\u001b[0m\u001b[0;34m,\u001b[0m \u001b[0mcolor\u001b[0m\u001b[0;34m=\u001b[0m\u001b[0;34m'k'\u001b[0m\u001b[0;34m,\u001b[0m \u001b[0mls\u001b[0m\u001b[0;34m=\u001b[0m\u001b[0;34m'--'\u001b[0m\u001b[0;34m,\u001b[0m \u001b[0mlw\u001b[0m\u001b[0;34m=\u001b[0m\u001b[0;36m1\u001b[0m\u001b[0;34m)\u001b[0m\u001b[0;34m\u001b[0m\u001b[0m\n",
      "\u001b[0;32m~/Dropbox/Inversions/NICOLE.git/run/Codes/NicoleNative.py\u001b[0m in \u001b[0;36mread_native_profile\u001b[0;34m(PROFILES)\u001b[0m\n\u001b[1;32m     66\u001b[0m     \u001b[0mSTOKES\u001b[0m \u001b[0;34m=\u001b[0m \u001b[0;34m[\u001b[0m\u001b[0;36m0\u001b[0m\u001b[0;34m]\u001b[0m\u001b[0;34m*\u001b[0m\u001b[0mlen\u001b[0m\u001b[0;34m(\u001b[0m\u001b[0mPROFILES\u001b[0m\u001b[0;34m)\u001b[0m\u001b[0;34m\u001b[0m\u001b[0m\n\u001b[1;32m     67\u001b[0m     \u001b[0;32mfor\u001b[0m \u001b[0mp\u001b[0m\u001b[0;34m,\u001b[0m \u001b[0mPROFILE\u001b[0m \u001b[0;32min\u001b[0m \u001b[0menumerate\u001b[0m\u001b[0;34m(\u001b[0m\u001b[0mPROFILES\u001b[0m\u001b[0;34m)\u001b[0m\u001b[0;34m:\u001b[0m\u001b[0;34m\u001b[0m\u001b[0m\n\u001b[0;32m---> 68\u001b[0;31m         \u001b[0mSIZE\u001b[0m \u001b[0;34m=\u001b[0m \u001b[0mos\u001b[0m\u001b[0;34m.\u001b[0m\u001b[0mpath\u001b[0m\u001b[0;34m.\u001b[0m\u001b[0mgetsize\u001b[0m\u001b[0;34m(\u001b[0m\u001b[0mPROFILE\u001b[0m\u001b[0;34m)\u001b[0m\u001b[0;34m\u001b[0m\u001b[0m\n\u001b[0m\u001b[1;32m     69\u001b[0m         \u001b[0mF\u001b[0m \u001b[0;34m=\u001b[0m \u001b[0mopen\u001b[0m\u001b[0;34m(\u001b[0m\u001b[0mPROFILE\u001b[0m\u001b[0;34m,\u001b[0m \u001b[0;34m'rb'\u001b[0m\u001b[0;34m)\u001b[0m\u001b[0;34m\u001b[0m\u001b[0m\n\u001b[1;32m     70\u001b[0m         \u001b[0mSIG\u001b[0m \u001b[0;34m=\u001b[0m \u001b[0mF\u001b[0m\u001b[0;34m.\u001b[0m\u001b[0mread\u001b[0m\u001b[0;34m(\u001b[0m\u001b[0;36m16\u001b[0m\u001b[0;34m)\u001b[0m\u001b[0;34m\u001b[0m\u001b[0m\n",
      "\u001b[0;32m~/anaconda3/lib/python3.6/genericpath.py\u001b[0m in \u001b[0;36mgetsize\u001b[0;34m(filename)\u001b[0m\n\u001b[1;32m     48\u001b[0m \u001b[0;32mdef\u001b[0m \u001b[0mgetsize\u001b[0m\u001b[0;34m(\u001b[0m\u001b[0mfilename\u001b[0m\u001b[0;34m)\u001b[0m\u001b[0;34m:\u001b[0m\u001b[0;34m\u001b[0m\u001b[0m\n\u001b[1;32m     49\u001b[0m     \u001b[0;34m\"\"\"Return the size of a file, reported by os.stat().\"\"\"\u001b[0m\u001b[0;34m\u001b[0m\u001b[0m\n\u001b[0;32m---> 50\u001b[0;31m     \u001b[0;32mreturn\u001b[0m \u001b[0mos\u001b[0m\u001b[0;34m.\u001b[0m\u001b[0mstat\u001b[0m\u001b[0;34m(\u001b[0m\u001b[0mfilename\u001b[0m\u001b[0;34m)\u001b[0m\u001b[0;34m.\u001b[0m\u001b[0mst_size\u001b[0m\u001b[0;34m\u001b[0m\u001b[0m\n\u001b[0m\u001b[1;32m     51\u001b[0m \u001b[0;34m\u001b[0m\u001b[0m\n\u001b[1;32m     52\u001b[0m \u001b[0;34m\u001b[0m\u001b[0m\n",
      "\u001b[0;31mFileNotFoundError\u001b[0m: [Errno 2] No such file or directory: '/home/hp/Dropbox/Inversions/NICOLE.git/run/20180426_085153/profit2_CaII_56_54_2_2.pro'"
     ]
    }
   ],
   "source": [
    "s_out2 = nic.read_native_profile([profile_fit2])\n",
    "# s_out2 = [gaussian_filter1d(s_out[0], 3, axis=1)]\n",
    "fig = figure(None, figsize=(10,6))\n",
    "nic.plot_profile(fig, [stokes_temp], color='k', ls='-.', lw=0.5)\n",
    "nic.plot_profile(fig, s_out, color='k', ls='--', lw=1)\n",
    "nic.plot_profile(fig, s_out2, color='k', ls='-', lw=0.8)\n",
    "fig.tight_layout()\n",
    "savefig(dir_save+'profit2_'+suffix+'.eps', format='eps', dpi=1200)"
   ]
  },
  {
   "cell_type": "code",
   "execution_count": null,
   "metadata": {},
   "outputs": [],
   "source": [
    "mo_pars2, mo_head2, mo_plot2, mo_const2, mo_abu2 = nic.read_native_model(model_fit2)\n",
    "fig = figure(None, figsize=(10,6))\n",
    "nic.plot_model_bvtp(fig, [mi_plot], color='k', ls=':')\n",
    "nic.plot_model_bvtp(fig, [mo_plot[0]], color='k', ls = '--')\n",
    "nic.plot_model_bvtp(fig, [mo_plot2[0]], color='k', ls = '-')\n",
    "fig.tight_layout()\n",
    "savefig(savedir+'modfit2_'+suffix+'.eps', format='eps', dpi=1200)"
   ]
  },
  {
   "cell_type": "code",
   "execution_count": 39,
   "metadata": {},
   "outputs": [
    {
     "data": {
      "text/plain": [
       "60"
      ]
     },
     "execution_count": 39,
     "metadata": {},
     "output_type": "execute_result"
    }
   ],
   "source": []
  },
  {
   "cell_type": "code",
   "execution_count": 30,
   "metadata": {},
   "outputs": [],
   "source": [
    "import struct"
   ]
  },
  {
   "cell_type": "code",
   "execution_count": 81,
   "metadata": {},
   "outputs": [],
   "source": [
    "%rm 'sample.pro'\n",
    "f = open('sample.pro', 'wb')\n",
    "f.write(mo_head)\n",
    "f.write(struct.pack('@I', nx))\n",
    "f.write(struct.pack('@I', ny))\n",
    "f.write(struct.pack('@Q', wav_n))\n",
    "for i in range(4*wav_n-4):\n",
    "    f.write(struct.pack('@Q', 0))\n",
    "a = stokes_temp.ravel()\n",
    "for j in range(4800):\n",
    "    for i in range(720):\n",
    "        f.write(struct.pack('@d', a[i]))\n",
    "f.close()"
   ]
  },
  {
   "cell_type": "code",
   "execution_count": 112,
   "metadata": {},
   "outputs": [
    {
     "name": "stdout",
     "output_type": "stream",
     "text": [
      "sample.pro \n",
      " b'nicole2.6bm     '\n",
      "60 80 180\n"
     ]
    }
   ],
   "source": [
    "b = read_native_profile(['sample.pro'])"
   ]
  },
  {
   "cell_type": "code",
   "execution_count": 111,
   "metadata": {},
   "outputs": [],
   "source": [
    "def read_native_profile(PROFILES):\n",
    "    STOKES = [0]*len(PROFILES)\n",
    "    for p, PROFILE in enumerate(PROFILES):\n",
    "        SIZE = os.path.getsize(PROFILE)\n",
    "        F = open(PROFILE, 'rb')\n",
    "        SIG = F.read(16)\n",
    "        print(PROFILE, '\\n', SIG)\n",
    "        NX = struct.unpack('@I', F.read(4))[0]\n",
    "        NY = struct.unpack('@I', F.read(4))[0]\n",
    "        NW = struct.unpack('@Q', F.read(8))[0]\n",
    "        print(NX, NY, NW)\n",
    "        F.seek(0)\n",
    "        F.seek(4*NW*8)\n",
    "        S = []\n",
    "        for i in range(4*NW*NX*NY):\n",
    "            S.append(struct.unpack('@d', F.read(8))[0])\n",
    "        STOKES[p] = reshape(array(S, dtype=float64), (NW, 4, NY, NX), 'F')\n",
    "        STOKES[p] = swapaxes(STOKES[p], axis1=0, axis2=1)\n",
    "    return STOKES"
   ]
  },
  {
   "cell_type": "code",
   "execution_count": 115,
   "metadata": {},
   "outputs": [
    {
     "data": {
      "text/plain": [
       "[<matplotlib.lines.Line2D at 0x7fbfb3bb3160>]"
      ]
     },
     "execution_count": 115,
     "metadata": {},
     "output_type": "execute_result"
    }
   ],
   "source": [
    "plot(b[0][3,:,0,0])"
   ]
  },
  {
   "cell_type": "code",
   "execution_count": 109,
   "metadata": {},
   "outputs": [
    {
     "data": {
      "text/plain": [
       "(180, 4, 80, 60)"
      ]
     },
     "execution_count": 109,
     "metadata": {},
     "output_type": "execute_result"
    }
   ],
   "source": [
    "b[0].shape"
   ]
  },
  {
   "cell_type": "code",
   "execution_count": null,
   "metadata": {},
   "outputs": [],
   "source": []
  }
 ],
 "metadata": {
  "anaconda-cloud": {},
  "kernelspec": {
   "display_name": "Python 3",
   "language": "python",
   "name": "python3"
  },
  "language_info": {
   "codemirror_mode": {
    "name": "ipython",
    "version": 3
   },
   "file_extension": ".py",
   "mimetype": "text/x-python",
   "name": "python",
   "nbconvert_exporter": "python",
   "pygments_lexer": "ipython3",
   "version": "3.6.5"
  }
 },
 "nbformat": 4,
 "nbformat_minor": 2
}
