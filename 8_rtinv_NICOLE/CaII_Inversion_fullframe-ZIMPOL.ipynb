{
 "cells": [
  {
   "cell_type": "markdown",
   "metadata": {},
   "source": [
    "# Ca II 8542 NICOLE inversion - full frame"
   ]
  },
  {
   "cell_type": "code",
   "execution_count": 337,
   "metadata": {},
   "outputs": [
    {
     "name": "stdout",
     "output_type": "stream",
     "text": [
      "/mnt/Data/CaII Polarimeter v2/Level-2/\n"
     ]
    }
   ],
   "source": [
    "from __future__ import print_function\n",
    "%matplotlib tk\n",
    "from ReductionImports import *\n",
    "import  NicoleNative as nic\n",
    "from numpy import copy as copy\n",
    "import struct\n",
    "setrcParams()\n",
    "# dir_init = getFileFilesDir(2)\n",
    "dir_init = '/mnt/Data/CaII Polarimeter v2/Level-2/'\n",
    "dir_nicole = '/home/hp/Dropbox/Inversions/NICOLE.git/run/'\n",
    "print(dir_init)"
   ]
  },
  {
   "cell_type": "markdown",
   "metadata": {},
   "source": [
    "## NICOLE specific routines"
   ]
  },
  {
   "cell_type": "code",
   "execution_count": 446,
   "metadata": {},
   "outputs": [],
   "source": [
    "# Read ASCII model file\n",
    "def read_ascii_model(MODFILE):\n",
    "    F = open(MODFILE)\n",
    "    LIN8 = loadtxt(MODFILE, skiprows=2)\n",
    "    HEAD = F.readline()\n",
    "    PT2 = F.readline()\n",
    "    PAR10 = [r'Macro turbulent velocity', r'Stray light fraction', \n",
    "             r'$log(\\tau_{5000})$', r'T in $K$', r'Electron Presuure in $dyne/cm^2$', r'Microtubulence in $cm/s$', \n",
    "             r'$B_z$ in $Gauss$', r'$v_z$ in $cm/s$', r'$B_x$ in $Gauss$', r'$B_y$ in $Gauss$']\n",
    "    return PAR10, HEAD, PT2, LIN8\n",
    "# Create ASCII model file\n",
    "def create_ascii_model(MODFILE, HEAD, PT2, LIN8):\n",
    "    F = open(MODFILE, 'w')\n",
    "    F.write(''.join([HEAD, PT2]))\n",
    "    savetxt(F, LIN8, '%0.6f')\n",
    "    F.close()\n",
    "# Read NICOLE native format model file\n",
    "def read_native_model(MODFILE):\n",
    "    SIZE = os.path.getsize(MODFILE)\n",
    "    F = open(MODFILE, 'rb')\n",
    "    HEAD = F.read(16)\n",
    "    NX = struct.unpack('@I', F.read(4))[0]\n",
    "    NY = struct.unpack('@I', F.read(4))[0]\n",
    "    NZ = struct.unpack('@Q', F.read(8))[0]\n",
    "    SIG = 22*NZ+11+92\n",
    "    F.seek(0)\n",
    "    F.seek(SIG*8)\n",
    "    S = []\n",
    "    for i in range(NX*NY*SIG):\n",
    "        S.append(struct.unpack('@d', F.read(8))[0])\n",
    "    MOD = reshape(array(S, dtype=float64), (SIG, NY, NX), 'F')\n",
    "    LIN22 = reshape(MOD[0:22*NZ,:,:], (NZ, 22, NY, NX), 'F')\n",
    "    PT11 = MOD[22*NZ:22*NZ+11]\n",
    "    ABU = MOD[22*NZ+11:22*NZ+11+92]\n",
    "    PAR34 = [r'$z$', r'$log(\\tau)$', r'T', r'$P_{gas}$', r'$\\rho$', r'$P_{el}$', \n",
    "             r'$v_z$', r'$v_{mic}$', r'$B_z$', r'$B_x$', r'$B_y$', \n",
    "             r'$B_{z (local)}$', r'$B_{y (local)}$', r'$B_{x (local)}$', \n",
    "             r'$v_{z (local)}$', r'$v_{y (local)}$', r'$v_{x (local)}$',\n",
    "             r'$nH$', r'$nH^-$', r'$nH^+$', r'$nH_2$', r'$nH_2^+$']\n",
    "    try:\n",
    "        MODERRFILE = MODFILE + '.err'\n",
    "        F = open(MODERRFILE, 'rb')\n",
    "        S = []\n",
    "        for i in range(int(SIZE/8-SIG)):\n",
    "            S.append(struct.unpack('@d', F.read(8))[0])\n",
    "        MODERR = reshape(array(S, dtype=float64), (SIG, NY, NX), 'F')\n",
    "        MERR = MODERR[:,0,0]\n",
    "        LIN22E = reshape(MERR[0:22*NZ], (NZ, 22), 'F')\n",
    "        PT11E = MERR[22*NZ:22*NZ+11]\n",
    "        ABUE = MERR[22*NZ+11:22*NZ+11+92]\n",
    "    except: \n",
    "        LIN22E = 0*np.copy(LIN22)\n",
    "    return PAR34, HEAD, [LIN22, LIN22E], PT11, ABU\n",
    "# Read NICOLE native profile file\n",
    "def read_native_profile(PROFILES):\n",
    "    STOKES = [0]*len(PROFILES)\n",
    "    for p, PROFILE in enumerate(PROFILES):\n",
    "        SIZE = os.path.getsize(PROFILE)\n",
    "        F = open(PROFILE, 'rb')\n",
    "        SIG = F.read(16)\n",
    "        print(PROFILE, '\\n', SIG)\n",
    "        NX = struct.unpack('@I', F.read(4))[0]\n",
    "        NY = struct.unpack('@I', F.read(4))[0]\n",
    "        NW = struct.unpack('@Q', F.read(8))[0]\n",
    "        print(NX, NY, NW)\n",
    "        F.seek(0)\n",
    "        F.seek(4*NW*8)\n",
    "        S = []\n",
    "        for i in range(int(SIZE/8-4*NW)):\n",
    "            S.append(struct.unpack('@d', F.read(8))[0])\n",
    "        STOKES[p] = reshape(array(S, dtype=float64), (4, NW, NX, NY), 'F')\n",
    "    return STOKES\n",
    "# Set NICOLE input parameters for NICOLE.input\n",
    "def set_nicole_input_params(**kwargs):\n",
    "    TEXT = ''\n",
    "    for key, value in kwargs.items():\n",
    "        STR = key + '=' + str(value) + '\\n'\n",
    "        TEXT += STR.replace('__', ' ')\n",
    "    return TEXT\n",
    "# Set region and line information for NICOLE.input\n",
    "def set_nicole_regions_lines(TEXT, HEAD, **kwargs):\n",
    "    TEXT += '[' + HEAD + ']\\n'\n",
    "    for key, value in kwargs.items():\n",
    "        STR = '\\t' + key + '=' + str(value) + '\\n'\n",
    "        TEXT += STR.replace('__', ' ')\n",
    "    return TEXT\n",
    "# Plot Stokes profiles\n",
    "def plot_profile(FIG, STOKES, **kwargs):\n",
    "    TIT = ['$I/I_0$', '$Q/I$', '$U/I$', '$V/I$']\n",
    "    for S in STOKES:\n",
    "        for i in range(4):\n",
    "            AX = FIG.add_subplot(221+i, title=TIT[i])\n",
    "            if(i != 0):\n",
    "                TEMP = (S[i]/S[0]).ravel()\n",
    "                AX.axhline(0, color='k', ls='--', lw=0.5)\n",
    "            else:\n",
    "                TEMP = S[0].ravel()\n",
    "                AX.axhline(1, color='k', ls='--', lw=0.5)\n",
    "#             AX.axvline(pix_caii,color='k', ls='--', lw=0.5)\n",
    "            AX.plot(TEMP, **kwargs)       \n",
    "# Plot important model parameters\n",
    "def plot_model_bvtp(FIG, MODELS, LOGTAU, **kwargs):\n",
    "    TIT = ['$B_{los}$', '$B_x$', '$B_y$', '$v_{los}$', '$T$', '$v_{mic}$']\n",
    "    AX = [FIG.add_subplot(231+i, title=TIT[i]) for i in range(len(TIT))]\n",
    "    for M in MODELS:\n",
    "        if (8 in M.shape):\n",
    "            for i,j in enumerate([4,6,7,5,1,3]):\n",
    "                AX[i].plot(M[:,0], M[:,j],**kwargs)\n",
    "        else:\n",
    "            if (LOGTAU): XAX = 1\n",
    "            else: XAX = 0    \n",
    "            for i,j in enumerate([8,9,10,6,2,7]):\n",
    "                AX[i].plot(M[:,XAX], M[:,j], **kwargs)"
   ]
  },
  {
   "cell_type": "markdown",
   "metadata": {},
   "source": [
    "## Load Stokes data file"
   ]
  },
  {
   "cell_type": "code",
   "execution_count": 3,
   "metadata": {},
   "outputs": [
    {
     "name": "stdout",
     "output_type": "stream",
     "text": [
      "/mnt/Data/CaII Polarimeter v2/Level-2/STOKES_ZIMPOL3.fits  is loaded\n",
      "/home/hp/Dropbox/Inversions/NICOLE.git/run/ZIMPOL3/\n"
     ]
    }
   ],
   "source": [
    "stokes_file = getFileFilesDir(0, initialdir = dir_init, \n",
    "                                 filetypes  = (('FITS file', '*STOKES*.fits'),), \n",
    "                                 title = 'Choose the stack of Stokes files...') # Select the file\n",
    "hdu = pf.open(stokes_file) # Open with fits package\n",
    "stokes_obs = float32(hdu[0].data) # Read the data\n",
    "header = hdu[0].header # Read the header\n",
    "hdu.close() # Clos HDU\n",
    "print(stokes_file, ' is loaded')\n",
    "path_dirs = os.path.normpath(stokes_file).split(SEP)\n",
    "dir_save = 'ZIMPOL3'\n",
    "# dir_save = SEP.join(path_dirs[0:-2]) + SEP + 'Level-3' + SEP + dir_save + SEP\n",
    "dir_save = dir_nicole + dir_save + SEP\n",
    "print(dir_save)\n",
    "if not os.path.exists(dir_save):\n",
    "    os.makedirs(dir_save)"
   ]
  },
  {
   "cell_type": "code",
   "execution_count": 72,
   "metadata": {},
   "outputs": [],
   "source": [
    "catlinefile = getFileFilesDir(0, initialdir = '.\\\\',\n",
    "                               filetypes  = (('Text file', '*8542*.txt'),),\n",
    "                               title = 'Select line profile from flat...') # Select the file\n",
    "catline = loadtxt(catlinefile)"
   ]
  },
  {
   "cell_type": "markdown",
   "metadata": {},
   "source": [
    "## Parameters"
   ]
  },
  {
   "cell_type": "code",
   "execution_count": 4,
   "metadata": {},
   "outputs": [
    {
     "data": {
      "text/plain": [
       "[<matplotlib.lines.Line2D at 0x7f003b058ef0>]"
      ]
     },
     "execution_count": 4,
     "metadata": {},
     "output_type": "execute_result"
    }
   ],
   "source": [
    "line = mean(stokes_obs[0,:,:,:,],axis=(1,2))\n",
    "plot(line)"
   ]
  },
  {
   "cell_type": "code",
   "execution_count": 18,
   "metadata": {},
   "outputs": [
    {
     "name": "stdout",
     "output_type": "stream",
     "text": [
      "156.16940109991285\n"
     ]
    }
   ],
   "source": [
    "# Si I\n",
    "lin_cen = 158\n",
    "lin_wid = 20\n",
    "xx = arange(lin_cen-lin_wid//2, lin_cen+lin_wid//2)\n",
    "yy = line[lin_cen-lin_wid//2:lin_cen+lin_wid//2]\n",
    "mod_sii = models.Const1D() - models.Gaussian1D(amplitude=yy.max()-yy.min(), mean=lin_cen, stddev=8)\n",
    "Fitter = fitting.LevMarLSQFitter()\n",
    "Fit = Fitter(mod_sii, xx, yy)\n",
    "previewPlot(xx, yy, xx, Fit(xx))\n",
    "pix_sii = Fit.mean_1.value\n",
    "print(pix_sii)"
   ]
  },
  {
   "cell_type": "code",
   "execution_count": 17,
   "metadata": {},
   "outputs": [
    {
     "name": "stdout",
     "output_type": "stream",
     "text": [
      "293.0056949928136\n"
     ]
    }
   ],
   "source": [
    "# Fe I\n",
    "lin_cen = 294\n",
    "lin_wid = 12\n",
    "xx = arange(lin_cen-lin_wid//2, lin_cen+lin_wid//2)\n",
    "yy = line[lin_cen-lin_wid//2:lin_cen+lin_wid//2]\n",
    "mod_fei = models.Const1D() - models.Gaussian1D(amplitude=yy.max()-yy.min(), mean=lin_cen, stddev=3)\n",
    "Fitter = fitting.LevMarLSQFitter()\n",
    "Fit = Fitter(mod_fei, xx, yy)\n",
    "previewPlot(xx, yy, xx, Fit(xx))\n",
    "pix_fei = Fit.mean_1.value\n",
    "print(pix_fei)"
   ]
  },
  {
   "cell_type": "code",
   "execution_count": 146,
   "metadata": {},
   "outputs": [],
   "source": [
    "ns, nw, ny, nx = stokes_obs.shape\n",
    "wav_caii = 8542.089\n",
    "wav_atm1 = 8540.8\n",
    "wav_fei = 8538.015\n",
    "wav_sii = 8536.165\n",
    "plate_scale = 0.01\n",
    "lin_disp = (wav_fei-wav_sii)/(pix_fei-pix_sii)\n",
    "pix_caii = pix_sii+(wav_caii-wav_sii)/lin_disp\n",
    "nw_ran = (arange(nw) - pix_caii)*lin_disp + wav_caii\n",
    "stokes = np.copy(stokes_obs)\n",
    "stokes[1::] /= stokes[0]"
   ]
  },
  {
   "cell_type": "code",
   "execution_count": 163,
   "metadata": {},
   "outputs": [],
   "source": [
    "catwav = catline[300:-650,0]\n",
    "catint = catline[300:-650,1]/10000.0\n",
    "catint = gaussian_filter1d(catint, 4)\n",
    "stokes_comp = mean(stokes, axis=(2,3))\n",
    "stokes_comp[0] /= max(stokes_comp[0])*1.1\n",
    "stokes_comp[1::] *= stokes_comp[0]\n",
    "previewPlot(catwav, catint, 'k--', nw_ran, stokes_comp[0,:], 'k-')"
   ]
  },
  {
   "cell_type": "markdown",
   "metadata": {},
   "source": [
    "## Select RoI for profiles"
   ]
  },
  {
   "cell_type": "code",
   "execution_count": 394,
   "metadata": {},
   "outputs": [],
   "source": [
    "stokes_crop = delete(stokes_obs[:,:,20:-20,:], [0,1,2,3,4,9,18,19,23,24,25,26,27], axis=3)"
   ]
  },
  {
   "cell_type": "code",
   "execution_count": 402,
   "metadata": {},
   "outputs": [
    {
     "name": "stdout",
     "output_type": "stream",
     "text": [
      "0 0 15 100\n",
      "CaII_0_0_15_100\n"
     ]
    }
   ],
   "source": [
    "x_bin, y_bin = 15, 100\n",
    "x_beg, x_end, y_beg, y_end = get_xy(stokes_crop[0,700], x_bin, y_bin)\n",
    "x_beg, y_beg = 0, 0\n",
    "x_end, y_end = x_beg+x_bin, y_beg+y_bin\n",
    "print(x_beg, y_beg, x_bin, y_bin)\n",
    "# Relevant dir and names\n",
    "suffix = '_'.join(['CaII', str(x_beg), str(y_beg), str(x_bin), str(y_bin)])\n",
    "print(suffix)\n",
    "model_fit = dir_save + 'modfit_' + suffix + '.mod'\n",
    "model_fit2 = dir_save + 'modfit2_' + suffix + '.mod'\n",
    "model_fit3 = dir_save + 'modfit3_' + suffix + '.mod'\n",
    "profile_obs = dir_save + 'proobs_' + suffix + '.pro'\n",
    "profile_fit = dir_save + 'profit_' + suffix + '.pro'\n",
    "profile_fit2 = dir_save + 'profit2_' + suffix + '.pro'\n",
    "profile_fit3= dir_save + 'profit3_' + suffix + '.pro'\n",
    "stokes_disp = mean(stokes_obs[:,:, y_beg:y_end, x_beg:x_end], axis=(2,3))\n",
    "plot_profile(figure(0), [stokes_disp])"
   ]
  },
  {
   "cell_type": "markdown",
   "metadata": {},
   "source": [
    "## Tweak observed profiles"
   ]
  },
  {
   "cell_type": "code",
   "execution_count": 429,
   "metadata": {},
   "outputs": [],
   "source": [
    "win_smooth = 3\n",
    "wav_off = 0\n",
    "wav_n = 200\n",
    "pix_start = int(pix_caii-wav_n/2)\n",
    "# wav_n = 600\n",
    "# pix_start = 240\n",
    "wav_ran = reshape(nw_ran[pix_start:pix_start+wav_n], (1,wav_n)) + wav_off\n",
    "stokes_temp = np.copy(stokes_obs[:,pix_start:pix_start+wav_n, y_beg:y_end, x_beg:x_end])\n",
    "stokes_temp[1::] /= stokes_temp[0] \n",
    "stokes_temp[0] /= np.max(stokes_temp, axis=1)[0]*1.1\n",
    "stokes_temp[1::] *= stokes_temp[0]\n",
    "stokes_temp = 0.5*(stokes_temp[:,:,0::2,:]+stokes_temp[:,:,1::2,:])\n",
    "plot_profile(figure(0), [stokes_temp[:,:,6,0]])\n",
    "# plot_profile(figure(0), [stokes_temp])\n",
    "# previewImage(stokes_temp[0,0,:,:])"
   ]
  },
  {
   "cell_type": "code",
   "execution_count": 430,
   "metadata": {},
   "outputs": [
    {
     "data": {
      "text/plain": [
       "(4, 200, 50, 15)"
      ]
     },
     "execution_count": 430,
     "metadata": {},
     "output_type": "execute_result"
    }
   ],
   "source": [
    "stokes_temp.shape"
   ]
  },
  {
   "cell_type": "code",
   "execution_count": 404,
   "metadata": {},
   "outputs": [
    {
     "name": "stdout",
     "output_type": "stream",
     "text": [
      "0.008297005 0.0009698602 0.0022969719 0.0011191663\n"
     ]
    }
   ],
   "source": [
    "i_noise = std(gaussian_filter1d(stokes_temp[0], 3, axis=0)-stokes_temp[0])\n",
    "q_noise = std(gaussian_filter1d(stokes[1], 3, axis=0)-stokes[1])\n",
    "u_noise = std(gaussian_filter1d(stokes[2], 3, axis=0)-stokes[2])\n",
    "v_noise = std(gaussian_filter1d(stokes[3], 3, axis=0)-stokes[3])\n",
    "print(i_noise, q_noise, u_noise, v_noise)"
   ]
  },
  {
   "cell_type": "markdown",
   "metadata": {},
   "source": [
    "## Create NICOLE native profile"
   ]
  },
  {
   "cell_type": "code",
   "execution_count": 406,
   "metadata": {},
   "outputs": [],
   "source": [
    "import struct\n",
    "try: \n",
    "    delete(profile_obs)\n",
    "except:\n",
    "    pass\n",
    "f = open(profile_obs, 'wb')\n",
    "prohead =  b'nicole2.3bp     '\n",
    "f.write(prohead)\n",
    "s, nw0, ny0, nx0 = stokes_temp.shape\n",
    "f.write(struct.pack('@I', ny0))\n",
    "f.write(struct.pack('@I', nx0))\n",
    "f.write(struct.pack('@Q', nw0))\n",
    "for i in range(4*wav_n-4):\n",
    "    f.write(struct.pack('@Q', 0))\n",
    "for i in range(nx0):\n",
    "    for j in range(ny0):\n",
    "        for k in range(nw0):\n",
    "            for s in [0,1,2,3]:\n",
    "                f.write(struct.pack('@d', stokes_temp[s,k,j,i]))\n",
    "f.close()"
   ]
  },
  {
   "cell_type": "code",
   "execution_count": 407,
   "metadata": {},
   "outputs": [],
   "source": [
    "weights = 10000+zeros([wav_n,5])\n",
    "weights[:,0] = wav_ran\n",
    "weights[80:140, 1] = i_noise\n",
    "weights[:, 2] = q_noise\n",
    "weights[:, 3] = u_noise\n",
    "weights[:,4] = v_noise\n",
    "savetxt('../Weights.pro', weights, fmt='{:^10}'.format('%s'), delimiter=' ')"
   ]
  },
  {
   "cell_type": "markdown",
   "metadata": {},
   "source": [
    "## Guess model"
   ]
  },
  {
   "cell_type": "code",
   "execution_count": 409,
   "metadata": {},
   "outputs": [],
   "source": [
    "# New model\n",
    "model_guess = dir_save + 'modguess_' + suffix + '.model'\n",
    "model_default = 'falc.model'\n",
    "me_pars, me_head, me_const, me_out = nic.read_ascii_model(dir_nicole + model_default)\n",
    "me_const = ' ' + str(37170*3) + ' 0.0\\r\\n'\n",
    "# me_out = rebin(me_out, [50,8])\n",
    "N = me_out.shape[0]\n",
    "tau = np.copy(me_out[:,0])\n",
    "tau -= tau.min() - 0.5\n",
    "tau /= tau.max()\n",
    "tau /= tau\n",
    "# me_out[:,5] = 200000*tau  # v_los\n",
    "# me_out[:,4] = -400 # b_los\n",
    "# me_out[:,6] = 2*bmap[1,y_beg,x_beg]  # b_x\n",
    "# me_out[:,7] = -2*bmap[1,y_beg,x_beg] # b_y\n",
    "nic.create_ascii_model(model_guess, me_head, me_const, me_out)\n",
    "mi_pars, mi_head, mi_const, mi_plot = nic.read_ascii_model(model_guess)\n",
    "# fig = figure(None, figsize=(10,6))\n",
    "# nic.plot_model_bvtp(fig, [mi_plot])"
   ]
  },
  {
   "cell_type": "markdown",
   "metadata": {},
   "source": [
    "## Invert"
   ]
  },
  {
   "cell_type": "code",
   "execution_count": 411,
   "metadata": {},
   "outputs": [],
   "source": [
    "nicole_input = dir_nicole + 'NICOLE.input'\n",
    "INPUT = nic.set_nicole_input_params(Mode = 'I',\n",
    "                                    Printout__detail = 1,\n",
    "                                    Input__model = model_guess,\n",
    "                                    Observed__profiles = profile_obs,\n",
    "                                    Output__profiles = profile_fit,\n",
    "                                    Heliocentric__angle = 0.96, \n",
    "                                    Output__model = model_fit,\n",
    "                                    noise__level = 0.001,\n",
    "                                    Maximum__number__of__inversions=5,\n",
    "                                    Continuum__reference = 3,\n",
    "                                    Debug__mode = 1)\n",
    "INPUT = nic.set_nicole_regions_lines(INPUT, 'Region 1',\n",
    "                                     First__wavelength = wav_ran[0,0], \n",
    "                                     Wavelength__step = lin_disp,\n",
    "                                     Number__of__wavelengths = wav_n)\n",
    "INPUT = nic.set_nicole_regions_lines(INPUT, 'Line 1',\n",
    "                                     Line = 'CaII__8542',\n",
    "                                     Mode = 'NLTE')\n",
    "# INPUT = nic.set_nicole_regions_lines(INPUT, 'Line 2',\n",
    "#                                      Line = 'FeI__8538',\n",
    "#                                      Mode = 'LTE')\n",
    "INPUT = nic.set_nicole_regions_lines(INPUT, 'Nodes',\n",
    "                                     Temperature = 6,\n",
    "                                     Velocity = 2,\n",
    "                                     Microturbulence = 1,\n",
    "                                     Bz = 2,\n",
    "                                     By = 2,\n",
    "                                     Bx = 2)\n",
    "# INPUT = nic.set_nicole_regions_lines(INPUT, 'NLTE',\n",
    "#                                      Linear__formal__solution = 1)\n",
    "\n",
    "F = open(nicole_input, 'w')\n",
    "F.write(INPUT)\n",
    "F.close()"
   ]
  },
  {
   "cell_type": "markdown",
   "metadata": {},
   "source": [
    "## Plot model, profiles"
   ]
  },
  {
   "cell_type": "code",
   "execution_count": 459,
   "metadata": {
    "scrolled": true
   },
   "outputs": [
    {
     "name": "stdout",
     "output_type": "stream",
     "text": [
      "/home/hp/Dropbox/Inversions/NICOLE.git/run/ZIMPOL3/profit_CaII_0_0_15_100.pro \n",
      " b'nicole2.3bp     '\n",
      "50 15 200\n"
     ]
    },
    {
     "name": "stderr",
     "output_type": "stream",
     "text": [
      "/home/hp/anaconda3/lib/python3.6/site-packages/matplotlib/cbook/deprecation.py:107: MatplotlibDeprecationWarning: Adding an axes using the same arguments as a previous axes currently reuses the earlier instance.  In a future version, a new instance will always be created and returned.  Meanwhile, this warning can be suppressed, and the future behavior ensured, by passing a unique label to each axes instance.\n",
      "  warnings.warn(message, mplDeprecation, stacklevel=1)\n"
     ]
    }
   ],
   "source": [
    "ix, ix2, iy, iy2 = get_xy(mean(stokes_temp[0], axis=0), 1,1)\n",
    "s_out = read_native_profile([profile_fit])[0]\n",
    "# s_out2 = [gaussian_filter1d(s_out[0], 3, axis=1)]\n",
    "fig = figure(None, figsize=(10,6))\n",
    "nic.plot_profile(fig, [stokes_temp[:,:,iy, ix]], color='k', ls='-.', lw=0.5)\n",
    "nic.plot_profile(fig, [s_out[:,:,iy,ix]], color='k', ls='--', lw=1)\n",
    "fig.tight_layout()\n",
    "savefig(dir_save+'profit_'+suffix+'.eps', format='eps', dpi=1200)"
   ]
  },
  {
   "cell_type": "code",
   "execution_count": 458,
   "metadata": {},
   "outputs": [
    {
     "name": "stderr",
     "output_type": "stream",
     "text": [
      "/home/hp/anaconda3/lib/python3.6/site-packages/matplotlib/cbook/deprecation.py:107: MatplotlibDeprecationWarning: Adding an axes using the same arguments as a previous axes currently reuses the earlier instance.  In a future version, a new instance will always be created and returned.  Meanwhile, this warning can be suppressed, and the future behavior ensured, by passing a unique label to each axes instance.\n",
      "  warnings.warn(message, mplDeprecation, stacklevel=1)\n"
     ]
    }
   ],
   "source": [
    "mo_pars, mo_head, mo_plot, mo_const, mo_abu = read_native_model(model_fit)\n",
    "fig = figure(None, figsize=(10,6))\n",
    "nic.plot_model_bvtp(fig, [mi_plot], True, color='k', ls=':')\n",
    "nic.plot_model_bvtp(fig, [mo_plot[0][:,:,0,IND]], True, color='k', ls = '--')\n",
    "fig.tight_layout()\n",
    "savefig(dir_save+'modfit_'+suffix+'.eps', format='eps', dpi=1200)"
   ]
  },
  {
   "cell_type": "code",
   "execution_count": 375,
   "metadata": {},
   "outputs": [],
   "source": [
    "Blos, Btrans = mo_plot[0][50,8], sqrt(mo_plot[0][50,9]**2+mo_plot[0][50,10]**2)\n",
    "previewImage(Blos)"
   ]
  },
  {
   "cell_type": "markdown",
   "metadata": {},
   "source": [
    "# Invert again"
   ]
  },
  {
   "cell_type": "code",
   "execution_count": 320,
   "metadata": {},
   "outputs": [],
   "source": [
    "nicole_input = dir_nicole + 'NICOLE.input'\n",
    "INPUT = nic.set_nicole_input_params(Mode = 'I',\n",
    "                                    Printout__detail = 1,\n",
    "                                    Input__model = model_fit,\n",
    "                                    Observed__profiles = profile_obs,\n",
    "                                    Output__profiles = profile_fit2,\n",
    "                                    Heliocentric__angle = 0.96, \n",
    "                                    Output__model = model_fit2,\n",
    "                                    noise__level = 0.003,\n",
    "                                    Maximum__number__of__inversions=5,\n",
    "                                    Continuum__reference = 3,\n",
    "                                    Debug__mode = 1)\n",
    "INPUT = nic.set_nicole_regions_lines(INPUT, 'Region 1',\n",
    "                                     First__wavelength = wav_ran[0,0], \n",
    "                                     Wavelength__step = lin_disp,\n",
    "                                     Number__of__wavelengths = wav_n)\n",
    "INPUT = nic.set_nicole_regions_lines(INPUT, 'Line 1',\n",
    "                                     Line = 'CaII__8542',\n",
    "                                     Mode = 'NLTE')\n",
    "INPUT = nic.set_nicole_regions_lines(INPUT, 'Nodes',\n",
    "                                     Temperature = 7,\n",
    "                                     Velocity = 3,\n",
    "                                     Microturbulence = 1,\n",
    "                                     Bz = 3,\n",
    "                                     By = 3,\n",
    "                                     Bx = 3)\n",
    "# INPUT = nic.set_nicole_regions_lines(INPUT, 'NLTE',\n",
    "#                                      Linear__formal__solution = 1)\n",
    "\n",
    "F = open(nicole_input, 'w')\n",
    "F.write(INPUT)\n",
    "F.close()"
   ]
  },
  {
   "cell_type": "markdown",
   "metadata": {},
   "source": [
    "# Plot again"
   ]
  },
  {
   "cell_type": "code",
   "execution_count": 322,
   "metadata": {},
   "outputs": [
    {
     "name": "stdout",
     "output_type": "stream",
     "text": [
      "/home/hp/Dropbox/Inversions/NICOLE.git/run/ZIMPOL3/profit2_CaII_9_74_1_4.pro \n",
      " b'nicole2.3bp     '\n",
      "1 1 600\n"
     ]
    },
    {
     "name": "stderr",
     "output_type": "stream",
     "text": [
      "/home/hp/anaconda3/lib/python3.6/site-packages/matplotlib/cbook/deprecation.py:107: MatplotlibDeprecationWarning: Adding an axes using the same arguments as a previous axes currently reuses the earlier instance.  In a future version, a new instance will always be created and returned.  Meanwhile, this warning can be suppressed, and the future behavior ensured, by passing a unique label to each axes instance.\n",
      "  warnings.warn(message, mplDeprecation, stacklevel=1)\n"
     ]
    }
   ],
   "source": [
    "IND = 0\n",
    "s_out2 = read_native_profile([profile_fit2])[0]\n",
    "# s_out2 = [gaussian_filter1d(s_out[0], 3, axis=1)]\n",
    "fig = figure(None, figsize=(10,6))\n",
    "nic.plot_profile(fig, [stokes_temp[:,:,IND,0]], color='k', ls='-.', lw=0.5)\n",
    "nic.plot_profile(fig, [s_out2[:,:,0,IND]], color='k', ls='--', lw=1)\n",
    "fig.tight_layout()\n",
    "savefig(dir_save+'profit2_'+suffix+'.eps', format='eps', dpi=1200)"
   ]
  },
  {
   "cell_type": "code",
   "execution_count": 325,
   "metadata": {},
   "outputs": [
    {
     "name": "stderr",
     "output_type": "stream",
     "text": [
      "/home/hp/anaconda3/lib/python3.6/site-packages/matplotlib/cbook/deprecation.py:107: MatplotlibDeprecationWarning: Adding an axes using the same arguments as a previous axes currently reuses the earlier instance.  In a future version, a new instance will always be created and returned.  Meanwhile, this warning can be suppressed, and the future behavior ensured, by passing a unique label to each axes instance.\n",
      "  warnings.warn(message, mplDeprecation, stacklevel=1)\n"
     ]
    }
   ],
   "source": [
    "mo_pars2, mo_head2, mo_plot2, mo_const2, mo_abu2 = read_native_model(model_fit2)\n",
    "fig = figure(None, figsize=(10,6))\n",
    "nic.plot_model_bvtp(fig, [mi_plot], True, color='k', ls=':')\n",
    "nic.plot_model_bvtp(fig, [mo_plot2[0][:,:,0,IND]], True, color='k', ls = '--')\n",
    "fig.tight_layout()\n",
    "savefig(dir_save+'modfit2_'+suffix+'.eps', format='eps', dpi=1200)"
   ]
  },
  {
   "cell_type": "code",
   "execution_count": 326,
   "metadata": {},
   "outputs": [],
   "source": [
    "Blos, Btrans = mo_plot2[0][50,8], sqrt(mo_plot2[0][50,9]**2+mo_plot2[0][50,10]**2)\n",
    "previewImage(Blos)"
   ]
  },
  {
   "cell_type": "code",
   "execution_count": null,
   "metadata": {},
   "outputs": [],
   "source": [
    "# Photosphere -10\n",
    "# Chromosphere 50"
   ]
  }
 ],
 "metadata": {
  "anaconda-cloud": {},
  "kernelspec": {
   "display_name": "Python 3",
   "language": "python",
   "name": "python3"
  },
  "language_info": {
   "codemirror_mode": {
    "name": "ipython",
    "version": 3
   },
   "file_extension": ".py",
   "mimetype": "text/x-python",
   "name": "python",
   "nbconvert_exporter": "python",
   "pygments_lexer": "ipython3",
   "version": "3.6.5"
  }
 },
 "nbformat": 4,
 "nbformat_minor": 2
}
