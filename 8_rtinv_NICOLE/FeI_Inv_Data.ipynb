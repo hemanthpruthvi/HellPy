{
 "cells": [
  {
   "cell_type": "code",
   "execution_count": 1,
   "metadata": {},
   "outputs": [
    {
     "name": "stdout",
     "output_type": "stream",
     "text": [
      "/media/hp/Data/CaII Polarimeter v2/Level-2\n"
     ]
    }
   ],
   "source": [
    "from __future__ import print_function\n",
    "%matplotlib tk\n",
    "from ReductionImports import *\n",
    "import  NicoleNative as nic\n",
    "setrcParams()\n",
    "# dir_init = getFileFilesDir(2)\n",
    "dir_init = '/media/hp/Data/CaII Polarimeter v2/Level-2'\n",
    "print(dir_init)"
   ]
  },
  {
   "cell_type": "code",
   "execution_count": 2,
   "metadata": {},
   "outputs": [
    {
     "name": "stdout",
     "output_type": "stream",
     "text": [
      "/media/hp/Data/CaII Polarimeter v2/Level-2/20180426_085155_STOKESCORRECT.fits  is loaded\n"
     ]
    }
   ],
   "source": [
    "#-------------------------- For KKL data\n",
    "stokes_file = getFileFilesDir(0, initialdir = dir_init, \n",
    "                                 filetypes  = (('FITS file', '*STOKES*.fits'),), \n",
    "                                 title = 'Choose the stack of Stokes files...') # Select the file\n",
    "hdu = pf.open(stokes_file) # Open with fits package\n",
    "stokes_obs = float32(hdu[0].data) # Read the data\n",
    "header = hdu[0].header # Read the header\n",
    "hdu.close() # Clos HDU\n",
    "print(stokes_file, ' is loaded')\n",
    "ns, nw, ny, nx = stokes_obs.shape\n",
    "#---------------------------------------------------- Fixed Parameters\n",
    "pix_caii = header['PIXCAII']\n",
    "pix_fei = header['PIXFEI']\n",
    "pix_sii = header['PIXSII']\n",
    "wav_caii = 8542.089\n",
    "wav_atm1 = 8540.8\n",
    "wav_fei = 8538.015\n",
    "wav_sii = 8536.165\n",
    "plate_scale = 0.07425*int(header['BINNING'])*int(header['IMBIN']) # Plate scale in arcsec/pixel\n",
    "lin_disp = header['DISPERS']\n",
    "nw_ran = (arange(nw) - pix_fei)*lin_disp + wav_fei\n",
    "#---------------------------------------------------- Parameters for inversion\n",
    "wav_n = 80\n",
    "pix_start = int(pix_fei)-wav_n/2\n",
    "wav_ran = nw_ran[pix_start:pix_start+wav_n]"
   ]
  },
  {
   "cell_type": "code",
   "execution_count": 6,
   "metadata": {},
   "outputs": [
    {
     "name": "stdout",
     "output_type": "stream",
     "text": [
      "35 39 53 57\n"
     ]
    }
   ],
   "source": [
    "# For synthesis mode\n",
    "model_in = 'fei-8538-mod.model'\n",
    "model_interp = 'fei-8538-interp.mod'\n",
    "profile_synth = 'fei-8538synth.pro'\n",
    "# For inversion mode\n",
    "model_guess = 'falc.model'\n",
    "model_out = 'fei-8538-fitted.mod'\n",
    "profile_obs = 'fei-8538-obs.pro'\n",
    "profile_out = 'fei-8538-fitted.pro'\n",
    "x_bin, y_bin = 4,4\n",
    "x_beg, x_end, y_beg, y_end = get_xy(stokes_obs[0,0], x_bin, y_bin)\n",
    "print(x_beg, x_end, y_beg, y_end)"
   ]
  },
  {
   "cell_type": "code",
   "execution_count": 4,
   "metadata": {},
   "outputs": [
    {
     "data": {
      "text/plain": [
       "[<matplotlib.lines.Line2D at 0x7f96d8ee0110>,\n",
       " <matplotlib.lines.Line2D at 0x7f96d8ee01d0>]"
      ]
     },
     "execution_count": 4,
     "metadata": {},
     "output_type": "execute_result"
    }
   ],
   "source": [
    "cont_beg = int(pix_fei) - 52\n",
    "cont_end = cont_beg + 92\n",
    "cont_reg = median(stokes_obs[0,cont_beg:cont_end], axis=(1,2))\n",
    "cont_wav = nw_ran[cont_beg:cont_end]\n",
    "cont_w = cont_reg-cont_reg.min()\n",
    "cont_w[32:80] = 0\n",
    "p = polyfit(cont_wav, cont_reg, 1, w=cont_w)\n",
    "cont_fit = p[0]*cont_wav + p[1]\n",
    "plot(cont_reg)\n",
    "figure()\n",
    "plot(cont_wav, cont_reg, cont_wav, cont_fit)"
   ]
  },
  {
   "cell_type": "code",
   "execution_count": 7,
   "metadata": {},
   "outputs": [],
   "source": [
    "stokes_temp = mean(stokes_obs[:,pix_start:pix_start+wav_n, y_beg:y_end, x_beg:x_end], axis=(2,3))\n",
    "cont_corr = p[0]*wav_ran + p[1]\n",
    "cont_corr /= cont_corr.max()\n",
    "stokes_temp /=  cont_corr\n",
    "stokes_temp /= stokes_temp[0,0]\n",
    "stokes_temp = gaussian_filter1d(stokes_temp, 0.001)\n",
    "stokes_temp[1] -= 0.016*stokes_temp[3]-0.001*stokes_temp[0]\n",
    "stokes_temp[2] += -0.02*stokes_temp[3]-0.001*stokes_temp[0]\n",
    "stokes_temp[2,:] = -stokes_temp[2,:] \n",
    "stokes_temp[3,:] = stokes_temp[3,:]-0.003*stokes_temp[0]\n",
    "nic.plot_profile(figure(0), [stokes_temp])\n",
    "observ = transpose(append(reshape(wav_ran, (1, wav_n)) , stokes_temp, axis=0))\n",
    "savetxt(profile_obs, observ, fmt='{:^10}'.format('%s'), delimiter=' ')"
   ]
  },
  {
   "cell_type": "code",
   "execution_count": 8,
   "metadata": {},
   "outputs": [],
   "source": [
    "# New model\n",
    "me_pars, me_head, me_const, me_out = nic.read_ascii_model('valc.model')\n",
    "me_const = ' ' + str(int((lin_disp*3/8538)*2.998*10**10)) + ' 0.0\\r\\n'\n",
    "N = me_out.shape[0]\n",
    "me_out[:,4] = linspace(1500, 500, N) # b_los\n",
    "me_out[:,5] = linspace(150000, 50000, N) # v_los\n",
    "me_out[:,6] = linspace(-400, -800, N) # b_x\n",
    "me_out[:,7] = linspace(-300, -600, N) # b_y\n",
    "nic.create_ascii_model(model_in, me_head, me_const, me_out)"
   ]
  },
  {
   "cell_type": "markdown",
   "metadata": {},
   "source": [
    "# Invert"
   ]
  },
  {
   "cell_type": "code",
   "execution_count": 10,
   "metadata": {},
   "outputs": [],
   "source": [
    "INPUT = nic.set_nicole_input_params(Mode = 'I',\n",
    "                                    Printout_detail = 1,\n",
    "                                    Input_model = model_in,\n",
    "                                    Observed_profiles = profile_obs,\n",
    "                                    Output_profiles = profile_out,\n",
    "                                    Heliocentric_angle = 0.97, \n",
    "                                    Output_model = model_out,\n",
    "                                    noise_level = 0.002,\n",
    "                                    Maximum_number_of_inversions=5,\n",
    "                                    Continuum_reference = 3,\n",
    "                                    Debug_mode = 1)\n",
    "INPUT = nic.set_nicole_regions_lines(INPUT, 'Region 1',\n",
    "                                     First_wavelength = wav_ran[0], \n",
    "                                     Wavelength_step = lin_disp,\n",
    "                                     Number_of_wavelengths = wav_n)\n",
    "INPUT = nic.set_nicole_regions_lines(INPUT, 'Line 1',\n",
    "                                     Line = 'FeI_8538',\n",
    "                                     Mode = 'LTE')\n",
    "INPUT = nic.set_nicole_regions_lines(INPUT, 'Nodes',\n",
    "                                     Temperature = 4,\n",
    "                                     Velocity = 2,\n",
    "                                     Bz = 2,\n",
    "                                     By = 1,\n",
    "                                     Bx = 1)\n",
    "\n",
    "F = open('NICOLE.input', 'w')\n",
    "F.write(INPUT)\n",
    "F.close()\n",
    "try:\n",
    "    os.remove(profile_out)\n",
    "    os.remove(model_out)\n",
    "except: pass"
   ]
  },
  {
   "cell_type": "code",
   "execution_count": 9,
   "metadata": {
    "scrolled": true
   },
   "outputs": [
    {
     "name": "stdout",
     "output_type": "stream",
     "text": [
      "nicole2.3bp     \n",
      "1 1 80\n"
     ]
    },
    {
     "name": "stderr",
     "output_type": "stream",
     "text": [
      "/home/hp/miniconda2/lib/python2.7/site-packages/matplotlib/cbook/deprecation.py:107: MatplotlibDeprecationWarning: Adding an axes using the same arguments as a previous axes currently reuses the earlier instance.  In a future version, a new instance will always be created and returned.  Meanwhile, this warning can be suppressed, and the future behavior ensured, by passing a unique label to each axes instance.\n",
      "  warnings.warn(message, mplDeprecation, stacklevel=1)\n"
     ]
    }
   ],
   "source": [
    "mi_pars, mi_head, mi_const, mi_plot = nic.read_ascii_model(model_in)\n",
    "mo_pars, mo_head, mo_plot, mo_const, mo_abu = nic.read_native_model(model_out)\n",
    "nic.plot_model_bvtp(figure(3), [mi_plot, mo_plot])\n",
    "s_out = nic.read_native_profile([profile_out])\n",
    "nic.plot_profile(figure(4), [stokes_temp])\n",
    "s_out = [gaussian_filter1d(s_out[0], 3, axis=1)]\n",
    "nic.plot_profile(figure(4), s_out)"
   ]
  },
  {
   "cell_type": "code",
   "execution_count": 166,
   "metadata": {},
   "outputs": [],
   "source": [
    "INPUT = nic.set_nicole_input_params(Mode = 'S',\n",
    "                                Input_model = model_in ,\n",
    "                                Output_profiles = profile_synth,\n",
    "                                Heliocentric_angle = 1, \n",
    "                                Output_model = model_interp,\n",
    "                                Continuum_reference = 4,\n",
    "                                Debug_mode = 1)\n",
    "INPUT = nic.set_nicole_regions_lines(INPUT, 'Region 1',\n",
    "                                 First_wavelength = wav_ran[0], \n",
    "                                 Wavelength_step = lin_disp,\n",
    "                                 Number_of_wavelengths = wav_n,\n",
    "                                 Macroturbulence_enhancement = 1)\n",
    "INPUT = nic.set_nicole_regions_lines(INPUT, 'Line 1',\n",
    "                                 Line = 'CaII_8542')\n",
    "F = open('NICOLE.input', 'w')\n",
    "F.write(INPUT)\n",
    "F.close()\n",
    "try:\n",
    "    os.remove(profile_synth)\n",
    "except: pass"
   ]
  },
  {
   "cell_type": "code",
   "execution_count": null,
   "metadata": {},
   "outputs": [],
   "source": [
    "# For synthesis mode\n",
    "model_in = 'mymodel.model'\n",
    "model_interp = 'caii-8542-interp.mod'\n",
    "profile_synth = 'caii-8542-synth.pro'\n",
    "# For inversion mode\n",
    "model_guess = 'falc.model'\n",
    "model_out = 'caii-8542-fitted.mod'\n",
    "profile_obs = 'caii-8542-obs.pro'\n",
    "profile_out = 'caii-8542-fitted.pro'\n",
    "# New model\n",
    "me_pars, me_head, me_const, me_out = nic.read_ascii_model('valc.model')\n",
    "me_const = ' ' + str(int((lin_disp*0.0/8538)*2.998*10**10)) + ' 0.0\\r\\n'\n",
    "N = me_out.shape[0]\n",
    "me_out[:,4] = linspace(-3500, -1500, N) # b_los\n",
    "me_out[:,5] = linspace(250000, 350000, N) # v_los\n",
    "me_out[:,6] = linspace(500, 1500, N) # b_x\n",
    "me_out[:,7] = linspace(-500, -1500, N) # b_y\n",
    "nic.create_ascii_model(model_in, me_head, me_const, me_out)"
   ]
  },
  {
   "cell_type": "code",
   "execution_count": null,
   "metadata": {},
   "outputs": [],
   "source": [
    "%run '/home/hp/NICOLE/run/run_nicole.py'\n",
    "close()"
   ]
  },
  {
   "cell_type": "code",
   "execution_count": null,
   "metadata": {},
   "outputs": [],
   "source": [
    "mi_pars, mi_head, mi_const, mi_plot = nic.read_ascii_model(model_in)\n",
    "mt_pars, mt_head, mt_plot, mt_const, mt_abu = nic.read_native_model(model_interp)\n",
    "nic.plot_model_bvtp(figure(1), [mi_plot, mt_plot])\n",
    "s_synth = nic.read_native_profile([profile_synth])\n",
    "s_synth = [gaussian_filter1d(s_synth[0], 2, axis=1)]\n",
    "nic.plot_profile(figure(2), s_synth + [stokes_temp])"
   ]
  },
  {
   "cell_type": "markdown",
   "metadata": {},
   "source": [
    "# Create instrument profile"
   ]
  },
  {
   "cell_type": "code",
   "execution_count": null,
   "metadata": {},
   "outputs": [],
   "source": [
    "def gaussian_1d_func(x, a, mu, sig):\n",
    "    return a*exp(-(x-mu)**2/(2*sig**2))\n",
    "instru_resp = gaussian_1d_func(wav_ran, 1, wav_ran[0], 2*lin_disp) + gaussian_1d_func(wav_ran, 1, wav_ran[-1], 2*lin_disp)"
   ]
  },
  {
   "cell_type": "code",
   "execution_count": null,
   "metadata": {},
   "outputs": [],
   "source": [
    "profile_instru = 'Instrumental_profile.dat'\n",
    "instru = append(reshape(wav_ran, (1, wav_n)) , ones([4,1])*reshape(instru_resp, (1, wav_n)), axis=0)\n",
    "# instru[2::] = 0\n",
    "# instru = reshape(instru_resp, (1, wav_n))\n",
    "instru = transpose(instru)\n",
    "savetxt(profile_instru, instru, fmt='{:^10}'.format('%s'), delimiter=' ')\n",
    "plot(instru)"
   ]
  },
  {
   "cell_type": "code",
   "execution_count": 27,
   "metadata": {},
   "outputs": [],
   "source": [
    "weights = np.copy(observ)\n",
    "weights[:,1::] = 5\n",
    "weights[40:74, 1] = 1.0/10000\n",
    "weights[43:-86, 2] = 1.0/10\n",
    "weights[43:86, 3] = 1.0/500\n",
    "weights[:,4] = 1.0/1000\n",
    "savetxt('Weights.pro', weights, fmt='{:^10}'.format('%s'), delimiter=' ')"
   ]
  },
  {
   "cell_type": "markdown",
   "metadata": {},
   "source": [
    "## ZIMPOL3 data"
   ]
  },
  {
   "cell_type": "code",
   "execution_count": 124,
   "metadata": {},
   "outputs": [
    {
     "name": "stdout",
     "output_type": "stream",
     "text": [
      "/media/hp/Data/CaII Polarimeter v2/Level-2/20180426_085155_STOKESCORRECT.fits  is loaded\n"
     ]
    }
   ],
   "source": [
    "#--------------------- For ZIMPOL3 data\n",
    "stokes_file = getFileFilesDir(0, initialdir = dir_init, \n",
    "                                 filetypes  = (('FITS file', '*STOKES*.fits'),), \n",
    "                                 title = 'Choose the stack of Stokes files...') # Select the file\n",
    "hdu = pf.open(stokes_file) # Open with fits package\n",
    "stokes_obs = float32(hdu[0].data) # Read the data\n",
    "# header = hdu[0].header # Read the header\n",
    "hdu.close() # Clos HDU\n",
    "print(stokes_file, ' is loaded')\n",
    "ns, nw, ny, nx = stokes_obs.shape\n",
    "pix_caii = 602\n",
    "pix_fei = 296\n",
    "pix_sii = 158.5\n",
    "wav_caii = 8542.089\n",
    "wav_atm1 = 8540.8\n",
    "wav_fei = 8538.015\n",
    "wav_sii = 8536.165\n",
    "plate_scale = 0.07425*int(header['BINNING'])*int(header['IMBIN']) # Plate scale in arcsec/pixel\n",
    "lin_disp = 0.0133\n",
    "nw_ran = (arange(nw) - pix_fei)*lin_disp + wav_fei\n",
    "#---------------------------------------------------- Parameters for inversion\n",
    "wav_n = 120\n",
    "pix_start = int(pix_fei)-wav_n/2\n",
    "wav_ran = nw_ran[pix_start:pix_start+wav_n]"
   ]
  }
 ],
 "metadata": {
  "kernelspec": {
   "display_name": "Python 3",
   "language": "python",
   "name": "python3"
  },
  "language_info": {
   "codemirror_mode": {
    "name": "ipython",
    "version": 3
   },
   "file_extension": ".py",
   "mimetype": "text/x-python",
   "name": "python",
   "nbconvert_exporter": "python",
   "pygments_lexer": "ipython3",
   "version": "3.6.5"
  }
 },
 "nbformat": 4,
 "nbformat_minor": 2
}
