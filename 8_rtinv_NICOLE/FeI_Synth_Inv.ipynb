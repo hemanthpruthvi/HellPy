{
 "cells": [
  {
   "cell_type": "code",
   "execution_count": 7,
   "metadata": {},
   "outputs": [
    {
     "name": "stdout",
     "output_type": "stream",
     "text": [
      "/home/hp/NICOLE/run\n"
     ]
    }
   ],
   "source": [
    "from __future__ import print_function\n",
    "%matplotlib tk\n",
    "from ReductionImports import *\n",
    "import  NicoleNative as nic\n",
    "setrcParams()\n",
    "INITDIR = getFileFilesDir(2)\n",
    "print(INITDIR)"
   ]
  },
  {
   "cell_type": "code",
   "execution_count": 33,
   "metadata": {},
   "outputs": [],
   "source": [
    "wav_start = 8537.692427\n",
    "wav_samp = 0.010585\n",
    "wav_n = 60\n",
    "wav_ran = arange(wav_n)*wav_samp + wav_start\n",
    "# For synthesis mode\n",
    "model_in = 'mymodel.model'\n",
    "model_interp = 'fei-8538-interp.mod'\n",
    "profile_synth = 'fei-8538-synth.pro'\n",
    "# For inversion mode\n",
    "model_guess = 'mymodel.model'\n",
    "model_out = 'fei-8538-fitted.mod'\n",
    "profile_obs = 'fei-8538-obs.pro'\n",
    "profile_out = 'fei-8538-fitted.pro'\n",
    "# New model\n",
    "me_pars, me_head, me_const, me_out = nic.read_ascii_model('holmu.model')\n",
    "# me_const = ' ' + str(int((wav_samp*0/8538)*2.998*10**10)) + ' 0.0\\r\\n'\n",
    "N = me_out.shape[0]\n",
    "me_out[:,4] = linspace(1000, 5000, N) # b_los\n",
    "me_out[:,5] = linspace(200, 2000, N) # v_los\n",
    "me_out[:,6] = linspace(50, 500, N) # b_x\n",
    "me_out[:,7] = linspace(50, 500, N) # b_y\n",
    "nic.create_ascii_model(model_in, me_head, me_const, me_out)"
   ]
  },
  {
   "cell_type": "code",
   "execution_count": 35,
   "metadata": {},
   "outputs": [],
   "source": [
    "INPUT = nic.set_nicole_input_params(Mode = 'S',\n",
    "                                Input_model = model_in ,\n",
    "                                Output_profiles = profile_synth,\n",
    "                                Heliocentric_angle = 0.9, \n",
    "                                Output_model = model_interp,\n",
    "                                Continuum_reference = 4,\n",
    "                                Debug_mode = 1)\n",
    "INPUT = nic.set_nicole_regions_lines(INPUT, 'Region 1',\n",
    "                                 First_wavelength = wav_start, \n",
    "                                 Wavelength_step = wav_samp,\n",
    "                                 Number_of_wavelengths = wav_n)\n",
    "INPUT = nic.set_nicole_regions_lines(INPUT, 'Line 1',\n",
    "                                 Line = 'FeI_8538')\n",
    "F = open('NICOLE.input', 'w')\n",
    "F.write(INPUT)\n",
    "F.close()\n",
    "try:\n",
    "    os.remove(profile_synth)\n",
    "except: pass"
   ]
  },
  {
   "cell_type": "code",
   "execution_count": 36,
   "metadata": {},
   "outputs": [
    {
     "name": "stdout",
     "output_type": "stream",
     "text": [
      "Checking syntax in file:LINES\n",
      "Preparing cycle 1\n",
      "Checking syntax in file:NICOLE.input\n",
      "  ... no errors found\n",
      "\n",
      "Preparing input model...100%\n",
      "\n",
      "Starting code execution\n"
     ]
    }
   ],
   "source": [
    "%run '/home/hp/NICOLE/run/run_nicole.py'\n",
    "close()"
   ]
  },
  {
   "cell_type": "code",
   "execution_count": 37,
   "metadata": {},
   "outputs": [
    {
     "name": "stdout",
     "output_type": "stream",
     "text": [
      "nicole2.3bp     \n",
      "1 1 60\n"
     ]
    },
    {
     "ename": "ValueError",
     "evalue": "cannot reshape array of size 0 into shape (4,60,1,1)",
     "output_type": "error",
     "traceback": [
      "\u001b[0;31m---------------------------------------------------------------------------\u001b[0m",
      "\u001b[0;31mValueError\u001b[0m                                Traceback (most recent call last)",
      "\u001b[0;32m<ipython-input-37-fdc7fa8123a9>\u001b[0m in \u001b[0;36m<module>\u001b[0;34m()\u001b[0m\n\u001b[1;32m      2\u001b[0m \u001b[0;31m# mt_pars, mt_head, mt_plot, mt_const, mt_abu = nic.read_native_model(model_interp)\u001b[0m\u001b[0;34m\u001b[0m\u001b[0;34m\u001b[0m\u001b[0m\n\u001b[1;32m      3\u001b[0m \u001b[0;31m# nic.plot_model_bvtp(figure(1), [mi_plot, mt_plot])\u001b[0m\u001b[0;34m\u001b[0m\u001b[0;34m\u001b[0m\u001b[0m\n\u001b[0;32m----> 4\u001b[0;31m \u001b[0ms_synth\u001b[0m \u001b[0;34m=\u001b[0m \u001b[0mnic\u001b[0m\u001b[0;34m.\u001b[0m\u001b[0mread_native_profile\u001b[0m\u001b[0;34m(\u001b[0m\u001b[0;34m[\u001b[0m\u001b[0mprofile_synth\u001b[0m\u001b[0;34m]\u001b[0m\u001b[0;34m)\u001b[0m\u001b[0;34m\u001b[0m\u001b[0m\n\u001b[0m\u001b[1;32m      5\u001b[0m \u001b[0mnic\u001b[0m\u001b[0;34m.\u001b[0m\u001b[0mplot_profile\u001b[0m\u001b[0;34m(\u001b[0m\u001b[0mfigure\u001b[0m\u001b[0;34m(\u001b[0m\u001b[0;36m2\u001b[0m\u001b[0;34m)\u001b[0m\u001b[0;34m,\u001b[0m \u001b[0ms_synth\u001b[0m\u001b[0;34m)\u001b[0m\u001b[0;34m\u001b[0m\u001b[0m\n",
      "\u001b[0;32m/home/hp/NICOLE/run/NicoleNative.pyc\u001b[0m in \u001b[0;36mread_native_profile\u001b[0;34m(PROFILES)\u001b[0m\n\u001b[1;32m     65\u001b[0m         \u001b[0;32mfor\u001b[0m \u001b[0mi\u001b[0m \u001b[0;32min\u001b[0m \u001b[0mrange\u001b[0m\u001b[0;34m(\u001b[0m\u001b[0mSIZE\u001b[0m\u001b[0;34m/\u001b[0m\u001b[0;36m8\u001b[0m\u001b[0;34m-\u001b[0m\u001b[0;36m4\u001b[0m\u001b[0;34m*\u001b[0m\u001b[0mNW\u001b[0m\u001b[0;34m)\u001b[0m\u001b[0;34m:\u001b[0m\u001b[0;34m\u001b[0m\u001b[0m\n\u001b[1;32m     66\u001b[0m             \u001b[0mS\u001b[0m\u001b[0;34m.\u001b[0m\u001b[0mappend\u001b[0m\u001b[0;34m(\u001b[0m\u001b[0mstruct\u001b[0m\u001b[0;34m.\u001b[0m\u001b[0munpack\u001b[0m\u001b[0;34m(\u001b[0m\u001b[0;34m'@d'\u001b[0m\u001b[0;34m,\u001b[0m \u001b[0mF\u001b[0m\u001b[0;34m.\u001b[0m\u001b[0mread\u001b[0m\u001b[0;34m(\u001b[0m\u001b[0;36m8\u001b[0m\u001b[0;34m)\u001b[0m\u001b[0;34m)\u001b[0m\u001b[0;34m[\u001b[0m\u001b[0;36m0\u001b[0m\u001b[0;34m]\u001b[0m\u001b[0;34m)\u001b[0m\u001b[0;34m\u001b[0m\u001b[0m\n\u001b[0;32m---> 67\u001b[0;31m         \u001b[0mSTOKES\u001b[0m\u001b[0;34m[\u001b[0m\u001b[0mp\u001b[0m\u001b[0;34m]\u001b[0m \u001b[0;34m=\u001b[0m \u001b[0mreshape\u001b[0m\u001b[0;34m(\u001b[0m\u001b[0marray\u001b[0m\u001b[0;34m(\u001b[0m\u001b[0mS\u001b[0m\u001b[0;34m,\u001b[0m \u001b[0mdtype\u001b[0m\u001b[0;34m=\u001b[0m\u001b[0mfloat64\u001b[0m\u001b[0;34m)\u001b[0m\u001b[0;34m,\u001b[0m \u001b[0;34m(\u001b[0m\u001b[0;36m4\u001b[0m\u001b[0;34m,\u001b[0m \u001b[0mNW\u001b[0m\u001b[0;34m,\u001b[0m \u001b[0mNY\u001b[0m\u001b[0;34m,\u001b[0m \u001b[0mNX\u001b[0m\u001b[0;34m)\u001b[0m\u001b[0;34m,\u001b[0m \u001b[0;34m'F'\u001b[0m\u001b[0;34m)\u001b[0m\u001b[0;34m\u001b[0m\u001b[0m\n\u001b[0m\u001b[1;32m     68\u001b[0m     \u001b[0;32mreturn\u001b[0m \u001b[0mSTOKES\u001b[0m\u001b[0;34m\u001b[0m\u001b[0m\n\u001b[1;32m     69\u001b[0m \u001b[0;34m\u001b[0m\u001b[0m\n",
      "\u001b[0;32m/home/hp/miniconda2/lib/python2.7/site-packages/numpy/core/fromnumeric.pyc\u001b[0m in \u001b[0;36mreshape\u001b[0;34m(a, newshape, order)\u001b[0m\n\u001b[1;32m    255\u001b[0m            [5, 6]])\n\u001b[1;32m    256\u001b[0m     \"\"\"\n\u001b[0;32m--> 257\u001b[0;31m     \u001b[0;32mreturn\u001b[0m \u001b[0m_wrapfunc\u001b[0m\u001b[0;34m(\u001b[0m\u001b[0ma\u001b[0m\u001b[0;34m,\u001b[0m \u001b[0;34m'reshape'\u001b[0m\u001b[0;34m,\u001b[0m \u001b[0mnewshape\u001b[0m\u001b[0;34m,\u001b[0m \u001b[0morder\u001b[0m\u001b[0;34m=\u001b[0m\u001b[0morder\u001b[0m\u001b[0;34m)\u001b[0m\u001b[0;34m\u001b[0m\u001b[0m\n\u001b[0m\u001b[1;32m    258\u001b[0m \u001b[0;34m\u001b[0m\u001b[0m\n\u001b[1;32m    259\u001b[0m \u001b[0;34m\u001b[0m\u001b[0m\n",
      "\u001b[0;32m/home/hp/miniconda2/lib/python2.7/site-packages/numpy/core/fromnumeric.pyc\u001b[0m in \u001b[0;36m_wrapfunc\u001b[0;34m(obj, method, *args, **kwds)\u001b[0m\n\u001b[1;32m     50\u001b[0m \u001b[0;32mdef\u001b[0m \u001b[0m_wrapfunc\u001b[0m\u001b[0;34m(\u001b[0m\u001b[0mobj\u001b[0m\u001b[0;34m,\u001b[0m \u001b[0mmethod\u001b[0m\u001b[0;34m,\u001b[0m \u001b[0;34m*\u001b[0m\u001b[0margs\u001b[0m\u001b[0;34m,\u001b[0m \u001b[0;34m**\u001b[0m\u001b[0mkwds\u001b[0m\u001b[0;34m)\u001b[0m\u001b[0;34m:\u001b[0m\u001b[0;34m\u001b[0m\u001b[0m\n\u001b[1;32m     51\u001b[0m     \u001b[0;32mtry\u001b[0m\u001b[0;34m:\u001b[0m\u001b[0;34m\u001b[0m\u001b[0m\n\u001b[0;32m---> 52\u001b[0;31m         \u001b[0;32mreturn\u001b[0m \u001b[0mgetattr\u001b[0m\u001b[0;34m(\u001b[0m\u001b[0mobj\u001b[0m\u001b[0;34m,\u001b[0m \u001b[0mmethod\u001b[0m\u001b[0;34m)\u001b[0m\u001b[0;34m(\u001b[0m\u001b[0;34m*\u001b[0m\u001b[0margs\u001b[0m\u001b[0;34m,\u001b[0m \u001b[0;34m**\u001b[0m\u001b[0mkwds\u001b[0m\u001b[0;34m)\u001b[0m\u001b[0;34m\u001b[0m\u001b[0m\n\u001b[0m\u001b[1;32m     53\u001b[0m \u001b[0;34m\u001b[0m\u001b[0m\n\u001b[1;32m     54\u001b[0m     \u001b[0;31m# An AttributeError occurs if the object does not have\u001b[0m\u001b[0;34m\u001b[0m\u001b[0;34m\u001b[0m\u001b[0m\n",
      "\u001b[0;31mValueError\u001b[0m: cannot reshape array of size 0 into shape (4,60,1,1)"
     ]
    }
   ],
   "source": [
    "# mi_pars, mi_head, mi_const, mi_plot = nic.read_ascii_model(model_in)\n",
    "# mt_pars, mt_head, mt_plot, mt_const, mt_abu = nic.read_native_model(model_interp)\n",
    "# nic.plot_model_bvtp(figure(1), [mi_plot, mt_plot])\n",
    "s_synth = nic.read_native_profile([profile_synth])\n",
    "nic.plot_profile(figure(2), s_synth)"
   ]
  },
  {
   "cell_type": "code",
   "execution_count": 126,
   "metadata": {},
   "outputs": [
    {
     "data": {
      "text/plain": [
       "[1, 2, 3]"
      ]
     },
     "execution_count": 126,
     "metadata": {},
     "output_type": "execute_result"
    }
   ],
   "source": [
    "[1,2]+[3]"
   ]
  },
  {
   "cell_type": "markdown",
   "metadata": {},
   "source": [
    "# Add noise and invert"
   ]
  },
  {
   "cell_type": "code",
   "execution_count": 129,
   "metadata": {},
   "outputs": [],
   "source": [
    "wavs = reshape(wav_ran, (1, wav_n))\n",
    "stokes = s_synth[0][:,:,0,0]\n",
    "for i in range(4):\n",
    "    stokes[1::,:] = stokes[1::,:] + 0.001*random.randn(3,wav_n)*stokes[0,:]\n",
    "pro_obs = append(wavs , stokes, axis=0)\n",
    "savetxt(profile_obs, transpose(pro_obs), fmt='{:^10}'.format('%s'), delimiter=' ')"
   ]
  },
  {
   "cell_type": "code",
   "execution_count": 130,
   "metadata": {},
   "outputs": [],
   "source": [
    "INPUT = nic.set_nicole_input_params(Mode = 'I',\n",
    "                                Input_model = model_guess,\n",
    "                                Observed_profiles = profile_obs,\n",
    "                                Output_profiles = profile_out,\n",
    "                                Heliocentric_angle = 0.9, \n",
    "                                Output_model = model_out,\n",
    "                                noise_level = 0.001,\n",
    "                                Maximum_number_of_inversions=10,\n",
    "                                Continuum_reference = 4,\n",
    "                                Debug_mode = 1)\n",
    "INPUT = nic.set_nicole_regions_lines(INPUT, 'Region 1',\n",
    "                                 First_wavelength = wav_start, \n",
    "                                 Wavelength_step = wav_samp,\n",
    "                                 Number_of_wavelengths = wav_n)\n",
    "INPUT = nic.set_nicole_regions_lines(INPUT, 'Line 1',\n",
    "                                 Line = 'FeI_8538')\n",
    "F = open('NICOLE.input', 'w')\n",
    "F.write(INPUT)\n",
    "F.close()\n",
    "try:\n",
    "    os.remove(profile_out)\n",
    "    os.remove(model_out)\n",
    "except: pass"
   ]
  },
  {
   "cell_type": "code",
   "execution_count": 132,
   "metadata": {},
   "outputs": [
    {
     "name": "stdout",
     "output_type": "stream",
     "text": [
      "nicole2.3bp     \n",
      "1 1 60\n",
      "nicole2.3bp     \n",
      "1 1 60\n"
     ]
    }
   ],
   "source": [
    "mo_pars, mo_head, mo_plot, mo_const, mo_abu = nic.read_native_model(model_out)\n",
    "nic.plot_model_bvtp(figure(3), [mi_plot, mo_plot])\n",
    "s_synth_out = nic.read_native_profile([profile_synth, profile_out])\n",
    "nic.plot_profile(figure(4), s_synth_out + [stokes])"
   ]
  }
 ],
 "metadata": {
  "kernelspec": {
   "display_name": "Python 2",
   "language": "python",
   "name": "python2"
  },
  "language_info": {
   "codemirror_mode": {
    "name": "ipython",
    "version": 2
   },
   "file_extension": ".py",
   "mimetype": "text/x-python",
   "name": "python",
   "nbconvert_exporter": "python",
   "pygments_lexer": "ipython2",
   "version": "2.7.15"
  }
 },
 "nbformat": 4,
 "nbformat_minor": 2
}
