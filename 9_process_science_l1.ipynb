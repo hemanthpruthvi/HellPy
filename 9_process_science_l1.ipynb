{
 "cells": [
  {
   "cell_type": "code",
   "execution_count": null,
   "metadata": {},
   "outputs": [
    {
     "name": "stderr",
     "output_type": "stream",
     "text": [
      "qt.qpa.xcb: X server does not support XInput 2\n"
     ]
    }
   ],
   "source": [
    "%matplotlib qt5\n",
    "from process_files import *\n",
    "from func_science import *"
   ]
  },
  {
   "cell_type": "markdown",
   "metadata": {},
   "source": [
    "#### 9. Create time series maps of physical parameters"
   ]
  },
  {
   "cell_type": "code",
   "execution_count": 2,
   "metadata": {},
   "outputs": [
    {
     "name": "stderr",
     "output_type": "stream",
     "text": [
      "qt.qpa.xcb: QXcbConnection: XCB error: 1 (BadRequest), sequence: 169, resource id: 132, major code: 130 (Unknown), minor code: 47\n"
     ]
    }
   ],
   "source": [
    "config = configobj.ConfigObj('config.ini')\n",
    "# line = config['line']\n",
    "line = 'Ca_II_8542'\n",
    "if (line == 'Fe_I_6301'): line_ = 'Fe_I_6302'\n",
    "else: line_ = line\n",
    "#\n",
    "suffix_dq = '_'\n",
    "invdir = config['science']['invdir']\n",
    "l0dir = config['science'][line_+'/l0dir']\n",
    "l1dir = l0dir.replace(os.sep+'L0'+os.sep, os.sep+'L1'+os.sep)\n",
    "l1supdir = os.sep.join(l1dir.split(os.sep)[0:-2])\n",
    "if not os.path.exists(l1supdir): os.makedirs(l1supdir)\n",
    "l1dir = l1supdir+os.sep+line+os.sep+'stokes'+suffix_dq\n",
    "if not os.path.exists(l1dir): os.makedirs(l1dir)\n",
    "pol_files = [l0dir+os.sep+f for f in sorted(os.listdir(l0dir))]\n",
    "invoutdir = l1supdir+os.sep+line+os.sep+'tempdir_out'+suffix_dq\n",
    "nwav = int(config['science'][line+'/nwav'])\n",
    "#\n",
    "config['science']['l1dir'] = l1supdir\n",
    "config['science'][line+'/l1dir'+suffix_dq] = l1dir\n",
    "config.write()"
   ]
  },
  {
   "cell_type": "code",
   "execution_count": 3,
   "metadata": {},
   "outputs": [
    {
     "name": "stderr",
     "output_type": "stream",
     "text": [
      "libGL error: MESA-LOADER: failed to open swrast: /usr/lib/dri/swrast_dri.so: cannot open shared object file: No such file or directory (search paths /usr/lib/x86_64-linux-gnu/dri:\\$${ORIGIN}/dri:/usr/lib/dri, suffix _dri)\n",
      "libGL error: failed to load driver: swrast\n"
     ]
    },
    {
     "data": {
      "text/plain": [
       "<matplotlib.image.AxesImage at 0x7f0c4738e110>"
      ]
     },
     "execution_count": 3,
     "metadata": {},
     "output_type": "execute_result"
    }
   ],
   "source": [
    "# Read the results from the inversion of the template stokes profiles (derived from the flats)\n",
    "sfile_ff = invoutdir + os.sep + 'pol_flat_stokes.dat' \n",
    "pfile_ff = invoutdir + os.sep + 'pol_flat_params.dat' \n",
    "#\n",
    "stokes_ff = np.fromfile(sfile_ff, dtype=np.dtype('f').newbyteorder('<'))\n",
    "stokes_ff = np.reshape(stokes_ff[0:-16], newshape=(1280,1280,nwav,8), order='F')\n",
    "stokes_ff = np.swapaxes(stokes_ff, 0, 1)\n",
    "params_ff = np.fromfile(pfile_ff, dtype=np.dtype('f').newbyteorder('<'))\n",
    "params_ff = np.reshape(params_ff[0:-2], newshape=(1280,1280,16), order='F')\n",
    "params_ff = np.swapaxes(params_ff, 0, 1)\n",
    "#\n",
    "# angg_ff = params_ff[:,:,1]\n",
    "# angt_ff = params_ff[:,:,2]\n",
    "# bmag_ff = params_ff[:,:,5]\n",
    "vlos_ff = params_ff[:,:,6]\n",
    "plt.figure()\n",
    "plt.imshow(vlos_ff, cmap='RdBu')"
   ]
  },
  {
   "cell_type": "code",
   "execution_count": 4,
   "metadata": {},
   "outputs": [
    {
     "data": {
      "text/plain": [
       "[<matplotlib.lines.Line2D at 0x7f0bfe791110>]"
      ]
     },
     "execution_count": 4,
     "metadata": {},
     "output_type": "execute_result"
    }
   ],
   "source": [
    "plt.figure()\n",
    "ix, iy, istks = 300, 1000, 0\n",
    "plt.plot(stokes_ff[iy,ix,:,istks])\n",
    "plt.plot(stokes_ff[iy,ix,:,istks+4])\n",
    "ix, iy, istks = 750, 550, 0\n",
    "plt.plot(stokes_ff[iy,ix,:,istks])\n",
    "plt.plot(stokes_ff[iy,ix,:,istks+4])\n",
    "#"
   ]
  },
  {
   "cell_type": "code",
   "execution_count": 5,
   "metadata": {},
   "outputs": [
    {
     "name": "stderr",
     "output_type": "stream",
     "text": [
      "1it [00:11, 11.35s/it]\n"
     ]
    }
   ],
   "source": [
    "# Read the velocity and magnetic field data and create the time series\n",
    "stokes_files = [invoutdir+os.sep+f for f in sorted(os.listdir(invoutdir)) if 'sc_stokes' in f]\n",
    "params_files = [invoutdir+os.sep+f for f in sorted(os.listdir(invoutdir)) if 'sc_params' in f]\n",
    "l0_files =  [l0dir+os.sep+f for f in sorted(os.listdir(l0dir))]\n",
    "bmag_tser = []\n",
    "angg_tser = []\n",
    "angp_tser = []\n",
    "vlos_tser = []\n",
    "for sfile, pfile, l0file in tqdm.tqdm(zip(stokes_files[0:1], params_files[0:1], l0_files[0:1])):\n",
    "    stokes = np.fromfile(sfile, dtype=np.dtype('f').newbyteorder('<'))\n",
    "    stokes = np.reshape(stokes[0:-16], newshape=(1280,1280,nwav,8), order='F')\n",
    "    stokes = np.swapaxes(stokes, 0, 1)\n",
    "    params = np.fromfile(pfile, dtype=np.dtype('f').newbyteorder('<'))\n",
    "    params = np.reshape(params[0:-2], newshape=(1280,1280,16), order='F')\n",
    "    params = np.swapaxes(params, 0, 1)\n",
    "    #\n",
    "    angg_tser.append(params[:,:,1])\n",
    "    angp_tser.append(params[:,:,2])\n",
    "    bmag_tser.append(params[:,:,5])\n",
    "    vlos_tser.append(params[:,:,6])\n",
    "    #\n",
    "    stks_name = l1dir + os.sep + os.path.split(sfile)[-1].replace('sc_stokes.dat', 'stokes.fits')\n",
    "    hdu1 = pf.open(l0file)[0]\n",
    "    hdu2 = pf.ImageHDU(stokes[:,:,:,0:3])\n",
    "    hdu3 = pf.ImageHDU(stokes[:,:,:,4::])\n",
    "    hdul = pf.HDUList([hdu1, hdu2, hdu3])\n",
    "    hdul.writeto(stks_name, overwrite=True)\n",
    "angg_tser = np.moveaxis(np.array(angg_tser), 0, 2)\n",
    "angp_tser = np.moveaxis(np.array(angp_tser), 0, 2)\n",
    "bmag_tser = np.moveaxis(np.array(bmag_tser), 0, 2)\n",
    "vlos_tser = np.moveaxis(np.array(vlos_tser), 0, 2)"
   ]
  },
  {
   "cell_type": "code",
   "execution_count": 15,
   "metadata": {},
   "outputs": [],
   "source": [
    "vlos_corr = vlos_tser-vlos_ff[:,:,np.newaxis]\n",
    "bz = bmag_tser*np.cos(np.radians(angg_tser))\n",
    "by = bmag_tser*np.sin(np.radians(angg_tser))*np.sin(np.radians(angp_tser))\n",
    "bx = bmag_tser*np.sin(np.radians(angg_tser))*np.cos(np.radians(angp_tser))"
   ]
  },
  {
   "cell_type": "code",
   "execution_count": 23,
   "metadata": {},
   "outputs": [
    {
     "data": {
      "text/plain": [
       "<matplotlib.image.AxesImage at 0x7fb9d5fc0550>"
      ]
     },
     "execution_count": 23,
     "metadata": {},
     "output_type": "execute_result"
    }
   ],
   "source": [
    "plt.figure(); plt.imshow(vlos_corr, cmap='RdBu')\n",
    "plt.figure(); plt.imshow(stokes[:,:,0,0], cmap='RdBu')"
   ]
  },
  {
   "cell_type": "code",
   "execution_count": 25,
   "metadata": {},
   "outputs": [],
   "source": [
    "show_img_series(stokes[:,:,:,4])"
   ]
  },
  {
   "cell_type": "code",
   "execution_count": 10,
   "metadata": {},
   "outputs": [],
   "source": [
    "# Save the time stamps for the observations\n",
    "timestamps = [os.path.split(f)[-1].split('_')[-3] for f in stokes_files]\n",
    "timestamps = [dt.datetime.strptime(t, '%H%M%S%f').timestamp() for t in timestamps]\n",
    "timestamps = np.array(timestamps)\n",
    "timestamps_ = np.array([np.arange(len(timestamps)), timestamps])\n",
    "plt.plot(timestamps[1::]-timestamps[0:-1])\n",
    "plt.xlabel('Frame #')\n",
    "plt.ylabel('Cadence in s')\n",
    "ts_name = l1dir + os.sep + 'timestamps.csv'\n",
    "np.savetxt(ts_name, timestamps_.T)"
   ]
  },
  {
   "cell_type": "code",
   "execution_count": 13,
   "metadata": {},
   "outputs": [],
   "source": [
    "# Save the physical parameters\n",
    "prefix = ''.join(l1supdir.split(os.sep)[-3::]).replace('L1Science','')\n",
    "vlos_name = l1supdir + os.sep + prefix + '_' + line + '_vlos.fits'\n",
    "bpol_name = l1supdir + os.sep + prefix + '_' + line + '_bpol.fits'\n",
    "bcar_name = l1supdir + os.sep + prefix + '_' + line + '_bcar.fits'\n",
    "ts_name = l1supdir + os.sep + prefix + '_' + line + '_timestamps.csv'\n",
    "#\n",
    "np.savetxt(ts_name, timestamps_.T)\n",
    "#\n",
    "hdu = pf.PrimaryHDU(vlos_corr)\n",
    "hdu.writeto(vlos_name, overwrite=True)\n",
    "#\n",
    "hdu1 = pf.PrimaryHDU(bmag_tser)\n",
    "hdu2 = pf.ImageHDU(angg_tser)\n",
    "hdu3 = pf.ImageHDU(angp_tser)\n",
    "hdul = pf.HDUList([hdu1, hdu2, hdu3])\n",
    "hdul.writeto(bpol_name, overwrite=True)\n",
    "#\n",
    "hdu1 = pf.PrimaryHDU(bz)\n",
    "hdu2 = pf.ImageHDU(by)\n",
    "hdu3 = pf.ImageHDU(bx)\n",
    "hdul = pf.HDUList([hdu1, hdu2, hdu3])\n",
    "hdul.writeto(bcar_name, overwrite=True)"
   ]
  },
  {
   "cell_type": "code",
   "execution_count": 28,
   "metadata": {},
   "outputs": [],
   "source": [
    "show_img_series(vlos_corr, fps=2, cmap='RdBu')"
   ]
  },
  {
   "cell_type": "code",
   "execution_count": 15,
   "metadata": {},
   "outputs": [],
   "source": [
    "show_img_series(bz, fps=2)"
   ]
  },
  {
   "cell_type": "code",
   "execution_count": 29,
   "metadata": {},
   "outputs": [
    {
     "name": "stdout",
     "output_type": "stream",
     "text": [
      "-700000.0\n",
      "-84441.19\n"
     ]
    },
    {
     "data": {
      "text/plain": [
       "[<matplotlib.lines.Line2D at 0x7fb9d56a4c90>]"
      ]
     },
     "execution_count": 29,
     "metadata": {},
     "output_type": "execute_result"
    }
   ],
   "source": [
    "ix, iy, istks = 484, 680, 0\n",
    "print(vlos_tser[iy, ix, 0])\n",
    "plt.figure()\n",
    "plt.plot(stokes[iy,ix,:,istks])\n",
    "plt.plot(stokes[iy,ix,:,istks+4])\n",
    "#\n",
    "ix, iy, istks = 698, 1036, 0\n",
    "print(vlos_tser[iy, ix, 0])\n",
    "plt.plot(stokes[iy,ix,:,istks])\n",
    "plt.plot(stokes[iy,ix,:,istks+4])\n",
    "#"
   ]
  }
 ],
 "metadata": {
  "kernelspec": {
   "display_name": "base",
   "language": "python",
   "name": "python3"
  },
  "language_info": {
   "codemirror_mode": {
    "name": "ipython",
    "version": 3
   },
   "file_extension": ".py",
   "mimetype": "text/x-python",
   "name": "python",
   "nbconvert_exporter": "python",
   "pygments_lexer": "ipython3",
   "version": "3.11.5"
  }
 },
 "nbformat": 4,
 "nbformat_minor": 2
}
