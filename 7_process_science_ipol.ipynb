{
 "cells": [
  {
   "cell_type": "code",
   "execution_count": null,
   "metadata": {},
   "outputs": [
    {
     "name": "stderr",
     "output_type": "stream",
     "text": [
      "qt.qpa.xcb: X server does not support XInput 2\n"
     ]
    },
    {
     "name": "stderr",
     "output_type": "stream",
     "text": [
      "qt.qpa.xcb: QXcbConnection: XCB error: 1 (BadRequest), sequence: 169, resource id: 132, major code: 130 (Unknown), minor code: 47\n"
     ]
    }
   ],
   "source": [
    "%matplotlib qt5\n",
    "from process_files import *\n",
    "from func_science import *"
   ]
  },
  {
   "cell_type": "code",
   "execution_count": 2,
   "metadata": {},
   "outputs": [],
   "source": [
    "config = configobj.ConfigObj('config.ini')\n",
    "pcdir = config['pcalibration']['directory']\n",
    "# line = config['line']\n",
    "line = 'Fe_I_6173'\n",
    "suffix_dq = ''\n",
    "cwavind = int(config['science'][line+'/cwavind'])\n",
    "settings = [f for f in os.listdir(pcdir) if 'settings' in f]\n",
    "settings = pcdir + os.sep + settings[0]\n",
    "settings = configobj.ConfigObj(settings)\n",
    "l0aligndir = config['science'][line+'/l0aligndir'+suffix_dq]\n",
    "scnames =[l0aligndir+os.sep+f for f in sorted(os.listdir(l0aligndir)) if '.fits' in f]\n",
    "l0corrdir = l0aligndir.replace('stokes_align', 'stokes_corr')\n",
    "config['science'][line+'/l0corrdir'+suffix_dq] = l0corrdir\n",
    "config.write()\n",
    "if not os.path.exists(l0corrdir): os.makedirs(l0corrdir)"
   ]
  },
  {
   "cell_type": "code",
   "execution_count": 5,
   "metadata": {},
   "outputs": [
    {
     "name": "stderr",
     "output_type": "stream",
     "text": [
      "100%|██████████| 40/40 [00:30<00:00,  1.29it/s]\n"
     ]
    }
   ],
   "source": [
    "i2q, i2u, i2v = [], [], []\n",
    "for f in tqdm.tqdm(scnames):\n",
    "    sc = pf.open(f)[1].data\n",
    "    qi = sc[:,:,1,cwavind]/sc[:,:,0,cwavind]\n",
    "    ui = sc[:,:,2,cwavind]/sc[:,:,0,cwavind]\n",
    "    vi = sc[:,:,3,cwavind]/sc[:,:,0,cwavind]\n",
    "    i2q.append(np.median(qi))\n",
    "    i2u.append(np.median(ui))\n",
    "    i2v.append(np.median(vi))\n",
    "i2q, i2u, i2v = np.array(i2q), np.array(i2u), np.array(i2v)"
   ]
  },
  {
   "cell_type": "code",
   "execution_count": 6,
   "metadata": {},
   "outputs": [
    {
     "name": "stderr",
     "output_type": "stream",
     "text": [
      "libGL error: MESA-LOADER: failed to open swrast: /usr/lib/dri/swrast_dri.so: cannot open shared object file: No such file or directory (search paths /usr/lib/x86_64-linux-gnu/dri:\\$${ORIGIN}/dri:/usr/lib/dri, suffix _dri)\n",
      "libGL error: failed to load driver: swrast\n"
     ]
    }
   ],
   "source": [
    "i2q_fit = fit_quadratic(i2q)\n",
    "i2u_fit = fit_quadratic(i2u)\n",
    "i2v_fit = fit_quadratic(i2v)\n",
    "#\n",
    "fig, ax = plt.subplots(1,3,figsize=(18,6))\n",
    "ax[0].plot(i2q)\n",
    "ax[0].plot(i2q_fit)\n",
    "ax[1].plot(i2u)\n",
    "ax[1].plot(i2u_fit)\n",
    "ax[2].plot(i2v)\n",
    "ax[2].plot(i2v_fit)\n",
    "fig.tight_layout()"
   ]
  },
  {
   "cell_type": "code",
   "execution_count": null,
   "metadata": {},
   "outputs": [
    {
     "name": "stderr",
     "output_type": "stream",
     "text": [
      "100%|██████████| 40/40 [01:03<00:00,  1.58s/it]\n"
     ]
    }
   ],
   "source": [
    "v2q, v2u = [], []\n",
    "for i in tqdm.tqdm(range(len(scnames))):\n",
    "    sc = pf.open(scnames[i])[1].data\n",
    "    qi = sc[:,:,1]/sc[:,:,0]-i2q_fit[i]\n",
    "    ui = sc[:,:,2]/sc[:,:,0]-i2u_fit[i]\n",
    "    vi = sc[:,:,3]/sc[:,:,0]-i2v_fit[i]\n",
    "    inds = np.abs(vi)>0.05\n",
    "    qi = qi[inds]\n",
    "    ui = ui[inds]\n",
    "    vi = vi[inds]\n",
    "    v2q.append(fit_line_slope(qi.flatten(),vi.flatten()))\n",
    "    v2u.append(fit_line_slope(ui.flatten(),vi.flatten()))\n",
    "v2q, v2u = np.array(v2q), np.array(v2u)"
   ]
  },
  {
   "cell_type": "code",
   "execution_count": 9,
   "metadata": {},
   "outputs": [],
   "source": [
    "v2q_fit = fit_quadratic(v2q)\n",
    "v2u_fit = fit_quadratic(v2u)\n",
    "#\n",
    "fig, ax = plt.subplots(1,2,figsize=(12,6))\n",
    "ax[0].plot(v2q)\n",
    "ax[0].plot(v2q_fit)\n",
    "ax[1].plot(v2u)\n",
    "ax[1].plot(v2u_fit)\n",
    "fig.tight_layout()"
   ]
  },
  {
   "cell_type": "code",
   "execution_count": 10,
   "metadata": {},
   "outputs": [
    {
     "name": "stderr",
     "output_type": "stream",
     "text": [
      "100%|██████████| 40/40 [01:55<00:00,  2.90s/it]\n"
     ]
    }
   ],
   "source": [
    "for i in tqdm.tqdm(range(len(scnames))):\n",
    "    sc0 = pf.open(scnames[i])[0].data\n",
    "    sc = pf.open(scnames[i])[1].data\n",
    "    vi = sc[:,:,3]/sc[:,:,0]-i2v_fit[i]\n",
    "    ui = sc[:,:,2]/sc[:,:,0]-i2u_fit[i]-v2u_fit[i]*vi\n",
    "    qi = sc[:,:,1]/sc[:,:,0]-i2q_fit[i]-v2q_fit[i]*vi\n",
    "    sc[:,:,1] = sc[:,:,0]*qi\n",
    "    sc[:,:,2] = sc[:,:,0]*ui\n",
    "    sc[:,:,3] = sc[:,:,0]*vi\n",
    "    #\n",
    "    newname = scnames[i].replace('stokes_align', 'stokes_corr')\n",
    "    hdu1 = pf.PrimaryHDU(sc0)\n",
    "    hdu2 = pf.ImageHDU(sc)\n",
    "    hdul = pf.HDUList([hdu1, hdu2])\n",
    "    hdul.writeto(newname, overwrite=True)"
   ]
  }
 ],
 "metadata": {
  "kernelspec": {
   "display_name": "base",
   "language": "python",
   "name": "python3"
  },
  "language_info": {
   "codemirror_mode": {
    "name": "ipython",
    "version": 3
   },
   "file_extension": ".py",
   "mimetype": "text/x-python",
   "name": "python",
   "nbconvert_exporter": "python",
   "pygments_lexer": "ipython3",
   "version": "3.11.5"
  },
  "orig_nbformat": 4
 },
 "nbformat": 4,
 "nbformat_minor": 2
}
