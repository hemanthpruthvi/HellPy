{
 "cells": [
  {
   "cell_type": "code",
   "execution_count": 1,
   "metadata": {},
   "outputs": [
    {
     "name": "stderr",
     "output_type": "stream",
     "text": [
      "qt.qpa.xcb: X server does not support XInput 2\n"
     ]
    },
    {
     "name": "stderr",
     "output_type": "stream",
     "text": [
      "qt.qpa.xcb: QXcbConnection: XCB error: 1 (BadRequest), sequence: 169, resource id: 132, major code: 130 (Unknown), minor code: 47\n"
     ]
    }
   ],
   "source": [
    "%matplotlib qt5\n",
    "from process_files import *\n",
    "from functions import *\n",
    "from func_flats import *"
   ]
  },
  {
   "cell_type": "code",
   "execution_count": 2,
   "metadata": {},
   "outputs": [],
   "source": [
    "iline = 0\n",
    "line = 'Fe_I_6173'\n",
    "# calib data\n",
    "config = configobj.ConfigObj('config.ini')\n",
    "dkdir = config['darks']['directory']\n",
    "scdir = config['science']['directory']\n",
    "ffdir = config['flats']['directory']\n",
    "tgdir = config['targetplate']['directory']\n",
    "invdir = config['science']['invdir']\n",
    "#\n",
    "dqsuffix = '_'\n",
    "l0dir = config['science'][line+'/l0dir'+dqsuffix]\n",
    "l0aligndir = config['science'][line+'/l0aligndir'+dqsuffix]\n",
    "l0corrdir = config['science'][line+'/l0corrdir'+dqsuffix]\n",
    "#\n",
    "settings = [f for f in os.listdir(scdir) if 'settings' in f]\n",
    "settings = scdir + os.sep + settings[0]\n",
    "settings = configobj.ConfigObj(settings)\n",
    "#"
   ]
  },
  {
   "cell_type": "code",
   "execution_count": 3,
   "metadata": {},
   "outputs": [],
   "source": [
    "# Other numbers\n",
    "iline = get_line_num(settings, line, 0)\n",
    "linestr = 'Line_' + str(get_line_num(settings, line, iline))\n",
    "nacc = int(settings[linestr]['Polarimeter\\\\NAccumulations'])\n",
    "nwav = int(settings[linestr]['NWavePoints'])\n",
    "filtstr = settings[linestr]['Filter']\n",
    "modstr = settings[linestr]['Polarimeter\\\\Modulation']\n",
    "nmod = int(settings[filtstr]['Polarimeter\\\\'+modstr+'\\\\NModulations'])\n",
    "nfpc = nmod*nacc*nwav\n",
    "nfpw = nmod*nacc\n",
    "ncyc = len(os.listdir(scdir+os.sep+line))//3\n",
    "wave_range = np.float64(settings[linestr]['WaveScanRange'])\n",
    "wave_step = wave_range/(np.float64(settings[linestr]['NWavePoints'])-1)\n",
    "# Time stamps\n",
    "im0ind, im1ind, im2ind = read_time_stamps_obs(scdir, iline)\n",
    "im0ind = im0ind.reshape([ncyc,nfpc])\n",
    "im1ind = im1ind.reshape([ncyc,nfpc])\n",
    "im2ind = im2ind.reshape([ncyc,nfpc])\n",
    "\n",
    "#\n",
    "im0ind = im0ind - im0ind[:,0:1]\n",
    "im1ind = im1ind - im1ind[:,0:1]\n",
    "im2ind = im2ind - im2ind[:,0:1]\n",
    "#\n",
    "im0ind = im0ind.reshape([ncyc, nwav, nacc, nmod])%nmod\n",
    "im1ind = im1ind.reshape([ncyc, nwav, nacc, nmod])%nmod\n",
    "im2ind = im2ind.reshape([ncyc, nwav, nacc, nmod])%nmod"
   ]
  },
  {
   "cell_type": "code",
   "execution_count": null,
   "metadata": {},
   "outputs": [],
   "source": [
    "# dark frames\n",
    "dk0 = data_cube(dkdir, line, 0, 0)\n",
    "dk0m = process_dark_cube(dk0.data)"
   ]
  },
  {
   "cell_type": "code",
   "execution_count": null,
   "metadata": {},
   "outputs": [],
   "source": [
    "ff0 = pf.open(config['flats'][line+'/bbi'])\n",
    "ff0m = ff0[0].data[:,:,np.newaxis] \n",
    "ff0m /= ff0m.mean()\n",
    "ff0.close()"
   ]
  },
  {
   "cell_type": "code",
   "execution_count": null,
   "metadata": {},
   "outputs": [],
   "source": [
    "contrast = []\n",
    "for i in range(ncyc):\n",
    "    dc0 = data_cube(scdir, line, 0, i)\n",
    "    dc0.data = np.float64(dc0.data)\n",
    "    dc0.data -= dk0m\n",
    "    dc0.data /= ff0m\n",
    "    dy, dx = np.gradient(dc0.data, axis=(0,1))\n",
    "    contr = np.average(np.sqrt(dx**2+dy**2), axis=(0,1))/np.average(dc0.data, axis=(0,1))\n",
    "    contrast.append(contr)"
   ]
  },
  {
   "cell_type": "code",
   "execution_count": null,
   "metadata": {},
   "outputs": [],
   "source": [
    "i = 121\n",
    "# bbi\n",
    "dc0 = data_cube(scdir, line, 0, i)\n",
    "# pol1\n",
    "dc1 = data_cube(scdir, line, 1, i)\n",
    "Y, X, Z = dc1.data.shape\n",
    "sc1 = dc1.data.reshape([Y,X,nmod,nacc,nwav], order='F')\n",
    "sc1_add = coadd_del_accumulations (sc1, im1ind[i])\n",
    "# pol2\n",
    "dc2 = data_cube(scdir, line, 2, i)\n",
    "Y, X, Z = dc2.data.shape\n",
    "sc2 = dc2.data.reshape([Y,X,nmod,nacc,nwav], order='F')\n",
    "sc2_add = coadd_del_accumulations (sc2, im2ind[i])"
   ]
  },
  {
   "cell_type": "code",
   "execution_count": null,
   "metadata": {},
   "outputs": [],
   "source": [
    "y, x = 1200, 200\n",
    "fig, ax = plt.subplots(1,2,figsize=(10,5))\n",
    "ax[0].imshow(sc1_add[:,:,0,0])\n",
    "ax[1].plot(sc1_add[y,x].T)\n",
    "fig.tight_layout()"
   ]
  },
  {
   "cell_type": "code",
   "execution_count": null,
   "metadata": {},
   "outputs": [],
   "source": [
    "plt.plot(dc1.data[y,x]-dc1.data[y,x].mean())"
   ]
  },
  {
   "cell_type": "code",
   "execution_count": null,
   "metadata": {},
   "outputs": [],
   "source": [
    "plt.imshow(dc0.data[:,:,10])\n",
    "plt.tight_layout()\n",
    "plt.savefig('sc0_bbi.png', dpi=120)"
   ]
  },
  {
   "cell_type": "code",
   "execution_count": null,
   "metadata": {},
   "outputs": [],
   "source": [
    "# Read corrected data\n"
   ]
  }
 ],
 "metadata": {
  "kernelspec": {
   "display_name": "base",
   "language": "python",
   "name": "python3"
  },
  "language_info": {
   "codemirror_mode": {
    "name": "ipython",
    "version": 3
   },
   "file_extension": ".py",
   "mimetype": "text/x-python",
   "name": "python",
   "nbconvert_exporter": "python",
   "pygments_lexer": "ipython3",
   "version": "3.11.5"
  },
  "orig_nbformat": 4
 },
 "nbformat": 4,
 "nbformat_minor": 2
}
